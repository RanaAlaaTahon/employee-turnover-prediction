{
 "cells": [
  {
   "cell_type": "markdown",
   "id": "e6cbcca5",
   "metadata": {},
   "source": [
    "# **Modelling**\n",
    "**(Machine Learning)**"
   ]
  },
  {
   "cell_type": "markdown",
   "id": "266c7f3e",
   "metadata": {},
   "source": [
    "The [IBM HR Analytics Employee Attrition & Performance dataset](https://www.kaggle.com/datasets/pavansubhasht/ibm-hr-analytics-attrition-dataset)  is a fictional dataset created by IBM data scientists to simulate real-world HR data. It contains information about employees’ demographics, job roles, satisfaction levels, performance, and employment history. The dataset has 1,470 rows (employees) and 35 columns, including both categorical and numerical variables, and is used to explore the factors that influence employee attrition and performance. The main feature categories are:\n",
    "\n",
    "- **Demographics:** Age, Gender, MaritalStatus, Education, EducationField\n",
    "\n",
    "- **Job Details:** Department, JobRole, JobLevel, JobInvolvement, YearsAtCompany, YearsInCurrentRole, YearsWithCurrManager\n",
    "\n",
    "- **Compensation:** MonthlyIncome, MonthlyRate, DailyRate, HourlyRate, PercentSalaryHike, StockOptionLevel\n",
    "\n",
    "- **Satisfaction Metrics:** JobSatisfaction, EnvironmentSatisfaction, RelationshipSatisfaction, WorkLifeBalance\n",
    "\n",
    "- **Performance & Experience:** PerformanceRating, TotalWorkingYears, NumCompaniesWorked, TrainingTimesLastYear, YearsSinceLastPromotion\n",
    "\n",
    "- **Other Attributes:** DistanceFromHome, BusinessTravel, OverTime, StandardHours"
   ]
  },
  {
   "cell_type": "markdown",
   "id": "381a837c",
   "metadata": {},
   "source": [
    "## Objectives\n"
   ]
  },
  {
   "cell_type": "markdown",
   "id": "a93b8a4e",
   "metadata": {},
   "source": [
    "## Inputs\n",
    "The dataset was obtained from [Kaggle](https://www.kaggle.com/datasets/pavansubhasht/ibm-hr-analytics-attrition-dataset)"
   ]
  },
  {
   "cell_type": "markdown",
   "id": "acabf44c",
   "metadata": {},
   "source": [
    "## Outputs\n",
    "The cleaned csv file found [here](../data_set/processed/cleaned_employee_attrition.csv)"
   ]
  },
  {
   "cell_type": "markdown",
   "id": "31ce1b9c",
   "metadata": {},
   "source": [
    "# ML Workflow\n",
    "\n",
    "- Load the dataset & check values\n",
    "- Encode data types if needed\n",
    "- Create train and test sets\n",
    "- Set up Grid with different algorithms(minimal params)\n",
    "- Visualise Results (compare train and test for overfitting etc)\n",
    "- Select best pipeline\n",
    "- Tune the best pipeline\n",
    "- Explanatory Visuals & Conclusions"
   ]
  },
  {
   "cell_type": "markdown",
   "id": "15ec6942",
   "metadata": {},
   "source": [
    "---"
   ]
  },
  {
   "cell_type": "markdown",
   "id": "0b736d0b",
   "metadata": {},
   "source": [
    "# Change working directory\n",
    "Change the working directory from its current folder to its parent folder as the notebooks will be stored in a subfolder\n",
    "* We access the current directory with os.getcwd()"
   ]
  },
  {
   "cell_type": "code",
   "execution_count": 1,
   "id": "903fba09",
   "metadata": {},
   "outputs": [
    {
     "data": {
      "text/plain": [
       "'c:\\\\Users\\\\mikee\\\\Desktop\\\\employee-turnover-prediction\\\\jupyter_notebooks'"
      ]
     },
     "execution_count": 1,
     "metadata": {},
     "output_type": "execute_result"
    }
   ],
   "source": [
    "import os\n",
    "current_dir = os.getcwd()\n",
    "current_dir"
   ]
  },
  {
   "cell_type": "markdown",
   "id": "9bd9bf9c",
   "metadata": {},
   "source": [
    "Make the parent of the current directory the new current directory\n",
    "* os.path.dirname() gets the parent directory\n",
    "* os.chir() defines the new current directory"
   ]
  },
  {
   "cell_type": "code",
   "execution_count": 2,
   "id": "cea61730",
   "metadata": {},
   "outputs": [
    {
     "name": "stdout",
     "output_type": "stream",
     "text": [
      "You set a new current directory\n"
     ]
    }
   ],
   "source": [
    "os.chdir(os.path.dirname(current_dir))\n",
    "print(\"You set a new current directory\")"
   ]
  },
  {
   "cell_type": "markdown",
   "id": "d4884f2a",
   "metadata": {},
   "source": [
    "Confirm the new current directory"
   ]
  },
  {
   "cell_type": "code",
   "execution_count": 3,
   "id": "71ef2d68",
   "metadata": {},
   "outputs": [
    {
     "data": {
      "text/plain": [
       "'c:\\\\Users\\\\mikee\\\\Desktop\\\\employee-turnover-prediction'"
      ]
     },
     "execution_count": 3,
     "metadata": {},
     "output_type": "execute_result"
    }
   ],
   "source": [
    "current_dir = os.getcwd()\n",
    "current_dir"
   ]
  },
  {
   "cell_type": "markdown",
   "id": "3c4f3d91",
   "metadata": {},
   "source": [
    "Changing path directory to the dataset"
   ]
  },
  {
   "cell_type": "code",
   "execution_count": 4,
   "id": "828aaf6e",
   "metadata": {},
   "outputs": [],
   "source": [
    "#path directory\n",
    "raw_data_dir = os.path.join(current_dir, 'data_set/raw') \n",
    "\n",
    "#path directory\n",
    "processed_data_dir = os.path.join(current_dir, 'data_set/processed') \n"
   ]
  },
  {
   "cell_type": "markdown",
   "id": "2279e71a",
   "metadata": {},
   "source": [
    "---"
   ]
  },
  {
   "cell_type": "markdown",
   "id": "cdff43f2",
   "metadata": {},
   "source": [
    "# Import packages"
   ]
  },
  {
   "cell_type": "code",
   "execution_count": 5,
   "id": "b8c19a98",
   "metadata": {},
   "outputs": [],
   "source": [
    "import numpy as np #import numpy\n",
    "import pandas as pd #import pandas\n",
    "import matplotlib.pyplot as plt #import matplotlib\n",
    "import seaborn as sns #import seaborn\n",
    "import plotly.express as px # import plotly\n",
    "sns.set_style('whitegrid') #set style for visuals"
   ]
  },
  {
   "cell_type": "markdown",
   "id": "dfdc6fac",
   "metadata": {},
   "source": [
    "---"
   ]
  },
  {
   "cell_type": "markdown",
   "id": "df384e8c",
   "metadata": {},
   "source": [
    "# Load the raw dataset"
   ]
  },
  {
   "cell_type": "code",
   "execution_count": 6,
   "id": "6d94433d",
   "metadata": {},
   "outputs": [],
   "source": [
    "#load the dataset\n",
    "df = pd.read_csv(os.path.join(processed_data_dir, 'cleaned_employee_attrition.csv'))\n"
   ]
  },
  {
   "cell_type": "markdown",
   "id": "322a4283",
   "metadata": {},
   "source": [
    "The raw dataset is loaded using Pandas for ETL process"
   ]
  },
  {
   "cell_type": "markdown",
   "id": "41067d23",
   "metadata": {},
   "source": [
    "---"
   ]
  },
  {
   "cell_type": "markdown",
   "id": "e5cf6ff0",
   "metadata": {},
   "source": [
    "# Understand the dataset structure and content"
   ]
  },
  {
   "cell_type": "code",
   "execution_count": 7,
   "id": "a2349380",
   "metadata": {},
   "outputs": [
    {
     "data": {
      "text/html": [
       "<div>\n",
       "<style scoped>\n",
       "    .dataframe tbody tr th:only-of-type {\n",
       "        vertical-align: middle;\n",
       "    }\n",
       "\n",
       "    .dataframe tbody tr th {\n",
       "        vertical-align: top;\n",
       "    }\n",
       "\n",
       "    .dataframe thead th {\n",
       "        text-align: right;\n",
       "    }\n",
       "</style>\n",
       "<table border=\"1\" class=\"dataframe\">\n",
       "  <thead>\n",
       "    <tr style=\"text-align: right;\">\n",
       "      <th></th>\n",
       "      <th>0</th>\n",
       "      <th>1</th>\n",
       "      <th>2</th>\n",
       "    </tr>\n",
       "  </thead>\n",
       "  <tbody>\n",
       "    <tr>\n",
       "      <th>Age</th>\n",
       "      <td>41</td>\n",
       "      <td>49</td>\n",
       "      <td>37</td>\n",
       "    </tr>\n",
       "    <tr>\n",
       "      <th>Attrition</th>\n",
       "      <td>Yes</td>\n",
       "      <td>No</td>\n",
       "      <td>Yes</td>\n",
       "    </tr>\n",
       "    <tr>\n",
       "      <th>DistanceFromHome</th>\n",
       "      <td>1</td>\n",
       "      <td>8</td>\n",
       "      <td>2</td>\n",
       "    </tr>\n",
       "    <tr>\n",
       "      <th>JobLevel</th>\n",
       "      <td>2</td>\n",
       "      <td>2</td>\n",
       "      <td>1</td>\n",
       "    </tr>\n",
       "    <tr>\n",
       "      <th>JobRole</th>\n",
       "      <td>Sales Executive</td>\n",
       "      <td>Research Scientist</td>\n",
       "      <td>Laboratory Technician</td>\n",
       "    </tr>\n",
       "    <tr>\n",
       "      <th>JobSatisfaction</th>\n",
       "      <td>4</td>\n",
       "      <td>2</td>\n",
       "      <td>3</td>\n",
       "    </tr>\n",
       "    <tr>\n",
       "      <th>MonthlyIncome</th>\n",
       "      <td>5993</td>\n",
       "      <td>5130</td>\n",
       "      <td>2090</td>\n",
       "    </tr>\n",
       "    <tr>\n",
       "      <th>NumCompaniesWorked</th>\n",
       "      <td>8</td>\n",
       "      <td>1</td>\n",
       "      <td>6</td>\n",
       "    </tr>\n",
       "    <tr>\n",
       "      <th>OverTime</th>\n",
       "      <td>Yes</td>\n",
       "      <td>No</td>\n",
       "      <td>Yes</td>\n",
       "    </tr>\n",
       "    <tr>\n",
       "      <th>WorkLifeBalance</th>\n",
       "      <td>1</td>\n",
       "      <td>3</td>\n",
       "      <td>3</td>\n",
       "    </tr>\n",
       "    <tr>\n",
       "      <th>YearsSinceLastPromotion</th>\n",
       "      <td>0</td>\n",
       "      <td>1</td>\n",
       "      <td>0</td>\n",
       "    </tr>\n",
       "    <tr>\n",
       "      <th>YearsWithCurrManager</th>\n",
       "      <td>5</td>\n",
       "      <td>7</td>\n",
       "      <td>0</td>\n",
       "    </tr>\n",
       "    <tr>\n",
       "      <th>Attrition_encoded</th>\n",
       "      <td>1</td>\n",
       "      <td>0</td>\n",
       "      <td>1</td>\n",
       "    </tr>\n",
       "    <tr>\n",
       "      <th>OverTime_encoded</th>\n",
       "      <td>1</td>\n",
       "      <td>0</td>\n",
       "      <td>1</td>\n",
       "    </tr>\n",
       "  </tbody>\n",
       "</table>\n",
       "</div>"
      ],
      "text/plain": [
       "                                       0                   1  \\\n",
       "Age                                   41                  49   \n",
       "Attrition                            Yes                  No   \n",
       "DistanceFromHome                       1                   8   \n",
       "JobLevel                               2                   2   \n",
       "JobRole                  Sales Executive  Research Scientist   \n",
       "JobSatisfaction                        4                   2   \n",
       "MonthlyIncome                       5993                5130   \n",
       "NumCompaniesWorked                     8                   1   \n",
       "OverTime                             Yes                  No   \n",
       "WorkLifeBalance                        1                   3   \n",
       "YearsSinceLastPromotion                0                   1   \n",
       "YearsWithCurrManager                   5                   7   \n",
       "Attrition_encoded                      1                   0   \n",
       "OverTime_encoded                       1                   0   \n",
       "\n",
       "                                             2  \n",
       "Age                                         37  \n",
       "Attrition                                  Yes  \n",
       "DistanceFromHome                             2  \n",
       "JobLevel                                     1  \n",
       "JobRole                  Laboratory Technician  \n",
       "JobSatisfaction                              3  \n",
       "MonthlyIncome                             2090  \n",
       "NumCompaniesWorked                           6  \n",
       "OverTime                                   Yes  \n",
       "WorkLifeBalance                              3  \n",
       "YearsSinceLastPromotion                      0  \n",
       "YearsWithCurrManager                         0  \n",
       "Attrition_encoded                            1  \n",
       "OverTime_encoded                             1  "
      ]
     },
     "execution_count": 7,
     "metadata": {},
     "output_type": "execute_result"
    }
   ],
   "source": [
    "#display the first 5 rows of the dataset\n",
    "df.head(3).T"
   ]
  },
  {
   "cell_type": "code",
   "execution_count": 8,
   "id": "0ee010dd",
   "metadata": {},
   "outputs": [
    {
     "name": "stdout",
     "output_type": "stream",
     "text": [
      "<class 'pandas.core.frame.DataFrame'>\n",
      "RangeIndex: 1470 entries, 0 to 1469\n",
      "Data columns (total 14 columns):\n",
      " #   Column                   Non-Null Count  Dtype \n",
      "---  ------                   --------------  ----- \n",
      " 0   Age                      1470 non-null   int64 \n",
      " 1   Attrition                1470 non-null   object\n",
      " 2   DistanceFromHome         1470 non-null   int64 \n",
      " 3   JobLevel                 1470 non-null   int64 \n",
      " 4   JobRole                  1470 non-null   object\n",
      " 5   JobSatisfaction          1470 non-null   int64 \n",
      " 6   MonthlyIncome            1470 non-null   int64 \n",
      " 7   NumCompaniesWorked       1470 non-null   int64 \n",
      " 8   OverTime                 1470 non-null   object\n",
      " 9   WorkLifeBalance          1470 non-null   int64 \n",
      " 10  YearsSinceLastPromotion  1470 non-null   int64 \n",
      " 11  YearsWithCurrManager     1470 non-null   int64 \n",
      " 12  Attrition_encoded        1470 non-null   int64 \n",
      " 13  OverTime_encoded         1470 non-null   int64 \n",
      "dtypes: int64(11), object(3)\n",
      "memory usage: 160.9+ KB\n"
     ]
    }
   ],
   "source": [
    "#dataset information\n",
    "df.info()"
   ]
  },
  {
   "cell_type": "markdown",
   "id": "add8d3ce",
   "metadata": {},
   "source": [
    "---"
   ]
  },
  {
   "cell_type": "markdown",
   "id": "a53986db",
   "metadata": {},
   "source": [
    "## Encode Features\n",
    "\n",
    "**Features To Encode**\n",
    "\n",
    "Overtime & Attrition already have encoded versions.\n",
    "\n",
    "Job Role is also an object with different labels - to preserve label hierarchy will encode separately. Let us check the values for JobRole."
   ]
  },
  {
   "cell_type": "code",
   "execution_count": 9,
   "id": "37599d3c",
   "metadata": {},
   "outputs": [
    {
     "data": {
      "text/plain": [
       "JobRole\n",
       "Sales Executive              326\n",
       "Research Scientist           292\n",
       "Laboratory Technician        259\n",
       "Manufacturing Director       145\n",
       "Healthcare Representative    131\n",
       "Manager                      102\n",
       "Sales Representative          83\n",
       "Research Director             80\n",
       "Human Resources               52\n",
       "Name: count, dtype: int64"
      ]
     },
     "execution_count": 9,
     "metadata": {},
     "output_type": "execute_result"
    }
   ],
   "source": [
    "df[\"JobRole\"].value_counts()"
   ]
  },
  {
   "cell_type": "markdown",
   "id": "6629110a",
   "metadata": {},
   "source": [
    "We have nine different roles across departments. The departments column of original data was dropped as not being of interest to our hypotheses. We can perform basic  label encoding which will map each role to a numeric value or create a hierarchy. The second approach may be better for the simplicity of model and to add meaning to our encoding so we will take this approach. However, the data also includes `JobLevel` so we can use the correlation between this and `JobRole` to order our hierarchy. (if this shows a simple relationship between levels we can probably drop `JobRole` instead)."
   ]
  },
  {
   "cell_type": "code",
   "execution_count": 10,
   "id": "4a04eef0",
   "metadata": {},
   "outputs": [
    {
     "data": {
      "text/html": [
       "<div>\n",
       "<style scoped>\n",
       "    .dataframe tbody tr th:only-of-type {\n",
       "        vertical-align: middle;\n",
       "    }\n",
       "\n",
       "    .dataframe tbody tr th {\n",
       "        vertical-align: top;\n",
       "    }\n",
       "\n",
       "    .dataframe thead th {\n",
       "        text-align: right;\n",
       "    }\n",
       "</style>\n",
       "<table border=\"1\" class=\"dataframe\">\n",
       "  <thead>\n",
       "    <tr style=\"text-align: right;\">\n",
       "      <th></th>\n",
       "      <th>count</th>\n",
       "      <th>min</th>\n",
       "      <th>median</th>\n",
       "      <th>mean</th>\n",
       "      <th>max</th>\n",
       "    </tr>\n",
       "    <tr>\n",
       "      <th>JobRole</th>\n",
       "      <th></th>\n",
       "      <th></th>\n",
       "      <th></th>\n",
       "      <th></th>\n",
       "      <th></th>\n",
       "    </tr>\n",
       "  </thead>\n",
       "  <tbody>\n",
       "    <tr>\n",
       "      <th>Sales Representative</th>\n",
       "      <td>83</td>\n",
       "      <td>1</td>\n",
       "      <td>1.0</td>\n",
       "      <td>1.084337</td>\n",
       "      <td>2</td>\n",
       "    </tr>\n",
       "    <tr>\n",
       "      <th>Research Scientist</th>\n",
       "      <td>292</td>\n",
       "      <td>1</td>\n",
       "      <td>1.0</td>\n",
       "      <td>1.202055</td>\n",
       "      <td>3</td>\n",
       "    </tr>\n",
       "    <tr>\n",
       "      <th>Laboratory Technician</th>\n",
       "      <td>259</td>\n",
       "      <td>1</td>\n",
       "      <td>1.0</td>\n",
       "      <td>1.239382</td>\n",
       "      <td>3</td>\n",
       "    </tr>\n",
       "    <tr>\n",
       "      <th>Human Resources</th>\n",
       "      <td>52</td>\n",
       "      <td>1</td>\n",
       "      <td>1.0</td>\n",
       "      <td>1.480769</td>\n",
       "      <td>3</td>\n",
       "    </tr>\n",
       "    <tr>\n",
       "      <th>Sales Executive</th>\n",
       "      <td>326</td>\n",
       "      <td>2</td>\n",
       "      <td>2.0</td>\n",
       "      <td>2.328221</td>\n",
       "      <td>4</td>\n",
       "    </tr>\n",
       "    <tr>\n",
       "      <th>Manufacturing Director</th>\n",
       "      <td>145</td>\n",
       "      <td>2</td>\n",
       "      <td>2.0</td>\n",
       "      <td>2.448276</td>\n",
       "      <td>4</td>\n",
       "    </tr>\n",
       "    <tr>\n",
       "      <th>Healthcare Representative</th>\n",
       "      <td>131</td>\n",
       "      <td>2</td>\n",
       "      <td>2.0</td>\n",
       "      <td>2.473282</td>\n",
       "      <td>4</td>\n",
       "    </tr>\n",
       "    <tr>\n",
       "      <th>Research Director</th>\n",
       "      <td>80</td>\n",
       "      <td>3</td>\n",
       "      <td>4.0</td>\n",
       "      <td>3.975000</td>\n",
       "      <td>5</td>\n",
       "    </tr>\n",
       "    <tr>\n",
       "      <th>Manager</th>\n",
       "      <td>102</td>\n",
       "      <td>3</td>\n",
       "      <td>4.0</td>\n",
       "      <td>4.303922</td>\n",
       "      <td>5</td>\n",
       "    </tr>\n",
       "  </tbody>\n",
       "</table>\n",
       "</div>"
      ],
      "text/plain": [
       "                           count  min  median      mean  max\n",
       "JobRole                                                     \n",
       "Sales Representative          83    1     1.0  1.084337    2\n",
       "Research Scientist           292    1     1.0  1.202055    3\n",
       "Laboratory Technician        259    1     1.0  1.239382    3\n",
       "Human Resources               52    1     1.0  1.480769    3\n",
       "Sales Executive              326    2     2.0  2.328221    4\n",
       "Manufacturing Director       145    2     2.0  2.448276    4\n",
       "Healthcare Representative    131    2     2.0  2.473282    4\n",
       "Research Director             80    3     4.0  3.975000    5\n",
       "Manager                      102    3     4.0  4.303922    5"
      ]
     },
     "metadata": {},
     "output_type": "display_data"
    }
   ],
   "source": [
    "# 1) Inspect distributions of JobLevel within each JobRole\n",
    "#import display for better formatting of output\n",
    "from IPython.display import display\n",
    "display(\n",
    "    df.groupby(\"JobRole\")[\"JobLevel\"]\n",
    "      .agg(['count','min','median','mean','max'])\n",
    "      .sort_values(['median','mean'], ascending=[True, True])\n",
    ")\n",
    "\n",
    "# 2) Build an order based on JobLevel (median, then mean as tiebreaker)\n",
    "role_stats = (\n",
    "    df.groupby(\"JobRole\")[\"JobLevel\"]\n",
    "      .agg(median='median', mean='mean')\n",
    "      .sort_values(['median','mean'], ascending=[True, True])\n",
    "      .reset_index()\n",
    ")\n",
    "role_stats[\"role_rank\"] = np.arange(1, len(role_stats)+1)  # 1 = most junior, larger = more senior"
   ]
  },
  {
   "cell_type": "markdown",
   "id": "f9526370",
   "metadata": {},
   "source": [
    "The order is reasonably clear, though manager having the highest rank seems like an anomaly (It is described as middle management in the original dataset). \n",
    "* Conclusion: Job Level may be a better indicator & less arbritary than JobRole\n",
    "* We can also check monthly income to find a more definitive hierarchy"
   ]
  },
  {
   "cell_type": "code",
   "execution_count": 11,
   "id": "f24d3d3d",
   "metadata": {},
   "outputs": [
    {
     "data": {
      "text/html": [
       "<div>\n",
       "<style scoped>\n",
       "    .dataframe tbody tr th:only-of-type {\n",
       "        vertical-align: middle;\n",
       "    }\n",
       "\n",
       "    .dataframe tbody tr th {\n",
       "        vertical-align: top;\n",
       "    }\n",
       "\n",
       "    .dataframe thead th {\n",
       "        text-align: right;\n",
       "    }\n",
       "</style>\n",
       "<table border=\"1\" class=\"dataframe\">\n",
       "  <thead>\n",
       "    <tr style=\"text-align: right;\">\n",
       "      <th></th>\n",
       "      <th>JobRole</th>\n",
       "      <th>median</th>\n",
       "      <th>mean</th>\n",
       "      <th>role_rank</th>\n",
       "    </tr>\n",
       "  </thead>\n",
       "  <tbody>\n",
       "    <tr>\n",
       "      <th>0</th>\n",
       "      <td>Sales Representative</td>\n",
       "      <td>2579.0</td>\n",
       "      <td>2626.000000</td>\n",
       "      <td>1</td>\n",
       "    </tr>\n",
       "    <tr>\n",
       "      <th>1</th>\n",
       "      <td>Laboratory Technician</td>\n",
       "      <td>2886.0</td>\n",
       "      <td>3237.169884</td>\n",
       "      <td>2</td>\n",
       "    </tr>\n",
       "    <tr>\n",
       "      <th>2</th>\n",
       "      <td>Research Scientist</td>\n",
       "      <td>2887.5</td>\n",
       "      <td>3239.972603</td>\n",
       "      <td>3</td>\n",
       "    </tr>\n",
       "    <tr>\n",
       "      <th>3</th>\n",
       "      <td>Human Resources</td>\n",
       "      <td>3093.0</td>\n",
       "      <td>4235.750000</td>\n",
       "      <td>4</td>\n",
       "    </tr>\n",
       "    <tr>\n",
       "      <th>4</th>\n",
       "      <td>Sales Executive</td>\n",
       "      <td>6231.0</td>\n",
       "      <td>6924.279141</td>\n",
       "      <td>5</td>\n",
       "    </tr>\n",
       "    <tr>\n",
       "      <th>5</th>\n",
       "      <td>Manufacturing Director</td>\n",
       "      <td>6447.0</td>\n",
       "      <td>7295.137931</td>\n",
       "      <td>6</td>\n",
       "    </tr>\n",
       "    <tr>\n",
       "      <th>6</th>\n",
       "      <td>Healthcare Representative</td>\n",
       "      <td>6811.0</td>\n",
       "      <td>7528.763359</td>\n",
       "      <td>7</td>\n",
       "    </tr>\n",
       "    <tr>\n",
       "      <th>7</th>\n",
       "      <td>Research Director</td>\n",
       "      <td>16510.0</td>\n",
       "      <td>16033.550000</td>\n",
       "      <td>8</td>\n",
       "    </tr>\n",
       "    <tr>\n",
       "      <th>8</th>\n",
       "      <td>Manager</td>\n",
       "      <td>17454.5</td>\n",
       "      <td>17181.676471</td>\n",
       "      <td>9</td>\n",
       "    </tr>\n",
       "  </tbody>\n",
       "</table>\n",
       "</div>"
      ],
      "text/plain": [
       "                     JobRole   median          mean  role_rank\n",
       "0       Sales Representative   2579.0   2626.000000          1\n",
       "1      Laboratory Technician   2886.0   3237.169884          2\n",
       "2         Research Scientist   2887.5   3239.972603          3\n",
       "3            Human Resources   3093.0   4235.750000          4\n",
       "4            Sales Executive   6231.0   6924.279141          5\n",
       "5     Manufacturing Director   6447.0   7295.137931          6\n",
       "6  Healthcare Representative   6811.0   7528.763359          7\n",
       "7          Research Director  16510.0  16033.550000          8\n",
       "8                    Manager  17454.5  17181.676471          9"
      ]
     },
     "execution_count": 11,
     "metadata": {},
     "output_type": "execute_result"
    }
   ],
   "source": [
    "##Rank Job Role by MonthlyIncome\n",
    "role_stats = (\n",
    "    df.groupby(\"JobRole\")[\"MonthlyIncome\"]\n",
    "      .agg(median='median', mean='mean')\n",
    "      .sort_values(['median','mean'], ascending=[True, True])\n",
    "      .reset_index()\n",
    ")\n",
    "role_stats[\"role_rank\"] = np.arange(1, len(role_stats)+1)  # 1 = most junior, larger = more senior\n",
    "role_stats"
   ]
  },
  {
   "cell_type": "markdown",
   "id": "2ed4d64d",
   "metadata": {},
   "source": [
    "This gives a clearer ranking - we have two measures which seem to effectively rank job roles. Though including it may introduce noise and overcomplicate it may also enrich it and reveal a more interesting picture. (i.e. factors not necessarily related to income or seniority). Fot this reason we will keep it in our model for testing and use LabelEncoding."
   ]
  },
  {
   "cell_type": "markdown",
   "id": "876694ea",
   "metadata": {},
   "source": [
    "## Create Dataset for training"
   ]
  },
  {
   "cell_type": "markdown",
   "id": "e154717e",
   "metadata": {},
   "source": [
    "Next we will create our dataset for training. We can drop columns we have encoded versions of, `Attrition`, `OverTime`."
   ]
  },
  {
   "cell_type": "code",
   "execution_count": 12,
   "id": "4f3d7f06",
   "metadata": {},
   "outputs": [
    {
     "data": {
      "text/html": [
       "<div>\n",
       "<style scoped>\n",
       "    .dataframe tbody tr th:only-of-type {\n",
       "        vertical-align: middle;\n",
       "    }\n",
       "\n",
       "    .dataframe tbody tr th {\n",
       "        vertical-align: top;\n",
       "    }\n",
       "\n",
       "    .dataframe thead th {\n",
       "        text-align: right;\n",
       "    }\n",
       "</style>\n",
       "<table border=\"1\" class=\"dataframe\">\n",
       "  <thead>\n",
       "    <tr style=\"text-align: right;\">\n",
       "      <th></th>\n",
       "      <th>0</th>\n",
       "      <th>1</th>\n",
       "      <th>2</th>\n",
       "    </tr>\n",
       "  </thead>\n",
       "  <tbody>\n",
       "    <tr>\n",
       "      <th>Age</th>\n",
       "      <td>41</td>\n",
       "      <td>49</td>\n",
       "      <td>37</td>\n",
       "    </tr>\n",
       "    <tr>\n",
       "      <th>DistanceFromHome</th>\n",
       "      <td>1</td>\n",
       "      <td>8</td>\n",
       "      <td>2</td>\n",
       "    </tr>\n",
       "    <tr>\n",
       "      <th>JobLevel</th>\n",
       "      <td>2</td>\n",
       "      <td>2</td>\n",
       "      <td>1</td>\n",
       "    </tr>\n",
       "    <tr>\n",
       "      <th>JobRole</th>\n",
       "      <td>Sales Executive</td>\n",
       "      <td>Research Scientist</td>\n",
       "      <td>Laboratory Technician</td>\n",
       "    </tr>\n",
       "    <tr>\n",
       "      <th>JobSatisfaction</th>\n",
       "      <td>4</td>\n",
       "      <td>2</td>\n",
       "      <td>3</td>\n",
       "    </tr>\n",
       "    <tr>\n",
       "      <th>MonthlyIncome</th>\n",
       "      <td>5993</td>\n",
       "      <td>5130</td>\n",
       "      <td>2090</td>\n",
       "    </tr>\n",
       "    <tr>\n",
       "      <th>NumCompaniesWorked</th>\n",
       "      <td>8</td>\n",
       "      <td>1</td>\n",
       "      <td>6</td>\n",
       "    </tr>\n",
       "    <tr>\n",
       "      <th>WorkLifeBalance</th>\n",
       "      <td>1</td>\n",
       "      <td>3</td>\n",
       "      <td>3</td>\n",
       "    </tr>\n",
       "    <tr>\n",
       "      <th>YearsSinceLastPromotion</th>\n",
       "      <td>0</td>\n",
       "      <td>1</td>\n",
       "      <td>0</td>\n",
       "    </tr>\n",
       "    <tr>\n",
       "      <th>YearsWithCurrManager</th>\n",
       "      <td>5</td>\n",
       "      <td>7</td>\n",
       "      <td>0</td>\n",
       "    </tr>\n",
       "    <tr>\n",
       "      <th>Attrition_encoded</th>\n",
       "      <td>1</td>\n",
       "      <td>0</td>\n",
       "      <td>1</td>\n",
       "    </tr>\n",
       "    <tr>\n",
       "      <th>OverTime_encoded</th>\n",
       "      <td>1</td>\n",
       "      <td>0</td>\n",
       "      <td>1</td>\n",
       "    </tr>\n",
       "  </tbody>\n",
       "</table>\n",
       "</div>"
      ],
      "text/plain": [
       "                                       0                   1  \\\n",
       "Age                                   41                  49   \n",
       "DistanceFromHome                       1                   8   \n",
       "JobLevel                               2                   2   \n",
       "JobRole                  Sales Executive  Research Scientist   \n",
       "JobSatisfaction                        4                   2   \n",
       "MonthlyIncome                       5993                5130   \n",
       "NumCompaniesWorked                     8                   1   \n",
       "WorkLifeBalance                        1                   3   \n",
       "YearsSinceLastPromotion                0                   1   \n",
       "YearsWithCurrManager                   5                   7   \n",
       "Attrition_encoded                      1                   0   \n",
       "OverTime_encoded                       1                   0   \n",
       "\n",
       "                                             2  \n",
       "Age                                         37  \n",
       "DistanceFromHome                             2  \n",
       "JobLevel                                     1  \n",
       "JobRole                  Laboratory Technician  \n",
       "JobSatisfaction                              3  \n",
       "MonthlyIncome                             2090  \n",
       "NumCompaniesWorked                           6  \n",
       "WorkLifeBalance                              3  \n",
       "YearsSinceLastPromotion                      0  \n",
       "YearsWithCurrManager                         0  \n",
       "Attrition_encoded                            1  \n",
       "OverTime_encoded                             1  "
      ]
     },
     "execution_count": 12,
     "metadata": {},
     "output_type": "execute_result"
    }
   ],
   "source": [
    "#create our dataset for training. We can drop columns we have encoded versions of, `Attrition`, `OverTime` \n",
    "df_model = df.drop(columns=['Attrition', 'OverTime'])\n",
    "df_model.head(3).T\n"
   ]
  },
  {
   "cell_type": "markdown",
   "id": "b935c17a",
   "metadata": {},
   "source": [
    "---"
   ]
  },
  {
   "cell_type": "markdown",
   "id": "9190d275",
   "metadata": {},
   "source": [
    "## Create Train & Test sets"
   ]
  },
  {
   "cell_type": "markdown",
   "id": "18c5ae77",
   "metadata": {},
   "source": [
    "Next we split our dataset into training & test sets."
   ]
  },
  {
   "cell_type": "code",
   "execution_count": 13,
   "id": "e212460c",
   "metadata": {},
   "outputs": [
    {
     "data": {
      "text/plain": [
       "((1176, 11), (294, 11), (1176,), (294,))"
      ]
     },
     "execution_count": 13,
     "metadata": {},
     "output_type": "execute_result"
    }
   ],
   "source": [
    "#split our dataset into training & test sets.\n",
    "from sklearn.model_selection import train_test_split\n",
    "X = df_model.drop('Attrition_encoded', axis=1)  # Features\n",
    "y = df_model['Attrition_encoded']  # Target variable\n",
    "\n",
    "X_train, X_test, y_train, y_test = train_test_split(X, y, test_size=0.2, random_state=42)\n",
    "X_train.shape, X_test.shape, y_train.shape, y_test.shape\n"
   ]
  },
  {
   "cell_type": "markdown",
   "id": "37799949",
   "metadata": {},
   "source": [
    "---"
   ]
  },
  {
   "cell_type": "markdown",
   "id": "0321071b",
   "metadata": {},
   "source": [
    "## GridSearch with Tree Models"
   ]
  },
  {
   "cell_type": "markdown",
   "id": "0e939855",
   "metadata": {},
   "source": [
    "### Import packages"
   ]
  },
  {
   "cell_type": "code",
   "execution_count": 14,
   "id": "ac5ac70d",
   "metadata": {},
   "outputs": [],
   "source": [
    "## GridSearch with Tree Models\n",
    "### Import packages\n",
    "from sklearn.model_selection import GridSearchCV\n",
    "from sklearn.ensemble import RandomForestClassifier\n",
    "from sklearn.tree import DecisionTreeClassifier\n",
    "from sklearn.ensemble import GradientBoostingClassifier, ExtraTreesClassifier\n",
    "from sklearn.metrics import classification_report, confusion_matrix, accuracy_score\n",
    "\n",
    "#supress warnings\n",
    "import warnings\n",
    "warnings.filterwarnings('ignore')\n"
   ]
  },
  {
   "cell_type": "markdown",
   "id": "1adcabf8",
   "metadata": {},
   "source": [
    "**Create pipeline function**\n",
    "\n",
    "First we create lists of features depending on type - Ordinal etc., then create a function to create pipelines."
   ]
  },
  {
   "cell_type": "code",
   "execution_count": 18,
   "id": "a92eb349",
   "metadata": {},
   "outputs": [
    {
     "data": {
      "text/plain": [
       "(Age                          43\n",
       " DistanceFromHome             29\n",
       " JobLevel                      5\n",
       " JobRole                       9\n",
       " JobSatisfaction               4\n",
       " MonthlyIncome              1349\n",
       " NumCompaniesWorked           10\n",
       " WorkLifeBalance               4\n",
       " YearsSinceLastPromotion      16\n",
       " YearsWithCurrManager         18\n",
       " OverTime_encoded              2\n",
       " dtype: int64,\n",
       " (1470, 11))"
      ]
     },
     "execution_count": 18,
     "metadata": {},
     "output_type": "execute_result"
    }
   ],
   "source": [
    "#check numeric columns for unique values\n",
    "X.nunique(), X.shape"
   ]
  },
  {
   "cell_type": "markdown",
   "id": "54258b39",
   "metadata": {},
   "source": [
    "By examining this we can see which are continuous numeric variables and which are ordinal (i.e. have an order/ranking)"
   ]
  },
  {
   "cell_type": "code",
   "execution_count": 21,
   "id": "10341c0e",
   "metadata": {},
   "outputs": [
    {
     "data": {
      "text/plain": [
       "(['JobSatisfaction', 'JobLevel', 'WorkLifeBalance'],\n",
       " ['Age',\n",
       "  'DistanceFrom Home',\n",
       "  'MonthlyIncome',\n",
       "  'NumCompaniesWorked',\n",
       "  'YearSinceLastPromotion',\n",
       "  'YearsWithCurrManager'])"
      ]
     },
     "execution_count": 21,
     "metadata": {},
     "output_type": "execute_result"
    }
   ],
   "source": [
    "### Preprocessing & Feature Selection imports\n",
    "from sklearn.pipeline import Pipeline\n",
    "from feature_engine.imputation import MeanMedianImputer, CategoricalImputer\n",
    "from feature_engine.encoding import OrdinalEncoder\n",
    "from sklearn.feature_selection import SelectFromModel\n",
    "\n",
    "##separate features by type\n",
    "ordinal_features = ['JobSatisfaction', 'JobLevel','WorkLifeBalance']\n",
    "numerical_features = ['Age', 'DistanceFrom Home', 'MonthlyIncome', 'NumCompaniesWorked','YearSinceLastPromotion','YearsWithCurrManager']\n",
    "#Overtime is already encoded as binary, JobRole will be label encoded\n",
    "ordinal_features, numerical_features"
   ]
  },
  {
   "cell_type": "markdown",
   "id": "add9ddc0",
   "metadata": {},
   "source": [
    "the next step is to create our pipeline optimisation function."
   ]
  },
  {
   "cell_type": "code",
   "execution_count": 22,
   "id": "019bdc09",
   "metadata": {},
   "outputs": [],
   "source": [
    "##Create function to build  model pipelines\n",
    "\n",
    "# No scaling needed for tree-based models\n",
    "def PipelineOptimization(model):\n",
    "    \"\"\" Create a pipeline with preprocessing, feature selection, and model steps.\n",
    "    \"\"\"\n",
    "    pipeline_base = Pipeline(steps=[\n",
    "        # 1) Impute numeric (median is robust to skew)\n",
    "        (\"num_imputer\", MeanMedianImputer(imputation_method=\"median\", variables=numerical_features)),\n",
    "\n",
    "        # 2) Impute categoricals (mode/most frequent)\n",
    "        (\"cat_imputer\", CategoricalImputer(imputation_method=\"frequent\", variables=ordinal_features)),\n",
    "\n",
    "        # 3) Ordinal-encode ordered categories (keeps rank meaning for trees)\n",
    "        (\"ord_encoder\", OrdinalEncoder(encoding_method=\"arbitrary\", variables=ordinal_features)),\n",
    "\n",
    "        # 4) Label-encode JobRole (arbitrary, no rank meaning)\n",
    "        (\"role_encoder\", OrdinalEncoder(encoding_method=\"arbitrary\", variables=[\"JobRole\"])),\n",
    "\n",
    "        # 5) Feature selection from model (uses model’s importances)\n",
    "        (\"feat_selection\", SelectFromModel(model)),\n",
    "\n",
    "        # 6) Final estimator\n",
    "        (\"model\", model),\n",
    "    ])\n",
    "    return pipeline_base"
   ]
  },
  {
   "cell_type": "code",
   "execution_count": 17,
   "id": "0077b79a",
   "metadata": {},
   "outputs": [],
   "source": [
    "##Gridsearch setup pipeline\n",
    "# Define models and their hyperparameters\n",
    "#minimal parameters to reduce computation time\n",
    "models = {\n",
    "    'DecisionTree': {\n",
    "        'model': DecisionTreeClassifier(),\n",
    "        'params': {\n",
    "            'max_depth': [3, 5, 7, 10, None],\n",
    "            'min_samples_split': [2, 5, 10],\n",
    "            'min_samples_leaf': [1, 2, 4]\n",
    "        }\n",
    "    },\n",
    "    'RandomForest': {\n",
    "        'model': RandomForestClassifier(),\n",
    "        'params': {\n",
    "            'n_estimators': [50, 100, 200],\n",
    "            'max_depth': [3, 5, 7, 10, None],\n",
    "            'min_samples_split': [2, 5, 10],\n",
    "            'min_samples_leaf': [1, 2, 4]\n",
    "        }\n",
    "    },\n",
    "    'GradientBoosting': {\n",
    "        'model': GradientBoostingClassifier(),\n",
    "        'params': {\n",
    "            'n_estimators': [50, 100, 200],\n",
    "            'learning_rate': [0.01, 0.1, 0.2],\n",
    "            'max_depth': [3, 5, 7]\n",
    "        }\n",
    "    },\n",
    "    'ExtraTrees': {\n",
    "        'model': ExtraTreesClassifier(),\n",
    "        'params': {\n",
    "            'n_estimators': [50, 100, 200],\n",
    "            'max_depth': [3, 5, 7, 10, None],\n",
    "            'min_samples_split': [2, 5, 10],\n",
    "            'min_samples_leaf': [1, 2, 4]\n",
    "        }\n",
    "    }\n",
    "}\n",
    "\n"
   ]
  }
 ],
 "metadata": {
  "kernelspec": {
   "display_name": ".venv (3.12.8)",
   "language": "python",
   "name": "python3"
  },
  "language_info": {
   "codemirror_mode": {
    "name": "ipython",
    "version": 3
   },
   "file_extension": ".py",
   "mimetype": "text/x-python",
   "name": "python",
   "nbconvert_exporter": "python",
   "pygments_lexer": "ipython3",
   "version": "3.12.8"
  }
 },
 "nbformat": 4,
 "nbformat_minor": 5
}
