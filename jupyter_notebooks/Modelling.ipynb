{
 "cells": [
  {
   "cell_type": "markdown",
   "id": "e6cbcca5",
   "metadata": {},
   "source": [
    "# **Modelling**\n",
    "**(Machine Learning)**"
   ]
  },
  {
   "cell_type": "markdown",
   "id": "266c7f3e",
   "metadata": {},
   "source": [
    "The [IBM HR Analytics Employee Attrition & Performance dataset](https://www.kaggle.com/datasets/pavansubhasht/ibm-hr-analytics-attrition-dataset)  is a fictional dataset created by IBM data scientists to simulate real-world HR data. It contains information about employees’ demographics, job roles, satisfaction levels, performance, and employment history. The dataset has 1,470 rows (employees) and 35 columns, including both categorical and numerical variables, and is used to explore the factors that influence employee attrition and performance. The main feature categories are:\n",
    "\n",
    "- **Demographics:** Age, Gender, MaritalStatus, Education, EducationField\n",
    "\n",
    "- **Job Details:** Department, JobRole, JobLevel, JobInvolvement, YearsAtCompany, YearsInCurrentRole, YearsWithCurrManager\n",
    "\n",
    "- **Compensation:** MonthlyIncome, MonthlyRate, DailyRate, HourlyRate, PercentSalaryHike, StockOptionLevel\n",
    "\n",
    "- **Satisfaction Metrics:** JobSatisfaction, EnvironmentSatisfaction, RelationshipSatisfaction, WorkLifeBalance\n",
    "\n",
    "- **Performance & Experience:** PerformanceRating, TotalWorkingYears, NumCompaniesWorked, TrainingTimesLastYear, YearsSinceLastPromotion\n",
    "\n",
    "- **Other Attributes:** DistanceFromHome, BusinessTravel, OverTime, StandardHours"
   ]
  },
  {
   "cell_type": "markdown",
   "id": "381a837c",
   "metadata": {},
   "source": [
    "## Objectives\n"
   ]
  },
  {
   "cell_type": "markdown",
   "id": "c04710c0",
   "metadata": {},
   "source": [
    "* Explore the factors influencing employee attrition using the IBM HR Analytics dataset.\n",
    "\n",
    "* Build and evaluate multiple machine learning models (Decision Tree, Random Forest, Extra Trees, XGBoost, etc.) to predict whether an employee will leave.\n",
    "\n",
    "* Compare performance across models using metrics such as AUC, F1, Recall, Precision, and Balanced Accuracy.\n",
    "\n",
    "* Investigate feature importance to identify key drivers of attrition (e.g., Overtime, JobSatisfaction, YearsAtCompany).\n",
    "\n",
    "* Optimize models through GridSearchCV with different scoring strategies (ROC-AUC, F1, Recall) to balance predictive accuracy and recall.\n",
    "\n",
    "* Develop visual explanations (confusion matrices, precision–recall curves, feature importance plots) for interpretability and business insight."
   ]
  },
  {
   "cell_type": "markdown",
   "id": "a93b8a4e",
   "metadata": {},
   "source": [
    "## Inputs\n",
    "The cleaned dataset found at data_set/processed/cleaned_employee_attrition.csv"
   ]
  },
  {
   "cell_type": "markdown",
   "id": "acabf44c",
   "metadata": {},
   "source": [
    "## Outputs\n",
    "Graphics & Reports outlining finding across runs. Conlusions on ML process."
   ]
  },
  {
   "cell_type": "markdown",
   "id": "185ffcc2",
   "metadata": {},
   "source": [
    "### Note\n",
    "* Read notes & comments before running notebook\n",
    "* Some code has been run several times with different parameters (documented)\n",
    "* Code has been commented out to avoid overwriting reports\n",
    "* Using run all will change some outputs (And will take some time!)"
   ]
  },
  {
   "cell_type": "markdown",
   "id": "31ce1b9c",
   "metadata": {},
   "source": [
    "# ML Workflow\n",
    "\n",
    "- Load the dataset & check values\n",
    "- Encode data types if needed\n",
    "- Create train and test sets\n",
    "- Set up Grid with different algorithms(minimal params)\n",
    "- Visualise Results (compare train and test for overfitting etc)\n",
    "- Select best pipeline\n",
    "- Tune the best pipeline\n",
    "- Explanatory Visuals & Conclusions"
   ]
  },
  {
   "cell_type": "markdown",
   "id": "15ec6942",
   "metadata": {},
   "source": [
    "---"
   ]
  },
  {
   "cell_type": "markdown",
   "id": "0b736d0b",
   "metadata": {},
   "source": [
    "# Change working directory\n",
    "Change the working directory from its current folder to its parent folder as the notebooks will be stored in a subfolder\n",
    "* We access the current directory with os.getcwd()"
   ]
  },
  {
   "cell_type": "code",
   "execution_count": 1,
   "id": "903fba09",
   "metadata": {},
   "outputs": [
    {
     "data": {
      "text/plain": [
       "'c:\\\\Users\\\\mikee\\\\Desktop\\\\employee-turnover-prediction\\\\jupyter_notebooks'"
      ]
     },
     "execution_count": 1,
     "metadata": {},
     "output_type": "execute_result"
    }
   ],
   "source": [
    "import os\n",
    "current_dir = os.getcwd()\n",
    "current_dir"
   ]
  },
  {
   "cell_type": "markdown",
   "id": "9bd9bf9c",
   "metadata": {},
   "source": [
    "Make the parent of the current directory the new current directory\n",
    "* os.path.dirname() gets the parent directory\n",
    "* os.chir() defines the new current directory"
   ]
  },
  {
   "cell_type": "code",
   "execution_count": 2,
   "id": "cea61730",
   "metadata": {},
   "outputs": [
    {
     "name": "stdout",
     "output_type": "stream",
     "text": [
      "You set a new current directory\n"
     ]
    }
   ],
   "source": [
    "os.chdir(os.path.dirname(current_dir))\n",
    "print(\"You set a new current directory\")"
   ]
  },
  {
   "cell_type": "markdown",
   "id": "d4884f2a",
   "metadata": {},
   "source": [
    "Confirm the new current directory"
   ]
  },
  {
   "cell_type": "code",
   "execution_count": 3,
   "id": "71ef2d68",
   "metadata": {},
   "outputs": [
    {
     "data": {
      "text/plain": [
       "'c:\\\\Users\\\\mikee\\\\Desktop\\\\employee-turnover-prediction'"
      ]
     },
     "execution_count": 3,
     "metadata": {},
     "output_type": "execute_result"
    }
   ],
   "source": [
    "current_dir = os.getcwd()\n",
    "current_dir"
   ]
  },
  {
   "cell_type": "markdown",
   "id": "3c4f3d91",
   "metadata": {},
   "source": [
    "Changing path directory to the dataset"
   ]
  },
  {
   "cell_type": "code",
   "execution_count": 4,
   "id": "828aaf6e",
   "metadata": {},
   "outputs": [],
   "source": [
    "#path directory\n",
    "raw_data_dir = os.path.join(current_dir, 'data_set/raw') \n",
    "\n",
    "#path directory\n",
    "processed_data_dir = os.path.join(current_dir, 'data_set/processed') \n"
   ]
  },
  {
   "cell_type": "markdown",
   "id": "2279e71a",
   "metadata": {},
   "source": [
    "---"
   ]
  },
  {
   "cell_type": "markdown",
   "id": "cdff43f2",
   "metadata": {},
   "source": [
    "# Import packages"
   ]
  },
  {
   "cell_type": "code",
   "execution_count": 5,
   "id": "b8c19a98",
   "metadata": {},
   "outputs": [],
   "source": [
    "import numpy as np #import numpy\n",
    "import pandas as pd #import pandas\n",
    "import matplotlib.pyplot as plt #import matplotlib\n",
    "import seaborn as sns #import seaborn\n",
    "import plotly.express as px # import plotly\n",
    "sns.set_style('whitegrid') #set style for visuals"
   ]
  },
  {
   "cell_type": "markdown",
   "id": "dfdc6fac",
   "metadata": {},
   "source": [
    "---"
   ]
  },
  {
   "cell_type": "markdown",
   "id": "df384e8c",
   "metadata": {},
   "source": [
    "# Load the raw dataset"
   ]
  },
  {
   "cell_type": "code",
   "execution_count": 6,
   "id": "6d94433d",
   "metadata": {},
   "outputs": [],
   "source": [
    "#load the dataset\n",
    "df = pd.read_csv(os.path.join(processed_data_dir, 'cleaned_employee_attrition.csv'))\n"
   ]
  },
  {
   "cell_type": "markdown",
   "id": "322a4283",
   "metadata": {},
   "source": [
    "The raw dataset is loaded using Pandas for ETL process"
   ]
  },
  {
   "cell_type": "markdown",
   "id": "41067d23",
   "metadata": {},
   "source": [
    "---"
   ]
  },
  {
   "cell_type": "markdown",
   "id": "e5cf6ff0",
   "metadata": {},
   "source": [
    "# Understand the dataset structure and content"
   ]
  },
  {
   "cell_type": "code",
   "execution_count": 7,
   "id": "a2349380",
   "metadata": {},
   "outputs": [
    {
     "data": {
      "text/html": [
       "<div>\n",
       "<style scoped>\n",
       "    .dataframe tbody tr th:only-of-type {\n",
       "        vertical-align: middle;\n",
       "    }\n",
       "\n",
       "    .dataframe tbody tr th {\n",
       "        vertical-align: top;\n",
       "    }\n",
       "\n",
       "    .dataframe thead th {\n",
       "        text-align: right;\n",
       "    }\n",
       "</style>\n",
       "<table border=\"1\" class=\"dataframe\">\n",
       "  <thead>\n",
       "    <tr style=\"text-align: right;\">\n",
       "      <th></th>\n",
       "      <th>0</th>\n",
       "      <th>1</th>\n",
       "      <th>2</th>\n",
       "    </tr>\n",
       "  </thead>\n",
       "  <tbody>\n",
       "    <tr>\n",
       "      <th>Age</th>\n",
       "      <td>41</td>\n",
       "      <td>49</td>\n",
       "      <td>37</td>\n",
       "    </tr>\n",
       "    <tr>\n",
       "      <th>Attrition</th>\n",
       "      <td>Yes</td>\n",
       "      <td>No</td>\n",
       "      <td>Yes</td>\n",
       "    </tr>\n",
       "    <tr>\n",
       "      <th>DistanceFromHome</th>\n",
       "      <td>1</td>\n",
       "      <td>8</td>\n",
       "      <td>2</td>\n",
       "    </tr>\n",
       "    <tr>\n",
       "      <th>JobLevel</th>\n",
       "      <td>2</td>\n",
       "      <td>2</td>\n",
       "      <td>1</td>\n",
       "    </tr>\n",
       "    <tr>\n",
       "      <th>JobRole</th>\n",
       "      <td>Sales Executive</td>\n",
       "      <td>Research Scientist</td>\n",
       "      <td>Laboratory Technician</td>\n",
       "    </tr>\n",
       "    <tr>\n",
       "      <th>JobSatisfaction</th>\n",
       "      <td>4</td>\n",
       "      <td>2</td>\n",
       "      <td>3</td>\n",
       "    </tr>\n",
       "    <tr>\n",
       "      <th>MonthlyIncome</th>\n",
       "      <td>5993</td>\n",
       "      <td>5130</td>\n",
       "      <td>2090</td>\n",
       "    </tr>\n",
       "    <tr>\n",
       "      <th>NumCompaniesWorked</th>\n",
       "      <td>8</td>\n",
       "      <td>1</td>\n",
       "      <td>6</td>\n",
       "    </tr>\n",
       "    <tr>\n",
       "      <th>OverTime</th>\n",
       "      <td>Yes</td>\n",
       "      <td>No</td>\n",
       "      <td>Yes</td>\n",
       "    </tr>\n",
       "    <tr>\n",
       "      <th>WorkLifeBalance</th>\n",
       "      <td>1</td>\n",
       "      <td>3</td>\n",
       "      <td>3</td>\n",
       "    </tr>\n",
       "    <tr>\n",
       "      <th>YearsSinceLastPromotion</th>\n",
       "      <td>0</td>\n",
       "      <td>1</td>\n",
       "      <td>0</td>\n",
       "    </tr>\n",
       "    <tr>\n",
       "      <th>YearsWithCurrManager</th>\n",
       "      <td>5</td>\n",
       "      <td>7</td>\n",
       "      <td>0</td>\n",
       "    </tr>\n",
       "    <tr>\n",
       "      <th>Attrition_encoded</th>\n",
       "      <td>1</td>\n",
       "      <td>0</td>\n",
       "      <td>1</td>\n",
       "    </tr>\n",
       "    <tr>\n",
       "      <th>OverTime_encoded</th>\n",
       "      <td>1</td>\n",
       "      <td>0</td>\n",
       "      <td>1</td>\n",
       "    </tr>\n",
       "  </tbody>\n",
       "</table>\n",
       "</div>"
      ],
      "text/plain": [
       "                                       0                   1  \\\n",
       "Age                                   41                  49   \n",
       "Attrition                            Yes                  No   \n",
       "DistanceFromHome                       1                   8   \n",
       "JobLevel                               2                   2   \n",
       "JobRole                  Sales Executive  Research Scientist   \n",
       "JobSatisfaction                        4                   2   \n",
       "MonthlyIncome                       5993                5130   \n",
       "NumCompaniesWorked                     8                   1   \n",
       "OverTime                             Yes                  No   \n",
       "WorkLifeBalance                        1                   3   \n",
       "YearsSinceLastPromotion                0                   1   \n",
       "YearsWithCurrManager                   5                   7   \n",
       "Attrition_encoded                      1                   0   \n",
       "OverTime_encoded                       1                   0   \n",
       "\n",
       "                                             2  \n",
       "Age                                         37  \n",
       "Attrition                                  Yes  \n",
       "DistanceFromHome                             2  \n",
       "JobLevel                                     1  \n",
       "JobRole                  Laboratory Technician  \n",
       "JobSatisfaction                              3  \n",
       "MonthlyIncome                             2090  \n",
       "NumCompaniesWorked                           6  \n",
       "OverTime                                   Yes  \n",
       "WorkLifeBalance                              3  \n",
       "YearsSinceLastPromotion                      0  \n",
       "YearsWithCurrManager                         0  \n",
       "Attrition_encoded                            1  \n",
       "OverTime_encoded                             1  "
      ]
     },
     "execution_count": 7,
     "metadata": {},
     "output_type": "execute_result"
    }
   ],
   "source": [
    "#display the first 5 rows of the dataset\n",
    "df.head(3).T"
   ]
  },
  {
   "cell_type": "code",
   "execution_count": 8,
   "id": "0ee010dd",
   "metadata": {},
   "outputs": [
    {
     "name": "stdout",
     "output_type": "stream",
     "text": [
      "<class 'pandas.core.frame.DataFrame'>\n",
      "RangeIndex: 1470 entries, 0 to 1469\n",
      "Data columns (total 14 columns):\n",
      " #   Column                   Non-Null Count  Dtype \n",
      "---  ------                   --------------  ----- \n",
      " 0   Age                      1470 non-null   int64 \n",
      " 1   Attrition                1470 non-null   object\n",
      " 2   DistanceFromHome         1470 non-null   int64 \n",
      " 3   JobLevel                 1470 non-null   int64 \n",
      " 4   JobRole                  1470 non-null   object\n",
      " 5   JobSatisfaction          1470 non-null   int64 \n",
      " 6   MonthlyIncome            1470 non-null   int64 \n",
      " 7   NumCompaniesWorked       1470 non-null   int64 \n",
      " 8   OverTime                 1470 non-null   object\n",
      " 9   WorkLifeBalance          1470 non-null   int64 \n",
      " 10  YearsSinceLastPromotion  1470 non-null   int64 \n",
      " 11  YearsWithCurrManager     1470 non-null   int64 \n",
      " 12  Attrition_encoded        1470 non-null   int64 \n",
      " 13  OverTime_encoded         1470 non-null   int64 \n",
      "dtypes: int64(11), object(3)\n",
      "memory usage: 160.9+ KB\n"
     ]
    }
   ],
   "source": [
    "#dataset information\n",
    "df.info()"
   ]
  },
  {
   "cell_type": "markdown",
   "id": "add8d3ce",
   "metadata": {},
   "source": [
    "---"
   ]
  },
  {
   "cell_type": "markdown",
   "id": "a53986db",
   "metadata": {},
   "source": [
    "## Encode Features\n",
    "\n",
    "**Features To Encode**\n",
    "\n",
    "Overtime & Attrition already have encoded versions.\n",
    "\n",
    "Job Role is also an object with different labels - to preserve label hierarchy will encode separately. Let us check the values for JobRole."
   ]
  },
  {
   "cell_type": "code",
   "execution_count": 9,
   "id": "37599d3c",
   "metadata": {},
   "outputs": [
    {
     "data": {
      "text/plain": [
       "JobRole\n",
       "Sales Executive              326\n",
       "Research Scientist           292\n",
       "Laboratory Technician        259\n",
       "Manufacturing Director       145\n",
       "Healthcare Representative    131\n",
       "Manager                      102\n",
       "Sales Representative          83\n",
       "Research Director             80\n",
       "Human Resources               52\n",
       "Name: count, dtype: int64"
      ]
     },
     "execution_count": 9,
     "metadata": {},
     "output_type": "execute_result"
    }
   ],
   "source": [
    "df[\"JobRole\"].value_counts()"
   ]
  },
  {
   "cell_type": "markdown",
   "id": "6629110a",
   "metadata": {},
   "source": [
    "We have nine different roles across departments. The departments column of original data was dropped as not being of interest to our hypotheses. We can perform basic  label encoding which will map each role to a numeric value or create a hierarchy. The second approach may be better for the simplicity of model and to add meaning to our encoding so we will take this approach. However, the data also includes `JobLevel` so we can use the correlation between this and `JobRole` to order our hierarchy. (if this shows a simple relationship between levels we can probably drop `JobRole` instead)."
   ]
  },
  {
   "cell_type": "code",
   "execution_count": 10,
   "id": "4a04eef0",
   "metadata": {},
   "outputs": [
    {
     "data": {
      "text/html": [
       "<div>\n",
       "<style scoped>\n",
       "    .dataframe tbody tr th:only-of-type {\n",
       "        vertical-align: middle;\n",
       "    }\n",
       "\n",
       "    .dataframe tbody tr th {\n",
       "        vertical-align: top;\n",
       "    }\n",
       "\n",
       "    .dataframe thead th {\n",
       "        text-align: right;\n",
       "    }\n",
       "</style>\n",
       "<table border=\"1\" class=\"dataframe\">\n",
       "  <thead>\n",
       "    <tr style=\"text-align: right;\">\n",
       "      <th></th>\n",
       "      <th>count</th>\n",
       "      <th>min</th>\n",
       "      <th>median</th>\n",
       "      <th>mean</th>\n",
       "      <th>max</th>\n",
       "    </tr>\n",
       "    <tr>\n",
       "      <th>JobRole</th>\n",
       "      <th></th>\n",
       "      <th></th>\n",
       "      <th></th>\n",
       "      <th></th>\n",
       "      <th></th>\n",
       "    </tr>\n",
       "  </thead>\n",
       "  <tbody>\n",
       "    <tr>\n",
       "      <th>Sales Representative</th>\n",
       "      <td>83</td>\n",
       "      <td>1</td>\n",
       "      <td>1.0</td>\n",
       "      <td>1.084337</td>\n",
       "      <td>2</td>\n",
       "    </tr>\n",
       "    <tr>\n",
       "      <th>Research Scientist</th>\n",
       "      <td>292</td>\n",
       "      <td>1</td>\n",
       "      <td>1.0</td>\n",
       "      <td>1.202055</td>\n",
       "      <td>3</td>\n",
       "    </tr>\n",
       "    <tr>\n",
       "      <th>Laboratory Technician</th>\n",
       "      <td>259</td>\n",
       "      <td>1</td>\n",
       "      <td>1.0</td>\n",
       "      <td>1.239382</td>\n",
       "      <td>3</td>\n",
       "    </tr>\n",
       "    <tr>\n",
       "      <th>Human Resources</th>\n",
       "      <td>52</td>\n",
       "      <td>1</td>\n",
       "      <td>1.0</td>\n",
       "      <td>1.480769</td>\n",
       "      <td>3</td>\n",
       "    </tr>\n",
       "    <tr>\n",
       "      <th>Sales Executive</th>\n",
       "      <td>326</td>\n",
       "      <td>2</td>\n",
       "      <td>2.0</td>\n",
       "      <td>2.328221</td>\n",
       "      <td>4</td>\n",
       "    </tr>\n",
       "    <tr>\n",
       "      <th>Manufacturing Director</th>\n",
       "      <td>145</td>\n",
       "      <td>2</td>\n",
       "      <td>2.0</td>\n",
       "      <td>2.448276</td>\n",
       "      <td>4</td>\n",
       "    </tr>\n",
       "    <tr>\n",
       "      <th>Healthcare Representative</th>\n",
       "      <td>131</td>\n",
       "      <td>2</td>\n",
       "      <td>2.0</td>\n",
       "      <td>2.473282</td>\n",
       "      <td>4</td>\n",
       "    </tr>\n",
       "    <tr>\n",
       "      <th>Research Director</th>\n",
       "      <td>80</td>\n",
       "      <td>3</td>\n",
       "      <td>4.0</td>\n",
       "      <td>3.975000</td>\n",
       "      <td>5</td>\n",
       "    </tr>\n",
       "    <tr>\n",
       "      <th>Manager</th>\n",
       "      <td>102</td>\n",
       "      <td>3</td>\n",
       "      <td>4.0</td>\n",
       "      <td>4.303922</td>\n",
       "      <td>5</td>\n",
       "    </tr>\n",
       "  </tbody>\n",
       "</table>\n",
       "</div>"
      ],
      "text/plain": [
       "                           count  min  median      mean  max\n",
       "JobRole                                                     \n",
       "Sales Representative          83    1     1.0  1.084337    2\n",
       "Research Scientist           292    1     1.0  1.202055    3\n",
       "Laboratory Technician        259    1     1.0  1.239382    3\n",
       "Human Resources               52    1     1.0  1.480769    3\n",
       "Sales Executive              326    2     2.0  2.328221    4\n",
       "Manufacturing Director       145    2     2.0  2.448276    4\n",
       "Healthcare Representative    131    2     2.0  2.473282    4\n",
       "Research Director             80    3     4.0  3.975000    5\n",
       "Manager                      102    3     4.0  4.303922    5"
      ]
     },
     "metadata": {},
     "output_type": "display_data"
    }
   ],
   "source": [
    "# 1) Inspect distributions of JobLevel within each JobRole\n",
    "#import display for better formatting of output\n",
    "from IPython.display import display\n",
    "display(\n",
    "    df.groupby(\"JobRole\")[\"JobLevel\"]\n",
    "      .agg(['count','min','median','mean','max'])\n",
    "      .sort_values(['median','mean'], ascending=[True, True])\n",
    ")\n",
    "\n",
    "# 2) Build an order based on JobLevel (median, then mean as tiebreaker)\n",
    "role_stats = (\n",
    "    df.groupby(\"JobRole\")[\"JobLevel\"]\n",
    "      .agg(median='median', mean='mean')\n",
    "      .sort_values(['median','mean'], ascending=[True, True])\n",
    "      .reset_index()\n",
    ")\n",
    "role_stats[\"role_rank\"] = np.arange(1, len(role_stats)+1)  # 1 = most junior, larger = more senior"
   ]
  },
  {
   "cell_type": "markdown",
   "id": "f9526370",
   "metadata": {},
   "source": [
    "The order is reasonably clear, though manager having the highest rank seems like an anomaly (It is described as middle management in the original dataset). \n",
    "* Conclusion: Job Level may be a better indicator & less arbritary than JobRole\n",
    "* We can also check monthly income to find a more definitive hierarchy"
   ]
  },
  {
   "cell_type": "code",
   "execution_count": 11,
   "id": "f24d3d3d",
   "metadata": {},
   "outputs": [
    {
     "data": {
      "text/html": [
       "<div>\n",
       "<style scoped>\n",
       "    .dataframe tbody tr th:only-of-type {\n",
       "        vertical-align: middle;\n",
       "    }\n",
       "\n",
       "    .dataframe tbody tr th {\n",
       "        vertical-align: top;\n",
       "    }\n",
       "\n",
       "    .dataframe thead th {\n",
       "        text-align: right;\n",
       "    }\n",
       "</style>\n",
       "<table border=\"1\" class=\"dataframe\">\n",
       "  <thead>\n",
       "    <tr style=\"text-align: right;\">\n",
       "      <th></th>\n",
       "      <th>JobRole</th>\n",
       "      <th>median</th>\n",
       "      <th>mean</th>\n",
       "      <th>role_rank</th>\n",
       "    </tr>\n",
       "  </thead>\n",
       "  <tbody>\n",
       "    <tr>\n",
       "      <th>0</th>\n",
       "      <td>Sales Representative</td>\n",
       "      <td>2579.0</td>\n",
       "      <td>2626.000000</td>\n",
       "      <td>1</td>\n",
       "    </tr>\n",
       "    <tr>\n",
       "      <th>1</th>\n",
       "      <td>Laboratory Technician</td>\n",
       "      <td>2886.0</td>\n",
       "      <td>3237.169884</td>\n",
       "      <td>2</td>\n",
       "    </tr>\n",
       "    <tr>\n",
       "      <th>2</th>\n",
       "      <td>Research Scientist</td>\n",
       "      <td>2887.5</td>\n",
       "      <td>3239.972603</td>\n",
       "      <td>3</td>\n",
       "    </tr>\n",
       "    <tr>\n",
       "      <th>3</th>\n",
       "      <td>Human Resources</td>\n",
       "      <td>3093.0</td>\n",
       "      <td>4235.750000</td>\n",
       "      <td>4</td>\n",
       "    </tr>\n",
       "    <tr>\n",
       "      <th>4</th>\n",
       "      <td>Sales Executive</td>\n",
       "      <td>6231.0</td>\n",
       "      <td>6924.279141</td>\n",
       "      <td>5</td>\n",
       "    </tr>\n",
       "    <tr>\n",
       "      <th>5</th>\n",
       "      <td>Manufacturing Director</td>\n",
       "      <td>6447.0</td>\n",
       "      <td>7295.137931</td>\n",
       "      <td>6</td>\n",
       "    </tr>\n",
       "    <tr>\n",
       "      <th>6</th>\n",
       "      <td>Healthcare Representative</td>\n",
       "      <td>6811.0</td>\n",
       "      <td>7528.763359</td>\n",
       "      <td>7</td>\n",
       "    </tr>\n",
       "    <tr>\n",
       "      <th>7</th>\n",
       "      <td>Research Director</td>\n",
       "      <td>16510.0</td>\n",
       "      <td>16033.550000</td>\n",
       "      <td>8</td>\n",
       "    </tr>\n",
       "    <tr>\n",
       "      <th>8</th>\n",
       "      <td>Manager</td>\n",
       "      <td>17454.5</td>\n",
       "      <td>17181.676471</td>\n",
       "      <td>9</td>\n",
       "    </tr>\n",
       "  </tbody>\n",
       "</table>\n",
       "</div>"
      ],
      "text/plain": [
       "                     JobRole   median          mean  role_rank\n",
       "0       Sales Representative   2579.0   2626.000000          1\n",
       "1      Laboratory Technician   2886.0   3237.169884          2\n",
       "2         Research Scientist   2887.5   3239.972603          3\n",
       "3            Human Resources   3093.0   4235.750000          4\n",
       "4            Sales Executive   6231.0   6924.279141          5\n",
       "5     Manufacturing Director   6447.0   7295.137931          6\n",
       "6  Healthcare Representative   6811.0   7528.763359          7\n",
       "7          Research Director  16510.0  16033.550000          8\n",
       "8                    Manager  17454.5  17181.676471          9"
      ]
     },
     "execution_count": 11,
     "metadata": {},
     "output_type": "execute_result"
    }
   ],
   "source": [
    "##Rank Job Role by MonthlyIncome\n",
    "role_stats = (\n",
    "    df.groupby(\"JobRole\")[\"MonthlyIncome\"]\n",
    "      .agg(median='median', mean='mean')\n",
    "      .sort_values(['median','mean'], ascending=[True, True])\n",
    "      .reset_index()\n",
    ")\n",
    "role_stats[\"role_rank\"] = np.arange(1, len(role_stats)+1)  # 1 = most junior, larger = more senior\n",
    "role_stats"
   ]
  },
  {
   "cell_type": "markdown",
   "id": "2ed4d64d",
   "metadata": {},
   "source": [
    "This gives a clearer ranking - we have two measures which seem to effectively rank job roles. Though including it may introduce noise and overcomplicate it may also enrich it and reveal a more interesting picture. (i.e. factors not necessarily related to income or seniority). Fot this reason we will keep it in our model for testing and use LabelEncoding."
   ]
  },
  {
   "cell_type": "markdown",
   "id": "14abb824",
   "metadata": {},
   "source": [
    "**Encode JobRole**\n"
   ]
  },
  {
   "cell_type": "code",
   "execution_count": 12,
   "id": "c9db02b5",
   "metadata": {},
   "outputs": [
    {
     "data": {
      "text/plain": [
       "JobRole_encoded\n",
       "0                  131\n",
       "1                   52\n",
       "2                  259\n",
       "3                  102\n",
       "4                  145\n",
       "5                   80\n",
       "6                  292\n",
       "7                  326\n",
       "8                   83\n",
       "Name: count, dtype: int64"
      ]
     },
     "execution_count": 12,
     "metadata": {},
     "output_type": "execute_result"
    }
   ],
   "source": [
    "from sklearn.preprocessing import LabelEncoder\n",
    "\n",
    "le = LabelEncoder()\n",
    "\n",
    "df[\"JobRole_encoded\"] = le.fit_transform(df[\"JobRole\"])\n",
    "df[[\"JobRole_encoded\"]].value_counts().sort_index()"
   ]
  },
  {
   "cell_type": "markdown",
   "id": "876694ea",
   "metadata": {},
   "source": [
    "## Create Dataset for training"
   ]
  },
  {
   "cell_type": "markdown",
   "id": "e154717e",
   "metadata": {},
   "source": [
    "Next we will create our dataset for training. We can drop columns we have encoded versions of, `Attrition`, `OverTime`."
   ]
  },
  {
   "cell_type": "code",
   "execution_count": 13,
   "id": "4f3d7f06",
   "metadata": {},
   "outputs": [
    {
     "data": {
      "text/html": [
       "<div>\n",
       "<style scoped>\n",
       "    .dataframe tbody tr th:only-of-type {\n",
       "        vertical-align: middle;\n",
       "    }\n",
       "\n",
       "    .dataframe tbody tr th {\n",
       "        vertical-align: top;\n",
       "    }\n",
       "\n",
       "    .dataframe thead th {\n",
       "        text-align: right;\n",
       "    }\n",
       "</style>\n",
       "<table border=\"1\" class=\"dataframe\">\n",
       "  <thead>\n",
       "    <tr style=\"text-align: right;\">\n",
       "      <th></th>\n",
       "      <th>0</th>\n",
       "      <th>1</th>\n",
       "      <th>2</th>\n",
       "    </tr>\n",
       "  </thead>\n",
       "  <tbody>\n",
       "    <tr>\n",
       "      <th>Age</th>\n",
       "      <td>41</td>\n",
       "      <td>49</td>\n",
       "      <td>37</td>\n",
       "    </tr>\n",
       "    <tr>\n",
       "      <th>DistanceFromHome</th>\n",
       "      <td>1</td>\n",
       "      <td>8</td>\n",
       "      <td>2</td>\n",
       "    </tr>\n",
       "    <tr>\n",
       "      <th>JobLevel</th>\n",
       "      <td>2</td>\n",
       "      <td>2</td>\n",
       "      <td>1</td>\n",
       "    </tr>\n",
       "    <tr>\n",
       "      <th>JobSatisfaction</th>\n",
       "      <td>4</td>\n",
       "      <td>2</td>\n",
       "      <td>3</td>\n",
       "    </tr>\n",
       "    <tr>\n",
       "      <th>MonthlyIncome</th>\n",
       "      <td>5993</td>\n",
       "      <td>5130</td>\n",
       "      <td>2090</td>\n",
       "    </tr>\n",
       "    <tr>\n",
       "      <th>NumCompaniesWorked</th>\n",
       "      <td>8</td>\n",
       "      <td>1</td>\n",
       "      <td>6</td>\n",
       "    </tr>\n",
       "    <tr>\n",
       "      <th>WorkLifeBalance</th>\n",
       "      <td>1</td>\n",
       "      <td>3</td>\n",
       "      <td>3</td>\n",
       "    </tr>\n",
       "    <tr>\n",
       "      <th>YearsSinceLastPromotion</th>\n",
       "      <td>0</td>\n",
       "      <td>1</td>\n",
       "      <td>0</td>\n",
       "    </tr>\n",
       "    <tr>\n",
       "      <th>YearsWithCurrManager</th>\n",
       "      <td>5</td>\n",
       "      <td>7</td>\n",
       "      <td>0</td>\n",
       "    </tr>\n",
       "    <tr>\n",
       "      <th>Attrition_encoded</th>\n",
       "      <td>1</td>\n",
       "      <td>0</td>\n",
       "      <td>1</td>\n",
       "    </tr>\n",
       "    <tr>\n",
       "      <th>OverTime_encoded</th>\n",
       "      <td>1</td>\n",
       "      <td>0</td>\n",
       "      <td>1</td>\n",
       "    </tr>\n",
       "    <tr>\n",
       "      <th>JobRole_encoded</th>\n",
       "      <td>7</td>\n",
       "      <td>6</td>\n",
       "      <td>2</td>\n",
       "    </tr>\n",
       "  </tbody>\n",
       "</table>\n",
       "</div>"
      ],
      "text/plain": [
       "                            0     1     2\n",
       "Age                        41    49    37\n",
       "DistanceFromHome            1     8     2\n",
       "JobLevel                    2     2     1\n",
       "JobSatisfaction             4     2     3\n",
       "MonthlyIncome            5993  5130  2090\n",
       "NumCompaniesWorked          8     1     6\n",
       "WorkLifeBalance             1     3     3\n",
       "YearsSinceLastPromotion     0     1     0\n",
       "YearsWithCurrManager        5     7     0\n",
       "Attrition_encoded           1     0     1\n",
       "OverTime_encoded            1     0     1\n",
       "JobRole_encoded             7     6     2"
      ]
     },
     "execution_count": 13,
     "metadata": {},
     "output_type": "execute_result"
    }
   ],
   "source": [
    "#create our dataset for training. We can drop columns we have encoded versions of, `Attrition`, `OverTime` \n",
    "df_model = df.drop(columns=['Attrition', 'OverTime', 'JobRole'])\n",
    "df_model.head(3).T\n"
   ]
  },
  {
   "cell_type": "markdown",
   "id": "b935c17a",
   "metadata": {},
   "source": [
    "---"
   ]
  },
  {
   "cell_type": "markdown",
   "id": "9190d275",
   "metadata": {},
   "source": [
    "## Create Train & Test sets"
   ]
  },
  {
   "cell_type": "markdown",
   "id": "18c5ae77",
   "metadata": {},
   "source": [
    "Next we split our dataset into training & test sets."
   ]
  },
  {
   "cell_type": "code",
   "execution_count": 14,
   "id": "e212460c",
   "metadata": {},
   "outputs": [
    {
     "data": {
      "text/plain": [
       "((1176, 11), (294, 11), (1176,), (294,))"
      ]
     },
     "execution_count": 14,
     "metadata": {},
     "output_type": "execute_result"
    }
   ],
   "source": [
    "#split our dataset into training & test sets.\n",
    "from sklearn.model_selection import train_test_split\n",
    "X = df_model.drop('Attrition_encoded', axis=1)  # Features\n",
    "y = df_model['Attrition_encoded']  # Target variable\n",
    "\n",
    "X_train, X_test, y_train, y_test = train_test_split(X, y, test_size=0.2, random_state=42)\n",
    "X_train.shape, X_test.shape, y_train.shape, y_test.shape\n"
   ]
  },
  {
   "cell_type": "markdown",
   "id": "fcf2de1b",
   "metadata": {},
   "source": [
    "**Check Train & Test sets are balanced**"
   ]
  },
  {
   "cell_type": "code",
   "execution_count": 15,
   "id": "3946e719",
   "metadata": {},
   "outputs": [
    {
     "name": "stdout",
     "output_type": "stream",
     "text": [
      "Class balance (train): {0: 0.8316326530612245, 1: 0.1683673469387755}\n",
      "Class balance (test): {0: 0.8673469387755102, 1: 0.1326530612244898}\n"
     ]
    }
   ],
   "source": [
    "#Check target class distribution in train and test sets\n",
    "print(\"Class balance (train):\", y_train.value_counts(normalize=True).to_dict())\n",
    "print(\"Class balance (test):\", y_test.value_counts(normalize=True).to_dict())"
   ]
  },
  {
   "cell_type": "markdown",
   "id": "a812ea98",
   "metadata": {},
   "source": [
    "*Note our test set is slightly inbalanced compared to train - random seed may need changing if inbalance causes problems*"
   ]
  },
  {
   "cell_type": "markdown",
   "id": "37799949",
   "metadata": {},
   "source": [
    "---"
   ]
  },
  {
   "cell_type": "markdown",
   "id": "0321071b",
   "metadata": {},
   "source": [
    "## GridSearch with Tree Models"
   ]
  },
  {
   "cell_type": "markdown",
   "id": "1adcabf8",
   "metadata": {},
   "source": [
    "**Create pipeline function**\n",
    "\n",
    "First we create lists of features depending on type - Ordinal etc., then create a function to create pipelines."
   ]
  },
  {
   "cell_type": "code",
   "execution_count": 16,
   "id": "a92eb349",
   "metadata": {},
   "outputs": [
    {
     "data": {
      "text/plain": [
       "(Age                          43\n",
       " DistanceFromHome             29\n",
       " JobLevel                      5\n",
       " JobSatisfaction               4\n",
       " MonthlyIncome              1349\n",
       " NumCompaniesWorked           10\n",
       " WorkLifeBalance               4\n",
       " YearsSinceLastPromotion      16\n",
       " YearsWithCurrManager         18\n",
       " OverTime_encoded              2\n",
       " JobRole_encoded               9\n",
       " dtype: int64,\n",
       " (1470, 11))"
      ]
     },
     "execution_count": 16,
     "metadata": {},
     "output_type": "execute_result"
    }
   ],
   "source": [
    "#check numeric columns for unique values\n",
    "X.nunique(), X.shape"
   ]
  },
  {
   "cell_type": "markdown",
   "id": "54258b39",
   "metadata": {},
   "source": [
    "By examining this we can see which are continuous numeric variables and which are ordinal (i.e. have an order/ranking)"
   ]
  },
  {
   "cell_type": "code",
   "execution_count": 17,
   "id": "10341c0e",
   "metadata": {},
   "outputs": [
    {
     "data": {
      "text/plain": [
       "(['JobSatisfaction', 'JobLevel', 'WorkLifeBalance'],\n",
       " ['Age',\n",
       "  'DistanceFrom Home',\n",
       "  'MonthlyIncome',\n",
       "  'NumCompaniesWorked',\n",
       "  'YearSinceLastPromotion',\n",
       "  'YearsWithCurrManager'])"
      ]
     },
     "execution_count": 17,
     "metadata": {},
     "output_type": "execute_result"
    }
   ],
   "source": [
    "### Preprocessing & Feature Selection imports\n",
    "from sklearn.pipeline import Pipeline\n",
    "from feature_engine.imputation import MeanMedianImputer, CategoricalImputer\n",
    "from feature_engine.encoding import OrdinalEncoder\n",
    "from sklearn.preprocessing import LabelEncoder\n",
    "from sklearn.feature_selection import SelectFromModel\n",
    "\n",
    "##separate features by type\n",
    "ordinal_features = ['JobSatisfaction', 'JobLevel','WorkLifeBalance']\n",
    "numerical_features = ['Age', 'DistanceFrom Home', 'MonthlyIncome', 'NumCompaniesWorked','YearSinceLastPromotion','YearsWithCurrManager']\n",
    "#Overtime is already encoded as binary, JobRole will be label encoded\n",
    "ordinal_features, numerical_features"
   ]
  },
  {
   "cell_type": "markdown",
   "id": "add9ddc0",
   "metadata": {},
   "source": [
    "the next step is to create our pipeline optimisation function."
   ]
  },
  {
   "cell_type": "code",
   "execution_count": 18,
   "id": "019bdc09",
   "metadata": {},
   "outputs": [],
   "source": [
    "##Create function to build  model pipelines\n",
    "\n",
    "# No scaling needed for tree-based models\n",
    "def PipelineOptimization(model):\n",
    "    \"\"\" Create a pipeline with preprocessing, feature selection, and model steps.\n",
    "    \"\"\"\n",
    "    pipeline_base = Pipeline(steps=[\n",
    "        # 1) Impute numeric (median is robust to skew)\n",
    "        (\"num_imputer\", MeanMedianImputer(imputation_method=\"median\", variables=numerical_features)),\n",
    "\n",
    "        # 2) Impute categoricals (mode/most frequent)\n",
    "        (\"cat_imputer\", CategoricalImputer(imputation_method=\"frequent\", variables=ordinal_features)),\n",
    "\n",
    "        # 3) Ordinal-encode ordered categories (keeps rank meaning for trees)\n",
    "        (\"ord_encoder\", OrdinalEncoder(encoding_method=\"arbitrary\", variables=ordinal_features)),\n",
    "\n",
    "        # 4) Label-encode JobRole (arbitrary, no rank meaning)\n",
    "        (\"role_encoder\", LabelEncoder(encoding_method=\"arbitrary\", variables=[\"JobRole\"])),\n",
    "\n",
    "        # 5) Feature selection from model (uses model’s importances)\n",
    "        (\"feat_selection\", SelectFromModel(model)),\n",
    "\n",
    "        # 6) Final estimator\n",
    "        (\"model\", model),\n",
    "    ])\n",
    "    return pipeline_base"
   ]
  },
  {
   "cell_type": "markdown",
   "id": "c65c9d1a",
   "metadata": {},
   "source": [
    "**Import Models**"
   ]
  },
  {
   "cell_type": "code",
   "execution_count": 19,
   "id": "a3a11922",
   "metadata": {},
   "outputs": [],
   "source": [
    "## GridSearch with Tree Models\n",
    "### Import packages\n",
    "from sklearn.ensemble import RandomForestClassifier\n",
    "from sklearn.tree import DecisionTreeClassifier\n",
    "from sklearn.ensemble import  ExtraTreesClassifier\n",
    "from xgboost import XGBClassifier\n",
    "from sklearn.metrics import classification_report, confusion_matrix, accuracy_score\n",
    "\n",
    "#supress warnings\n",
    "import warnings\n",
    "warnings.filterwarnings('ignore')\n"
   ]
  },
  {
   "cell_type": "markdown",
   "id": "d22467b3",
   "metadata": {},
   "source": [
    "**Create List of models to test**"
   ]
  },
  {
   "cell_type": "code",
   "execution_count": 20,
   "id": "0077b79a",
   "metadata": {},
   "outputs": [],
   "source": [
    "# Define dictionary of candidate models\n",
    "models = {\n",
    "    \"DecisionTree\": DecisionTreeClassifier(random_state=42, class_weight=\"balanced\"),\n",
    "    \"RandomForest\": RandomForestClassifier(\n",
    "        n_estimators=400, random_state=42, n_jobs=-1, class_weight=\"balanced_subsample\"\n",
    "    ),\n",
    "    \"ExtraTrees\": ExtraTreesClassifier(\n",
    "        n_estimators=400, random_state=42, n_jobs=-1, class_weight=\"balanced_subsample\"\n",
    "    ),\n",
    "    \"XGBoost\": XGBClassifier(\n",
    "        n_estimators=400,\n",
    "        random_state=42,\n",
    "        n_jobs=-1,\n",
    "        eval_metric=\"logloss\",\n",
    "        use_label_encoder=False\n",
    "    )\n",
    "}\n"
   ]
  },
  {
   "cell_type": "markdown",
   "id": "88029f3e",
   "metadata": {},
   "source": [
    "**Create Param Grid**\n",
    "(reduced params for faster runtime)"
   ]
  },
  {
   "cell_type": "code",
   "execution_count": 21,
   "id": "0c073ecb",
   "metadata": {},
   "outputs": [
    {
     "data": {
      "text/plain": [
       "4.9393939393939394"
      ]
     },
     "execution_count": 21,
     "metadata": {},
     "output_type": "execute_result"
    }
   ],
   "source": [
    "#No Balance param for XGBoost so create inbalance ratio\n",
    "from collections import Counter\n",
    "\n",
    "ctr = Counter(y_train)\n",
    "pos = ctr[1]  # minority class (leavers)\n",
    "neg = ctr[0]\n",
    "scale_pos_weight = neg / pos if pos > 0 else 1.0\n",
    "scale_pos_weight # This is the class imbalance ratio for use as XGBoost param"
   ]
  },
  {
   "cell_type": "code",
   "execution_count": 22,
   "id": "ef013e33",
   "metadata": {},
   "outputs": [],
   "source": [
    "##Param grids (AI generated & tweaked - reduced for faster runtime)\n",
    "param_grids = {\n",
    "    \"DecisionTree\": {\n",
    "        \"max_depth\": [None, 6, 10],\n",
    "        \"min_samples_split\": [2, 5, 10],\n",
    "        \"min_samples_leaf\": [1, 2, 4],\n",
    "        \"max_features\": [None, \"sqrt\", \"log2\"],\n",
    "        # class_weight is already set on the model\n",
    "    },\n",
    "\n",
    "    \"RandomForest\": {\n",
    "        \"n_estimators\": [200, 400],\n",
    "        \"max_depth\": [None, 8, 12],\n",
    "        \"min_samples_split\": [2, 5],\n",
    "        \"min_samples_leaf\": [1, 2],\n",
    "        \"max_features\": [\"sqrt\", \"log2\", 0.7],\n",
    "        # class_weight balanced_subsample already set\n",
    "        \"bootstrap\": [True],\n",
    "    },\n",
    "\n",
    "    \"ExtraTrees\": {\n",
    "        \"n_estimators\": [200, 400],\n",
    "        \"max_depth\": [None, 8, 12],\n",
    "        \"min_samples_split\": [2, 5],\n",
    "        \"min_samples_leaf\": [1, 2],\n",
    "        \"max_features\": [\"sqrt\", \"log2\", 0.7],\n",
    "        # class_weight balanced_subsample already set\n",
    "        \"bootstrap\": [False],  # ExtraTrees default\n",
    "    },\n",
    "\n",
    "    \"XGBoost\": {\n",
    "        \"n_estimators\": [300, 500],\n",
    "        \"learning_rate\": [0.05, 0.1],\n",
    "        \"max_depth\": [3, 5],\n",
    "        \"subsample\": [0.8, 1.0],\n",
    "        \"colsample_bytree\": [0.8, 1.0],\n",
    "        \"min_child_weight\": [1, 3],\n",
    "        # handle imbalance; test both baseline and weighted\n",
    "        \"scale_pos_weight\": [1.0, scale_pos_weight],\n",
    "        # eval_metric/logloss and use_label_encoder=False are already on the model\n",
    "    },\n",
    "}\n"
   ]
  },
  {
   "cell_type": "markdown",
   "id": "231c0128",
   "metadata": {},
   "source": [
    "**Create Training Loop**"
   ]
  },
  {
   "cell_type": "markdown",
   "id": "2cd55e7c",
   "metadata": {},
   "source": [
    "Loops over models and param lists (minimised for initial selection)."
   ]
  },
  {
   "cell_type": "markdown",
   "id": "feff2ebe",
   "metadata": {},
   "source": [
    "So as not to repeat code have created notes on each run(below) and changes made (e.g. scorer) - TODO create functions!"
   ]
  },
  {
   "cell_type": "code",
   "execution_count": 51,
   "id": "7f6ac42c",
   "metadata": {},
   "outputs": [
    {
     "data": {
      "text/html": [
       "<div>\n",
       "<style scoped>\n",
       "    .dataframe tbody tr th:only-of-type {\n",
       "        vertical-align: middle;\n",
       "    }\n",
       "\n",
       "    .dataframe tbody tr th {\n",
       "        vertical-align: top;\n",
       "    }\n",
       "\n",
       "    .dataframe thead th {\n",
       "        text-align: right;\n",
       "    }\n",
       "</style>\n",
       "<table border=\"1\" class=\"dataframe\">\n",
       "  <thead>\n",
       "    <tr style=\"text-align: right;\">\n",
       "      <th></th>\n",
       "      <th>Model</th>\n",
       "      <th>BestParams</th>\n",
       "      <th>CV Best Score (AUC)</th>\n",
       "      <th>Train AUC</th>\n",
       "      <th>Test AUC</th>\n",
       "      <th>Overfit Gap</th>\n",
       "    </tr>\n",
       "  </thead>\n",
       "  <tbody>\n",
       "    <tr>\n",
       "      <th>1</th>\n",
       "      <td>RandomForest</td>\n",
       "      <td>{'bootstrap': True, 'max_depth': 8, 'max_featu...</td>\n",
       "      <td>0.409286</td>\n",
       "      <td>0.986258</td>\n",
       "      <td>0.725792</td>\n",
       "      <td>0.260466</td>\n",
       "    </tr>\n",
       "    <tr>\n",
       "      <th>2</th>\n",
       "      <td>ExtraTrees</td>\n",
       "      <td>{'bootstrap': False, 'max_depth': 8, 'max_feat...</td>\n",
       "      <td>0.550714</td>\n",
       "      <td>0.963655</td>\n",
       "      <td>0.719155</td>\n",
       "      <td>0.244500</td>\n",
       "    </tr>\n",
       "    <tr>\n",
       "      <th>3</th>\n",
       "      <td>XGBoost</td>\n",
       "      <td>{'colsample_bytree': 1.0, 'learning_rate': 0.0...</td>\n",
       "      <td>0.601429</td>\n",
       "      <td>0.968354</td>\n",
       "      <td>0.693615</td>\n",
       "      <td>0.274739</td>\n",
       "    </tr>\n",
       "    <tr>\n",
       "      <th>0</th>\n",
       "      <td>DecisionTree</td>\n",
       "      <td>{'max_depth': None, 'max_features': 'sqrt', 'm...</td>\n",
       "      <td>0.606224</td>\n",
       "      <td>0.952795</td>\n",
       "      <td>0.620613</td>\n",
       "      <td>0.332181</td>\n",
       "    </tr>\n",
       "  </tbody>\n",
       "</table>\n",
       "</div>"
      ],
      "text/plain": [
       "          Model                                         BestParams  \\\n",
       "1  RandomForest  {'bootstrap': True, 'max_depth': 8, 'max_featu...   \n",
       "2    ExtraTrees  {'bootstrap': False, 'max_depth': 8, 'max_feat...   \n",
       "3       XGBoost  {'colsample_bytree': 1.0, 'learning_rate': 0.0...   \n",
       "0  DecisionTree  {'max_depth': None, 'max_features': 'sqrt', 'm...   \n",
       "\n",
       "   CV Best Score (AUC)  Train AUC  Test AUC  Overfit Gap  \n",
       "1             0.409286   0.986258  0.725792     0.260466  \n",
       "2             0.550714   0.963655  0.719155     0.244500  \n",
       "3             0.601429   0.968354  0.693615     0.274739  \n",
       "0             0.606224   0.952795  0.620613     0.332181  "
      ]
     },
     "execution_count": 51,
     "metadata": {},
     "output_type": "execute_result"
    }
   ],
   "source": [
    "# Create training loop for GridSearchCV\n",
    "from sklearn.model_selection import GridSearchCV, StratifiedKFold\n",
    "from sklearn.metrics import roc_auc_score\n",
    "# Define cross-validation strategy and scoring metric\n",
    "cv = StratifiedKFold(n_splits=4, shuffle=True, random_state=42)\n",
    "##scorer run 1 = \"roc_auc\", run 2 = \"f1\", run 3 = \"recall\"\n",
    "scorer = \"recall\"\n",
    "#create empty lists to store results\n",
    "search_results = []\n",
    "best_models = {}\n",
    "# Loop over models and param grids\n",
    "for name, model in models.items():\n",
    "    grid = GridSearchCV(\n",
    "        estimator=model,\n",
    "        param_grid=param_grids[name],\n",
    "        scoring=scorer,\n",
    "        cv=cv,\n",
    "        n_jobs=-1,            # parallelize CV\n",
    "        refit=True,\n",
    "        verbose=0\n",
    "    )\n",
    "    # fit the model\n",
    "    grid.fit(X_train, y_train)\n",
    "\n",
    "    # Evaluate on train/test (probabilities → AUC)\n",
    "    yhat_train = grid.predict_proba(X_train)[:, 1] if hasattr(grid.best_estimator_, \"predict_proba\") \\\n",
    "                 else grid.decision_function(X_train)\n",
    "    yhat_test  = grid.predict_proba(X_test)[:, 1]  if hasattr(grid.best_estimator_, \"predict_proba\") \\\n",
    "                 else grid.decision_function(X_test)\n",
    "\n",
    "    train_auc = roc_auc_score(y_train, yhat_train)\n",
    "    test_auc  = roc_auc_score(y_test,  yhat_test)\n",
    "    # Store results\n",
    "    search_results.append({\n",
    "        \"Model\": name,\n",
    "        \"BestParams\": grid.best_params_,\n",
    "        \"CV Best Score (AUC)\": grid.best_score_,\n",
    "        \"Train AUC\": train_auc,\n",
    "        \"Test AUC\": test_auc,\n",
    "        \"Overfit Gap\": train_auc - test_auc\n",
    "    })\n",
    "    best_models[name] = grid.best_estimator_\n",
    "# Create results DataFrame\n",
    "results_df = pd.DataFrame(search_results).sort_values(by=\"Test AUC\", ascending=False)\n",
    "results_df\n"
   ]
  },
  {
   "cell_type": "code",
   "execution_count": 70,
   "id": "194ae017",
   "metadata": {},
   "outputs": [],
   "source": [
    "##Store results for each run - comment out after runs so not to overwrite\n",
    "#Run1\n",
    "#results_df.to_csv('Reports/modelling_results_run1.csv')\n",
    "#Run2\n",
    "#results_df.to_csv('Reports/modelling_results_run2.csv')\n",
    "#Run3\n",
    "#results_df.to_csv('Reports/modelling_results_run3.csv')"
   ]
  },
  {
   "cell_type": "markdown",
   "id": "ee855679",
   "metadata": {},
   "source": [
    "**Display Best Models**"
   ]
  },
  {
   "cell_type": "code",
   "execution_count": 53,
   "id": "0c84d0be",
   "metadata": {},
   "outputs": [
    {
     "data": {
      "text/plain": [
       "('RandomForest',\n",
       " RandomForestClassifier(class_weight='balanced_subsample', max_depth=8,\n",
       "                        min_samples_leaf=2, min_samples_split=5,\n",
       "                        n_estimators=200, n_jobs=-1, random_state=42))"
      ]
     },
     "execution_count": 53,
     "metadata": {},
     "output_type": "execute_result"
    }
   ],
   "source": [
    "#show best model details (top 1)\n",
    "best_model_name = results_df.iloc[0][\"Model\"]\n",
    "best_model = best_models[best_model_name]\n",
    "best_model_name, best_model"
   ]
  },
  {
   "cell_type": "code",
   "execution_count": 54,
   "id": "9fa9ee9f",
   "metadata": {},
   "outputs": [
    {
     "data": {
      "text/plain": [
       "('ExtraTrees',\n",
       " ExtraTreesClassifier(class_weight='balanced_subsample', max_depth=8,\n",
       "                      min_samples_leaf=2, n_estimators=400, n_jobs=-1,\n",
       "                      random_state=42))"
      ]
     },
     "execution_count": 54,
     "metadata": {},
     "output_type": "execute_result"
    }
   ],
   "source": [
    "#Show second best model details\n",
    "second_best_model_name = results_df.iloc[1][\"Model\"]\n",
    "second_best_model = best_models[second_best_model_name]\n",
    "second_best_model_name, second_best_model"
   ]
  },
  {
   "cell_type": "markdown",
   "id": "0256aa9f",
   "metadata": {},
   "source": [
    "**Check Overfitting**"
   ]
  },
  {
   "cell_type": "code",
   "execution_count": 55,
   "id": "38700d4d",
   "metadata": {},
   "outputs": [
    {
     "data": {
      "image/png": "[encoded data removed]",
      "text/plain": [
       "<Figure size 640x480 with 1 Axes>"
      ]
     },
     "metadata": {},
     "output_type": "display_data"
    }
   ],
   "source": [
    "sns.barplot(data=results_df, x=\"Model\", y=\"Overfit Gap\")\n",
    "plt.title(\"Overfitting Gap (Train AUC - Test AUC)\")\n",
    "plt.axhline(0, color=\"black\", linestyle=\"--\")\n",
    "plt.ylabel(\"AUC Difference\")\n",
    "plt.show()\n"
   ]
  },
  {
   "cell_type": "markdown",
   "id": "15454798",
   "metadata": {},
   "source": [
    "**Check Accuracy Train vs Test**"
   ]
  },
  {
   "cell_type": "code",
   "execution_count": 56,
   "id": "2d2dae47",
   "metadata": {},
   "outputs": [
    {
     "data": {
      "image/png": "[encoded data removed]",
      "text/plain": [
       "<Figure size 640x480 with 1 Axes>"
      ]
     },
     "metadata": {},
     "output_type": "display_data"
    }
   ],
   "source": [
    "plot_df = results_df.melt(\n",
    "    id_vars=[\"Model\"],\n",
    "    value_vars=[\"Train AUC\", \"Test AUC\"],\n",
    "    var_name=\"Split\",\n",
    "    value_name=\"AUC\"\n",
    ")\n",
    "\n",
    "sns.barplot(data=plot_df, x=\"Model\", y=\"AUC\", hue=\"Split\")\n",
    "plt.title(\"Train vs Test ROC AUC\")\n",
    "plt.ylim(0.5, 1.0)\n",
    "plt.show()"
   ]
  },
  {
   "cell_type": "markdown",
   "id": "260115ae",
   "metadata": {},
   "source": [
    "**Show Confusion Matrix for each model**"
   ]
  },
  {
   "cell_type": "code",
   "execution_count": 57,
   "id": "85d3bc25",
   "metadata": {},
   "outputs": [
    {
     "name": "stdout",
     "output_type": "stream",
     "text": [
      "\n",
      "=== DecisionTree ===\n"
     ]
    },
    {
     "data": {
      "image/png": "[encoded data removed]",
      "text/plain": [
       "<Figure size 640x480 with 2 Axes>"
      ]
     },
     "metadata": {},
     "output_type": "display_data"
    },
    {
     "name": "stdout",
     "output_type": "stream",
     "text": [
      "              precision    recall  f1-score   support\n",
      "\n",
      "      Stayed       0.90      0.78      0.84       255\n",
      "        Left       0.23      0.41      0.29        39\n",
      "\n",
      "    accuracy                           0.73       294\n",
      "   macro avg       0.56      0.60      0.56       294\n",
      "weighted avg       0.81      0.73      0.76       294\n",
      "\n",
      "\n",
      "=== RandomForest ===\n"
     ]
    },
    {
     "data": {
      "image/png": "[encoded data removed]",
      "text/plain": [
       "<Figure size 640x480 with 2 Axes>"
      ]
     },
     "metadata": {},
     "output_type": "display_data"
    },
    {
     "name": "stdout",
     "output_type": "stream",
     "text": [
      "              precision    recall  f1-score   support\n",
      "\n",
      "      Stayed       0.89      0.93      0.91       255\n",
      "        Left       0.34      0.26      0.29        39\n",
      "\n",
      "    accuracy                           0.84       294\n",
      "   macro avg       0.62      0.59      0.60       294\n",
      "weighted avg       0.82      0.84      0.83       294\n",
      "\n",
      "\n",
      "=== ExtraTrees ===\n"
     ]
    },
    {
     "data": {
      "image/png": "[encoded data removed]",
      "text/plain": [
       "<Figure size 640x480 with 2 Axes>"
      ]
     },
     "metadata": {},
     "output_type": "display_data"
    },
    {
     "name": "stdout",
     "output_type": "stream",
     "text": [
      "              precision    recall  f1-score   support\n",
      "\n",
      "      Stayed       0.90      0.87      0.89       255\n",
      "        Left       0.30      0.36      0.33        39\n",
      "\n",
      "    accuracy                           0.81       294\n",
      "   macro avg       0.60      0.62      0.61       294\n",
      "weighted avg       0.82      0.81      0.81       294\n",
      "\n",
      "\n",
      "=== XGBoost ===\n"
     ]
    },
    {
     "data": {
      "image/png": "[encoded data removed]",
      "text/plain": [
       "<Figure size 640x480 with 2 Axes>"
      ]
     },
     "metadata": {},
     "output_type": "display_data"
    },
    {
     "name": "stdout",
     "output_type": "stream",
     "text": [
      "              precision    recall  f1-score   support\n",
      "\n",
      "      Stayed       0.91      0.84      0.88       255\n",
      "        Left       0.32      0.49      0.38        39\n",
      "\n",
      "    accuracy                           0.79       294\n",
      "   macro avg       0.62      0.66      0.63       294\n",
      "weighted avg       0.84      0.79      0.81       294\n",
      "\n"
     ]
    }
   ],
   "source": [
    "##Show Confusion Matrix for each model\n",
    "from sklearn.metrics import (\n",
    "    confusion_matrix,\n",
    "    ConfusionMatrixDisplay,\n",
    "    classification_report\n",
    ")\n",
    "import matplotlib.pyplot as plt\n",
    "\n",
    "# You can loop through top models or just one (e.g., the best one)\n",
    "for name, model in best_models.items():\n",
    "    print(f\"\\n=== {name} ===\")\n",
    "    y_pred = model.predict(X_test)\n",
    "    \n",
    "    # Confusion Matrix\n",
    "    cm = confusion_matrix(y_test, y_pred)\n",
    "    disp = ConfusionMatrixDisplay(cm, display_labels=[\"Stayed (0)\", \"Left (1)\"])\n",
    "    disp.plot(cmap=\"Blues\", values_format='d')\n",
    "    plt.title(f\"Confusion Matrix: {name}\")\n",
    "    plt.show()\n",
    "    \n",
    "    # Classification report\n",
    "    print(classification_report(y_test, y_pred, target_names=[\"Stayed\", \"Left\"]))\n"
   ]
  },
  {
   "cell_type": "markdown",
   "id": "df818253",
   "metadata": {},
   "source": [
    "### Notes on Runs\n",
    "\n",
    "*Class values will be overwritten if run again - change scorer= in train loop to recreate*"
   ]
  },
  {
   "cell_type": "markdown",
   "id": "26dda802",
   "metadata": {},
   "source": [
    "#### Run 1 \n",
    "Used \"roc-auc\" as scoring method - results saved to Reports/modelling_results_run1.csv\n",
    "* Decision Tree & Random Forest selected under best models\n",
    "* Both had far worse recall though than either XGBoost & Extra Trees \n",
    "* XGBoost had lowest value for overfit"
   ]
  },
  {
   "cell_type": "code",
   "execution_count": 39,
   "id": "f0052b59",
   "metadata": {},
   "outputs": [
    {
     "name": "stdout",
     "output_type": "stream",
     "text": [
      "              precision    recall  f1-score   support\n",
      "\n",
      "      Stayed       0.91      0.84      0.87       255\n",
      "        Left       0.30      0.46      0.36        39\n",
      "\n",
      "    accuracy                           0.79       294\n",
      "   macro avg       0.61      0.65      0.62       294\n",
      "weighted avg       0.83      0.79      0.80       294\n",
      "\n"
     ]
    }
   ],
   "source": [
    "#Detailed classification report for best model Run 1 - load modelling_results_run1.csv to run again\n",
    "class1 = classification_report(y_test, y_pred, target_names=[\"Stayed\", \"Left\"])\n",
    "print(class1)"
   ]
  },
  {
   "cell_type": "markdown",
   "id": "666a71f2",
   "metadata": {},
   "source": [
    "#### Run 2\n",
    "Used \"F1\" as scoring method - results saved to Reports/modelling_results_run3.csv\n",
    "* Random Forest & Extra Trees selected under best models again (despinte RandomForest having quite low recall again)\n",
    "* XGBoost had the best recall & again Decision tree second.\n",
    "* Decision Tree had the worst value for overfit, with the rest equal."
   ]
  },
  {
   "cell_type": "code",
   "execution_count": 48,
   "id": "6d041aef",
   "metadata": {},
   "outputs": [
    {
     "name": "stdout",
     "output_type": "stream",
     "text": [
      "              precision    recall  f1-score   support\n",
      "\n",
      "      Stayed       0.92      0.84      0.87       255\n",
      "        Left       0.32      0.51      0.40        39\n",
      "\n",
      "    accuracy                           0.79       294\n",
      "   macro avg       0.62      0.67      0.64       294\n",
      "weighted avg       0.84      0.79      0.81       294\n",
      "\n"
     ]
    }
   ],
   "source": [
    "#Detailed classification report for best model Run 2 - load modelling_results_run1.csv to run again\n",
    "class2 = classification_report(y_test, y_pred, target_names=[\"Stayed\", \"Left\"])\n",
    "print(class2)"
   ]
  },
  {
   "cell_type": "markdown",
   "id": "2c1f9e31",
   "metadata": {},
   "source": [
    "#### Run 3\n",
    "Used \"recall\" as scoring method - results saved to Reports/modelling_results_run2.csv\n",
    "* Random Forest & Extra Trees selected under best models\n",
    "* XGBoost had easily the best recall, with Decision tree second\n",
    "* Decision Tree had the worst value for overfit with XGBoost second worst."
   ]
  },
  {
   "cell_type": "code",
   "execution_count": 58,
   "id": "418330ea",
   "metadata": {},
   "outputs": [
    {
     "name": "stdout",
     "output_type": "stream",
     "text": [
      "              precision    recall  f1-score   support\n",
      "\n",
      "      Stayed       0.91      0.84      0.88       255\n",
      "        Left       0.32      0.49      0.38        39\n",
      "\n",
      "    accuracy                           0.79       294\n",
      "   macro avg       0.62      0.66      0.63       294\n",
      "weighted avg       0.84      0.79      0.81       294\n",
      "\n"
     ]
    }
   ],
   "source": [
    "#Detailed classification report for best model Run 3 - load modelling_results_run1.csv to run again\n",
    "class3 = classification_report(y_test, y_pred, target_names=[\"Stayed\", \"Left\"])\n",
    "print(class3)"
   ]
  },
  {
   "cell_type": "markdown",
   "id": "b919f1f7",
   "metadata": {},
   "source": [
    "### **Select Models for final runs**"
   ]
  },
  {
   "cell_type": "markdown",
   "id": "f723c96d",
   "metadata": {},
   "source": [
    "Random Forest was consistantly in the best 2 models for all runs, whiles XGBoost was equally consistant for recall (i.e. accurately predicting leavers) across all runs, despite never being ranked in top 2 models.\n",
    "For these reason I have selected these two models for further training:\n",
    "* RandomForest\n",
    "* XGBoost\n"
   ]
  },
  {
   "cell_type": "markdown",
   "id": "aaeddb29",
   "metadata": {},
   "source": [
    "**Create dictionary of models**"
   ]
  },
  {
   "cell_type": "markdown",
   "id": "930e5f27",
   "metadata": {},
   "source": [
    "To help XGBoost train we need to help it calculate the class inbalance for our target value (it has not got class weight parameter)"
   ]
  },
  {
   "cell_type": "code",
   "execution_count": 61,
   "id": "19c9c91d",
   "metadata": {},
   "outputs": [],
   "source": [
    "#Calculate scale_pos_weight for XGBoost\n",
    "from collections import Counter\n",
    "ctr = Counter(y_train)\n",
    "scale_pos_weight = ctr[0] / ctr[1]  # neg/pos"
   ]
  },
  {
   "cell_type": "code",
   "execution_count": 62,
   "id": "924485b0",
   "metadata": {},
   "outputs": [],
   "source": [
    "#models selected for final runs\n",
    "models = {\n",
    "    \"RandomForest\": RandomForestClassifier(\n",
    "        n_estimators=400, random_state=42, n_jobs=-1, class_weight=\"balanced_subsample\"\n",
    "    ),\n",
    "    \"XGBoost\": XGBClassifier(\n",
    "        n_estimators=400,\n",
    "        random_state=42,\n",
    "        n_jobs=-1,\n",
    "        eval_metric=\"logloss\",\n",
    "        use_label_encoder=False,\n",
    "        tree_method=\"hist\",              # fast\n",
    "        scale_pos_weight=scale_pos_weight  # handle imbalance\n",
    "    )\n",
    "}"
   ]
  },
  {
   "cell_type": "markdown",
   "id": "fe84f887",
   "metadata": {},
   "source": [
    "Next we created an extended, but still limited hyperparameter list."
   ]
  },
  {
   "cell_type": "code",
   "execution_count": 63,
   "id": "830abe3b",
   "metadata": {},
   "outputs": [],
   "source": [
    "##AI (chatGPT) generated hyperparameter grids - intermediate\n",
    "param_grids = {\n",
    "    \"RandomForest\": {\n",
    "        \"max_depth\": [None, 10, 16],\n",
    "        \"min_samples_leaf\": [1, 3],\n",
    "        \"min_samples_split\": [2, 6],\n",
    "        \"max_features\": [\"sqrt\", 0.6],\n",
    "        \"bootstrap\": [True],\n",
    "        \"ccp_alpha\": [0.0, 0.001],\n",
    "    },\n",
    "    \"XGBoost\": {\n",
    "        \"n_estimators\": [400, 600],\n",
    "        \"learning_rate\": [0.07, 0.10],\n",
    "        \"max_depth\": [3, 5],\n",
    "        \"min_child_weight\": [1, 3],\n",
    "        \"subsample\": [0.9],\n",
    "        \"colsample_bytree\": [0.8, 1.0],\n",
    "        \"scale_pos_weight\": [1.0, scale_pos_weight],\n",
    "        # keep eval_metric='logloss' set on the model\n",
    "    }\n",
    "}"
   ]
  },
  {
   "cell_type": "markdown",
   "id": "912a8354",
   "metadata": {},
   "source": [
    "**Training loop** Adjusted to balance score weighting between recall & other metrics"
   ]
  },
  {
   "cell_type": "code",
   "execution_count": null,
   "id": "32f90975",
   "metadata": {},
   "outputs": [
    {
     "data": {
      "text/html": [
       "<div>\n",
       "<style scoped>\n",
       "    .dataframe tbody tr th:only-of-type {\n",
       "        vertical-align: middle;\n",
       "    }\n",
       "\n",
       "    .dataframe tbody tr th {\n",
       "        vertical-align: top;\n",
       "    }\n",
       "\n",
       "    .dataframe thead th {\n",
       "        text-align: right;\n",
       "    }\n",
       "</style>\n",
       "<table border=\"1\" class=\"dataframe\">\n",
       "  <thead>\n",
       "    <tr style=\"text-align: right;\">\n",
       "      <th></th>\n",
       "      <th>1</th>\n",
       "      <th>0</th>\n",
       "    </tr>\n",
       "  </thead>\n",
       "  <tbody>\n",
       "    <tr>\n",
       "      <th>Model</th>\n",
       "      <td>XGBoost</td>\n",
       "      <td>RandomForest</td>\n",
       "    </tr>\n",
       "    <tr>\n",
       "      <th>Scorer</th>\n",
       "      <td>F2</td>\n",
       "      <td>F2</td>\n",
       "    </tr>\n",
       "    <tr>\n",
       "      <th>BestParams</th>\n",
       "      <td>{'colsample_bytree': 0.8, 'learning_rate': 0.0...</td>\n",
       "      <td>{'bootstrap': True, 'ccp_alpha': 0.001, 'max_d...</td>\n",
       "    </tr>\n",
       "    <tr>\n",
       "      <th>CV Best Score</th>\n",
       "      <td>0.508389</td>\n",
       "      <td>0.450896</td>\n",
       "    </tr>\n",
       "    <tr>\n",
       "      <th>Train AUC</th>\n",
       "      <td>0.992156</td>\n",
       "      <td>0.990834</td>\n",
       "    </tr>\n",
       "    <tr>\n",
       "      <th>Test AUC</th>\n",
       "      <td>0.69995</td>\n",
       "      <td>0.71815</td>\n",
       "    </tr>\n",
       "    <tr>\n",
       "      <th>Train AP</th>\n",
       "      <td>0.952911</td>\n",
       "      <td>0.948013</td>\n",
       "    </tr>\n",
       "    <tr>\n",
       "      <th>Test AP</th>\n",
       "      <td>0.328698</td>\n",
       "      <td>0.306157</td>\n",
       "    </tr>\n",
       "    <tr>\n",
       "      <th>Train Recall</th>\n",
       "      <td>0.984848</td>\n",
       "      <td>0.974747</td>\n",
       "    </tr>\n",
       "    <tr>\n",
       "      <th>Test Recall</th>\n",
       "      <td>0.487179</td>\n",
       "      <td>0.230769</td>\n",
       "    </tr>\n",
       "    <tr>\n",
       "      <th>Train Precision</th>\n",
       "      <td>0.761719</td>\n",
       "      <td>0.857778</td>\n",
       "    </tr>\n",
       "    <tr>\n",
       "      <th>Test Precision</th>\n",
       "      <td>0.339286</td>\n",
       "      <td>0.321429</td>\n",
       "    </tr>\n",
       "    <tr>\n",
       "      <th>Train F1</th>\n",
       "      <td>0.859031</td>\n",
       "      <td>0.91253</td>\n",
       "    </tr>\n",
       "    <tr>\n",
       "      <th>Test F1</th>\n",
       "      <td>0.4</td>\n",
       "      <td>0.268657</td>\n",
       "    </tr>\n",
       "    <tr>\n",
       "      <th>Train Balanced Acc</th>\n",
       "      <td>0.961238</td>\n",
       "      <td>0.971014</td>\n",
       "    </tr>\n",
       "    <tr>\n",
       "      <th>Test Balanced Acc</th>\n",
       "      <td>0.671041</td>\n",
       "      <td>0.57813</td>\n",
       "    </tr>\n",
       "    <tr>\n",
       "      <th>Overfit Gap (AUC)</th>\n",
       "      <td>0.292206</td>\n",
       "      <td>0.272684</td>\n",
       "    </tr>\n",
       "  </tbody>\n",
       "</table>\n",
       "</div>"
      ],
      "text/plain": [
       "                                                                    1  \\\n",
       "Model                                                         XGBoost   \n",
       "Scorer                                                             F2   \n",
       "BestParams          {'colsample_bytree': 0.8, 'learning_rate': 0.0...   \n",
       "CV Best Score                                                0.508389   \n",
       "Train AUC                                                    0.992156   \n",
       "Test AUC                                                      0.69995   \n",
       "Train AP                                                     0.952911   \n",
       "Test AP                                                      0.328698   \n",
       "Train Recall                                                 0.984848   \n",
       "Test Recall                                                  0.487179   \n",
       "Train Precision                                              0.761719   \n",
       "Test Precision                                               0.339286   \n",
       "Train F1                                                     0.859031   \n",
       "Test F1                                                           0.4   \n",
       "Train Balanced Acc                                           0.961238   \n",
       "Test Balanced Acc                                            0.671041   \n",
       "Overfit Gap (AUC)                                            0.292206   \n",
       "\n",
       "                                                                    0  \n",
       "Model                                                    RandomForest  \n",
       "Scorer                                                             F2  \n",
       "BestParams          {'bootstrap': True, 'ccp_alpha': 0.001, 'max_d...  \n",
       "CV Best Score                                                0.450896  \n",
       "Train AUC                                                    0.990834  \n",
       "Test AUC                                                      0.71815  \n",
       "Train AP                                                     0.948013  \n",
       "Test AP                                                      0.306157  \n",
       "Train Recall                                                 0.974747  \n",
       "Test Recall                                                  0.230769  \n",
       "Train Precision                                              0.857778  \n",
       "Test Precision                                               0.321429  \n",
       "Train F1                                                      0.91253  \n",
       "Test F1                                                      0.268657  \n",
       "Train Balanced Acc                                           0.971014  \n",
       "Test Balanced Acc                                             0.57813  \n",
       "Overfit Gap (AUC)                                            0.272684  "
      ]
     },
     "execution_count": 65,
     "metadata": {},
     "output_type": "execute_result"
    }
   ],
   "source": [
    "# Create adjusted training loop for GridSearchCV with different scorers\n",
    "from sklearn.metrics import (\n",
    "     f1_score, recall_score, precision_score,\n",
    "    balanced_accuracy_score, average_precision_score, make_scorer, fbeta_score\n",
    ")\n",
    "\n",
    "##Most code AI generated - adjusted for different scorers\n",
    "# --- CV setup ---\n",
    "cv = StratifiedKFold(n_splits=5, n_repeats=2, random_state=42)\n",
    "\n",
    "# --- Choose your scorer ---\n",
    "# Option A: use weighted F1 (accounts for class imbalance)\n",
    "# scorer_name = \"f1_weighted\"; scorer = scorer_name\n",
    "\n",
    "# Option B: use F2 (recall-weighted; ~2x emphasis on recall)\n",
    "scorer_name = \"F2\"\n",
    "scorer = make_scorer(fbeta_score, beta=2)\n",
    "\n",
    "# (You can also set: scorer_name=\"recall\"; scorer=\"recall\", or scorer_name=\"f1\"; scorer=\"f1\")\n",
    "\n",
    "search_results = []\n",
    "best_models = {}\n",
    "\n",
    "for name, model in models.items():\n",
    "    grid = GridSearchCV(\n",
    "        estimator=model,\n",
    "        param_grid=param_grids[name],\n",
    "        scoring=scorer,\n",
    "        cv=cv,\n",
    "        n_jobs=-1,\n",
    "        refit=True,\n",
    "        verbose=0\n",
    "    )\n",
    "    grid.fit(X_train, y_train)\n",
    "    best_models[name] = grid.best_estimator_\n",
    "\n",
    "    # --- Probabilities / scores ---\n",
    "    # for AUC/AP we use continuous scores; for class metrics we binarize at 0.5 (or 0 for decision_function)\n",
    "    if hasattr(grid.best_estimator_, \"predict_proba\"):\n",
    "        yscore_train = grid.predict_proba(X_train)[:, 1]\n",
    "        yscore_test  = grid.predict_proba(X_test)[:, 1]\n",
    "        ypred_train  = (yscore_train >= 0.5).astype(int)\n",
    "        ypred_test   = (yscore_test  >= 0.5).astype(int)\n",
    "    elif hasattr(grid.best_estimator_, \"decision_function\"):\n",
    "        yscore_train = grid.decision_function(X_train)\n",
    "        yscore_test  = grid.decision_function(X_test)\n",
    "        ypred_train  = (yscore_train >= 0.0).astype(int)\n",
    "        ypred_test   = (yscore_test  >= 0.0).astype(int)\n",
    "    else:\n",
    "        # fall back: no scores available, use labels (limits AUC/AP)\n",
    "        ypred_train = grid.predict(X_train)\n",
    "        ypred_test  = grid.predict(X_test)\n",
    "        yscore_train = ypred_train\n",
    "        yscore_test  = ypred_test\n",
    "\n",
    "    # --- Metrics (Train/Test) ---\n",
    "    # Prob-based metrics\n",
    "    try:\n",
    "        train_auc = roc_auc_score(y_train, yscore_train)\n",
    "        test_auc  = roc_auc_score(y_test,  yscore_test)\n",
    "    except Exception:\n",
    "        train_auc = np.nan\n",
    "        test_auc  = np.nan\n",
    "\n",
    "    try:\n",
    "        train_ap = average_precision_score(y_train, yscore_train)\n",
    "        test_ap  = average_precision_score(y_test,  yscore_test)\n",
    "    except Exception:\n",
    "        train_ap = np.nan\n",
    "        test_ap  = np.nan\n",
    "\n",
    "    # Label-based metrics\n",
    "    train_recall   = recall_score(y_train, ypred_train)\n",
    "    test_recall    = recall_score(y_test,  ypred_test)\n",
    "    train_prec     = precision_score(y_train, ypred_train, zero_division=0)\n",
    "    test_prec      = precision_score(y_test,  ypred_test,  zero_division=0)\n",
    "    train_f1       = f1_score(y_train, ypred_train)\n",
    "    test_f1        = f1_score(y_test,  ypred_test)\n",
    "    train_bal_acc  = balanced_accuracy_score(y_train, ypred_train)\n",
    "    test_bal_acc   = balanced_accuracy_score(y_test,  ypred_test)\n",
    "    # Store results\n",
    "    search_results.append({\n",
    "        \"Model\": name,\n",
    "        \"Scorer\": scorer_name,\n",
    "        \"BestParams\": grid.best_params_,\n",
    "        \"CV Best Score\": grid.best_score_,       # in units of the chosen scorer\n",
    "        \"Train AUC\": train_auc,\n",
    "        \"Test AUC\": test_auc,\n",
    "        \"Train AP\": train_ap,\n",
    "        \"Test AP\": test_ap,\n",
    "        \"Train Recall\": train_recall,\n",
    "        \"Test Recall\": test_recall,\n",
    "        \"Train Precision\": train_prec,\n",
    "        \"Test Precision\": test_prec,\n",
    "        \"Train F1\": train_f1,\n",
    "        \"Test F1\": test_f1,\n",
    "        \"Train Balanced Acc\": train_bal_acc,\n",
    "        \"Test Balanced Acc\": test_bal_acc,\n",
    "        \"Overfit Gap (AUC)\": (train_auc - test_auc) if np.isfinite(train_auc) and np.isfinite(test_auc) else np.nan\n",
    "    })\n",
    "\n",
    "results_df = pd.DataFrame(search_results).sort_values(by=[\"Test Recall\",\"Test F1\",\"Test AUC\"], ascending=False)\n",
    "results_df.T\n"
   ]
  },
  {
   "cell_type": "markdown",
   "id": "a343f729",
   "metadata": {},
   "source": [
    "Check & store best models"
   ]
  },
  {
   "cell_type": "code",
   "execution_count": 66,
   "id": "df3f6a45",
   "metadata": {},
   "outputs": [
    {
     "data": {
      "text/plain": [
       "('XGBoost',\n",
       " XGBClassifier(base_score=None, booster=None, callbacks=None,\n",
       "               colsample_bylevel=None, colsample_bynode=None,\n",
       "               colsample_bytree=0.8, early_stopping_rounds=None,\n",
       "               enable_categorical=False, eval_metric='logloss',\n",
       "               feature_types=None, gamma=None, gpu_id=None, grow_policy=None,\n",
       "               importance_type=None, interaction_constraints=None,\n",
       "               learning_rate=0.07, max_bin=None, max_cat_threshold=None,\n",
       "               max_cat_to_onehot=None, max_delta_step=None, max_depth=3,\n",
       "               max_leaves=None, min_child_weight=1, missing=nan,\n",
       "               monotone_constraints=None, n_estimators=400, n_jobs=-1,\n",
       "               num_parallel_tree=None, predictor=None, random_state=42, ...))"
      ]
     },
     "execution_count": 66,
     "metadata": {},
     "output_type": "execute_result"
    }
   ],
   "source": [
    "#show best model details (top 1)\n",
    "best_model_name = results_df.iloc[0][\"Model\"]\n",
    "best_model = best_models[best_model_name]\n",
    "best_model_name, best_model"
   ]
  },
  {
   "cell_type": "code",
   "execution_count": 67,
   "id": "3a1dabff",
   "metadata": {},
   "outputs": [
    {
     "data": {
      "text/plain": [
       "('RandomForest',\n",
       " RandomForestClassifier(ccp_alpha=0.001, class_weight='balanced_subsample',\n",
       "                        max_depth=16, min_samples_leaf=3, n_estimators=400,\n",
       "                        n_jobs=-1, random_state=42))"
      ]
     },
     "execution_count": 67,
     "metadata": {},
     "output_type": "execute_result"
    }
   ],
   "source": [
    "#Show second best models details\n",
    "second_best_model_name = results_df.iloc[1][\"Model\"]\n",
    "second_best_model = best_models[second_best_model_name]\n",
    "second_best_model_name, second_best_model"
   ]
  },
  {
   "cell_type": "markdown",
   "id": "972d9381",
   "metadata": {},
   "source": [
    "**Classification Reports**"
   ]
  },
  {
   "cell_type": "code",
   "execution_count": 68,
   "id": "d4516bbd",
   "metadata": {},
   "outputs": [
    {
     "name": "stdout",
     "output_type": "stream",
     "text": [
      "\n",
      "=== RandomForest ===\n"
     ]
    },
    {
     "data": {
      "image/png": "[encoded data removed]",
      "text/plain": [
       "<Figure size 640x480 with 2 Axes>"
      ]
     },
     "metadata": {},
     "output_type": "display_data"
    },
    {
     "name": "stdout",
     "output_type": "stream",
     "text": [
      "              precision    recall  f1-score   support\n",
      "\n",
      "      Stayed       0.89      0.93      0.91       255\n",
      "        Left       0.32      0.23      0.27        39\n",
      "\n",
      "    accuracy                           0.83       294\n",
      "   macro avg       0.60      0.58      0.59       294\n",
      "weighted avg       0.81      0.83      0.82       294\n",
      "\n",
      "\n",
      "=== XGBoost ===\n"
     ]
    },
    {
     "data": {
      "image/png": "[encoded data removed]",
      "text/plain": [
       "<Figure size 640x480 with 2 Axes>"
      ]
     },
     "metadata": {},
     "output_type": "display_data"
    },
    {
     "name": "stdout",
     "output_type": "stream",
     "text": [
      "              precision    recall  f1-score   support\n",
      "\n",
      "      Stayed       0.92      0.85      0.88       255\n",
      "        Left       0.34      0.49      0.40        39\n",
      "\n",
      "    accuracy                           0.81       294\n",
      "   macro avg       0.63      0.67      0.64       294\n",
      "weighted avg       0.84      0.81      0.82       294\n",
      "\n"
     ]
    }
   ],
   "source": [
    "for name, model in best_models.items():\n",
    "    print(f\"\\n=== {name} ===\")\n",
    "    y_pred = model.predict(X_test)\n",
    "    \n",
    "    # Confusion Matrix\n",
    "    cm = confusion_matrix(y_test, y_pred)\n",
    "    disp = ConfusionMatrixDisplay(cm, display_labels=[\"Stayed (0)\", \"Left (1)\"])\n",
    "    disp.plot(cmap=\"Blues\", values_format='d')\n",
    "    plt.title(f\"Confusion Matrix: {name}\")\n",
    "    plt.show()\n",
    "    \n",
    "    # Classification report\n",
    "    print(classification_report(y_test, y_pred, target_names=[\"Stayed\", \"Left\"]))"
   ]
  },
  {
   "cell_type": "markdown",
   "id": "2fc17f0c",
   "metadata": {},
   "source": [
    "Once again XGBoost shows the best recall, though only 49%, while for RandomForest overall metrics are quite good but recall is quite poor. "
   ]
  },
  {
   "cell_type": "markdown",
   "id": "3edff490",
   "metadata": {},
   "source": [
    "**Check Overfitting**"
   ]
  },
  {
   "cell_type": "code",
   "execution_count": 69,
   "id": "47a0ff60",
   "metadata": {},
   "outputs": [
    {
     "data": {
      "image/png": "[encoded data removed]",
      "text/plain": [
       "<Figure size 640x480 with 1 Axes>"
      ]
     },
     "metadata": {},
     "output_type": "display_data"
    }
   ],
   "source": [
    "plot_df = results_df.melt(\n",
    "    id_vars=[\"Model\"],\n",
    "    value_vars=[\"Train AUC\", \"Test AUC\"],\n",
    "    var_name=\"Split\",\n",
    "    value_name=\"AUC\"\n",
    ")\n",
    "\n",
    "sns.barplot(data=plot_df, x=\"Model\", y=\"AUC\", hue=\"Split\")\n",
    "plt.title(\"Train vs Test ROC AUC\")\n",
    "plt.ylim(0.5, 1.0)\n",
    "plt.show()"
   ]
  },
  {
   "cell_type": "markdown",
   "id": "30cdee94",
   "metadata": {},
   "source": [
    "While both models have a tendency to overfit - though slightly less so than earlier runs."
   ]
  },
  {
   "cell_type": "markdown",
   "id": "a245f135",
   "metadata": {},
   "source": [
    "### **Feature Importance**\n",
    "In order to check our results against the project hypotheses we can also look at feature importance for each model."
   ]
  },
  {
   "cell_type": "markdown",
   "id": "83a6c528",
   "metadata": {},
   "source": [
    "**Feature Importance XGBoost**"
   ]
  },
  {
   "cell_type": "code",
   "execution_count": 75,
   "id": "c9599041",
   "metadata": {},
   "outputs": [
    {
     "data": {
      "image/png": "[encoded data removed]",
      "text/plain": [
       "<Figure size 800x600 with 1 Axes>"
      ]
     },
     "metadata": {},
     "output_type": "display_data"
    }
   ],
   "source": [
    "##Feature Importance for best model (XGBoost)\n",
    "\n",
    "# choose your best model (example)\n",
    "model = best_models[\"XGBoost\"]\n",
    "\n",
    "# get feature importances and align with column names from your preprocessor\n",
    "importances = model.feature_importances_\n",
    "feature_names = X_train.columns  # works if X_train is a DataFrame\n",
    "\n",
    "fi_df = pd.DataFrame({\n",
    "    \"Feature\": feature_names,\n",
    "    \"Importance\": importances\n",
    "}).sort_values(by=\"Importance\", ascending=False)\n",
    "\n",
    "plt.figure(figsize=(8,6))\n",
    "sns.barplot(data=fi_df.head(5), y=\"Feature\", x=\"Importance\", palette=\"viridis\")\n",
    "plt.title(\"Top 5 Feature Importances – XGBoost\")\n",
    "plt.xlabel(\"Importance (Gini-based)\")\n",
    "plt.ylabel(\"\")\n",
    "plt.show()"
   ]
  },
  {
   "cell_type": "code",
   "execution_count": null,
   "id": "63b970ee",
   "metadata": {},
   "outputs": [
    {
     "name": "stdout",
     "output_type": "stream",
     "text": [
      "                    Feature  Importance\n",
      "9          OverTime_encoded    0.229498\n",
      "2                  JobLevel    0.189129\n",
      "8      YearsWithCurrManager    0.081132\n",
      "10          JobRole_encoded    0.076800\n",
      "3           JobSatisfaction    0.068055\n",
      "0                       Age    0.064366\n",
      "5        NumCompaniesWorked    0.064140\n",
      "4             MonthlyIncome    0.062316\n",
      "7   YearsSinceLastPromotion    0.057303\n",
      "6           WorkLifeBalance    0.054829\n",
      "1          DistanceFromHome    0.052432\n"
     ]
    }
   ],
   "source": [
    "# Show feature importance all\n",
    "print(fi_df)"
   ]
  },
  {
   "cell_type": "markdown",
   "id": "10547c42",
   "metadata": {},
   "source": [
    "**Feature Importance Random Forest**"
   ]
  },
  {
   "cell_type": "code",
   "execution_count": 76,
   "id": "45887808",
   "metadata": {},
   "outputs": [
    {
     "data": {
      "image/png": "[encoded data removed]",
      "text/plain": [
       "<Figure size 800x600 with 1 Axes>"
      ]
     },
     "metadata": {},
     "output_type": "display_data"
    }
   ],
   "source": [
    "##Feature Importance for 2nd best model (Random Forest)\n",
    "\n",
    "# choose your best model (example)\n",
    "model = best_models[\"RandomForest\"]\n",
    "\n",
    "# get feature importances and align with column names from your preprocessor\n",
    "importances = model.feature_importances_\n",
    "feature_names = X_train.columns  # works if X_train is a DataFrame\n",
    "\n",
    "fi_df = pd.DataFrame({\n",
    "    \"Feature\": feature_names,\n",
    "    \"Importance\": importances\n",
    "}).sort_values(by=\"Importance\", ascending=False)\n",
    "\n",
    "plt.figure(figsize=(8,6))\n",
    "sns.barplot(data=fi_df.head(5), y=\"Feature\", x=\"Importance\", palette=\"viridis\")\n",
    "plt.title(\"Top 5 Feature Importances – Random Forest\")\n",
    "plt.xlabel(\"Importance (Gini-based)\")\n",
    "plt.ylabel(\"\")\n",
    "plt.show()"
   ]
  },
  {
   "cell_type": "code",
   "execution_count": 77,
   "id": "f030d342",
   "metadata": {},
   "outputs": [
    {
     "name": "stdout",
     "output_type": "stream",
     "text": [
      "                    Feature  Importance\n",
      "4             MonthlyIncome    0.181611\n",
      "9          OverTime_encoded    0.129393\n",
      "0                       Age    0.126947\n",
      "1          DistanceFromHome    0.096989\n",
      "8      YearsWithCurrManager    0.094866\n",
      "5        NumCompaniesWorked    0.077509\n",
      "10          JobRole_encoded    0.077172\n",
      "2                  JobLevel    0.067367\n",
      "7   YearsSinceLastPromotion    0.057340\n",
      "3           JobSatisfaction    0.056468\n",
      "6           WorkLifeBalance    0.034337\n"
     ]
    }
   ],
   "source": [
    "#show feature importance all\n",
    "print(fi_df)"
   ]
  },
  {
   "cell_type": "markdown",
   "id": "e38eb38b",
   "metadata": {},
   "source": [
    "So both models have overtime has a key indicator for attrition, in line with our hypotheses & statistical tests. Joblevel was also shown as of importance for XGBoost, while MonthlyIncome was for RandomForest - perhaps not altogether surprising as Job Level & MonthlyIncome are likely linked."
   ]
  },
  {
   "cell_type": "markdown",
   "id": "74b0d89e",
   "metadata": {},
   "source": [
    "# Conclusions"
   ]
  },
  {
   "cell_type": "markdown",
   "id": "79012567",
   "metadata": {},
   "source": [
    "## 🧾 Conclusions\n",
    "\n",
    "- **Model Performance:**  \n",
    "  Among all tested algorithms, **Random Forest** and **XGBoost** consistently provided the highest overall performance.  \n",
    "  - Random Forest delivered strong accuracy and interpretability.  \n",
    "  - XGBoost showed slightly higher recall and stability across runs.\n",
    "\n",
    "- **Recall Optimization:**  \n",
    "  Using recall-weighted and F-score (F2) optimization improved the model’s ability to identify employees likely to leave,  \n",
    "  with only a modest drop in precision.  \n",
    "  Adjusting probability thresholds further refined the balance between recall and accuracy.\n",
    "\n",
    "- **Key Predictors of Attrition:**  \n",
    "  Feature importance analyses highlighted several critical drivers of employee attrition:\n",
    "  - **Overtime** (most influential)\n",
    "  - **JobSatisfaction**\n",
    "  - **YearsAtCompany**\n",
    "  - **EnvironmentSatisfaction**\n",
    "  - **MonthlyIncome**\n",
    "  These factors suggest that work–life balance, satisfaction, and tenure strongly influence attrition risk.\n",
    "\n",
    "- **Model Stability and Validation:**  \n",
    "  Increasing the number of cross-validation folds (from 4 to 7 or 8) produced more stable results,  \n",
    "  confirming that the selected models generalize well across data subsets.\n",
    "\n",
    "- **Interpretability and Business Value:**  \n",
    "  Feature importance, precision–recall curves, and confusion matrices provided clear insight into how models make predictions.  \n",
    "  These visualizations can directly support HR decision-making by identifying at-risk groups for proactive retention actions.\n",
    "\n",
    "- **Final Recommendation:**  \n",
    "  The **XGBoost model** is recommended as the primary predictive engine due to its balance of recall and precision,  \n",
    "  efficient runtime, and robustness. Random Forest can serve as a strong secondary baseline for interpretability.\n",
    "\n",
    "---\n",
    "\n",
    "### 💡 Key Takeaway\n",
    "Focusing on workload management (Overtime), improving job satisfaction, and addressing compensation disparities  \n",
    "could significantly reduce employee attrition rates when guided by insights from these models.\n",
    "\n",
    "\n",
    "#### Next Steps\n",
    "Refine models & use expanded parameter grids for improved modeling"
   ]
  }
 ],
 "metadata": {
  "kernelspec": {
   "display_name": ".venv (3.12.8)",
   "language": "python",
   "name": "python3"
  },
  "language_info": {
   "codemirror_mode": {
    "name": "ipython",
    "version": 3
   },
   "file_extension": ".py",
   "mimetype": "text/x-python",
   "name": "python",
   "nbconvert_exporter": "python",
   "pygments_lexer": "ipython3",
   "version": "3.12.8"
  }
 },
 "nbformat": 4,
 "nbformat_minor": 5
}
