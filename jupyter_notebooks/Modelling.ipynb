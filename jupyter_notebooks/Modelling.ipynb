{
 "cells": [
  {
   "cell_type": "markdown",
   "id": "e6cbcca5",
   "metadata": {},
   "source": [
    "# **Modelling**\n",
    "**(Machine Learning)**"
   ]
  },
  {
   "cell_type": "markdown",
   "id": "266c7f3e",
   "metadata": {},
   "source": [
    "The [IBM HR Analytics Employee Attrition & Performance dataset](https://www.kaggle.com/datasets/pavansubhasht/ibm-hr-analytics-attrition-dataset)  is a fictional dataset created by IBM data scientists to simulate real-world HR data. It contains information about employees’ demographics, job roles, satisfaction levels, performance, and employment history. The dataset has 1,470 rows (employees) and 35 columns, including both categorical and numerical variables, and is used to explore the factors that influence employee attrition and performance. The main feature categories are:\n",
    "\n",
    "- **Demographics:** Age, Gender, MaritalStatus, Education, EducationField\n",
    "\n",
    "- **Job Details:** Department, JobRole, JobLevel, JobInvolvement, YearsAtCompany, YearsInCurrentRole, YearsWithCurrManager\n",
    "\n",
    "- **Compensation:** MonthlyIncome, MonthlyRate, DailyRate, HourlyRate, PercentSalaryHike, StockOptionLevel\n",
    "\n",
    "- **Satisfaction Metrics:** JobSatisfaction, EnvironmentSatisfaction, RelationshipSatisfaction, WorkLifeBalance\n",
    "\n",
    "- **Performance & Experience:** PerformanceRating, TotalWorkingYears, NumCompaniesWorked, TrainingTimesLastYear, YearsSinceLastPromotion\n",
    "\n",
    "- **Other Attributes:** DistanceFromHome, BusinessTravel, OverTime, StandardHours"
   ]
  },
  {
   "cell_type": "markdown",
   "id": "381a837c",
   "metadata": {},
   "source": [
    "## Objectives\n"
   ]
  },
  {
   "cell_type": "markdown",
   "id": "a93b8a4e",
   "metadata": {},
   "source": [
    "## Inputs\n",
    "The dataset was obtained from [Kaggle](https://www.kaggle.com/datasets/pavansubhasht/ibm-hr-analytics-attrition-dataset)"
   ]
  },
  {
   "cell_type": "markdown",
   "id": "acabf44c",
   "metadata": {},
   "source": [
    "## Outputs\n",
    "The cleaned csv file found [here](../data_set/processed/cleaned_employee_attrition.csv)"
   ]
  },
  {
   "cell_type": "markdown",
   "id": "31ce1b9c",
   "metadata": {},
   "source": [
    "# ML Workflow\n",
    "\n",
    "- Load the dataset & check values\n",
    "- Encode data types if needed\n",
    "- Create train and test sets\n",
    "- Set up Grid with different algorithms(minimal params)\n",
    "- Visualise Results (compare train and test for overfitting etc)\n",
    "- Select best pipeline\n",
    "- Tune the best pipeline\n",
    "- Explanatory Visuals & Conclusions"
   ]
  },
  {
   "cell_type": "markdown",
   "id": "15ec6942",
   "metadata": {},
   "source": [
    "---"
   ]
  },
  {
   "cell_type": "markdown",
   "id": "0b736d0b",
   "metadata": {},
   "source": [
    "# Change working directory\n",
    "Change the working directory from its current folder to its parent folder as the notebooks will be stored in a subfolder\n",
    "* We access the current directory with os.getcwd()"
   ]
  },
  {
   "cell_type": "code",
   "execution_count": 1,
   "id": "903fba09",
   "metadata": {},
   "outputs": [
    {
     "data": {
      "text/plain": [
       "'c:\\\\Users\\\\mikee\\\\Desktop\\\\employee-turnover-prediction\\\\jupyter_notebooks'"
      ]
     },
     "execution_count": 1,
     "metadata": {},
     "output_type": "execute_result"
    }
   ],
   "source": [
    "import os\n",
    "current_dir = os.getcwd()\n",
    "current_dir"
   ]
  },
  {
   "cell_type": "markdown",
   "id": "9bd9bf9c",
   "metadata": {},
   "source": [
    "Make the parent of the current directory the new current directory\n",
    "* os.path.dirname() gets the parent directory\n",
    "* os.chir() defines the new current directory"
   ]
  },
  {
   "cell_type": "code",
   "execution_count": 2,
   "id": "cea61730",
   "metadata": {},
   "outputs": [
    {
     "name": "stdout",
     "output_type": "stream",
     "text": [
      "You set a new current directory\n"
     ]
    }
   ],
   "source": [
    "os.chdir(os.path.dirname(current_dir))\n",
    "print(\"You set a new current directory\")"
   ]
  },
  {
   "cell_type": "markdown",
   "id": "d4884f2a",
   "metadata": {},
   "source": [
    "Confirm the new current directory"
   ]
  },
  {
   "cell_type": "code",
   "execution_count": 3,
   "id": "71ef2d68",
   "metadata": {},
   "outputs": [
    {
     "data": {
      "text/plain": [
       "'c:\\\\Users\\\\mikee\\\\Desktop\\\\employee-turnover-prediction'"
      ]
     },
     "execution_count": 3,
     "metadata": {},
     "output_type": "execute_result"
    }
   ],
   "source": [
    "current_dir = os.getcwd()\n",
    "current_dir"
   ]
  },
  {
   "cell_type": "markdown",
   "id": "3c4f3d91",
   "metadata": {},
   "source": [
    "Changing path directory to the dataset"
   ]
  },
  {
   "cell_type": "code",
   "execution_count": 4,
   "id": "828aaf6e",
   "metadata": {},
   "outputs": [],
   "source": [
    "#path directory\n",
    "raw_data_dir = os.path.join(current_dir, 'data_set/raw') \n",
    "\n",
    "#path directory\n",
    "processed_data_dir = os.path.join(current_dir, 'data_set/processed') \n"
   ]
  },
  {
   "cell_type": "markdown",
   "id": "2279e71a",
   "metadata": {},
   "source": [
    "---"
   ]
  },
  {
   "cell_type": "markdown",
   "id": "cdff43f2",
   "metadata": {},
   "source": [
    "# Import packages"
   ]
  },
  {
   "cell_type": "code",
   "execution_count": 5,
   "id": "b8c19a98",
   "metadata": {},
   "outputs": [],
   "source": [
    "import numpy as np #import numpy\n",
    "import pandas as pd #import pandas\n",
    "import matplotlib.pyplot as plt #import matplotlib\n",
    "import seaborn as sns #import seaborn\n",
    "import plotly.express as px # import plotly\n",
    "sns.set_style('whitegrid') #set style for visuals"
   ]
  },
  {
   "cell_type": "markdown",
   "id": "dfdc6fac",
   "metadata": {},
   "source": [
    "---"
   ]
  },
  {
   "cell_type": "markdown",
   "id": "df384e8c",
   "metadata": {},
   "source": [
    "# Load the raw dataset"
   ]
  },
  {
   "cell_type": "code",
   "execution_count": 6,
   "id": "6d94433d",
   "metadata": {},
   "outputs": [],
   "source": [
    "#load the dataset\n",
    "df = pd.read_csv(os.path.join(processed_data_dir, 'cleaned_employee_attrition.csv'))\n"
   ]
  },
  {
   "cell_type": "markdown",
   "id": "322a4283",
   "metadata": {},
   "source": [
    "The raw dataset is loaded using Pandas for ETL process"
   ]
  },
  {
   "cell_type": "markdown",
   "id": "41067d23",
   "metadata": {},
   "source": [
    "---"
   ]
  },
  {
   "cell_type": "markdown",
   "id": "e5cf6ff0",
   "metadata": {},
   "source": [
    "# Understand the dataset structure and content"
   ]
  },
  {
   "cell_type": "code",
   "execution_count": 7,
   "id": "a2349380",
   "metadata": {},
   "outputs": [
    {
     "data": {
      "text/html": [
       "<div>\n",
       "<style scoped>\n",
       "    .dataframe tbody tr th:only-of-type {\n",
       "        vertical-align: middle;\n",
       "    }\n",
       "\n",
       "    .dataframe tbody tr th {\n",
       "        vertical-align: top;\n",
       "    }\n",
       "\n",
       "    .dataframe thead th {\n",
       "        text-align: right;\n",
       "    }\n",
       "</style>\n",
       "<table border=\"1\" class=\"dataframe\">\n",
       "  <thead>\n",
       "    <tr style=\"text-align: right;\">\n",
       "      <th></th>\n",
       "      <th>0</th>\n",
       "      <th>1</th>\n",
       "      <th>2</th>\n",
       "    </tr>\n",
       "  </thead>\n",
       "  <tbody>\n",
       "    <tr>\n",
       "      <th>Age</th>\n",
       "      <td>41</td>\n",
       "      <td>49</td>\n",
       "      <td>37</td>\n",
       "    </tr>\n",
       "    <tr>\n",
       "      <th>Attrition</th>\n",
       "      <td>Yes</td>\n",
       "      <td>No</td>\n",
       "      <td>Yes</td>\n",
       "    </tr>\n",
       "    <tr>\n",
       "      <th>DistanceFromHome</th>\n",
       "      <td>1</td>\n",
       "      <td>8</td>\n",
       "      <td>2</td>\n",
       "    </tr>\n",
       "    <tr>\n",
       "      <th>JobLevel</th>\n",
       "      <td>2</td>\n",
       "      <td>2</td>\n",
       "      <td>1</td>\n",
       "    </tr>\n",
       "    <tr>\n",
       "      <th>JobRole</th>\n",
       "      <td>Sales Executive</td>\n",
       "      <td>Research Scientist</td>\n",
       "      <td>Laboratory Technician</td>\n",
       "    </tr>\n",
       "    <tr>\n",
       "      <th>JobSatisfaction</th>\n",
       "      <td>4</td>\n",
       "      <td>2</td>\n",
       "      <td>3</td>\n",
       "    </tr>\n",
       "    <tr>\n",
       "      <th>MonthlyIncome</th>\n",
       "      <td>5993</td>\n",
       "      <td>5130</td>\n",
       "      <td>2090</td>\n",
       "    </tr>\n",
       "    <tr>\n",
       "      <th>NumCompaniesWorked</th>\n",
       "      <td>8</td>\n",
       "      <td>1</td>\n",
       "      <td>6</td>\n",
       "    </tr>\n",
       "    <tr>\n",
       "      <th>OverTime</th>\n",
       "      <td>Yes</td>\n",
       "      <td>No</td>\n",
       "      <td>Yes</td>\n",
       "    </tr>\n",
       "    <tr>\n",
       "      <th>WorkLifeBalance</th>\n",
       "      <td>1</td>\n",
       "      <td>3</td>\n",
       "      <td>3</td>\n",
       "    </tr>\n",
       "    <tr>\n",
       "      <th>YearsSinceLastPromotion</th>\n",
       "      <td>0</td>\n",
       "      <td>1</td>\n",
       "      <td>0</td>\n",
       "    </tr>\n",
       "    <tr>\n",
       "      <th>YearsWithCurrManager</th>\n",
       "      <td>5</td>\n",
       "      <td>7</td>\n",
       "      <td>0</td>\n",
       "    </tr>\n",
       "    <tr>\n",
       "      <th>Attrition_encoded</th>\n",
       "      <td>1</td>\n",
       "      <td>0</td>\n",
       "      <td>1</td>\n",
       "    </tr>\n",
       "    <tr>\n",
       "      <th>OverTime_encoded</th>\n",
       "      <td>1</td>\n",
       "      <td>0</td>\n",
       "      <td>1</td>\n",
       "    </tr>\n",
       "  </tbody>\n",
       "</table>\n",
       "</div>"
      ],
      "text/plain": [
       "                                       0                   1  \\\n",
       "Age                                   41                  49   \n",
       "Attrition                            Yes                  No   \n",
       "DistanceFromHome                       1                   8   \n",
       "JobLevel                               2                   2   \n",
       "JobRole                  Sales Executive  Research Scientist   \n",
       "JobSatisfaction                        4                   2   \n",
       "MonthlyIncome                       5993                5130   \n",
       "NumCompaniesWorked                     8                   1   \n",
       "OverTime                             Yes                  No   \n",
       "WorkLifeBalance                        1                   3   \n",
       "YearsSinceLastPromotion                0                   1   \n",
       "YearsWithCurrManager                   5                   7   \n",
       "Attrition_encoded                      1                   0   \n",
       "OverTime_encoded                       1                   0   \n",
       "\n",
       "                                             2  \n",
       "Age                                         37  \n",
       "Attrition                                  Yes  \n",
       "DistanceFromHome                             2  \n",
       "JobLevel                                     1  \n",
       "JobRole                  Laboratory Technician  \n",
       "JobSatisfaction                              3  \n",
       "MonthlyIncome                             2090  \n",
       "NumCompaniesWorked                           6  \n",
       "OverTime                                   Yes  \n",
       "WorkLifeBalance                              3  \n",
       "YearsSinceLastPromotion                      0  \n",
       "YearsWithCurrManager                         0  \n",
       "Attrition_encoded                            1  \n",
       "OverTime_encoded                             1  "
      ]
     },
     "execution_count": 7,
     "metadata": {},
     "output_type": "execute_result"
    }
   ],
   "source": [
    "#display the first 5 rows of the dataset\n",
    "df.head(3).T"
   ]
  },
  {
   "cell_type": "code",
   "execution_count": 8,
   "id": "0ee010dd",
   "metadata": {},
   "outputs": [
    {
     "name": "stdout",
     "output_type": "stream",
     "text": [
      "<class 'pandas.core.frame.DataFrame'>\n",
      "RangeIndex: 1470 entries, 0 to 1469\n",
      "Data columns (total 14 columns):\n",
      " #   Column                   Non-Null Count  Dtype \n",
      "---  ------                   --------------  ----- \n",
      " 0   Age                      1470 non-null   int64 \n",
      " 1   Attrition                1470 non-null   object\n",
      " 2   DistanceFromHome         1470 non-null   int64 \n",
      " 3   JobLevel                 1470 non-null   int64 \n",
      " 4   JobRole                  1470 non-null   object\n",
      " 5   JobSatisfaction          1470 non-null   int64 \n",
      " 6   MonthlyIncome            1470 non-null   int64 \n",
      " 7   NumCompaniesWorked       1470 non-null   int64 \n",
      " 8   OverTime                 1470 non-null   object\n",
      " 9   WorkLifeBalance          1470 non-null   int64 \n",
      " 10  YearsSinceLastPromotion  1470 non-null   int64 \n",
      " 11  YearsWithCurrManager     1470 non-null   int64 \n",
      " 12  Attrition_encoded        1470 non-null   int64 \n",
      " 13  OverTime_encoded         1470 non-null   int64 \n",
      "dtypes: int64(11), object(3)\n",
      "memory usage: 160.9+ KB\n"
     ]
    }
   ],
   "source": [
    "#dataset information\n",
    "df.info()"
   ]
  },
  {
   "cell_type": "markdown",
   "id": "add8d3ce",
   "metadata": {},
   "source": [
    "---"
   ]
  },
  {
   "cell_type": "markdown",
   "id": "a53986db",
   "metadata": {},
   "source": [
    "## Encode Features\n",
    "\n",
    "**Features To Encode**\n",
    "\n",
    "Overtime & Attrition already have encoded versions.\n",
    "\n",
    "Job Role is also an object with different labels - to preserve label hierarchy will encode separately. Let us check the values for JobRole."
   ]
  },
  {
   "cell_type": "code",
   "execution_count": 9,
   "id": "37599d3c",
   "metadata": {},
   "outputs": [
    {
     "data": {
      "text/plain": [
       "JobRole\n",
       "Sales Executive              326\n",
       "Research Scientist           292\n",
       "Laboratory Technician        259\n",
       "Manufacturing Director       145\n",
       "Healthcare Representative    131\n",
       "Manager                      102\n",
       "Sales Representative          83\n",
       "Research Director             80\n",
       "Human Resources               52\n",
       "Name: count, dtype: int64"
      ]
     },
     "execution_count": 9,
     "metadata": {},
     "output_type": "execute_result"
    }
   ],
   "source": [
    "df[\"JobRole\"].value_counts()"
   ]
  },
  {
   "cell_type": "markdown",
   "id": "6629110a",
   "metadata": {},
   "source": [
    "We have nine different roles across departments. The departments column of original data was dropped as not being of interest to our hypotheses. We can perform basic  label encoding which will map each role to a numeric value or create a hierarchy. The second approach may be better for the simplicity of model and to add meaning to our encoding so we will take this approach. However, the data also includes `JobLevel` so we can use the correlation between this and `JobRole` to order our hierarchy. (if this shows a simple relationship between levels we can probably drop `JobRole` instead)."
   ]
  },
  {
   "cell_type": "code",
   "execution_count": 10,
   "id": "4a04eef0",
   "metadata": {},
   "outputs": [
    {
     "data": {
      "text/html": [
       "<div>\n",
       "<style scoped>\n",
       "    .dataframe tbody tr th:only-of-type {\n",
       "        vertical-align: middle;\n",
       "    }\n",
       "\n",
       "    .dataframe tbody tr th {\n",
       "        vertical-align: top;\n",
       "    }\n",
       "\n",
       "    .dataframe thead th {\n",
       "        text-align: right;\n",
       "    }\n",
       "</style>\n",
       "<table border=\"1\" class=\"dataframe\">\n",
       "  <thead>\n",
       "    <tr style=\"text-align: right;\">\n",
       "      <th></th>\n",
       "      <th>count</th>\n",
       "      <th>min</th>\n",
       "      <th>median</th>\n",
       "      <th>mean</th>\n",
       "      <th>max</th>\n",
       "    </tr>\n",
       "    <tr>\n",
       "      <th>JobRole</th>\n",
       "      <th></th>\n",
       "      <th></th>\n",
       "      <th></th>\n",
       "      <th></th>\n",
       "      <th></th>\n",
       "    </tr>\n",
       "  </thead>\n",
       "  <tbody>\n",
       "    <tr>\n",
       "      <th>Sales Representative</th>\n",
       "      <td>83</td>\n",
       "      <td>1</td>\n",
       "      <td>1.0</td>\n",
       "      <td>1.084337</td>\n",
       "      <td>2</td>\n",
       "    </tr>\n",
       "    <tr>\n",
       "      <th>Research Scientist</th>\n",
       "      <td>292</td>\n",
       "      <td>1</td>\n",
       "      <td>1.0</td>\n",
       "      <td>1.202055</td>\n",
       "      <td>3</td>\n",
       "    </tr>\n",
       "    <tr>\n",
       "      <th>Laboratory Technician</th>\n",
       "      <td>259</td>\n",
       "      <td>1</td>\n",
       "      <td>1.0</td>\n",
       "      <td>1.239382</td>\n",
       "      <td>3</td>\n",
       "    </tr>\n",
       "    <tr>\n",
       "      <th>Human Resources</th>\n",
       "      <td>52</td>\n",
       "      <td>1</td>\n",
       "      <td>1.0</td>\n",
       "      <td>1.480769</td>\n",
       "      <td>3</td>\n",
       "    </tr>\n",
       "    <tr>\n",
       "      <th>Sales Executive</th>\n",
       "      <td>326</td>\n",
       "      <td>2</td>\n",
       "      <td>2.0</td>\n",
       "      <td>2.328221</td>\n",
       "      <td>4</td>\n",
       "    </tr>\n",
       "    <tr>\n",
       "      <th>Manufacturing Director</th>\n",
       "      <td>145</td>\n",
       "      <td>2</td>\n",
       "      <td>2.0</td>\n",
       "      <td>2.448276</td>\n",
       "      <td>4</td>\n",
       "    </tr>\n",
       "    <tr>\n",
       "      <th>Healthcare Representative</th>\n",
       "      <td>131</td>\n",
       "      <td>2</td>\n",
       "      <td>2.0</td>\n",
       "      <td>2.473282</td>\n",
       "      <td>4</td>\n",
       "    </tr>\n",
       "    <tr>\n",
       "      <th>Research Director</th>\n",
       "      <td>80</td>\n",
       "      <td>3</td>\n",
       "      <td>4.0</td>\n",
       "      <td>3.975000</td>\n",
       "      <td>5</td>\n",
       "    </tr>\n",
       "    <tr>\n",
       "      <th>Manager</th>\n",
       "      <td>102</td>\n",
       "      <td>3</td>\n",
       "      <td>4.0</td>\n",
       "      <td>4.303922</td>\n",
       "      <td>5</td>\n",
       "    </tr>\n",
       "  </tbody>\n",
       "</table>\n",
       "</div>"
      ],
      "text/plain": [
       "                           count  min  median      mean  max\n",
       "JobRole                                                     \n",
       "Sales Representative          83    1     1.0  1.084337    2\n",
       "Research Scientist           292    1     1.0  1.202055    3\n",
       "Laboratory Technician        259    1     1.0  1.239382    3\n",
       "Human Resources               52    1     1.0  1.480769    3\n",
       "Sales Executive              326    2     2.0  2.328221    4\n",
       "Manufacturing Director       145    2     2.0  2.448276    4\n",
       "Healthcare Representative    131    2     2.0  2.473282    4\n",
       "Research Director             80    3     4.0  3.975000    5\n",
       "Manager                      102    3     4.0  4.303922    5"
      ]
     },
     "metadata": {},
     "output_type": "display_data"
    }
   ],
   "source": [
    "# 1) Inspect distributions of JobLevel within each JobRole\n",
    "#import display for better formatting of output\n",
    "from IPython.display import display\n",
    "display(\n",
    "    df.groupby(\"JobRole\")[\"JobLevel\"]\n",
    "      .agg(['count','min','median','mean','max'])\n",
    "      .sort_values(['median','mean'], ascending=[True, True])\n",
    ")\n",
    "\n",
    "# 2) Build an order based on JobLevel (median, then mean as tiebreaker)\n",
    "role_stats = (\n",
    "    df.groupby(\"JobRole\")[\"JobLevel\"]\n",
    "      .agg(median='median', mean='mean')\n",
    "      .sort_values(['median','mean'], ascending=[True, True])\n",
    "      .reset_index()\n",
    ")\n",
    "role_stats[\"role_rank\"] = np.arange(1, len(role_stats)+1)  # 1 = most junior, larger = more senior"
   ]
  },
  {
   "cell_type": "markdown",
   "id": "f9526370",
   "metadata": {},
   "source": [
    "The order is reasonably clear, though manager having the highest rank seems like an anomaly (It is described as middle management in the original dataset). \n",
    "* Conclusion: Job Level may be a better indicator & less arbritary than JobRole\n",
    "* We can also check monthly income to find a more definitive hierarchy"
   ]
  },
  {
   "cell_type": "code",
   "execution_count": 11,
   "id": "f24d3d3d",
   "metadata": {},
   "outputs": [
    {
     "data": {
      "text/html": [
       "<div>\n",
       "<style scoped>\n",
       "    .dataframe tbody tr th:only-of-type {\n",
       "        vertical-align: middle;\n",
       "    }\n",
       "\n",
       "    .dataframe tbody tr th {\n",
       "        vertical-align: top;\n",
       "    }\n",
       "\n",
       "    .dataframe thead th {\n",
       "        text-align: right;\n",
       "    }\n",
       "</style>\n",
       "<table border=\"1\" class=\"dataframe\">\n",
       "  <thead>\n",
       "    <tr style=\"text-align: right;\">\n",
       "      <th></th>\n",
       "      <th>JobRole</th>\n",
       "      <th>median</th>\n",
       "      <th>mean</th>\n",
       "      <th>role_rank</th>\n",
       "    </tr>\n",
       "  </thead>\n",
       "  <tbody>\n",
       "    <tr>\n",
       "      <th>0</th>\n",
       "      <td>Sales Representative</td>\n",
       "      <td>2579.0</td>\n",
       "      <td>2626.000000</td>\n",
       "      <td>1</td>\n",
       "    </tr>\n",
       "    <tr>\n",
       "      <th>1</th>\n",
       "      <td>Laboratory Technician</td>\n",
       "      <td>2886.0</td>\n",
       "      <td>3237.169884</td>\n",
       "      <td>2</td>\n",
       "    </tr>\n",
       "    <tr>\n",
       "      <th>2</th>\n",
       "      <td>Research Scientist</td>\n",
       "      <td>2887.5</td>\n",
       "      <td>3239.972603</td>\n",
       "      <td>3</td>\n",
       "    </tr>\n",
       "    <tr>\n",
       "      <th>3</th>\n",
       "      <td>Human Resources</td>\n",
       "      <td>3093.0</td>\n",
       "      <td>4235.750000</td>\n",
       "      <td>4</td>\n",
       "    </tr>\n",
       "    <tr>\n",
       "      <th>4</th>\n",
       "      <td>Sales Executive</td>\n",
       "      <td>6231.0</td>\n",
       "      <td>6924.279141</td>\n",
       "      <td>5</td>\n",
       "    </tr>\n",
       "    <tr>\n",
       "      <th>5</th>\n",
       "      <td>Manufacturing Director</td>\n",
       "      <td>6447.0</td>\n",
       "      <td>7295.137931</td>\n",
       "      <td>6</td>\n",
       "    </tr>\n",
       "    <tr>\n",
       "      <th>6</th>\n",
       "      <td>Healthcare Representative</td>\n",
       "      <td>6811.0</td>\n",
       "      <td>7528.763359</td>\n",
       "      <td>7</td>\n",
       "    </tr>\n",
       "    <tr>\n",
       "      <th>7</th>\n",
       "      <td>Research Director</td>\n",
       "      <td>16510.0</td>\n",
       "      <td>16033.550000</td>\n",
       "      <td>8</td>\n",
       "    </tr>\n",
       "    <tr>\n",
       "      <th>8</th>\n",
       "      <td>Manager</td>\n",
       "      <td>17454.5</td>\n",
       "      <td>17181.676471</td>\n",
       "      <td>9</td>\n",
       "    </tr>\n",
       "  </tbody>\n",
       "</table>\n",
       "</div>"
      ],
      "text/plain": [
       "                     JobRole   median          mean  role_rank\n",
       "0       Sales Representative   2579.0   2626.000000          1\n",
       "1      Laboratory Technician   2886.0   3237.169884          2\n",
       "2         Research Scientist   2887.5   3239.972603          3\n",
       "3            Human Resources   3093.0   4235.750000          4\n",
       "4            Sales Executive   6231.0   6924.279141          5\n",
       "5     Manufacturing Director   6447.0   7295.137931          6\n",
       "6  Healthcare Representative   6811.0   7528.763359          7\n",
       "7          Research Director  16510.0  16033.550000          8\n",
       "8                    Manager  17454.5  17181.676471          9"
      ]
     },
     "execution_count": 11,
     "metadata": {},
     "output_type": "execute_result"
    }
   ],
   "source": [
    "##Rank Job Role by MonthlyIncome\n",
    "role_stats = (\n",
    "    df.groupby(\"JobRole\")[\"MonthlyIncome\"]\n",
    "      .agg(median='median', mean='mean')\n",
    "      .sort_values(['median','mean'], ascending=[True, True])\n",
    "      .reset_index()\n",
    ")\n",
    "role_stats[\"role_rank\"] = np.arange(1, len(role_stats)+1)  # 1 = most junior, larger = more senior\n",
    "role_stats"
   ]
  },
  {
   "cell_type": "markdown",
   "id": "2ed4d64d",
   "metadata": {},
   "source": [
    "This gives a clearer ranking - we have two measures which seem to effectively rank job roles. Though including it may introduce noise and overcomplicate it may also enrich it and reveal a more interesting picture. (i.e. factors not necessarily related to income or seniority). Fot this reason we will keep it in our model for testing and use LabelEncoding."
   ]
  },
  {
   "cell_type": "markdown",
   "id": "14abb824",
   "metadata": {},
   "source": [
    "**Encode JobRole**\n"
   ]
  },
  {
   "cell_type": "code",
   "execution_count": 12,
   "id": "c9db02b5",
   "metadata": {},
   "outputs": [
    {
     "data": {
      "text/plain": [
       "JobRole_encoded\n",
       "0                  131\n",
       "1                   52\n",
       "2                  259\n",
       "3                  102\n",
       "4                  145\n",
       "5                   80\n",
       "6                  292\n",
       "7                  326\n",
       "8                   83\n",
       "Name: count, dtype: int64"
      ]
     },
     "execution_count": 12,
     "metadata": {},
     "output_type": "execute_result"
    }
   ],
   "source": [
    "from sklearn.preprocessing import LabelEncoder\n",
    "\n",
    "le = LabelEncoder()\n",
    "\n",
    "df[\"JobRole_encoded\"] = le.fit_transform(df[\"JobRole\"])\n",
    "df[[\"JobRole_encoded\"]].value_counts().sort_index()"
   ]
  },
  {
   "cell_type": "markdown",
   "id": "876694ea",
   "metadata": {},
   "source": [
    "## Create Dataset for training"
   ]
  },
  {
   "cell_type": "markdown",
   "id": "e154717e",
   "metadata": {},
   "source": [
    "Next we will create our dataset for training. We can drop columns we have encoded versions of, `Attrition`, `OverTime`."
   ]
  },
  {
   "cell_type": "code",
   "execution_count": 13,
   "id": "4f3d7f06",
   "metadata": {},
   "outputs": [
    {
     "data": {
      "text/html": [
       "<div>\n",
       "<style scoped>\n",
       "    .dataframe tbody tr th:only-of-type {\n",
       "        vertical-align: middle;\n",
       "    }\n",
       "\n",
       "    .dataframe tbody tr th {\n",
       "        vertical-align: top;\n",
       "    }\n",
       "\n",
       "    .dataframe thead th {\n",
       "        text-align: right;\n",
       "    }\n",
       "</style>\n",
       "<table border=\"1\" class=\"dataframe\">\n",
       "  <thead>\n",
       "    <tr style=\"text-align: right;\">\n",
       "      <th></th>\n",
       "      <th>0</th>\n",
       "      <th>1</th>\n",
       "      <th>2</th>\n",
       "    </tr>\n",
       "  </thead>\n",
       "  <tbody>\n",
       "    <tr>\n",
       "      <th>Age</th>\n",
       "      <td>41</td>\n",
       "      <td>49</td>\n",
       "      <td>37</td>\n",
       "    </tr>\n",
       "    <tr>\n",
       "      <th>DistanceFromHome</th>\n",
       "      <td>1</td>\n",
       "      <td>8</td>\n",
       "      <td>2</td>\n",
       "    </tr>\n",
       "    <tr>\n",
       "      <th>JobLevel</th>\n",
       "      <td>2</td>\n",
       "      <td>2</td>\n",
       "      <td>1</td>\n",
       "    </tr>\n",
       "    <tr>\n",
       "      <th>JobSatisfaction</th>\n",
       "      <td>4</td>\n",
       "      <td>2</td>\n",
       "      <td>3</td>\n",
       "    </tr>\n",
       "    <tr>\n",
       "      <th>MonthlyIncome</th>\n",
       "      <td>5993</td>\n",
       "      <td>5130</td>\n",
       "      <td>2090</td>\n",
       "    </tr>\n",
       "    <tr>\n",
       "      <th>NumCompaniesWorked</th>\n",
       "      <td>8</td>\n",
       "      <td>1</td>\n",
       "      <td>6</td>\n",
       "    </tr>\n",
       "    <tr>\n",
       "      <th>WorkLifeBalance</th>\n",
       "      <td>1</td>\n",
       "      <td>3</td>\n",
       "      <td>3</td>\n",
       "    </tr>\n",
       "    <tr>\n",
       "      <th>YearsSinceLastPromotion</th>\n",
       "      <td>0</td>\n",
       "      <td>1</td>\n",
       "      <td>0</td>\n",
       "    </tr>\n",
       "    <tr>\n",
       "      <th>YearsWithCurrManager</th>\n",
       "      <td>5</td>\n",
       "      <td>7</td>\n",
       "      <td>0</td>\n",
       "    </tr>\n",
       "    <tr>\n",
       "      <th>Attrition_encoded</th>\n",
       "      <td>1</td>\n",
       "      <td>0</td>\n",
       "      <td>1</td>\n",
       "    </tr>\n",
       "    <tr>\n",
       "      <th>OverTime_encoded</th>\n",
       "      <td>1</td>\n",
       "      <td>0</td>\n",
       "      <td>1</td>\n",
       "    </tr>\n",
       "    <tr>\n",
       "      <th>JobRole_encoded</th>\n",
       "      <td>7</td>\n",
       "      <td>6</td>\n",
       "      <td>2</td>\n",
       "    </tr>\n",
       "  </tbody>\n",
       "</table>\n",
       "</div>"
      ],
      "text/plain": [
       "                            0     1     2\n",
       "Age                        41    49    37\n",
       "DistanceFromHome            1     8     2\n",
       "JobLevel                    2     2     1\n",
       "JobSatisfaction             4     2     3\n",
       "MonthlyIncome            5993  5130  2090\n",
       "NumCompaniesWorked          8     1     6\n",
       "WorkLifeBalance             1     3     3\n",
       "YearsSinceLastPromotion     0     1     0\n",
       "YearsWithCurrManager        5     7     0\n",
       "Attrition_encoded           1     0     1\n",
       "OverTime_encoded            1     0     1\n",
       "JobRole_encoded             7     6     2"
      ]
     },
     "execution_count": 13,
     "metadata": {},
     "output_type": "execute_result"
    }
   ],
   "source": [
    "#create our dataset for training. We can drop columns we have encoded versions of, `Attrition`, `OverTime` \n",
    "df_model = df.drop(columns=['Attrition', 'OverTime', 'JobRole'])\n",
    "df_model.head(3).T\n"
   ]
  },
  {
   "cell_type": "markdown",
   "id": "b935c17a",
   "metadata": {},
   "source": [
    "---"
   ]
  },
  {
   "cell_type": "markdown",
   "id": "9190d275",
   "metadata": {},
   "source": [
    "## Create Train & Test sets"
   ]
  },
  {
   "cell_type": "markdown",
   "id": "18c5ae77",
   "metadata": {},
   "source": [
    "Next we split our dataset into training & test sets."
   ]
  },
  {
   "cell_type": "code",
   "execution_count": 14,
   "id": "e212460c",
   "metadata": {},
   "outputs": [
    {
     "data": {
      "text/plain": [
       "((1176, 11), (294, 11), (1176,), (294,))"
      ]
     },
     "execution_count": 14,
     "metadata": {},
     "output_type": "execute_result"
    }
   ],
   "source": [
    "#split our dataset into training & test sets.\n",
    "from sklearn.model_selection import train_test_split\n",
    "X = df_model.drop('Attrition_encoded', axis=1)  # Features\n",
    "y = df_model['Attrition_encoded']  # Target variable\n",
    "\n",
    "X_train, X_test, y_train, y_test = train_test_split(X, y, test_size=0.2, random_state=42)\n",
    "X_train.shape, X_test.shape, y_train.shape, y_test.shape\n"
   ]
  },
  {
   "cell_type": "markdown",
   "id": "fcf2de1b",
   "metadata": {},
   "source": [
    "**Check Train & Test sets are balanced**"
   ]
  },
  {
   "cell_type": "code",
   "execution_count": 15,
   "id": "3946e719",
   "metadata": {},
   "outputs": [
    {
     "name": "stdout",
     "output_type": "stream",
     "text": [
      "Class balance (train): {0: 0.8316326530612245, 1: 0.1683673469387755}\n",
      "Class balance (test): {0: 0.8673469387755102, 1: 0.1326530612244898}\n"
     ]
    }
   ],
   "source": [
    "#Check target class distribution in train and test sets\n",
    "print(\"Class balance (train):\", y_train.value_counts(normalize=True).to_dict())\n",
    "print(\"Class balance (test):\", y_test.value_counts(normalize=True).to_dict())"
   ]
  },
  {
   "cell_type": "markdown",
   "id": "a812ea98",
   "metadata": {},
   "source": [
    "*Note our test set is slightly inbalanced compared to train - random seed may need changing if inbalance causes problems*"
   ]
  },
  {
   "cell_type": "markdown",
   "id": "37799949",
   "metadata": {},
   "source": [
    "---"
   ]
  },
  {
   "cell_type": "markdown",
   "id": "0321071b",
   "metadata": {},
   "source": [
    "## GridSearch with Tree Models"
   ]
  },
  {
   "cell_type": "markdown",
   "id": "1adcabf8",
   "metadata": {},
   "source": [
    "**Create pipeline function**\n",
    "\n",
    "First we create lists of features depending on type - Ordinal etc., then create a function to create pipelines."
   ]
  },
  {
   "cell_type": "code",
   "execution_count": 16,
   "id": "a92eb349",
   "metadata": {},
   "outputs": [
    {
     "data": {
      "text/plain": [
       "(Age                          43\n",
       " DistanceFromHome             29\n",
       " JobLevel                      5\n",
       " JobSatisfaction               4\n",
       " MonthlyIncome              1349\n",
       " NumCompaniesWorked           10\n",
       " WorkLifeBalance               4\n",
       " YearsSinceLastPromotion      16\n",
       " YearsWithCurrManager         18\n",
       " OverTime_encoded              2\n",
       " JobRole_encoded               9\n",
       " dtype: int64,\n",
       " (1470, 11))"
      ]
     },
     "execution_count": 16,
     "metadata": {},
     "output_type": "execute_result"
    }
   ],
   "source": [
    "#check numeric columns for unique values\n",
    "X.nunique(), X.shape"
   ]
  },
  {
   "cell_type": "markdown",
   "id": "54258b39",
   "metadata": {},
   "source": [
    "By examining this we can see which are continuous numeric variables and which are ordinal (i.e. have an order/ranking)"
   ]
  },
  {
   "cell_type": "code",
   "execution_count": 17,
   "id": "10341c0e",
   "metadata": {},
   "outputs": [
    {
     "data": {
      "text/plain": [
       "(['JobSatisfaction', 'JobLevel', 'WorkLifeBalance'],\n",
       " ['Age',\n",
       "  'DistanceFrom Home',\n",
       "  'MonthlyIncome',\n",
       "  'NumCompaniesWorked',\n",
       "  'YearSinceLastPromotion',\n",
       "  'YearsWithCurrManager'])"
      ]
     },
     "execution_count": 17,
     "metadata": {},
     "output_type": "execute_result"
    }
   ],
   "source": [
    "### Preprocessing & Feature Selection imports\n",
    "from sklearn.pipeline import Pipeline\n",
    "from feature_engine.imputation import MeanMedianImputer, CategoricalImputer\n",
    "from feature_engine.encoding import OrdinalEncoder\n",
    "from sklearn.preprocessing import LabelEncoder\n",
    "from sklearn.feature_selection import SelectFromModel\n",
    "\n",
    "##separate features by type\n",
    "ordinal_features = ['JobSatisfaction', 'JobLevel','WorkLifeBalance']\n",
    "numerical_features = ['Age', 'DistanceFrom Home', 'MonthlyIncome', 'NumCompaniesWorked','YearSinceLastPromotion','YearsWithCurrManager']\n",
    "#Overtime is already encoded as binary, JobRole will be label encoded\n",
    "ordinal_features, numerical_features"
   ]
  },
  {
   "cell_type": "markdown",
   "id": "add9ddc0",
   "metadata": {},
   "source": [
    "the next step is to create our pipeline optimisation function."
   ]
  },
  {
   "cell_type": "code",
   "execution_count": 18,
   "id": "019bdc09",
   "metadata": {},
   "outputs": [],
   "source": [
    "##Create function to build  model pipelines\n",
    "\n",
    "# No scaling needed for tree-based models\n",
    "def PipelineOptimization(model):\n",
    "    \"\"\" Create a pipeline with preprocessing, feature selection, and model steps.\n",
    "    \"\"\"\n",
    "    pipeline_base = Pipeline(steps=[\n",
    "        # 1) Impute numeric (median is robust to skew)\n",
    "        (\"num_imputer\", MeanMedianImputer(imputation_method=\"median\", variables=numerical_features)),\n",
    "\n",
    "        # 2) Impute categoricals (mode/most frequent)\n",
    "        (\"cat_imputer\", CategoricalImputer(imputation_method=\"frequent\", variables=ordinal_features)),\n",
    "\n",
    "        # 3) Ordinal-encode ordered categories (keeps rank meaning for trees)\n",
    "        (\"ord_encoder\", OrdinalEncoder(encoding_method=\"arbitrary\", variables=ordinal_features)),\n",
    "\n",
    "        # 4) Label-encode JobRole (arbitrary, no rank meaning)\n",
    "        (\"role_encoder\", LabelEncoder(encoding_method=\"arbitrary\", variables=[\"JobRole\"])),\n",
    "\n",
    "        # 5) Feature selection from model (uses model’s importances)\n",
    "        (\"feat_selection\", SelectFromModel(model)),\n",
    "\n",
    "        # 6) Final estimator\n",
    "        (\"model\", model),\n",
    "    ])\n",
    "    return pipeline_base"
   ]
  },
  {
   "cell_type": "markdown",
   "id": "c65c9d1a",
   "metadata": {},
   "source": [
    "**Import Models**"
   ]
  },
  {
   "cell_type": "code",
   "execution_count": 19,
   "id": "a3a11922",
   "metadata": {},
   "outputs": [],
   "source": [
    "## GridSearch with Tree Models\n",
    "### Import packages\n",
    "from sklearn.ensemble import RandomForestClassifier\n",
    "from sklearn.tree import DecisionTreeClassifier\n",
    "from sklearn.ensemble import  ExtraTreesClassifier\n",
    "from xgboost import XGBClassifier\n",
    "from sklearn.metrics import classification_report, confusion_matrix, accuracy_score\n",
    "\n",
    "#supress warnings\n",
    "import warnings\n",
    "warnings.filterwarnings('ignore')\n"
   ]
  },
  {
   "cell_type": "markdown",
   "id": "d22467b3",
   "metadata": {},
   "source": [
    "**Create List of models to test**"
   ]
  },
  {
   "cell_type": "code",
   "execution_count": 20,
   "id": "0077b79a",
   "metadata": {},
   "outputs": [],
   "source": [
    "# Define dictionary of candidate models\n",
    "models = {\n",
    "    \"DecisionTree\": DecisionTreeClassifier(random_state=42, class_weight=\"balanced\"),\n",
    "    \"RandomForest\": RandomForestClassifier(\n",
    "        n_estimators=400, random_state=42, n_jobs=-1, class_weight=\"balanced_subsample\"\n",
    "    ),\n",
    "    \"ExtraTrees\": ExtraTreesClassifier(\n",
    "        n_estimators=400, random_state=42, n_jobs=-1, class_weight=\"balanced_subsample\"\n",
    "    ),\n",
    "    \"XGBoost\": XGBClassifier(\n",
    "        n_estimators=400,\n",
    "        random_state=42,\n",
    "        n_jobs=-1,\n",
    "        eval_metric=\"logloss\",\n",
    "        use_label_encoder=False\n",
    "    )\n",
    "}\n"
   ]
  },
  {
   "cell_type": "markdown",
   "id": "88029f3e",
   "metadata": {},
   "source": [
    "**Create Param Grid**\n",
    "(reduced params for faster runtime)"
   ]
  },
  {
   "cell_type": "code",
   "execution_count": 21,
   "id": "0c073ecb",
   "metadata": {},
   "outputs": [
    {
     "data": {
      "text/plain": [
       "4.9393939393939394"
      ]
     },
     "execution_count": 21,
     "metadata": {},
     "output_type": "execute_result"
    }
   ],
   "source": [
    "#No Balance param for XGBoost so create inbalance ratio\n",
    "from collections import Counter\n",
    "\n",
    "ctr = Counter(y_train)\n",
    "pos = ctr[1]  # minority class (leavers)\n",
    "neg = ctr[0]\n",
    "scale_pos_weight = neg / pos if pos > 0 else 1.0\n",
    "scale_pos_weight # This is the class imbalance ratio for use as XGBoost param"
   ]
  },
  {
   "cell_type": "code",
   "execution_count": 22,
   "id": "ef013e33",
   "metadata": {},
   "outputs": [],
   "source": [
    "##Param grids (AI generated & tweaked - reduced for faster runtime)\n",
    "param_grids = {\n",
    "    \"DecisionTree\": {\n",
    "        \"max_depth\": [None, 6, 10],\n",
    "        \"min_samples_split\": [2, 5, 10],\n",
    "        \"min_samples_leaf\": [1, 2, 4],\n",
    "        \"max_features\": [None, \"sqrt\", \"log2\"],\n",
    "        # class_weight is already set on the model\n",
    "    },\n",
    "\n",
    "    \"RandomForest\": {\n",
    "        \"n_estimators\": [200, 400],\n",
    "        \"max_depth\": [None, 8, 12],\n",
    "        \"min_samples_split\": [2, 5],\n",
    "        \"min_samples_leaf\": [1, 2],\n",
    "        \"max_features\": [\"sqrt\", \"log2\", 0.7],\n",
    "        # class_weight balanced_subsample already set\n",
    "        \"bootstrap\": [True],\n",
    "    },\n",
    "\n",
    "    \"ExtraTrees\": {\n",
    "        \"n_estimators\": [200, 400],\n",
    "        \"max_depth\": [None, 8, 12],\n",
    "        \"min_samples_split\": [2, 5],\n",
    "        \"min_samples_leaf\": [1, 2],\n",
    "        \"max_features\": [\"sqrt\", \"log2\", 0.7],\n",
    "        # class_weight balanced_subsample already set\n",
    "        \"bootstrap\": [False],  # ExtraTrees default\n",
    "    },\n",
    "\n",
    "    \"XGBoost\": {\n",
    "        \"n_estimators\": [300, 500],\n",
    "        \"learning_rate\": [0.05, 0.1],\n",
    "        \"max_depth\": [3, 5],\n",
    "        \"subsample\": [0.8, 1.0],\n",
    "        \"colsample_bytree\": [0.8, 1.0],\n",
    "        \"min_child_weight\": [1, 3],\n",
    "        # handle imbalance; test both baseline and weighted\n",
    "        \"scale_pos_weight\": [1.0, scale_pos_weight],\n",
    "        # eval_metric/logloss and use_label_encoder=False are already on the model\n",
    "    },\n",
    "}\n"
   ]
  },
  {
   "cell_type": "markdown",
   "id": "231c0128",
   "metadata": {},
   "source": [
    "**Create Training Loop**"
   ]
  },
  {
   "cell_type": "markdown",
   "id": "2cd55e7c",
   "metadata": {},
   "source": [
    "Loops over models and param lists (minimised for initial selection)."
   ]
  },
  {
   "cell_type": "markdown",
   "id": "feff2ebe",
   "metadata": {},
   "source": [
    "So as not to repeat code have created notes on each run(below) and changes made (e.g. scorer) - TODO create functions!"
   ]
  },
  {
   "cell_type": "code",
   "execution_count": null,
   "id": "7f6ac42c",
   "metadata": {},
   "outputs": [
    {
     "data": {
      "text/html": [
       "<div>\n",
       "<style scoped>\n",
       "    .dataframe tbody tr th:only-of-type {\n",
       "        vertical-align: middle;\n",
       "    }\n",
       "\n",
       "    .dataframe tbody tr th {\n",
       "        vertical-align: top;\n",
       "    }\n",
       "\n",
       "    .dataframe thead th {\n",
       "        text-align: right;\n",
       "    }\n",
       "</style>\n",
       "<table border=\"1\" class=\"dataframe\">\n",
       "  <thead>\n",
       "    <tr style=\"text-align: right;\">\n",
       "      <th></th>\n",
       "      <th>Model</th>\n",
       "      <th>BestParams</th>\n",
       "      <th>CV Best Score (AUC)</th>\n",
       "      <th>Train AUC</th>\n",
       "      <th>Test AUC</th>\n",
       "      <th>Overfit Gap</th>\n",
       "    </tr>\n",
       "  </thead>\n",
       "  <tbody>\n",
       "    <tr>\n",
       "      <th>2</th>\n",
       "      <td>ExtraTrees</td>\n",
       "      <td>{'bootstrap': False, 'max_depth': None, 'max_f...</td>\n",
       "      <td>0.805284</td>\n",
       "      <td>1.000000</td>\n",
       "      <td>0.714228</td>\n",
       "      <td>0.285772</td>\n",
       "    </tr>\n",
       "    <tr>\n",
       "      <th>1</th>\n",
       "      <td>RandomForest</td>\n",
       "      <td>{'bootstrap': True, 'max_depth': None, 'max_fe...</td>\n",
       "      <td>0.804546</td>\n",
       "      <td>0.999174</td>\n",
       "      <td>0.704072</td>\n",
       "      <td>0.295101</td>\n",
       "    </tr>\n",
       "    <tr>\n",
       "      <th>3</th>\n",
       "      <td>XGBoost</td>\n",
       "      <td>{'colsample_bytree': 0.8, 'learning_rate': 0.0...</td>\n",
       "      <td>0.799286</td>\n",
       "      <td>0.967698</td>\n",
       "      <td>0.700452</td>\n",
       "      <td>0.267246</td>\n",
       "    </tr>\n",
       "    <tr>\n",
       "      <th>0</th>\n",
       "      <td>DecisionTree</td>\n",
       "      <td>{'max_depth': 6, 'max_features': 'sqrt', 'min_...</td>\n",
       "      <td>0.721523</td>\n",
       "      <td>0.865387</td>\n",
       "      <td>0.587179</td>\n",
       "      <td>0.278208</td>\n",
       "    </tr>\n",
       "  </tbody>\n",
       "</table>\n",
       "</div>"
      ],
      "text/plain": [
       "          Model                                         BestParams  \\\n",
       "2    ExtraTrees  {'bootstrap': False, 'max_depth': None, 'max_f...   \n",
       "1  RandomForest  {'bootstrap': True, 'max_depth': None, 'max_fe...   \n",
       "3       XGBoost  {'colsample_bytree': 0.8, 'learning_rate': 0.0...   \n",
       "0  DecisionTree  {'max_depth': 6, 'max_features': 'sqrt', 'min_...   \n",
       "\n",
       "   CV Best Score (AUC)  Train AUC  Test AUC  Overfit Gap  \n",
       "2             0.805284   1.000000  0.714228     0.285772  \n",
       "1             0.804546   0.999174  0.704072     0.295101  \n",
       "3             0.799286   0.967698  0.700452     0.267246  \n",
       "0             0.721523   0.865387  0.587179     0.278208  "
      ]
     },
     "execution_count": 26,
     "metadata": {},
     "output_type": "execute_result"
    }
   ],
   "source": [
    "# Create training loop for GridSearchCV\n",
    "from sklearn.model_selection import GridSearchCV, StratifiedKFold\n",
    "from sklearn.metrics import roc_auc_score\n",
    "# Define cross-validation strategy and scoring metric\n",
    "cv = StratifiedKFold(n_splits=4, shuffle=True, random_state=42)\n",
    "scorer = \"roc_auc\"\n",
    "#create empty lists to store results\n",
    "search_results = []\n",
    "best_models = {}\n",
    "# Loop over models and param grids\n",
    "for name, model in models.items():\n",
    "    grid = GridSearchCV(\n",
    "        estimator=model,\n",
    "        param_grid=param_grids[name],\n",
    "        scoring=scorer,\n",
    "        cv=cv,\n",
    "        n_jobs=-1,            # parallelize CV\n",
    "        refit=True,\n",
    "        verbose=0\n",
    "    )\n",
    "    # fit the model\n",
    "    grid.fit(X_train, y_train)\n",
    "\n",
    "    # Evaluate on train/test (probabilities → AUC)\n",
    "    yhat_train = grid.predict_proba(X_train)[:, 1] if hasattr(grid.best_estimator_, \"predict_proba\") \\\n",
    "                 else grid.decision_function(X_train)\n",
    "    yhat_test  = grid.predict_proba(X_test)[:, 1]  if hasattr(grid.best_estimator_, \"predict_proba\") \\\n",
    "                 else grid.decision_function(X_test)\n",
    "\n",
    "    train_auc = roc_auc_score(y_train, yhat_train)\n",
    "    test_auc  = roc_auc_score(y_test,  yhat_test)\n",
    "    # Store results\n",
    "    search_results.append({\n",
    "        \"Model\": name,\n",
    "        \"BestParams\": grid.best_params_,\n",
    "        \"CV Best Score (AUC)\": grid.best_score_,\n",
    "        \"Train AUC\": train_auc,\n",
    "        \"Test AUC\": test_auc,\n",
    "        \"Overfit Gap\": train_auc - test_auc\n",
    "    })\n",
    "    best_models[name] = grid.best_estimator_\n",
    "# Create results DataFrame\n",
    "results_df = pd.DataFrame(search_results).sort_values(by=\"Test AUC\", ascending=False)\n",
    "results_df\n"
   ]
  },
  {
   "cell_type": "code",
   "execution_count": 36,
   "id": "194ae017",
   "metadata": {},
   "outputs": [],
   "source": [
    "##Store results for each run - comment out after runs\n",
    "#Run1\n",
    "results_df.to_csv('Reports/modelling_results_run1.csv')"
   ]
  },
  {
   "cell_type": "markdown",
   "id": "ee855679",
   "metadata": {},
   "source": [
    "**Display Best Models**"
   ]
  },
  {
   "cell_type": "code",
   "execution_count": null,
   "id": "0c84d0be",
   "metadata": {},
   "outputs": [
    {
     "data": {
      "text/plain": [
       "('ExtraTrees',\n",
       " ExtraTreesClassifier(class_weight='balanced_subsample', min_samples_split=5,\n",
       "                      n_estimators=400, n_jobs=-1, random_state=42))"
      ]
     },
     "execution_count": 32,
     "metadata": {},
     "output_type": "execute_result"
    }
   ],
   "source": [
    "#show best model details (top 1)\n",
    "best_model_name = results_df.iloc[0][\"Model\"]\n",
    "best_model = best_models[best_model_name]\n",
    "best_model_name, best_model"
   ]
  },
  {
   "cell_type": "code",
   "execution_count": 33,
   "id": "9fa9ee9f",
   "metadata": {},
   "outputs": [
    {
     "data": {
      "text/plain": [
       "('RandomForest',\n",
       " RandomForestClassifier(class_weight='balanced_subsample', min_samples_leaf=2,\n",
       "                        n_estimators=200, n_jobs=-1, random_state=42))"
      ]
     },
     "execution_count": 33,
     "metadata": {},
     "output_type": "execute_result"
    }
   ],
   "source": [
    "#Show second best model details\n",
    "second_best_model_name = results_df.iloc[1][\"Model\"]\n",
    "second_best_model = best_models[second_best_model_name]\n",
    "second_best_model_name, second_best_model"
   ]
  },
  {
   "cell_type": "markdown",
   "id": "0256aa9f",
   "metadata": {},
   "source": [
    "**Check Overfitting**"
   ]
  },
  {
   "cell_type": "code",
   "execution_count": 28,
   "id": "38700d4d",
   "metadata": {},
   "outputs": [
    {
     "data": {
      "image/png": "[encoded data removed]",
      "text/plain": [
       "<Figure size 640x480 with 1 Axes>"
      ]
     },
     "metadata": {},
     "output_type": "display_data"
    }
   ],
   "source": [
    "sns.barplot(data=results_df, x=\"Model\", y=\"Overfit Gap\")\n",
    "plt.title(\"Overfitting Gap (Train AUC - Test AUC)\")\n",
    "plt.axhline(0, color=\"black\", linestyle=\"--\")\n",
    "plt.ylabel(\"AUC Difference\")\n",
    "plt.show()\n"
   ]
  },
  {
   "cell_type": "markdown",
   "id": "15454798",
   "metadata": {},
   "source": [
    "**Check Accuracy Train vs Test**"
   ]
  },
  {
   "cell_type": "code",
   "execution_count": 25,
   "id": "2d2dae47",
   "metadata": {},
   "outputs": [
    {
     "data": {
      "image/png": "[encoded data removed]",
      "text/plain": [
       "<Figure size 640x480 with 1 Axes>"
      ]
     },
     "metadata": {},
     "output_type": "display_data"
    }
   ],
   "source": [
    "plot_df = results_df.melt(\n",
    "    id_vars=[\"Model\"],\n",
    "    value_vars=[\"Train AUC\", \"Test AUC\"],\n",
    "    var_name=\"Split\",\n",
    "    value_name=\"AUC\"\n",
    ")\n",
    "\n",
    "sns.barplot(data=plot_df, x=\"Model\", y=\"AUC\", hue=\"Split\")\n",
    "plt.title(\"Train vs Test ROC AUC\")\n",
    "plt.ylim(0.5, 1.0)\n",
    "plt.show()"
   ]
  },
  {
   "cell_type": "markdown",
   "id": "260115ae",
   "metadata": {},
   "source": [
    "**Show Confusion Matrix for each model**"
   ]
  },
  {
   "cell_type": "code",
   "execution_count": null,
   "id": "85d3bc25",
   "metadata": {},
   "outputs": [
    {
     "name": "stdout",
     "output_type": "stream",
     "text": [
      "\n",
      "=== DecisionTree ===\n"
     ]
    },
    {
     "data": {
      "image/png": "[encoded data removed]",
      "text/plain": [
       "<Figure size 640x480 with 2 Axes>"
      ]
     },
     "metadata": {},
     "output_type": "display_data"
    },
    {
     "name": "stdout",
     "output_type": "stream",
     "text": [
      "              precision    recall  f1-score   support\n",
      "\n",
      "      Stayed       0.91      0.71      0.80       255\n",
      "        Left       0.22      0.54      0.31        39\n",
      "\n",
      "    accuracy                           0.69       294\n",
      "   macro avg       0.57      0.62      0.56       294\n",
      "weighted avg       0.82      0.69      0.73       294\n",
      "\n",
      "\n",
      "=== RandomForest ===\n"
     ]
    },
    {
     "data": {
      "image/png": "[encoded data removed]",
      "text/plain": [
       "<Figure size 640x480 with 2 Axes>"
      ]
     },
     "metadata": {},
     "output_type": "display_data"
    },
    {
     "name": "stdout",
     "output_type": "stream",
     "text": [
      "              precision    recall  f1-score   support\n",
      "\n",
      "      Stayed       0.89      0.95      0.91       255\n",
      "        Left       0.36      0.21      0.26        39\n",
      "\n",
      "    accuracy                           0.85       294\n",
      "   macro avg       0.62      0.58      0.59       294\n",
      "weighted avg       0.82      0.85      0.83       294\n",
      "\n",
      "\n",
      "=== ExtraTrees ===\n"
     ]
    },
    {
     "data": {
      "image/png": "[encoded data removed]",
      "text/plain": [
       "<Figure size 640x480 with 2 Axes>"
      ]
     },
     "metadata": {},
     "output_type": "display_data"
    },
    {
     "name": "stdout",
     "output_type": "stream",
     "text": [
      "              precision    recall  f1-score   support\n",
      "\n",
      "      Stayed       0.89      0.94      0.91       255\n",
      "        Left       0.33      0.21      0.25        39\n",
      "\n",
      "    accuracy                           0.84       294\n",
      "   macro avg       0.61      0.57      0.58       294\n",
      "weighted avg       0.81      0.84      0.82       294\n",
      "\n",
      "\n",
      "=== XGBoost ===\n"
     ]
    },
    {
     "data": {
      "image/png": "[encoded data removed]",
      "text/plain": [
       "<Figure size 640x480 with 2 Axes>"
      ]
     },
     "metadata": {},
     "output_type": "display_data"
    },
    {
     "name": "stdout",
     "output_type": "stream",
     "text": [
      "              precision    recall  f1-score   support\n",
      "\n",
      "      Stayed       0.91      0.84      0.87       255\n",
      "        Left       0.30      0.46      0.36        39\n",
      "\n",
      "    accuracy                           0.79       294\n",
      "   macro avg       0.61      0.65      0.62       294\n",
      "weighted avg       0.83      0.79      0.80       294\n",
      "\n"
     ]
    }
   ],
   "source": [
    "##Show Confusion Matrix for each model\n",
    "from sklearn.metrics import (\n",
    "    confusion_matrix,\n",
    "    ConfusionMatrixDisplay,\n",
    "    classification_report\n",
    ")\n",
    "import matplotlib.pyplot as plt\n",
    "\n",
    "# You can loop through top models or just one (e.g., the best one)\n",
    "for name, model in best_models.items():\n",
    "    print(f\"\\n=== {name} ===\")\n",
    "    y_pred = model.predict(X_test)\n",
    "    \n",
    "    # Confusion Matrix\n",
    "    cm = confusion_matrix(y_test, y_pred)\n",
    "    disp = ConfusionMatrixDisplay(cm, display_labels=[\"Stayed (0)\", \"Left (1)\"])\n",
    "    disp.plot(cmap=\"Blues\", values_format='d')\n",
    "    plt.title(f\"Confusion Matrix: {name}\")\n",
    "    plt.show()\n",
    "    \n",
    "    # Classification report\n",
    "    print(classification_report(y_test, y_pred, target_names=[\"Stayed\", \"Left\"]))\n"
   ]
  },
  {
   "cell_type": "code",
   "execution_count": null,
   "id": "7564ed51",
   "metadata": {},
   "outputs": [],
   "source": []
  },
  {
   "cell_type": "markdown",
   "id": "df818253",
   "metadata": {},
   "source": [
    "### Notes on Runs"
   ]
  },
  {
   "cell_type": "markdown",
   "id": "26dda802",
   "metadata": {},
   "source": [
    "#### Run 1 \n",
    "Used \"roc-auc\" as scoring method - results saved to Reports/modelling_results_run1.csv\n",
    "* Decision Tree & Random Forest selected under best models\n",
    "* Both had far worse recall though than either XGBoost & Extra Trees \n",
    "* XGBoost had lowest value for overfit"
   ]
  },
  {
   "cell_type": "code",
   "execution_count": 38,
   "id": "f0052b59",
   "metadata": {},
   "outputs": [
    {
     "name": "stdout",
     "output_type": "stream",
     "text": [
      "              precision    recall  f1-score   support\n",
      "\n",
      "      Stayed       0.91      0.84      0.87       255\n",
      "        Left       0.30      0.46      0.36        39\n",
      "\n",
      "    accuracy                           0.79       294\n",
      "   macro avg       0.61      0.65      0.62       294\n",
      "weighted avg       0.83      0.79      0.80       294\n",
      "\n"
     ]
    }
   ],
   "source": [
    "class1 = classification_report(y_test, y_pred, target_names=[\"Stayed\", \"Left\"])\n",
    "print(class1)"
   ]
  },
  {
   "cell_type": "markdown",
   "id": "666a71f2",
   "metadata": {},
   "source": [
    "#### Run 2\n",
    "Used \"F1\" as scoring method - results saved to Reports/modelling_results_run2.csv\n",
    "* Decision Tree & Random Forest selected under best models\n",
    "* Both had far worse recall though than either XGBoost & Extra Trees \n",
    "* XGBoost had lowest value for overfit"
   ]
  }
 ],
 "metadata": {
  "kernelspec": {
   "display_name": ".venv (3.12.8)",
   "language": "python",
   "name": "python3"
  },
  "language_info": {
   "codemirror_mode": {
    "name": "ipython",
    "version": 3
   },
   "file_extension": ".py",
   "mimetype": "text/x-python",
   "name": "python",
   "nbconvert_exporter": "python",
   "pygments_lexer": "ipython3",
   "version": "3.12.8"
  }
 },
 "nbformat": 4,
 "nbformat_minor": 5
}
