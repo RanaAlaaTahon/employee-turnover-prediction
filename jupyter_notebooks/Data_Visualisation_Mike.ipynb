{
 "cells": [
  {
   "cell_type": "markdown",
   "id": "583b450f",
   "metadata": {},
   "source": [
    "# **Data Visualization**"
   ]
  },
  {
   "cell_type": "markdown",
   "id": "8b0220af",
   "metadata": {},
   "source": [
    "# Objectives\n"
   ]
  },
  {
   "cell_type": "markdown",
   "id": "2c26c718",
   "metadata": {},
   "source": [
    "The objective of this notebook is to explore and understand the [IBM HR Analytics Employee Attrition & Performance dataset](https://www.kaggle.com/datasets/pavansubhasht/ibm-hr-analytics-attrition-dataset)  through descriptive statistics and visual analysis. The focus is on uncovering key patterns and relationships among employee attributes that influence attrition and performance."
   ]
  },
  {
   "cell_type": "markdown",
   "id": "5bef08ea",
   "metadata": {},
   "source": [
    "# Input\n",
    "* The input can be found [here]()\n",
    "* This is a csv file contained the cleaned data outputted by the ETL process."
   ]
  },
  {
   "cell_type": "markdown",
   "id": "ee163152",
   "metadata": {},
   "source": [
    "# Outputs\n",
    "\n",
    "- All the visualizations have been saved as PNG files and are stored in a designated folder for easy access and reference, which can be found [here](../Images)."
   ]
  },
  {
   "cell_type": "markdown",
   "id": "a1493f5c",
   "metadata": {},
   "source": [
    "---"
   ]
  },
  {
   "cell_type": "markdown",
   "id": "3589f929",
   "metadata": {},
   "source": [
    "# Change working directory\n",
    "Change the working directory from its current folder to its parent folder as the notebooks will be stored in a subfolder\n",
    "* We access the current directory with os.getcwd()"
   ]
  },
  {
   "cell_type": "code",
   "execution_count": 1,
   "id": "b87f7593",
   "metadata": {},
   "outputs": [
    {
     "data": {
      "text/plain": [
       "'c:\\\\Users\\\\mikee\\\\Desktop\\\\employee-turnover-prediction\\\\jupyter_notebooks'"
      ]
     },
     "execution_count": 1,
     "metadata": {},
     "output_type": "execute_result"
    }
   ],
   "source": [
    "import os\n",
    "current_dir = os.getcwd()\n",
    "current_dir"
   ]
  },
  {
   "cell_type": "markdown",
   "id": "d39427e0",
   "metadata": {},
   "source": [
    "Make the parent of the current directory the new current directory\n",
    "* os.path.dirname() gets the parent directory\n",
    "* os.chir() defines the new current directory"
   ]
  },
  {
   "cell_type": "code",
   "execution_count": 2,
   "id": "762db310",
   "metadata": {},
   "outputs": [
    {
     "name": "stdout",
     "output_type": "stream",
     "text": [
      "You set a new current directory\n"
     ]
    }
   ],
   "source": [
    "os.chdir(os.path.dirname(current_dir))\n",
    "print(\"You set a new current directory\")"
   ]
  },
  {
   "cell_type": "markdown",
   "id": "9f60dfeb",
   "metadata": {},
   "source": [
    "Confirm the new current directory"
   ]
  },
  {
   "cell_type": "code",
   "execution_count": 3,
   "id": "6a3d708a",
   "metadata": {},
   "outputs": [
    {
     "data": {
      "text/plain": [
       "'c:\\\\Users\\\\mikee\\\\Desktop\\\\employee-turnover-prediction'"
      ]
     },
     "execution_count": 3,
     "metadata": {},
     "output_type": "execute_result"
    }
   ],
   "source": [
    "current_dir = os.getcwd()\n",
    "current_dir"
   ]
  },
  {
   "cell_type": "markdown",
   "id": "965f4fc9",
   "metadata": {},
   "source": [
    "Changing path directory to the dataset"
   ]
  },
  {
   "cell_type": "code",
   "execution_count": 4,
   "id": "6cd304a7",
   "metadata": {},
   "outputs": [],
   "source": [
    "#path directory\n",
    "raw_data_dir = os.path.join(current_dir, 'data_set/raw') \n",
    "\n",
    "#path directory\n",
    "processed_data_dir = os.path.join(current_dir, 'data_set/processed') \n"
   ]
  },
  {
   "cell_type": "markdown",
   "id": "787b2aae",
   "metadata": {},
   "source": [
    "---"
   ]
  },
  {
   "cell_type": "markdown",
   "id": "c6833d33",
   "metadata": {},
   "source": [
    "# Import packages"
   ]
  },
  {
   "cell_type": "code",
   "execution_count": 5,
   "id": "ea83c9bf",
   "metadata": {},
   "outputs": [],
   "source": [
    "import pandas as pd # Import pandas\n",
    "import matplotlib.pyplot as plt # Import matplotlib\n",
    "import seaborn as sns # Import seaborn\n",
    "import plotly.express as px # Import plotly\n",
    "sns.set_style('whitegrid') # Set style for visuals\n",
    "from scipy import stats # Import scipy for statistical tests\n",
    "import pingouin as pg # Import pingouin for statistical tests"
   ]
  },
  {
   "cell_type": "markdown",
   "id": "5fda4579",
   "metadata": {},
   "source": [
    "---"
   ]
  },
  {
   "cell_type": "markdown",
   "id": "014824d8",
   "metadata": {},
   "source": [
    "# Load the cleaned dataset"
   ]
  },
  {
   "cell_type": "code",
   "execution_count": 6,
   "id": "36f51844",
   "metadata": {},
   "outputs": [
    {
     "data": {
      "text/html": [
       "<div>\n",
       "<style scoped>\n",
       "    .dataframe tbody tr th:only-of-type {\n",
       "        vertical-align: middle;\n",
       "    }\n",
       "\n",
       "    .dataframe tbody tr th {\n",
       "        vertical-align: top;\n",
       "    }\n",
       "\n",
       "    .dataframe thead th {\n",
       "        text-align: right;\n",
       "    }\n",
       "</style>\n",
       "<table border=\"1\" class=\"dataframe\">\n",
       "  <thead>\n",
       "    <tr style=\"text-align: right;\">\n",
       "      <th></th>\n",
       "      <th>Age</th>\n",
       "      <th>Attrition</th>\n",
       "      <th>DistanceFromHome</th>\n",
       "      <th>JobLevel</th>\n",
       "      <th>JobRole</th>\n",
       "      <th>JobSatisfaction</th>\n",
       "      <th>MonthlyIncome</th>\n",
       "      <th>NumCompaniesWorked</th>\n",
       "      <th>OverTime</th>\n",
       "      <th>WorkLifeBalance</th>\n",
       "      <th>YearsSinceLastPromotion</th>\n",
       "      <th>YearsWithCurrManager</th>\n",
       "    </tr>\n",
       "  </thead>\n",
       "  <tbody>\n",
       "    <tr>\n",
       "      <th>0</th>\n",
       "      <td>41</td>\n",
       "      <td>Yes</td>\n",
       "      <td>1</td>\n",
       "      <td>2</td>\n",
       "      <td>Sales Executive</td>\n",
       "      <td>4</td>\n",
       "      <td>5993</td>\n",
       "      <td>8</td>\n",
       "      <td>Yes</td>\n",
       "      <td>1</td>\n",
       "      <td>0</td>\n",
       "      <td>5</td>\n",
       "    </tr>\n",
       "    <tr>\n",
       "      <th>1</th>\n",
       "      <td>49</td>\n",
       "      <td>No</td>\n",
       "      <td>8</td>\n",
       "      <td>2</td>\n",
       "      <td>Research Scientist</td>\n",
       "      <td>2</td>\n",
       "      <td>5130</td>\n",
       "      <td>1</td>\n",
       "      <td>No</td>\n",
       "      <td>3</td>\n",
       "      <td>1</td>\n",
       "      <td>7</td>\n",
       "    </tr>\n",
       "    <tr>\n",
       "      <th>2</th>\n",
       "      <td>37</td>\n",
       "      <td>Yes</td>\n",
       "      <td>2</td>\n",
       "      <td>1</td>\n",
       "      <td>Laboratory Technician</td>\n",
       "      <td>3</td>\n",
       "      <td>2090</td>\n",
       "      <td>6</td>\n",
       "      <td>Yes</td>\n",
       "      <td>3</td>\n",
       "      <td>0</td>\n",
       "      <td>0</td>\n",
       "    </tr>\n",
       "    <tr>\n",
       "      <th>3</th>\n",
       "      <td>33</td>\n",
       "      <td>No</td>\n",
       "      <td>3</td>\n",
       "      <td>1</td>\n",
       "      <td>Research Scientist</td>\n",
       "      <td>3</td>\n",
       "      <td>2909</td>\n",
       "      <td>1</td>\n",
       "      <td>Yes</td>\n",
       "      <td>3</td>\n",
       "      <td>3</td>\n",
       "      <td>0</td>\n",
       "    </tr>\n",
       "    <tr>\n",
       "      <th>4</th>\n",
       "      <td>27</td>\n",
       "      <td>No</td>\n",
       "      <td>2</td>\n",
       "      <td>1</td>\n",
       "      <td>Laboratory Technician</td>\n",
       "      <td>2</td>\n",
       "      <td>3468</td>\n",
       "      <td>9</td>\n",
       "      <td>No</td>\n",
       "      <td>3</td>\n",
       "      <td>2</td>\n",
       "      <td>2</td>\n",
       "    </tr>\n",
       "  </tbody>\n",
       "</table>\n",
       "</div>"
      ],
      "text/plain": [
       "   Age Attrition  DistanceFromHome  JobLevel                JobRole  \\\n",
       "0   41       Yes                 1         2        Sales Executive   \n",
       "1   49        No                 8         2     Research Scientist   \n",
       "2   37       Yes                 2         1  Laboratory Technician   \n",
       "3   33        No                 3         1     Research Scientist   \n",
       "4   27        No                 2         1  Laboratory Technician   \n",
       "\n",
       "   JobSatisfaction  MonthlyIncome  NumCompaniesWorked OverTime  \\\n",
       "0                4           5993                   8      Yes   \n",
       "1                2           5130                   1       No   \n",
       "2                3           2090                   6      Yes   \n",
       "3                3           2909                   1      Yes   \n",
       "4                2           3468                   9       No   \n",
       "\n",
       "   WorkLifeBalance  YearsSinceLastPromotion  YearsWithCurrManager  \n",
       "0                1                        0                     5  \n",
       "1                3                        1                     7  \n",
       "2                3                        0                     0  \n",
       "3                3                        3                     0  \n",
       "4                3                        2                     2  "
      ]
     },
     "execution_count": 6,
     "metadata": {},
     "output_type": "execute_result"
    }
   ],
   "source": [
    "# load the dataset\n",
    "df = pd.read_csv(os.path.join(processed_data_dir, 'cleaned_employee_attrition.csv'))\n",
    "df.head()   \n"
   ]
  },
  {
   "cell_type": "markdown",
   "id": "46728b60",
   "metadata": {},
   "source": [
    "---"
   ]
  },
  {
   "cell_type": "markdown",
   "id": "73d5ba0d",
   "metadata": {},
   "source": [
    "# Hypothesis 2"
   ]
  },
  {
   "cell_type": "markdown",
   "id": "848b868c",
   "metadata": {},
   "source": [
    "**Hypothesis:** Employees who work overtime are significantly more likely to quit.  \n",
    "**Validation:**\n",
    "- Two-proportion z-test or chi-square test comparing `OverTime = Yes` vs `No` on `Attrition`.\n",
    "- Plot attrition rates by `OverTime` status.\n",
    "- (Optional) Logistic regression with `OverTime` as a key predictor."
   ]
  },
  {
   "cell_type": "markdown",
   "id": "f3cae4fe",
   "metadata": {},
   "source": [
    "* H<sub>0</sub>: There is no significant correlation between Overtime and Attrition. (pval => 0.05)\n",
    "* H<sub>a</sub>: There is a significant correlation between Overtime and Attrition. (pval < 0.05>)"
   ]
  },
  {
   "cell_type": "markdown",
   "id": "7bc6f01e",
   "metadata": {},
   "source": [
    "First we will check the distribution of our data."
   ]
  },
  {
   "cell_type": "code",
   "execution_count": 9,
   "id": "6ad0f036",
   "metadata": {},
   "outputs": [
    {
     "data": {
      "text/html": [
       "<div>\n",
       "<style scoped>\n",
       "    .dataframe tbody tr th:only-of-type {\n",
       "        vertical-align: middle;\n",
       "    }\n",
       "\n",
       "    .dataframe tbody tr th {\n",
       "        vertical-align: top;\n",
       "    }\n",
       "\n",
       "    .dataframe thead th {\n",
       "        text-align: right;\n",
       "    }\n",
       "</style>\n",
       "<table border=\"1\" class=\"dataframe\">\n",
       "  <thead>\n",
       "    <tr style=\"text-align: right;\">\n",
       "      <th></th>\n",
       "      <th>Age</th>\n",
       "      <th>Attrition</th>\n",
       "      <th>DistanceFromHome</th>\n",
       "      <th>JobLevel</th>\n",
       "      <th>JobRole</th>\n",
       "      <th>JobSatisfaction</th>\n",
       "      <th>MonthlyIncome</th>\n",
       "      <th>NumCompaniesWorked</th>\n",
       "      <th>OverTime</th>\n",
       "      <th>WorkLifeBalance</th>\n",
       "      <th>YearsSinceLastPromotion</th>\n",
       "      <th>YearsWithCurrManager</th>\n",
       "      <th>Attrition_encoded</th>\n",
       "      <th>OverTime_encoded</th>\n",
       "    </tr>\n",
       "  </thead>\n",
       "  <tbody>\n",
       "    <tr>\n",
       "      <th>0</th>\n",
       "      <td>41</td>\n",
       "      <td>Yes</td>\n",
       "      <td>1</td>\n",
       "      <td>2</td>\n",
       "      <td>Sales Executive</td>\n",
       "      <td>4</td>\n",
       "      <td>5993</td>\n",
       "      <td>8</td>\n",
       "      <td>Yes</td>\n",
       "      <td>1</td>\n",
       "      <td>0</td>\n",
       "      <td>5</td>\n",
       "      <td>1</td>\n",
       "      <td>1</td>\n",
       "    </tr>\n",
       "    <tr>\n",
       "      <th>1</th>\n",
       "      <td>49</td>\n",
       "      <td>No</td>\n",
       "      <td>8</td>\n",
       "      <td>2</td>\n",
       "      <td>Research Scientist</td>\n",
       "      <td>2</td>\n",
       "      <td>5130</td>\n",
       "      <td>1</td>\n",
       "      <td>No</td>\n",
       "      <td>3</td>\n",
       "      <td>1</td>\n",
       "      <td>7</td>\n",
       "      <td>0</td>\n",
       "      <td>0</td>\n",
       "    </tr>\n",
       "    <tr>\n",
       "      <th>2</th>\n",
       "      <td>37</td>\n",
       "      <td>Yes</td>\n",
       "      <td>2</td>\n",
       "      <td>1</td>\n",
       "      <td>Laboratory Technician</td>\n",
       "      <td>3</td>\n",
       "      <td>2090</td>\n",
       "      <td>6</td>\n",
       "      <td>Yes</td>\n",
       "      <td>3</td>\n",
       "      <td>0</td>\n",
       "      <td>0</td>\n",
       "      <td>1</td>\n",
       "      <td>1</td>\n",
       "    </tr>\n",
       "    <tr>\n",
       "      <th>3</th>\n",
       "      <td>33</td>\n",
       "      <td>No</td>\n",
       "      <td>3</td>\n",
       "      <td>1</td>\n",
       "      <td>Research Scientist</td>\n",
       "      <td>3</td>\n",
       "      <td>2909</td>\n",
       "      <td>1</td>\n",
       "      <td>Yes</td>\n",
       "      <td>3</td>\n",
       "      <td>3</td>\n",
       "      <td>0</td>\n",
       "      <td>0</td>\n",
       "      <td>1</td>\n",
       "    </tr>\n",
       "    <tr>\n",
       "      <th>4</th>\n",
       "      <td>27</td>\n",
       "      <td>No</td>\n",
       "      <td>2</td>\n",
       "      <td>1</td>\n",
       "      <td>Laboratory Technician</td>\n",
       "      <td>2</td>\n",
       "      <td>3468</td>\n",
       "      <td>9</td>\n",
       "      <td>No</td>\n",
       "      <td>3</td>\n",
       "      <td>2</td>\n",
       "      <td>2</td>\n",
       "      <td>0</td>\n",
       "      <td>0</td>\n",
       "    </tr>\n",
       "  </tbody>\n",
       "</table>\n",
       "</div>"
      ],
      "text/plain": [
       "   Age Attrition  DistanceFromHome  JobLevel                JobRole  \\\n",
       "0   41       Yes                 1         2        Sales Executive   \n",
       "1   49        No                 8         2     Research Scientist   \n",
       "2   37       Yes                 2         1  Laboratory Technician   \n",
       "3   33        No                 3         1     Research Scientist   \n",
       "4   27        No                 2         1  Laboratory Technician   \n",
       "\n",
       "   JobSatisfaction  MonthlyIncome  NumCompaniesWorked OverTime  \\\n",
       "0                4           5993                   8      Yes   \n",
       "1                2           5130                   1       No   \n",
       "2                3           2090                   6      Yes   \n",
       "3                3           2909                   1      Yes   \n",
       "4                2           3468                   9       No   \n",
       "\n",
       "   WorkLifeBalance  YearsSinceLastPromotion  YearsWithCurrManager  \\\n",
       "0                1                        0                     5   \n",
       "1                3                        1                     7   \n",
       "2                3                        0                     0   \n",
       "3                3                        3                     0   \n",
       "4                3                        2                     2   \n",
       "\n",
       "   Attrition_encoded  OverTime_encoded  \n",
       "0                  1                 1  \n",
       "1                  0                 0  \n",
       "2                  1                 1  \n",
       "3                  0                 1  \n",
       "4                  0                 0  "
      ]
     },
     "execution_count": 9,
     "metadata": {},
     "output_type": "execute_result"
    }
   ],
   "source": [
    "#create encoded columns for categorical variables\n",
    "df['Attrition_encoded'] = df['Attrition'].map({'Yes': 1, 'No': 0})\n",
    "df['OverTime_encoded'] = df['OverTime'].map({'Yes': 1, 'No': 0})\n",
    "df.head()"
   ]
  },
  {
   "cell_type": "code",
   "execution_count": 10,
   "id": "8c33e9c1",
   "metadata": {},
   "outputs": [
    {
     "data": {
      "text/html": [
       "<div>\n",
       "<style scoped>\n",
       "    .dataframe tbody tr th:only-of-type {\n",
       "        vertical-align: middle;\n",
       "    }\n",
       "\n",
       "    .dataframe tbody tr th {\n",
       "        vertical-align: top;\n",
       "    }\n",
       "\n",
       "    .dataframe thead th {\n",
       "        text-align: right;\n",
       "    }\n",
       "</style>\n",
       "<table border=\"1\" class=\"dataframe\">\n",
       "  <thead>\n",
       "    <tr style=\"text-align: right;\">\n",
       "      <th></th>\n",
       "      <th>W</th>\n",
       "      <th>pval</th>\n",
       "      <th>normal</th>\n",
       "    </tr>\n",
       "    <tr>\n",
       "      <th>Attrition_encoded</th>\n",
       "      <th></th>\n",
       "      <th></th>\n",
       "      <th></th>\n",
       "    </tr>\n",
       "  </thead>\n",
       "  <tbody>\n",
       "    <tr>\n",
       "      <th>1</th>\n",
       "      <td>0.634583</td>\n",
       "      <td>3.205658e-22</td>\n",
       "      <td>False</td>\n",
       "    </tr>\n",
       "    <tr>\n",
       "      <th>0</th>\n",
       "      <td>0.524661</td>\n",
       "      <td>2.425225e-49</td>\n",
       "      <td>False</td>\n",
       "    </tr>\n",
       "  </tbody>\n",
       "</table>\n",
       "</div>"
      ],
      "text/plain": [
       "                          W          pval  normal\n",
       "Attrition_encoded                                \n",
       "1                  0.634583  3.205658e-22   False\n",
       "0                  0.524661  2.425225e-49   False"
      ]
     },
     "execution_count": 10,
     "metadata": {},
     "output_type": "execute_result"
    }
   ],
   "source": [
    "#normality test\n",
    "normality_test = pg.normality(df, dv='OverTime_encoded', group='Attrition_encoded')\n",
    "normality_test"
   ]
  },
  {
   "cell_type": "markdown",
   "id": "73e4eb76",
   "metadata": {},
   "source": [
    "Both categories are unevenly distributed."
   ]
  },
  {
   "cell_type": "code",
   "execution_count": null,
   "id": "9d7b8b73",
   "metadata": {},
   "outputs": [
    {
     "name": "stdout",
     "output_type": "stream",
     "text": [
      "                 test    lambda       chi2  dof          pval    cramer  power\n",
      "0             pearson  1.000000  89.043879  1.0  3.861518e-21  0.246118    1.0\n",
      "1        cressie-read  0.666667  85.987978  1.0  1.810329e-20  0.241858    1.0\n",
      "2      log-likelihood  0.000000  81.401579  1.0  1.842107e-19  0.235319    1.0\n",
      "3       freeman-tukey -0.500000  79.119676  1.0  5.845922e-19  0.231998    1.0\n",
      "4  mod-log-likelihood -1.000000  77.702953  1.0  1.197622e-18  0.229911    1.0\n",
      "5              neyman -2.000000  77.165249  1.0  1.572360e-18  0.229114    1.0\n"
     ]
    }
   ],
   "source": [
    "#chi-square test show value and p-value\n",
    "\n",
    "expected, observed, stats = pg.chi2_independence(data=df, x='OverTime', y='Attrition', correction=False)\n",
    "print(stats)"
   ]
  },
  {
   "cell_type": "markdown",
   "id": "e1dbdbc9",
   "metadata": {},
   "source": [
    "To confirm the p-val for pearson evaluation"
   ]
  },
  {
   "cell_type": "code",
   "execution_count": 26,
   "id": "66d66f14",
   "metadata": {},
   "outputs": [
    {
     "name": "stdout",
     "output_type": "stream",
     "text": [
      "Attrition   No  Yes\n",
      "OverTime           \n",
      "No         944  110\n",
      "Yes        289  127 Attrition          No         Yes\n",
      "OverTime                         \n",
      "No         884.069388  169.930612\n",
      "Yes        348.930612   67.069388\n"
     ]
    }
   ],
   "source": [
    "print(observed, expected)"
   ]
  },
  {
   "cell_type": "markdown",
   "id": "a2d0a1d5",
   "metadata": {},
   "source": [
    "The tests show that with a high chi2 (89 for pearson) and pval significantly less than 0.05 that there is a strong correlation between Overtime and Attrition. We can reject the null hypothesis."
   ]
  },
  {
   "cell_type": "code",
   "execution_count": null,
   "id": "af2dac37",
   "metadata": {},
   "outputs": [
    {
     "data": {
      "image/png": "[encoded data removed]",
      "text/plain": [
       "<Figure size 1000x600 with 1 Axes>"
      ]
     },
     "metadata": {},
     "output_type": "display_data"
    }
   ],
   "source": [
    "# Distributions by % for OverTime and Attrition\n",
    "overtime_attrition = pd.crosstab(df['OverTime'], df['Attrition'], normalize='index') * 100\n",
    "overtime_attrition.plot(kind='bar', stacked=True, figsize=(10,6), color=['skyblue', 'salmon'])\n",
    "plt.title('Percentage Distribution of Attrition by Overtime')   \n",
    "plt.xlabel('Overtime')\n",
    "plt.ylabel('Percentage (%)')\n",
    "plt.legend(title='Attrition', labels=['No', 'Yes'])\n",
    "plt.xticks(rotation=0)\n",
    "plt.show()"
   ]
  },
  {
   "cell_type": "code",
   "execution_count": null,
   "id": "bf1c4f2d",
   "metadata": {},
   "outputs": [
    {
     "data": {
      "image/png": "[encoded data removed]",
      "text/plain": [
       "<Figure size 640x480 with 1 Axes>"
      ]
     },
     "metadata": {},
     "output_type": "display_data"
    }
   ],
   "source": [
    "# Visualize the relationship between Overtime and Attrition\n",
    "ax = sns.countplot(\n",
    "    data=df,\n",
    "    x=\"OverTime_encoded\",\n",
    "    hue=\"Attrition_encoded\"\n",
    ")\n",
    "plt.title(\"Employee Count by Overtime and Attrition\")\n",
    "plt.xlabel(\"Overtime (0 = No, 1 = Yes)\")\n",
    "plt.ylabel(\"Count\")\n",
    "\n",
    "# Add percentage labels\n",
    "total = len(df)\n",
    "for p in ax.patches:\n",
    "    height = p.get_height()\n",
    "    ax.text(\n",
    "        p.get_x() + p.get_width() / 2,\n",
    "        height + 5,\n",
    "        f\"{100 * height / total:.1f}%\",\n",
    "        ha=\"center\"\n",
    "    )\n",
    "plt.show()\n"
   ]
  },
  {
   "cell_type": "code",
   "execution_count": 38,
   "id": "b5e4820c",
   "metadata": {},
   "outputs": [
    {
     "data": {
      "text/html": [
       "<div>\n",
       "<style scoped>\n",
       "    .dataframe tbody tr th:only-of-type {\n",
       "        vertical-align: middle;\n",
       "    }\n",
       "\n",
       "    .dataframe tbody tr th {\n",
       "        vertical-align: top;\n",
       "    }\n",
       "\n",
       "    .dataframe thead th {\n",
       "        text-align: right;\n",
       "    }\n",
       "</style>\n",
       "<table border=\"1\" class=\"dataframe\">\n",
       "  <thead>\n",
       "    <tr style=\"text-align: right;\">\n",
       "      <th></th>\n",
       "      <th>OverTime</th>\n",
       "      <th>Attrition_Rate</th>\n",
       "    </tr>\n",
       "  </thead>\n",
       "  <tbody>\n",
       "    <tr>\n",
       "      <th>0</th>\n",
       "      <td>No</td>\n",
       "      <td>10.436433</td>\n",
       "    </tr>\n",
       "    <tr>\n",
       "      <th>1</th>\n",
       "      <td>Yes</td>\n",
       "      <td>30.528846</td>\n",
       "    </tr>\n",
       "  </tbody>\n",
       "</table>\n",
       "</div>"
      ],
      "text/plain": [
       "  OverTime  Attrition_Rate\n",
       "0       No       10.436433\n",
       "1      Yes       30.528846"
      ]
     },
     "execution_count": 38,
     "metadata": {},
     "output_type": "execute_result"
    }
   ],
   "source": [
    "# calculate attrition rates\n",
    "attrition_rates = df.groupby('OverTime')['Attrition_encoded'].mean().reset_index()\n",
    "attrition_rates.columns = ['OverTime', 'Attrition_Rate']\n",
    "attrition_rates['Attrition_Rate'] *= 100  # Convert to percentage\n",
    "attrition_rates"
   ]
  },
  {
   "cell_type": "markdown",
   "id": "7bd2fd4d",
   "metadata": {},
   "source": [
    "### Key Observations:\n",
    "- Attrition is significantly higher for employees who do overtime (30% against 10%)\n",
    "- Our chi2 test clearly showed that there is more than a random relationship between Overtime and Attrition\n",
    "- The visualisations show this significant relationship \n",
    "### Conclusion:\n",
    "- We can reject the null hypothesis and conclude there is a significant difference between employees who do Overtime and those that do not."
   ]
  },
  {
   "cell_type": "markdown",
   "id": "1c2d5d7a",
   "metadata": {},
   "source": [
    "---"
   ]
  },
  {
   "cell_type": "markdown",
   "id": "d9e76cce",
   "metadata": {},
   "source": [
    "# Hypothesis 3"
   ]
  },
  {
   "cell_type": "markdown",
   "id": "2b5f8520",
   "metadata": {},
   "source": [
    "**Hypothesis:** Lower job satisfaction leads to higher attrition.  \n",
    "**Validation:**\n",
    "- Independent-samples t-test comparing `JobSatisfaction` between `Attrition = Yes` and `No`.\n",
    "- Box/violin plot of `JobSatisfaction` by `Attrition`.\n",
    "- (Optional) Logistic regression including `JobSatisfaction` (and controls).\n",
    "\n",
    "\n"
   ]
  },
  {
   "cell_type": "code",
   "execution_count": null,
   "id": "f9e697ba",
   "metadata": {},
   "outputs": [],
   "source": []
  },
  {
   "cell_type": "markdown",
   "id": "c40881b2",
   "metadata": {},
   "source": [
    "### Key Observations:\n",
    "- \n",
    "- \n",
    "- \n",
    "### Conclusion:\n",
    "- "
   ]
  }
 ],
 "metadata": {
  "kernelspec": {
   "display_name": ".venv (3.12.8)",
   "language": "python",
   "name": "python3"
  },
  "language_info": {
   "codemirror_mode": {
    "name": "ipython",
    "version": 3
   },
   "file_extension": ".py",
   "mimetype": "text/x-python",
   "name": "python",
   "nbconvert_exporter": "python",
   "pygments_lexer": "ipython3",
   "version": "3.12.8"
  }
 },
 "nbformat": 4,
 "nbformat_minor": 5
}
