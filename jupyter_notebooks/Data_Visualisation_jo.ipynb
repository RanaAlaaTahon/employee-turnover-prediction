{
 "cells": [
  {
   "cell_type": "markdown",
   "id": "583b450f",
   "metadata": {},
   "source": [
    "# **Data Visualization**"
   ]
  },
  {
   "cell_type": "markdown",
   "id": "8b0220af",
   "metadata": {},
   "source": [
    "# Objectives\n"
   ]
  },
  {
   "cell_type": "markdown",
   "id": "2c26c718",
   "metadata": {},
   "source": [
    "The objective of this notebook is to explore and understand the [IBM HR Analytics Employee Attrition & Performance dataset](https://www.kaggle.com/datasets/pavansubhasht/ibm-hr-analytics-attrition-dataset)  through descriptive statistics and visual analysis. The focus is on uncovering key patterns and relationships among employee attributes that influence attrition and performance."
   ]
  },
  {
   "cell_type": "markdown",
   "id": "5bef08ea",
   "metadata": {},
   "source": [
    "# Input\n",
    "* The input can be found [here]()\n",
    "* This is a csv file contained the cleaned data outputted by the ETL process."
   ]
  },
  {
   "cell_type": "markdown",
   "id": "ee163152",
   "metadata": {},
   "source": [
    "# Outputs\n",
    "\n",
    "- All the visualizations have been saved as PNG files and are stored in a designated folder for easy access and reference, which can be found [here](../Images)."
   ]
  },
  {
   "cell_type": "markdown",
   "id": "a1493f5c",
   "metadata": {},
   "source": [
    "---"
   ]
  },
  {
   "cell_type": "markdown",
   "id": "3589f929",
   "metadata": {},
   "source": [
    "# Change working directory\n",
    "Change the working directory from its current folder to its parent folder as the notebooks will be stored in a subfolder\n",
    "* We access the current directory with os.getcwd()"
   ]
  },
  {
   "cell_type": "code",
   "execution_count": 1,
   "id": "b87f7593",
   "metadata": {},
   "outputs": [
    {
     "data": {
      "text/plain": [
       "'d:\\\\Code Institute\\\\employee-turnover-prediction-1\\\\jupyter_notebooks'"
      ]
     },
     "execution_count": 1,
     "metadata": {},
     "output_type": "execute_result"
    }
   ],
   "source": [
    "import os\n",
    "current_dir = os.getcwd()\n",
    "current_dir"
   ]
  },
  {
   "cell_type": "markdown",
   "id": "d39427e0",
   "metadata": {},
   "source": [
    "Make the parent of the current directory the new current directory\n",
    "* os.path.dirname() gets the parent directory\n",
    "* os.chir() defines the new current directory"
   ]
  },
  {
   "cell_type": "code",
   "execution_count": 2,
   "id": "762db310",
   "metadata": {},
   "outputs": [
    {
     "name": "stdout",
     "output_type": "stream",
     "text": [
      "You set a new current directory\n"
     ]
    }
   ],
   "source": [
    "os.chdir(os.path.dirname(current_dir))\n",
    "print(\"You set a new current directory\")"
   ]
  },
  {
   "cell_type": "markdown",
   "id": "9f60dfeb",
   "metadata": {},
   "source": [
    "Confirm the new current directory"
   ]
  },
  {
   "cell_type": "code",
   "execution_count": 3,
   "id": "6a3d708a",
   "metadata": {},
   "outputs": [
    {
     "data": {
      "text/plain": [
       "'d:\\\\Code Institute\\\\employee-turnover-prediction-1'"
      ]
     },
     "execution_count": 3,
     "metadata": {},
     "output_type": "execute_result"
    }
   ],
   "source": [
    "current_dir = os.getcwd()\n",
    "current_dir"
   ]
  },
  {
   "cell_type": "markdown",
   "id": "965f4fc9",
   "metadata": {},
   "source": [
    "Changing path directory to the dataset"
   ]
  },
  {
   "cell_type": "code",
   "execution_count": 4,
   "id": "6cd304a7",
   "metadata": {},
   "outputs": [],
   "source": [
    "#path directory\n",
    "raw_data_dir = os.path.join(current_dir, 'data_set/raw') \n",
    "\n",
    "#path directory\n",
    "processed_data_dir = os.path.join(current_dir, 'data_set/processed') \n"
   ]
  },
  {
   "cell_type": "markdown",
   "id": "787b2aae",
   "metadata": {},
   "source": [
    "---"
   ]
  },
  {
   "cell_type": "markdown",
   "id": "c6833d33",
   "metadata": {},
   "source": [
    "# Import packages"
   ]
  },
  {
   "cell_type": "code",
   "execution_count": 5,
   "id": "ea83c9bf",
   "metadata": {},
   "outputs": [],
   "source": [
    "import pandas as pd # Import pandas\n",
    "import matplotlib.pyplot as plt # Import matplotlib\n",
    "import seaborn as sns # Import seaborn\n",
    "import plotly.express as px # Import plotly express\n",
    "import plotly.graph_objects as go # Import plotly graph objects for advanced plots\n",
    "from plotly.subplots import make_subplots\n",
    "sns.set_style('whitegrid') # Set style for visuals\n",
    "from scipy import stats # Import scipy for statistical tests"
   ]
  },
  {
   "cell_type": "markdown",
   "id": "5fda4579",
   "metadata": {},
   "source": [
    "---"
   ]
  },
  {
   "cell_type": "markdown",
   "id": "014824d8",
   "metadata": {},
   "source": [
    "# Load the cleaned dataset"
   ]
  },
  {
   "cell_type": "code",
   "execution_count": 6,
   "id": "36f51844",
   "metadata": {},
   "outputs": [
    {
     "data": {
      "text/html": [
       "<div>\n",
       "<style scoped>\n",
       "    .dataframe tbody tr th:only-of-type {\n",
       "        vertical-align: middle;\n",
       "    }\n",
       "\n",
       "    .dataframe tbody tr th {\n",
       "        vertical-align: top;\n",
       "    }\n",
       "\n",
       "    .dataframe thead th {\n",
       "        text-align: right;\n",
       "    }\n",
       "</style>\n",
       "<table border=\"1\" class=\"dataframe\">\n",
       "  <thead>\n",
       "    <tr style=\"text-align: right;\">\n",
       "      <th></th>\n",
       "      <th>Age</th>\n",
       "      <th>Attrition</th>\n",
       "      <th>DistanceFromHome</th>\n",
       "      <th>JobLevel</th>\n",
       "      <th>JobRole</th>\n",
       "      <th>JobSatisfaction</th>\n",
       "      <th>MonthlyIncome</th>\n",
       "      <th>NumCompaniesWorked</th>\n",
       "      <th>OverTime</th>\n",
       "      <th>WorkLifeBalance</th>\n",
       "      <th>YearsSinceLastPromotion</th>\n",
       "      <th>YearsWithCurrManager</th>\n",
       "    </tr>\n",
       "  </thead>\n",
       "  <tbody>\n",
       "    <tr>\n",
       "      <th>0</th>\n",
       "      <td>41</td>\n",
       "      <td>Yes</td>\n",
       "      <td>1</td>\n",
       "      <td>2</td>\n",
       "      <td>Sales Executive</td>\n",
       "      <td>4</td>\n",
       "      <td>5993</td>\n",
       "      <td>8</td>\n",
       "      <td>Yes</td>\n",
       "      <td>1</td>\n",
       "      <td>0</td>\n",
       "      <td>5</td>\n",
       "    </tr>\n",
       "    <tr>\n",
       "      <th>1</th>\n",
       "      <td>49</td>\n",
       "      <td>No</td>\n",
       "      <td>8</td>\n",
       "      <td>2</td>\n",
       "      <td>Research Scientist</td>\n",
       "      <td>2</td>\n",
       "      <td>5130</td>\n",
       "      <td>1</td>\n",
       "      <td>No</td>\n",
       "      <td>3</td>\n",
       "      <td>1</td>\n",
       "      <td>7</td>\n",
       "    </tr>\n",
       "    <tr>\n",
       "      <th>2</th>\n",
       "      <td>37</td>\n",
       "      <td>Yes</td>\n",
       "      <td>2</td>\n",
       "      <td>1</td>\n",
       "      <td>Laboratory Technician</td>\n",
       "      <td>3</td>\n",
       "      <td>2090</td>\n",
       "      <td>6</td>\n",
       "      <td>Yes</td>\n",
       "      <td>3</td>\n",
       "      <td>0</td>\n",
       "      <td>0</td>\n",
       "    </tr>\n",
       "    <tr>\n",
       "      <th>3</th>\n",
       "      <td>33</td>\n",
       "      <td>No</td>\n",
       "      <td>3</td>\n",
       "      <td>1</td>\n",
       "      <td>Research Scientist</td>\n",
       "      <td>3</td>\n",
       "      <td>2909</td>\n",
       "      <td>1</td>\n",
       "      <td>Yes</td>\n",
       "      <td>3</td>\n",
       "      <td>3</td>\n",
       "      <td>0</td>\n",
       "    </tr>\n",
       "    <tr>\n",
       "      <th>4</th>\n",
       "      <td>27</td>\n",
       "      <td>No</td>\n",
       "      <td>2</td>\n",
       "      <td>1</td>\n",
       "      <td>Laboratory Technician</td>\n",
       "      <td>2</td>\n",
       "      <td>3468</td>\n",
       "      <td>9</td>\n",
       "      <td>No</td>\n",
       "      <td>3</td>\n",
       "      <td>2</td>\n",
       "      <td>2</td>\n",
       "    </tr>\n",
       "  </tbody>\n",
       "</table>\n",
       "</div>"
      ],
      "text/plain": [
       "   Age Attrition  DistanceFromHome  JobLevel                JobRole  \\\n",
       "0   41       Yes                 1         2        Sales Executive   \n",
       "1   49        No                 8         2     Research Scientist   \n",
       "2   37       Yes                 2         1  Laboratory Technician   \n",
       "3   33        No                 3         1     Research Scientist   \n",
       "4   27        No                 2         1  Laboratory Technician   \n",
       "\n",
       "   JobSatisfaction  MonthlyIncome  NumCompaniesWorked OverTime  \\\n",
       "0                4           5993                   8      Yes   \n",
       "1                2           5130                   1       No   \n",
       "2                3           2090                   6      Yes   \n",
       "3                3           2909                   1      Yes   \n",
       "4                2           3468                   9       No   \n",
       "\n",
       "   WorkLifeBalance  YearsSinceLastPromotion  YearsWithCurrManager  \n",
       "0                1                        0                     5  \n",
       "1                3                        1                     7  \n",
       "2                3                        0                     0  \n",
       "3                3                        3                     0  \n",
       "4                3                        2                     2  "
      ]
     },
     "execution_count": 6,
     "metadata": {},
     "output_type": "execute_result"
    }
   ],
   "source": [
    "# Load the cleaned dataset\n",
    "df = pd.read_csv(os.path.join(processed_data_dir, 'cleaned_employee_attrition.csv'))\n",
    "df.head(5)"
   ]
  },
  {
   "cell_type": "markdown",
   "id": "46728b60",
   "metadata": {},
   "source": [
    "---"
   ]
  },
  {
   "cell_type": "markdown",
   "id": "73d5ba0d",
   "metadata": {},
   "source": [
    "## 1. ATTRITION OVERVIEW"
   ]
  },
  {
   "cell_type": "code",
   "execution_count": 7,
   "id": "bf1c4f2d",
   "metadata": {},
   "outputs": [
    {
     "data": {
      "application/vnd.plotly.v1+json": {
       "config": {
        "plotlyServerURL": "https://plot.ly"
       },
       "data": [
        {
         "hole": 0.4,
         "labels": [
          "No",
          "Yes"
         ],
         "marker": {
          "colors": [
           "#2ecc71",
           "#e74c3c"
          ]
         },
         "textfont": {
          "size": 14
         },
         "textinfo": "label+percent",
         "type": "pie",
         "values": [
          1233,
          237
         ]
        }
       ],
       "layout": {
        "height": 500,
        "showlegend": true,
        "template": {
         "data": {
          "bar": [
           {
            "error_x": {
             "color": "#2a3f5f"
            },
            "error_y": {
             "color": "#2a3f5f"
            },
            "marker": {
             "line": {
              "color": "#E5ECF6",
              "width": 0.5
             },
             "pattern": {
              "fillmode": "overlay",
              "size": 10,
              "solidity": 0.2
             }
            },
            "type": "bar"
           }
          ],
          "barpolar": [
           {
            "marker": {
             "line": {
              "color": "#E5ECF6",
              "width": 0.5
             },
             "pattern": {
              "fillmode": "overlay",
              "size": 10,
              "solidity": 0.2
             }
            },
            "type": "barpolar"
           }
          ],
          "carpet": [
           {
            "aaxis": {
             "endlinecolor": "#2a3f5f",
             "gridcolor": "white",
             "linecolor": "white",
             "minorgridcolor": "white",
             "startlinecolor": "#2a3f5f"
            },
            "baxis": {
             "endlinecolor": "#2a3f5f",
             "gridcolor": "white",
             "linecolor": "white",
             "minorgridcolor": "white",
             "startlinecolor": "#2a3f5f"
            },
            "type": "carpet"
           }
          ],
          "choropleth": [
           {
            "colorbar": {
             "outlinewidth": 0,
             "ticks": ""
            },
            "type": "choropleth"
           }
          ],
          "contour": [
           {
            "colorbar": {
             "outlinewidth": 0,
             "ticks": ""
            },
            "colorscale": [
             [
              0,
              "#0d0887"
             ],
             [
              0.1111111111111111,
              "#46039f"
             ],
             [
              0.2222222222222222,
              "#7201a8"
             ],
             [
              0.3333333333333333,
              "#9c179e"
             ],
             [
              0.4444444444444444,
              "#bd3786"
             ],
             [
              0.5555555555555556,
              "#d8576b"
             ],
             [
              0.6666666666666666,
              "#ed7953"
             ],
             [
              0.7777777777777778,
              "#fb9f3a"
             ],
             [
              0.8888888888888888,
              "#fdca26"
             ],
             [
              1,
              "#f0f921"
             ]
            ],
            "type": "contour"
           }
          ],
          "contourcarpet": [
           {
            "colorbar": {
             "outlinewidth": 0,
             "ticks": ""
            },
            "type": "contourcarpet"
           }
          ],
          "heatmap": [
           {
            "colorbar": {
             "outlinewidth": 0,
             "ticks": ""
            },
            "colorscale": [
             [
              0,
              "#0d0887"
             ],
             [
              0.1111111111111111,
              "#46039f"
             ],
             [
              0.2222222222222222,
              "#7201a8"
             ],
             [
              0.3333333333333333,
              "#9c179e"
             ],
             [
              0.4444444444444444,
              "#bd3786"
             ],
             [
              0.5555555555555556,
              "#d8576b"
             ],
             [
              0.6666666666666666,
              "#ed7953"
             ],
             [
              0.7777777777777778,
              "#fb9f3a"
             ],
             [
              0.8888888888888888,
              "#fdca26"
             ],
             [
              1,
              "#f0f921"
             ]
            ],
            "type": "heatmap"
           }
          ],
          "heatmapgl": [
           {
            "colorbar": {
             "outlinewidth": 0,
             "ticks": ""
            },
            "colorscale": [
             [
              0,
              "#0d0887"
             ],
             [
              0.1111111111111111,
              "#46039f"
             ],
             [
              0.2222222222222222,
              "#7201a8"
             ],
             [
              0.3333333333333333,
              "#9c179e"
             ],
             [
              0.4444444444444444,
              "#bd3786"
             ],
             [
              0.5555555555555556,
              "#d8576b"
             ],
             [
              0.6666666666666666,
              "#ed7953"
             ],
             [
              0.7777777777777778,
              "#fb9f3a"
             ],
             [
              0.8888888888888888,
              "#fdca26"
             ],
             [
              1,
              "#f0f921"
             ]
            ],
            "type": "heatmapgl"
           }
          ],
          "histogram": [
           {
            "marker": {
             "pattern": {
              "fillmode": "overlay",
              "size": 10,
              "solidity": 0.2
             }
            },
            "type": "histogram"
           }
          ],
          "histogram2d": [
           {
            "colorbar": {
             "outlinewidth": 0,
             "ticks": ""
            },
            "colorscale": [
             [
              0,
              "#0d0887"
             ],
             [
              0.1111111111111111,
              "#46039f"
             ],
             [
              0.2222222222222222,
              "#7201a8"
             ],
             [
              0.3333333333333333,
              "#9c179e"
             ],
             [
              0.4444444444444444,
              "#bd3786"
             ],
             [
              0.5555555555555556,
              "#d8576b"
             ],
             [
              0.6666666666666666,
              "#ed7953"
             ],
             [
              0.7777777777777778,
              "#fb9f3a"
             ],
             [
              0.8888888888888888,
              "#fdca26"
             ],
             [
              1,
              "#f0f921"
             ]
            ],
            "type": "histogram2d"
           }
          ],
          "histogram2dcontour": [
           {
            "colorbar": {
             "outlinewidth": 0,
             "ticks": ""
            },
            "colorscale": [
             [
              0,
              "#0d0887"
             ],
             [
              0.1111111111111111,
              "#46039f"
             ],
             [
              0.2222222222222222,
              "#7201a8"
             ],
             [
              0.3333333333333333,
              "#9c179e"
             ],
             [
              0.4444444444444444,
              "#bd3786"
             ],
             [
              0.5555555555555556,
              "#d8576b"
             ],
             [
              0.6666666666666666,
              "#ed7953"
             ],
             [
              0.7777777777777778,
              "#fb9f3a"
             ],
             [
              0.8888888888888888,
              "#fdca26"
             ],
             [
              1,
              "#f0f921"
             ]
            ],
            "type": "histogram2dcontour"
           }
          ],
          "mesh3d": [
           {
            "colorbar": {
             "outlinewidth": 0,
             "ticks": ""
            },
            "type": "mesh3d"
           }
          ],
          "parcoords": [
           {
            "line": {
             "colorbar": {
              "outlinewidth": 0,
              "ticks": ""
             }
            },
            "type": "parcoords"
           }
          ],
          "pie": [
           {
            "automargin": true,
            "type": "pie"
           }
          ],
          "scatter": [
           {
            "fillpattern": {
             "fillmode": "overlay",
             "size": 10,
             "solidity": 0.2
            },
            "type": "scatter"
           }
          ],
          "scatter3d": [
           {
            "line": {
             "colorbar": {
              "outlinewidth": 0,
              "ticks": ""
             }
            },
            "marker": {
             "colorbar": {
              "outlinewidth": 0,
              "ticks": ""
             }
            },
            "type": "scatter3d"
           }
          ],
          "scattercarpet": [
           {
            "marker": {
             "colorbar": {
              "outlinewidth": 0,
              "ticks": ""
             }
            },
            "type": "scattercarpet"
           }
          ],
          "scattergeo": [
           {
            "marker": {
             "colorbar": {
              "outlinewidth": 0,
              "ticks": ""
             }
            },
            "type": "scattergeo"
           }
          ],
          "scattergl": [
           {
            "marker": {
             "colorbar": {
              "outlinewidth": 0,
              "ticks": ""
             }
            },
            "type": "scattergl"
           }
          ],
          "scattermapbox": [
           {
            "marker": {
             "colorbar": {
              "outlinewidth": 0,
              "ticks": ""
             }
            },
            "type": "scattermapbox"
           }
          ],
          "scatterpolar": [
           {
            "marker": {
             "colorbar": {
              "outlinewidth": 0,
              "ticks": ""
             }
            },
            "type": "scatterpolar"
           }
          ],
          "scatterpolargl": [
           {
            "marker": {
             "colorbar": {
              "outlinewidth": 0,
              "ticks": ""
             }
            },
            "type": "scatterpolargl"
           }
          ],
          "scatterternary": [
           {
            "marker": {
             "colorbar": {
              "outlinewidth": 0,
              "ticks": ""
             }
            },
            "type": "scatterternary"
           }
          ],
          "surface": [
           {
            "colorbar": {
             "outlinewidth": 0,
             "ticks": ""
            },
            "colorscale": [
             [
              0,
              "#0d0887"
             ],
             [
              0.1111111111111111,
              "#46039f"
             ],
             [
              0.2222222222222222,
              "#7201a8"
             ],
             [
              0.3333333333333333,
              "#9c179e"
             ],
             [
              0.4444444444444444,
              "#bd3786"
             ],
             [
              0.5555555555555556,
              "#d8576b"
             ],
             [
              0.6666666666666666,
              "#ed7953"
             ],
             [
              0.7777777777777778,
              "#fb9f3a"
             ],
             [
              0.8888888888888888,
              "#fdca26"
             ],
             [
              1,
              "#f0f921"
             ]
            ],
            "type": "surface"
           }
          ],
          "table": [
           {
            "cells": {
             "fill": {
              "color": "#EBF0F8"
             },
             "line": {
              "color": "white"
             }
            },
            "header": {
             "fill": {
              "color": "#C8D4E3"
             },
             "line": {
              "color": "white"
             }
            },
            "type": "table"
           }
          ]
         },
         "layout": {
          "annotationdefaults": {
           "arrowcolor": "#2a3f5f",
           "arrowhead": 0,
           "arrowwidth": 1
          },
          "autotypenumbers": "strict",
          "coloraxis": {
           "colorbar": {
            "outlinewidth": 0,
            "ticks": ""
           }
          },
          "colorscale": {
           "diverging": [
            [
             0,
             "#8e0152"
            ],
            [
             0.1,
             "#c51b7d"
            ],
            [
             0.2,
             "#de77ae"
            ],
            [
             0.3,
             "#f1b6da"
            ],
            [
             0.4,
             "#fde0ef"
            ],
            [
             0.5,
             "#f7f7f7"
            ],
            [
             0.6,
             "#e6f5d0"
            ],
            [
             0.7,
             "#b8e186"
            ],
            [
             0.8,
             "#7fbc41"
            ],
            [
             0.9,
             "#4d9221"
            ],
            [
             1,
             "#276419"
            ]
           ],
           "sequential": [
            [
             0,
             "#0d0887"
            ],
            [
             0.1111111111111111,
             "#46039f"
            ],
            [
             0.2222222222222222,
             "#7201a8"
            ],
            [
             0.3333333333333333,
             "#9c179e"
            ],
            [
             0.4444444444444444,
             "#bd3786"
            ],
            [
             0.5555555555555556,
             "#d8576b"
            ],
            [
             0.6666666666666666,
             "#ed7953"
            ],
            [
             0.7777777777777778,
             "#fb9f3a"
            ],
            [
             0.8888888888888888,
             "#fdca26"
            ],
            [
             1,
             "#f0f921"
            ]
           ],
           "sequentialminus": [
            [
             0,
             "#0d0887"
            ],
            [
             0.1111111111111111,
             "#46039f"
            ],
            [
             0.2222222222222222,
             "#7201a8"
            ],
            [
             0.3333333333333333,
             "#9c179e"
            ],
            [
             0.4444444444444444,
             "#bd3786"
            ],
            [
             0.5555555555555556,
             "#d8576b"
            ],
            [
             0.6666666666666666,
             "#ed7953"
            ],
            [
             0.7777777777777778,
             "#fb9f3a"
            ],
            [
             0.8888888888888888,
             "#fdca26"
            ],
            [
             1,
             "#f0f921"
            ]
           ]
          },
          "colorway": [
           "#636efa",
           "#EF553B",
           "#00cc96",
           "#ab63fa",
           "#FFA15A",
           "#19d3f3",
           "#FF6692",
           "#B6E880",
           "#FF97FF",
           "#FECB52"
          ],
          "font": {
           "color": "#2a3f5f"
          },
          "geo": {
           "bgcolor": "white",
           "lakecolor": "white",
           "landcolor": "#E5ECF6",
           "showlakes": true,
           "showland": true,
           "subunitcolor": "white"
          },
          "hoverlabel": {
           "align": "left"
          },
          "hovermode": "closest",
          "mapbox": {
           "style": "light"
          },
          "paper_bgcolor": "white",
          "plot_bgcolor": "#E5ECF6",
          "polar": {
           "angularaxis": {
            "gridcolor": "white",
            "linecolor": "white",
            "ticks": ""
           },
           "bgcolor": "#E5ECF6",
           "radialaxis": {
            "gridcolor": "white",
            "linecolor": "white",
            "ticks": ""
           }
          },
          "scene": {
           "xaxis": {
            "backgroundcolor": "#E5ECF6",
            "gridcolor": "white",
            "gridwidth": 2,
            "linecolor": "white",
            "showbackground": true,
            "ticks": "",
            "zerolinecolor": "white"
           },
           "yaxis": {
            "backgroundcolor": "#E5ECF6",
            "gridcolor": "white",
            "gridwidth": 2,
            "linecolor": "white",
            "showbackground": true,
            "ticks": "",
            "zerolinecolor": "white"
           },
           "zaxis": {
            "backgroundcolor": "#E5ECF6",
            "gridcolor": "white",
            "gridwidth": 2,
            "linecolor": "white",
            "showbackground": true,
            "ticks": "",
            "zerolinecolor": "white"
           }
          },
          "shapedefaults": {
           "line": {
            "color": "#2a3f5f"
           }
          },
          "ternary": {
           "aaxis": {
            "gridcolor": "white",
            "linecolor": "white",
            "ticks": ""
           },
           "baxis": {
            "gridcolor": "white",
            "linecolor": "white",
            "ticks": ""
           },
           "bgcolor": "#E5ECF6",
           "caxis": {
            "gridcolor": "white",
            "linecolor": "white",
            "ticks": ""
           }
          },
          "title": {
           "x": 0.05
          },
          "xaxis": {
           "automargin": true,
           "gridcolor": "white",
           "linecolor": "white",
           "ticks": "",
           "title": {
            "standoff": 15
           },
           "zerolinecolor": "white",
           "zerolinewidth": 2
          },
          "yaxis": {
           "automargin": true,
           "gridcolor": "white",
           "linecolor": "white",
           "ticks": "",
           "title": {
            "standoff": 15
           },
           "zerolinecolor": "white",
           "zerolinewidth": 2
          }
         }
        },
        "title": {
         "font": {
          "size": 20
         },
         "text": "Overall Attrition Rate: 16.1%"
        }
       }
      }
     },
     "metadata": {},
     "output_type": "display_data"
    },
    {
     "name": "stdout",
     "output_type": "stream",
     "text": [
      "\n",
      "Attrition Statistics:\n",
      "  Total Employees: 1470\n",
      "  Attrition: 237 (16.1%)\n",
      "  Retained: 1233 (83.9%)\n"
     ]
    }
   ],
   "source": [
    "# Overall attrition rate\n",
    "attrition_counts = df['Attrition'].value_counts()\n",
    "attrition_rate = (attrition_counts['Yes'] / len(df)) * 100\n",
    "\n",
    "fig = go.Figure(data=[\n",
    "    go.Pie(labels=attrition_counts.index, \n",
    "           values=attrition_counts.values,\n",
    "           hole=0.4,\n",
    "           marker_colors=['#2ecc71', '#e74c3c'],\n",
    "           textinfo='label+percent',\n",
    "           textfont_size=14)\n",
    "])\n",
    "\n",
    "fig.update_layout(\n",
    "    title=f'Overall Attrition Rate: {attrition_rate:.1f}%',\n",
    "    title_font_size=20,\n",
    "    height=500,\n",
    "    showlegend=True\n",
    ")\n",
    "\n",
    "fig.show()\n",
    "\n",
    "print(f\"\\nAttrition Statistics:\")\n",
    "print(f\"  Total Employees: {len(df)}\")\n",
    "print(f\"  Attrition: {attrition_counts['Yes']} ({attrition_rate:.1f}%)\")\n",
    "print(f\"  Retained: {attrition_counts['No']} ({100-attrition_rate:.1f}%)\")"
   ]
  },
  {
   "cell_type": "markdown",
   "id": "73ac1fa5",
   "metadata": {},
   "source": [
    "## 2. DEMOGRAPHIC ANALYSIS"
   ]
  },
  {
   "cell_type": "code",
   "execution_count": 8,
   "id": "37b4510a",
   "metadata": {},
   "outputs": [
    {
     "data": {
      "application/vnd.plotly.v1+json": {
       "config": {
        "plotlyServerURL": "https://plot.ly"
       },
       "data": [
        {
         "alignmentgroup": "True",
         "bingroup": "x",
         "hovertemplate": "Attrition=Yes<br>Age=%{x}<br>count=%{y}<extra></extra>",
         "legendgroup": "Yes",
         "marker": {
          "color": "#e74c3c",
          "opacity": 0.7,
          "pattern": {
           "shape": ""
          }
         },
         "name": "Yes",
         "nbinsx": 30,
         "offsetgroup": "Yes",
         "orientation": "v",
         "showlegend": true,
         "type": "histogram",
         "x": [
          41,
          37,
          28,
          36,
          34,
          32,
          39,
          24,
          50,
          26,
          41,
          48,
          28,
          36,
          46,
          37,
          20,
          25,
          34,
          56,
          31,
          58,
          19,
          31,
          51,
          32,
          19,
          19,
          41,
          35,
          38,
          29,
          32,
          30,
          30,
          29,
          29,
          33,
          33,
          32,
          37,
          31,
          28,
          47,
          44,
          26,
          26,
          18,
          52,
          28,
          39,
          29,
          21,
          33,
          41,
          40,
          21,
          34,
          26,
          30,
          25,
          24,
          34,
          29,
          19,
          33,
          33,
          31,
          34,
          22,
          26,
          18,
          26,
          32,
          24,
          30,
          31,
          27,
          45,
          20,
          33,
          24,
          50,
          28,
          42,
          33,
          47,
          55,
          26,
          23,
          29,
          33,
          58,
          28,
          49,
          55,
          26,
          35,
          29,
          32,
          58,
          20,
          21,
          22,
          41,
          39,
          25,
          19,
          20,
          36,
          37,
          58,
          40,
          31,
          29,
          30,
          35,
          20,
          30,
          37,
          26,
          52,
          36,
          36,
          26,
          20,
          21,
          51,
          28,
          44,
          35,
          33,
          25,
          26,
          33,
          28,
          50,
          39,
          18,
          33,
          31,
          29,
          42,
          28,
          43,
          44,
          22,
          41,
          24,
          19,
          25,
          45,
          21,
          44,
          29,
          32,
          39,
          40,
          52,
          31,
          44,
          58,
          55,
          31,
          35,
          31,
          27,
          49,
          29,
          31,
          31,
          25,
          46,
          39,
          31,
          31,
          34,
          28,
          29,
          34,
          24,
          28,
          29,
          40,
          31,
          30,
          35,
          53,
          38,
          28,
          18,
          35,
          35,
          40,
          35,
          23,
          48,
          32,
          23,
          24,
          47,
          36,
          32,
          30,
          29,
          33,
          31,
          43,
          21,
          22,
          44,
          35,
          34,
          37,
          26,
          46,
          31,
          29,
          32,
          29,
          46,
          30,
          22,
          34,
          56,
          29,
          28,
          32,
          27,
          28,
          31,
          53,
          23,
          29,
          56,
          50,
          50
         ],
         "xaxis": "x",
         "yaxis": "y"
        },
        {
         "alignmentgroup": "True",
         "bingroup": "x",
         "hovertemplate": "Attrition=No<br>Age=%{x}<br>count=%{y}<extra></extra>",
         "legendgroup": "No",
         "marker": {
          "color": "#2ecc71",
          "opacity": 0.7,
          "pattern": {
           "shape": ""
          }
         },
         "name": "No",
         "nbinsx": 30,
         "offsetgroup": "No",
         "orientation": "v",
         "showlegend": true,
         "type": "histogram",
         "x": [
          49,
          33,
          27,
          32,
          59,
          30,
          38,
          36,
          35,
          29,
          31,
          34,
          29,
          32,
          22,
          53,
          38,
          24,
          34,
          21,
          53,
          42,
          44,
          46,
          33,
          44,
          30,
          43,
          35,
          36,
          33,
          35,
          27,
          27,
          30,
          34,
          37,
          46,
          35,
          44,
          35,
          26,
          33,
          35,
          35,
          31,
          37,
          32,
          38,
          50,
          59,
          36,
          55,
          36,
          45,
          35,
          59,
          29,
          31,
          32,
          36,
          31,
          35,
          45,
          37,
          46,
          30,
          35,
          55,
          38,
          34,
          56,
          23,
          51,
          30,
          40,
          51,
          30,
          46,
          32,
          54,
          24,
          28,
          58,
          44,
          32,
          34,
          37,
          59,
          50,
          25,
          22,
          51,
          54,
          24,
          34,
          37,
          34,
          36,
          36,
          43,
          30,
          33,
          51,
          26,
          22,
          49,
          43,
          50,
          41,
          26,
          36,
          39,
          25,
          30,
          45,
          38,
          30,
          32,
          30,
          30,
          41,
          41,
          19,
          40,
          35,
          53,
          45,
          32,
          29,
          51,
          58,
          40,
          34,
          22,
          27,
          28,
          57,
          27,
          50,
          41,
          30,
          38,
          32,
          27,
          36,
          30,
          45,
          56,
          33,
          46,
          38,
          31,
          34,
          50,
          53,
          33,
          40,
          55,
          34,
          51,
          52,
          27,
          43,
          45,
          37,
          35,
          42,
          38,
          38,
          27,
          49,
          34,
          40,
          22,
          36,
          40,
          46,
          30,
          27,
          51,
          41,
          45,
          54,
          36,
          33,
          37,
          38,
          31,
          59,
          37,
          29,
          35,
          52,
          42,
          59,
          50,
          43,
          52,
          32,
          39,
          32,
          41,
          40,
          45,
          31,
          33,
          34,
          37,
          45,
          39,
          29,
          42,
          29,
          25,
          42,
          40,
          51,
          32,
          38,
          32,
          46,
          29,
          31,
          25,
          45,
          36,
          55,
          28,
          37,
          21,
          37,
          35,
          38,
          26,
          50,
          53,
          42,
          29,
          55,
          26,
          37,
          38,
          28,
          49,
          36,
          31,
          37,
          42,
          35,
          36,
          51,
          41,
          18,
          28,
          31,
          39,
          36,
          32,
          38,
          58,
          31,
          31,
          45,
          31,
          33,
          39,
          43,
          49,
          27,
          32,
          27,
          31,
          32,
          30,
          31,
          39,
          33,
          47,
          43,
          27,
          54,
          43,
          45,
          40,
          29,
          30,
          27,
          37,
          38,
          31,
          29,
          35,
          23,
          41,
          47,
          42,
          29,
          42,
          32,
          48,
          37,
          30,
          26,
          42,
          36,
          36,
          57,
          40,
          21,
          37,
          46,
          50,
          31,
          29,
          35,
          27,
          28,
          49,
          51,
          36,
          55,
          24,
          30,
          22,
          36,
          37,
          40,
          42,
          37,
          43,
          40,
          54,
          34,
          31,
          43,
          43,
          25,
          37,
          31,
          39,
          56,
          30,
          41,
          28,
          52,
          45,
          52,
          42,
          30,
          60,
          46,
          42,
          38,
          40,
          26,
          30,
          29,
          30,
          57,
          50,
          30,
          60,
          47,
          46,
          35,
          54,
          34,
          46,
          31,
          30,
          35,
          42,
          36,
          48,
          55,
          41,
          35,
          40,
          39,
          31,
          42,
          45,
          29,
          33,
          31,
          40,
          41,
          26,
          35,
          34,
          37,
          46,
          41,
          37,
          52,
          24,
          38,
          37,
          49,
          24,
          26,
          24,
          50,
          25,
          34,
          35,
          31,
          27,
          37,
          20,
          42,
          43,
          38,
          43,
          48,
          44,
          34,
          21,
          44,
          22,
          33,
          32,
          30,
          53,
          34,
          26,
          37,
          29,
          35,
          33,
          54,
          36,
          27,
          35,
          23,
          25,
          38,
          29,
          48,
          27,
          37,
          50,
          34,
          39,
          32,
          38,
          27,
          32,
          47,
          40,
          53,
          41,
          60,
          27,
          41,
          50,
          36,
          38,
          44,
          47,
          30,
          29,
          43,
          34,
          23,
          39,
          56,
          40,
          27,
          29,
          53,
          35,
          32,
          38,
          34,
          52,
          25,
          45,
          23,
          34,
          36,
          52,
          26,
          29,
          34,
          54,
          27,
          37,
          38,
          34,
          35,
          30,
          40,
          34,
          42,
          24,
          52,
          50,
          33,
          47,
          36,
          29,
          35,
          42,
          36,
          32,
          40,
          30,
          45,
          42,
          38,
          34,
          43,
          27,
          35,
          28,
          34,
          27,
          51,
          44,
          25,
          33,
          35,
          36,
          32,
          30,
          53,
          45,
          32,
          52,
          37,
          28,
          22,
          44,
          42,
          36,
          25,
          35,
          32,
          25,
          49,
          24,
          32,
          38,
          42,
          31,
          53,
          35,
          37,
          53,
          43,
          47,
          37,
          50,
          39,
          33,
          29,
          44,
          28,
          43,
          36,
          47,
          28,
          27,
          34,
          42,
          33,
          58,
          31,
          35,
          49,
          48,
          31,
          36,
          38,
          32,
          40,
          26,
          41,
          36,
          31,
          40,
          32,
          33,
          45,
          29,
          35,
          52,
          53,
          30,
          38,
          35,
          39,
          47,
          36,
          33,
          33,
          45,
          50,
          33,
          41,
          27,
          45,
          47,
          50,
          38,
          46,
          24,
          31,
          18,
          54,
          35,
          30,
          26,
          22,
          48,
          48,
          41,
          39,
          27,
          35,
          42,
          50,
          59,
          55,
          41,
          38,
          44,
          50,
          39,
          33,
          45,
          32,
          34,
          59,
          45,
          53,
          34,
          28,
          38,
          50,
          37,
          40,
          26,
          46,
          54,
          56,
          36,
          55,
          43,
          46,
          26,
          30,
          41,
          38,
          40,
          27,
          55,
          28,
          33,
          28,
          34,
          37,
          42,
          33,
          34,
          48,
          45,
          52,
          38,
          29,
          28,
          46,
          38,
          43,
          40,
          21,
          39,
          36,
          31,
          28,
          35,
          49,
          34,
          29,
          42,
          29,
          38,
          28,
          41,
          37,
          27,
          34,
          35,
          40,
          42,
          35,
          24,
          26,
          30,
          40,
          35,
          34,
          35,
          32,
          56,
          29,
          19,
          45,
          37,
          20,
          53,
          29,
          46,
          44,
          33,
          30,
          40,
          50,
          28,
          46,
          35,
          33,
          36,
          30,
          44,
          20,
          46,
          42,
          60,
          32,
          32,
          36,
          33,
          40,
          25,
          30,
          42,
          35,
          27,
          54,
          44,
          29,
          54,
          31,
          31,
          59,
          43,
          49,
          36,
          48,
          27,
          29,
          48,
          29,
          34,
          44,
          33,
          19,
          23,
          26,
          55,
          46,
          34,
          51,
          59,
          34,
          28,
          44,
          34,
          35,
          42,
          43,
          36,
          28,
          51,
          30,
          28,
          25,
          32,
          45,
          39,
          58,
          30,
          36,
          46,
          28,
          50,
          30,
          39,
          31,
          41,
          42,
          55,
          56,
          40,
          34,
          40,
          41,
          35,
          51,
          38,
          34,
          25,
          40,
          36,
          48,
          27,
          51,
          18,
          35,
          27,
          56,
          34,
          40,
          34,
          38,
          34,
          28,
          39,
          51,
          41,
          37,
          33,
          32,
          39,
          25,
          52,
          43,
          27,
          26,
          42,
          52,
          37,
          35,
          25,
          26,
          29,
          54,
          58,
          55,
          36,
          30,
          31,
          34,
          27,
          36,
          36,
          47,
          37,
          56,
          47,
          24,
          32,
          34,
          41,
          40,
          31,
          45,
          31,
          45,
          48,
          40,
          28,
          44,
          53,
          49,
          40,
          44,
          33,
          34,
          30,
          42,
          44,
          30,
          57,
          49,
          34,
          35,
          24,
          44,
          29,
          30,
          55,
          33,
          47,
          28,
          28,
          49,
          29,
          28,
          33,
          32,
          54,
          44,
          39,
          46,
          35,
          23,
          34,
          50,
          34,
          42,
          37,
          29,
          33,
          45,
          42,
          40,
          33,
          40,
          24,
          40,
          45,
          35,
          32,
          36,
          48,
          29,
          33,
          38,
          35,
          30,
          32,
          48,
          34,
          55,
          34,
          26,
          38,
          38,
          36,
          29,
          35,
          39,
          29,
          50,
          23,
          36,
          42,
          35,
          34,
          40,
          43,
          35,
          46,
          22,
          50,
          32,
          44,
          30,
          45,
          45,
          31,
          36,
          34,
          49,
          39,
          27,
          35,
          28,
          21,
          47,
          39,
          40,
          35,
          37,
          39,
          45,
          38,
          37,
          40,
          44,
          48,
          24,
          27,
          27,
          29,
          36,
          25,
          39,
          49,
          50,
          20,
          34,
          36,
          49,
          36,
          36,
          54,
          43,
          38,
          29,
          33,
          32,
          31,
          49,
          38,
          47,
          49,
          41,
          20,
          33,
          36,
          44,
          38,
          53,
          26,
          55,
          34,
          60,
          33,
          37,
          34,
          44,
          35,
          43,
          24,
          41,
          29,
          36,
          45,
          26,
          45,
          32,
          31,
          41,
          40,
          24,
          46,
          35,
          30,
          47,
          46,
          23,
          31,
          39,
          32,
          40,
          45,
          30,
          24,
          31,
          27,
          29,
          30,
          34,
          33,
          49,
          38,
          29,
          30,
          32,
          38,
          42,
          55,
          33,
          41,
          34,
          53,
          43,
          34,
          38,
          31,
          51,
          37,
          46,
          36,
          37,
          33,
          28,
          39,
          46,
          40,
          42,
          35,
          38,
          39,
          43,
          41,
          41,
          30,
          40,
          34,
          58,
          35,
          47,
          40,
          54,
          31,
          28,
          38,
          26,
          58,
          18,
          45,
          36,
          43,
          27,
          29,
          32,
          42,
          47,
          46,
          28,
          29,
          42,
          46,
          27,
          29,
          43,
          48,
          27,
          39,
          55,
          28,
          36,
          31,
          34,
          29,
          37,
          35,
          45,
          36,
          40,
          26,
          27,
          48,
          44,
          36,
          41,
          42,
          31,
          34,
          31,
          26,
          45,
          33,
          28,
          39,
          27,
          34,
          47,
          56,
          39,
          38,
          58,
          38,
          49,
          42,
          35,
          28,
          31,
          36,
          34,
          34,
          26,
          29,
          32,
          31,
          38,
          35,
          27,
          32,
          54,
          33,
          43,
          38,
          55,
          31,
          39,
          42,
          31,
          54,
          24,
          23,
          40,
          40,
          25,
          30,
          25,
          47,
          33,
          38,
          31,
          38,
          42,
          41,
          47,
          35,
          22,
          35,
          33,
          32,
          40,
          32,
          39,
          38,
          32,
          37,
          25,
          52,
          44,
          21,
          39,
          36,
          36,
          56,
          42,
          41,
          34,
          36,
          41,
          32,
          35,
          38,
          36,
          45,
          40,
          35,
          40,
          35,
          29,
          29,
          39,
          31,
          26,
          36,
          39,
          27,
          49,
          34
         ],
         "xaxis": "x",
         "yaxis": "y"
        }
       ],
       "layout": {
        "barmode": "overlay",
        "height": 500,
        "legend": {
         "title": {
          "text": "Attrition"
         },
         "tracegroupgap": 0
        },
        "template": {
         "data": {
          "bar": [
           {
            "error_x": {
             "color": "#2a3f5f"
            },
            "error_y": {
             "color": "#2a3f5f"
            },
            "marker": {
             "line": {
              "color": "#E5ECF6",
              "width": 0.5
             },
             "pattern": {
              "fillmode": "overlay",
              "size": 10,
              "solidity": 0.2
             }
            },
            "type": "bar"
           }
          ],
          "barpolar": [
           {
            "marker": {
             "line": {
              "color": "#E5ECF6",
              "width": 0.5
             },
             "pattern": {
              "fillmode": "overlay",
              "size": 10,
              "solidity": 0.2
             }
            },
            "type": "barpolar"
           }
          ],
          "carpet": [
           {
            "aaxis": {
             "endlinecolor": "#2a3f5f",
             "gridcolor": "white",
             "linecolor": "white",
             "minorgridcolor": "white",
             "startlinecolor": "#2a3f5f"
            },
            "baxis": {
             "endlinecolor": "#2a3f5f",
             "gridcolor": "white",
             "linecolor": "white",
             "minorgridcolor": "white",
             "startlinecolor": "#2a3f5f"
            },
            "type": "carpet"
           }
          ],
          "choropleth": [
           {
            "colorbar": {
             "outlinewidth": 0,
             "ticks": ""
            },
            "type": "choropleth"
           }
          ],
          "contour": [
           {
            "colorbar": {
             "outlinewidth": 0,
             "ticks": ""
            },
            "colorscale": [
             [
              0,
              "#0d0887"
             ],
             [
              0.1111111111111111,
              "#46039f"
             ],
             [
              0.2222222222222222,
              "#7201a8"
             ],
             [
              0.3333333333333333,
              "#9c179e"
             ],
             [
              0.4444444444444444,
              "#bd3786"
             ],
             [
              0.5555555555555556,
              "#d8576b"
             ],
             [
              0.6666666666666666,
              "#ed7953"
             ],
             [
              0.7777777777777778,
              "#fb9f3a"
             ],
             [
              0.8888888888888888,
              "#fdca26"
             ],
             [
              1,
              "#f0f921"
             ]
            ],
            "type": "contour"
           }
          ],
          "contourcarpet": [
           {
            "colorbar": {
             "outlinewidth": 0,
             "ticks": ""
            },
            "type": "contourcarpet"
           }
          ],
          "heatmap": [
           {
            "colorbar": {
             "outlinewidth": 0,
             "ticks": ""
            },
            "colorscale": [
             [
              0,
              "#0d0887"
             ],
             [
              0.1111111111111111,
              "#46039f"
             ],
             [
              0.2222222222222222,
              "#7201a8"
             ],
             [
              0.3333333333333333,
              "#9c179e"
             ],
             [
              0.4444444444444444,
              "#bd3786"
             ],
             [
              0.5555555555555556,
              "#d8576b"
             ],
             [
              0.6666666666666666,
              "#ed7953"
             ],
             [
              0.7777777777777778,
              "#fb9f3a"
             ],
             [
              0.8888888888888888,
              "#fdca26"
             ],
             [
              1,
              "#f0f921"
             ]
            ],
            "type": "heatmap"
           }
          ],
          "heatmapgl": [
           {
            "colorbar": {
             "outlinewidth": 0,
             "ticks": ""
            },
            "colorscale": [
             [
              0,
              "#0d0887"
             ],
             [
              0.1111111111111111,
              "#46039f"
             ],
             [
              0.2222222222222222,
              "#7201a8"
             ],
             [
              0.3333333333333333,
              "#9c179e"
             ],
             [
              0.4444444444444444,
              "#bd3786"
             ],
             [
              0.5555555555555556,
              "#d8576b"
             ],
             [
              0.6666666666666666,
              "#ed7953"
             ],
             [
              0.7777777777777778,
              "#fb9f3a"
             ],
             [
              0.8888888888888888,
              "#fdca26"
             ],
             [
              1,
              "#f0f921"
             ]
            ],
            "type": "heatmapgl"
           }
          ],
          "histogram": [
           {
            "marker": {
             "pattern": {
              "fillmode": "overlay",
              "size": 10,
              "solidity": 0.2
             }
            },
            "type": "histogram"
           }
          ],
          "histogram2d": [
           {
            "colorbar": {
             "outlinewidth": 0,
             "ticks": ""
            },
            "colorscale": [
             [
              0,
              "#0d0887"
             ],
             [
              0.1111111111111111,
              "#46039f"
             ],
             [
              0.2222222222222222,
              "#7201a8"
             ],
             [
              0.3333333333333333,
              "#9c179e"
             ],
             [
              0.4444444444444444,
              "#bd3786"
             ],
             [
              0.5555555555555556,
              "#d8576b"
             ],
             [
              0.6666666666666666,
              "#ed7953"
             ],
             [
              0.7777777777777778,
              "#fb9f3a"
             ],
             [
              0.8888888888888888,
              "#fdca26"
             ],
             [
              1,
              "#f0f921"
             ]
            ],
            "type": "histogram2d"
           }
          ],
          "histogram2dcontour": [
           {
            "colorbar": {
             "outlinewidth": 0,
             "ticks": ""
            },
            "colorscale": [
             [
              0,
              "#0d0887"
             ],
             [
              0.1111111111111111,
              "#46039f"
             ],
             [
              0.2222222222222222,
              "#7201a8"
             ],
             [
              0.3333333333333333,
              "#9c179e"
             ],
             [
              0.4444444444444444,
              "#bd3786"
             ],
             [
              0.5555555555555556,
              "#d8576b"
             ],
             [
              0.6666666666666666,
              "#ed7953"
             ],
             [
              0.7777777777777778,
              "#fb9f3a"
             ],
             [
              0.8888888888888888,
              "#fdca26"
             ],
             [
              1,
              "#f0f921"
             ]
            ],
            "type": "histogram2dcontour"
           }
          ],
          "mesh3d": [
           {
            "colorbar": {
             "outlinewidth": 0,
             "ticks": ""
            },
            "type": "mesh3d"
           }
          ],
          "parcoords": [
           {
            "line": {
             "colorbar": {
              "outlinewidth": 0,
              "ticks": ""
             }
            },
            "type": "parcoords"
           }
          ],
          "pie": [
           {
            "automargin": true,
            "type": "pie"
           }
          ],
          "scatter": [
           {
            "fillpattern": {
             "fillmode": "overlay",
             "size": 10,
             "solidity": 0.2
            },
            "type": "scatter"
           }
          ],
          "scatter3d": [
           {
            "line": {
             "colorbar": {
              "outlinewidth": 0,
              "ticks": ""
             }
            },
            "marker": {
             "colorbar": {
              "outlinewidth": 0,
              "ticks": ""
             }
            },
            "type": "scatter3d"
           }
          ],
          "scattercarpet": [
           {
            "marker": {
             "colorbar": {
              "outlinewidth": 0,
              "ticks": ""
             }
            },
            "type": "scattercarpet"
           }
          ],
          "scattergeo": [
           {
            "marker": {
             "colorbar": {
              "outlinewidth": 0,
              "ticks": ""
             }
            },
            "type": "scattergeo"
           }
          ],
          "scattergl": [
           {
            "marker": {
             "colorbar": {
              "outlinewidth": 0,
              "ticks": ""
             }
            },
            "type": "scattergl"
           }
          ],
          "scattermapbox": [
           {
            "marker": {
             "colorbar": {
              "outlinewidth": 0,
              "ticks": ""
             }
            },
            "type": "scattermapbox"
           }
          ],
          "scatterpolar": [
           {
            "marker": {
             "colorbar": {
              "outlinewidth": 0,
              "ticks": ""
             }
            },
            "type": "scatterpolar"
           }
          ],
          "scatterpolargl": [
           {
            "marker": {
             "colorbar": {
              "outlinewidth": 0,
              "ticks": ""
             }
            },
            "type": "scatterpolargl"
           }
          ],
          "scatterternary": [
           {
            "marker": {
             "colorbar": {
              "outlinewidth": 0,
              "ticks": ""
             }
            },
            "type": "scatterternary"
           }
          ],
          "surface": [
           {
            "colorbar": {
             "outlinewidth": 0,
             "ticks": ""
            },
            "colorscale": [
             [
              0,
              "#0d0887"
             ],
             [
              0.1111111111111111,
              "#46039f"
             ],
             [
              0.2222222222222222,
              "#7201a8"
             ],
             [
              0.3333333333333333,
              "#9c179e"
             ],
             [
              0.4444444444444444,
              "#bd3786"
             ],
             [
              0.5555555555555556,
              "#d8576b"
             ],
             [
              0.6666666666666666,
              "#ed7953"
             ],
             [
              0.7777777777777778,
              "#fb9f3a"
             ],
             [
              0.8888888888888888,
              "#fdca26"
             ],
             [
              1,
              "#f0f921"
             ]
            ],
            "type": "surface"
           }
          ],
          "table": [
           {
            "cells": {
             "fill": {
              "color": "#EBF0F8"
             },
             "line": {
              "color": "white"
             }
            },
            "header": {
             "fill": {
              "color": "#C8D4E3"
             },
             "line": {
              "color": "white"
             }
            },
            "type": "table"
           }
          ]
         },
         "layout": {
          "annotationdefaults": {
           "arrowcolor": "#2a3f5f",
           "arrowhead": 0,
           "arrowwidth": 1
          },
          "autotypenumbers": "strict",
          "coloraxis": {
           "colorbar": {
            "outlinewidth": 0,
            "ticks": ""
           }
          },
          "colorscale": {
           "diverging": [
            [
             0,
             "#8e0152"
            ],
            [
             0.1,
             "#c51b7d"
            ],
            [
             0.2,
             "#de77ae"
            ],
            [
             0.3,
             "#f1b6da"
            ],
            [
             0.4,
             "#fde0ef"
            ],
            [
             0.5,
             "#f7f7f7"
            ],
            [
             0.6,
             "#e6f5d0"
            ],
            [
             0.7,
             "#b8e186"
            ],
            [
             0.8,
             "#7fbc41"
            ],
            [
             0.9,
             "#4d9221"
            ],
            [
             1,
             "#276419"
            ]
           ],
           "sequential": [
            [
             0,
             "#0d0887"
            ],
            [
             0.1111111111111111,
             "#46039f"
            ],
            [
             0.2222222222222222,
             "#7201a8"
            ],
            [
             0.3333333333333333,
             "#9c179e"
            ],
            [
             0.4444444444444444,
             "#bd3786"
            ],
            [
             0.5555555555555556,
             "#d8576b"
            ],
            [
             0.6666666666666666,
             "#ed7953"
            ],
            [
             0.7777777777777778,
             "#fb9f3a"
            ],
            [
             0.8888888888888888,
             "#fdca26"
            ],
            [
             1,
             "#f0f921"
            ]
           ],
           "sequentialminus": [
            [
             0,
             "#0d0887"
            ],
            [
             0.1111111111111111,
             "#46039f"
            ],
            [
             0.2222222222222222,
             "#7201a8"
            ],
            [
             0.3333333333333333,
             "#9c179e"
            ],
            [
             0.4444444444444444,
             "#bd3786"
            ],
            [
             0.5555555555555556,
             "#d8576b"
            ],
            [
             0.6666666666666666,
             "#ed7953"
            ],
            [
             0.7777777777777778,
             "#fb9f3a"
            ],
            [
             0.8888888888888888,
             "#fdca26"
            ],
            [
             1,
             "#f0f921"
            ]
           ]
          },
          "colorway": [
           "#636efa",
           "#EF553B",
           "#00cc96",
           "#ab63fa",
           "#FFA15A",
           "#19d3f3",
           "#FF6692",
           "#B6E880",
           "#FF97FF",
           "#FECB52"
          ],
          "font": {
           "color": "#2a3f5f"
          },
          "geo": {
           "bgcolor": "white",
           "lakecolor": "white",
           "landcolor": "#E5ECF6",
           "showlakes": true,
           "showland": true,
           "subunitcolor": "white"
          },
          "hoverlabel": {
           "align": "left"
          },
          "hovermode": "closest",
          "mapbox": {
           "style": "light"
          },
          "paper_bgcolor": "white",
          "plot_bgcolor": "#E5ECF6",
          "polar": {
           "angularaxis": {
            "gridcolor": "white",
            "linecolor": "white",
            "ticks": ""
           },
           "bgcolor": "#E5ECF6",
           "radialaxis": {
            "gridcolor": "white",
            "linecolor": "white",
            "ticks": ""
           }
          },
          "scene": {
           "xaxis": {
            "backgroundcolor": "#E5ECF6",
            "gridcolor": "white",
            "gridwidth": 2,
            "linecolor": "white",
            "showbackground": true,
            "ticks": "",
            "zerolinecolor": "white"
           },
           "yaxis": {
            "backgroundcolor": "#E5ECF6",
            "gridcolor": "white",
            "gridwidth": 2,
            "linecolor": "white",
            "showbackground": true,
            "ticks": "",
            "zerolinecolor": "white"
           },
           "zaxis": {
            "backgroundcolor": "#E5ECF6",
            "gridcolor": "white",
            "gridwidth": 2,
            "linecolor": "white",
            "showbackground": true,
            "ticks": "",
            "zerolinecolor": "white"
           }
          },
          "shapedefaults": {
           "line": {
            "color": "#2a3f5f"
           }
          },
          "ternary": {
           "aaxis": {
            "gridcolor": "white",
            "linecolor": "white",
            "ticks": ""
           },
           "baxis": {
            "gridcolor": "white",
            "linecolor": "white",
            "ticks": ""
           },
           "bgcolor": "#E5ECF6",
           "caxis": {
            "gridcolor": "white",
            "linecolor": "white",
            "ticks": ""
           }
          },
          "title": {
           "x": 0.05
          },
          "xaxis": {
           "automargin": true,
           "gridcolor": "white",
           "linecolor": "white",
           "ticks": "",
           "title": {
            "standoff": 15
           },
           "zerolinecolor": "white",
           "zerolinewidth": 2
          },
          "yaxis": {
           "automargin": true,
           "gridcolor": "white",
           "linecolor": "white",
           "ticks": "",
           "title": {
            "standoff": 15
           },
           "zerolinecolor": "white",
           "zerolinewidth": 2
          }
         }
        },
        "title": {
         "text": "Age Distribution by Attrition Status"
        },
        "xaxis": {
         "anchor": "y",
         "domain": [
          0,
          1
         ],
         "title": {
          "text": "Age"
         }
        },
        "yaxis": {
         "anchor": "x",
         "domain": [
          0,
          1
         ],
         "title": {
          "text": "Count"
         }
        }
       }
      }
     },
     "metadata": {},
     "output_type": "display_data"
    }
   ],
   "source": [
    "# Age distribution by attrition\n",
    "fig = px.histogram(df, x='Age', color='Attrition',\n",
    "                   nbins=30, barmode='overlay',\n",
    "                   title='Age Distribution by Attrition Status',\n",
    "                   color_discrete_map={'Yes': '#e74c3c', 'No': '#2ecc71'},\n",
    "                   opacity=0.7)\n",
    "\n",
    "fig.update_layout(height=500, xaxis_title='Age', yaxis_title='Count')\n",
    "fig.show()\n",
    "\n",
    "# Statistics by age group\n",
    "if 'AgeGroup' in df.columns:\n",
    "    age_attrition = df.groupby('AgeGroup')['Attrition_Binary'].agg(['mean', 'count'])\n",
    "    age_attrition['mean'] = age_attrition['mean'] * 100\n",
    "    print(\"\\nAttrition Rate by Age Group:\")\n",
    "    print(age_attrition)"
   ]
  },
  {
   "cell_type": "markdown",
   "id": "ab0a47db",
   "metadata": {},
   "source": [
    "## 3. JOB SATISFACTION ANALYSIS"
   ]
  },
  {
   "cell_type": "code",
   "execution_count": 15,
   "id": "74dee635",
   "metadata": {},
   "outputs": [
    {
     "data": {
      "application/vnd.plotly.v1+json": {
       "config": {
        "plotlyServerURL": "https://plot.ly"
       },
       "data": [
        {
         "marker": {
          "color": "#2ecc71"
         },
         "name": "No",
         "showlegend": true,
         "type": "bar",
         "x": [
          1,
          2,
          3,
          4
         ],
         "xaxis": "x",
         "y": [
          223,
          234,
          369,
          407
         ],
         "yaxis": "y"
        },
        {
         "marker": {
          "color": "#e74c3c"
         },
         "name": "Yes",
         "showlegend": true,
         "type": "bar",
         "x": [
          1,
          2,
          3,
          4
         ],
         "xaxis": "x",
         "y": [
          66,
          46,
          73,
          52
         ],
         "yaxis": "y"
        }
       ],
       "layout": {
        "annotations": [
         {
          "font": {
           "size": 16
          },
          "showarrow": false,
          "text": "JobSatisfaction",
          "x": 0.5,
          "xanchor": "center",
          "xref": "paper",
          "y": 1,
          "yanchor": "bottom",
          "yref": "paper"
         }
        ],
        "barmode": "group",
        "height": 800,
        "template": {
         "data": {
          "bar": [
           {
            "error_x": {
             "color": "#2a3f5f"
            },
            "error_y": {
             "color": "#2a3f5f"
            },
            "marker": {
             "line": {
              "color": "#E5ECF6",
              "width": 0.5
             },
             "pattern": {
              "fillmode": "overlay",
              "size": 10,
              "solidity": 0.2
             }
            },
            "type": "bar"
           }
          ],
          "barpolar": [
           {
            "marker": {
             "line": {
              "color": "#E5ECF6",
              "width": 0.5
             },
             "pattern": {
              "fillmode": "overlay",
              "size": 10,
              "solidity": 0.2
             }
            },
            "type": "barpolar"
           }
          ],
          "carpet": [
           {
            "aaxis": {
             "endlinecolor": "#2a3f5f",
             "gridcolor": "white",
             "linecolor": "white",
             "minorgridcolor": "white",
             "startlinecolor": "#2a3f5f"
            },
            "baxis": {
             "endlinecolor": "#2a3f5f",
             "gridcolor": "white",
             "linecolor": "white",
             "minorgridcolor": "white",
             "startlinecolor": "#2a3f5f"
            },
            "type": "carpet"
           }
          ],
          "choropleth": [
           {
            "colorbar": {
             "outlinewidth": 0,
             "ticks": ""
            },
            "type": "choropleth"
           }
          ],
          "contour": [
           {
            "colorbar": {
             "outlinewidth": 0,
             "ticks": ""
            },
            "colorscale": [
             [
              0,
              "#0d0887"
             ],
             [
              0.1111111111111111,
              "#46039f"
             ],
             [
              0.2222222222222222,
              "#7201a8"
             ],
             [
              0.3333333333333333,
              "#9c179e"
             ],
             [
              0.4444444444444444,
              "#bd3786"
             ],
             [
              0.5555555555555556,
              "#d8576b"
             ],
             [
              0.6666666666666666,
              "#ed7953"
             ],
             [
              0.7777777777777778,
              "#fb9f3a"
             ],
             [
              0.8888888888888888,
              "#fdca26"
             ],
             [
              1,
              "#f0f921"
             ]
            ],
            "type": "contour"
           }
          ],
          "contourcarpet": [
           {
            "colorbar": {
             "outlinewidth": 0,
             "ticks": ""
            },
            "type": "contourcarpet"
           }
          ],
          "heatmap": [
           {
            "colorbar": {
             "outlinewidth": 0,
             "ticks": ""
            },
            "colorscale": [
             [
              0,
              "#0d0887"
             ],
             [
              0.1111111111111111,
              "#46039f"
             ],
             [
              0.2222222222222222,
              "#7201a8"
             ],
             [
              0.3333333333333333,
              "#9c179e"
             ],
             [
              0.4444444444444444,
              "#bd3786"
             ],
             [
              0.5555555555555556,
              "#d8576b"
             ],
             [
              0.6666666666666666,
              "#ed7953"
             ],
             [
              0.7777777777777778,
              "#fb9f3a"
             ],
             [
              0.8888888888888888,
              "#fdca26"
             ],
             [
              1,
              "#f0f921"
             ]
            ],
            "type": "heatmap"
           }
          ],
          "heatmapgl": [
           {
            "colorbar": {
             "outlinewidth": 0,
             "ticks": ""
            },
            "colorscale": [
             [
              0,
              "#0d0887"
             ],
             [
              0.1111111111111111,
              "#46039f"
             ],
             [
              0.2222222222222222,
              "#7201a8"
             ],
             [
              0.3333333333333333,
              "#9c179e"
             ],
             [
              0.4444444444444444,
              "#bd3786"
             ],
             [
              0.5555555555555556,
              "#d8576b"
             ],
             [
              0.6666666666666666,
              "#ed7953"
             ],
             [
              0.7777777777777778,
              "#fb9f3a"
             ],
             [
              0.8888888888888888,
              "#fdca26"
             ],
             [
              1,
              "#f0f921"
             ]
            ],
            "type": "heatmapgl"
           }
          ],
          "histogram": [
           {
            "marker": {
             "pattern": {
              "fillmode": "overlay",
              "size": 10,
              "solidity": 0.2
             }
            },
            "type": "histogram"
           }
          ],
          "histogram2d": [
           {
            "colorbar": {
             "outlinewidth": 0,
             "ticks": ""
            },
            "colorscale": [
             [
              0,
              "#0d0887"
             ],
             [
              0.1111111111111111,
              "#46039f"
             ],
             [
              0.2222222222222222,
              "#7201a8"
             ],
             [
              0.3333333333333333,
              "#9c179e"
             ],
             [
              0.4444444444444444,
              "#bd3786"
             ],
             [
              0.5555555555555556,
              "#d8576b"
             ],
             [
              0.6666666666666666,
              "#ed7953"
             ],
             [
              0.7777777777777778,
              "#fb9f3a"
             ],
             [
              0.8888888888888888,
              "#fdca26"
             ],
             [
              1,
              "#f0f921"
             ]
            ],
            "type": "histogram2d"
           }
          ],
          "histogram2dcontour": [
           {
            "colorbar": {
             "outlinewidth": 0,
             "ticks": ""
            },
            "colorscale": [
             [
              0,
              "#0d0887"
             ],
             [
              0.1111111111111111,
              "#46039f"
             ],
             [
              0.2222222222222222,
              "#7201a8"
             ],
             [
              0.3333333333333333,
              "#9c179e"
             ],
             [
              0.4444444444444444,
              "#bd3786"
             ],
             [
              0.5555555555555556,
              "#d8576b"
             ],
             [
              0.6666666666666666,
              "#ed7953"
             ],
             [
              0.7777777777777778,
              "#fb9f3a"
             ],
             [
              0.8888888888888888,
              "#fdca26"
             ],
             [
              1,
              "#f0f921"
             ]
            ],
            "type": "histogram2dcontour"
           }
          ],
          "mesh3d": [
           {
            "colorbar": {
             "outlinewidth": 0,
             "ticks": ""
            },
            "type": "mesh3d"
           }
          ],
          "parcoords": [
           {
            "line": {
             "colorbar": {
              "outlinewidth": 0,
              "ticks": ""
             }
            },
            "type": "parcoords"
           }
          ],
          "pie": [
           {
            "automargin": true,
            "type": "pie"
           }
          ],
          "scatter": [
           {
            "fillpattern": {
             "fillmode": "overlay",
             "size": 10,
             "solidity": 0.2
            },
            "type": "scatter"
           }
          ],
          "scatter3d": [
           {
            "line": {
             "colorbar": {
              "outlinewidth": 0,
              "ticks": ""
             }
            },
            "marker": {
             "colorbar": {
              "outlinewidth": 0,
              "ticks": ""
             }
            },
            "type": "scatter3d"
           }
          ],
          "scattercarpet": [
           {
            "marker": {
             "colorbar": {
              "outlinewidth": 0,
              "ticks": ""
             }
            },
            "type": "scattercarpet"
           }
          ],
          "scattergeo": [
           {
            "marker": {
             "colorbar": {
              "outlinewidth": 0,
              "ticks": ""
             }
            },
            "type": "scattergeo"
           }
          ],
          "scattergl": [
           {
            "marker": {
             "colorbar": {
              "outlinewidth": 0,
              "ticks": ""
             }
            },
            "type": "scattergl"
           }
          ],
          "scattermapbox": [
           {
            "marker": {
             "colorbar": {
              "outlinewidth": 0,
              "ticks": ""
             }
            },
            "type": "scattermapbox"
           }
          ],
          "scatterpolar": [
           {
            "marker": {
             "colorbar": {
              "outlinewidth": 0,
              "ticks": ""
             }
            },
            "type": "scatterpolar"
           }
          ],
          "scatterpolargl": [
           {
            "marker": {
             "colorbar": {
              "outlinewidth": 0,
              "ticks": ""
             }
            },
            "type": "scatterpolargl"
           }
          ],
          "scatterternary": [
           {
            "marker": {
             "colorbar": {
              "outlinewidth": 0,
              "ticks": ""
             }
            },
            "type": "scatterternary"
           }
          ],
          "surface": [
           {
            "colorbar": {
             "outlinewidth": 0,
             "ticks": ""
            },
            "colorscale": [
             [
              0,
              "#0d0887"
             ],
             [
              0.1111111111111111,
              "#46039f"
             ],
             [
              0.2222222222222222,
              "#7201a8"
             ],
             [
              0.3333333333333333,
              "#9c179e"
             ],
             [
              0.4444444444444444,
              "#bd3786"
             ],
             [
              0.5555555555555556,
              "#d8576b"
             ],
             [
              0.6666666666666666,
              "#ed7953"
             ],
             [
              0.7777777777777778,
              "#fb9f3a"
             ],
             [
              0.8888888888888888,
              "#fdca26"
             ],
             [
              1,
              "#f0f921"
             ]
            ],
            "type": "surface"
           }
          ],
          "table": [
           {
            "cells": {
             "fill": {
              "color": "#EBF0F8"
             },
             "line": {
              "color": "white"
             }
            },
            "header": {
             "fill": {
              "color": "#C8D4E3"
             },
             "line": {
              "color": "white"
             }
            },
            "type": "table"
           }
          ]
         },
         "layout": {
          "annotationdefaults": {
           "arrowcolor": "#2a3f5f",
           "arrowhead": 0,
           "arrowwidth": 1
          },
          "autotypenumbers": "strict",
          "coloraxis": {
           "colorbar": {
            "outlinewidth": 0,
            "ticks": ""
           }
          },
          "colorscale": {
           "diverging": [
            [
             0,
             "#8e0152"
            ],
            [
             0.1,
             "#c51b7d"
            ],
            [
             0.2,
             "#de77ae"
            ],
            [
             0.3,
             "#f1b6da"
            ],
            [
             0.4,
             "#fde0ef"
            ],
            [
             0.5,
             "#f7f7f7"
            ],
            [
             0.6,
             "#e6f5d0"
            ],
            [
             0.7,
             "#b8e186"
            ],
            [
             0.8,
             "#7fbc41"
            ],
            [
             0.9,
             "#4d9221"
            ],
            [
             1,
             "#276419"
            ]
           ],
           "sequential": [
            [
             0,
             "#0d0887"
            ],
            [
             0.1111111111111111,
             "#46039f"
            ],
            [
             0.2222222222222222,
             "#7201a8"
            ],
            [
             0.3333333333333333,
             "#9c179e"
            ],
            [
             0.4444444444444444,
             "#bd3786"
            ],
            [
             0.5555555555555556,
             "#d8576b"
            ],
            [
             0.6666666666666666,
             "#ed7953"
            ],
            [
             0.7777777777777778,
             "#fb9f3a"
            ],
            [
             0.8888888888888888,
             "#fdca26"
            ],
            [
             1,
             "#f0f921"
            ]
           ],
           "sequentialminus": [
            [
             0,
             "#0d0887"
            ],
            [
             0.1111111111111111,
             "#46039f"
            ],
            [
             0.2222222222222222,
             "#7201a8"
            ],
            [
             0.3333333333333333,
             "#9c179e"
            ],
            [
             0.4444444444444444,
             "#bd3786"
            ],
            [
             0.5555555555555556,
             "#d8576b"
            ],
            [
             0.6666666666666666,
             "#ed7953"
            ],
            [
             0.7777777777777778,
             "#fb9f3a"
            ],
            [
             0.8888888888888888,
             "#fdca26"
            ],
            [
             1,
             "#f0f921"
            ]
           ]
          },
          "colorway": [
           "#636efa",
           "#EF553B",
           "#00cc96",
           "#ab63fa",
           "#FFA15A",
           "#19d3f3",
           "#FF6692",
           "#B6E880",
           "#FF97FF",
           "#FECB52"
          ],
          "font": {
           "color": "#2a3f5f"
          },
          "geo": {
           "bgcolor": "white",
           "lakecolor": "white",
           "landcolor": "#E5ECF6",
           "showlakes": true,
           "showland": true,
           "subunitcolor": "white"
          },
          "hoverlabel": {
           "align": "left"
          },
          "hovermode": "closest",
          "mapbox": {
           "style": "light"
          },
          "paper_bgcolor": "white",
          "plot_bgcolor": "#E5ECF6",
          "polar": {
           "angularaxis": {
            "gridcolor": "white",
            "linecolor": "white",
            "ticks": ""
           },
           "bgcolor": "#E5ECF6",
           "radialaxis": {
            "gridcolor": "white",
            "linecolor": "white",
            "ticks": ""
           }
          },
          "scene": {
           "xaxis": {
            "backgroundcolor": "#E5ECF6",
            "gridcolor": "white",
            "gridwidth": 2,
            "linecolor": "white",
            "showbackground": true,
            "ticks": "",
            "zerolinecolor": "white"
           },
           "yaxis": {
            "backgroundcolor": "#E5ECF6",
            "gridcolor": "white",
            "gridwidth": 2,
            "linecolor": "white",
            "showbackground": true,
            "ticks": "",
            "zerolinecolor": "white"
           },
           "zaxis": {
            "backgroundcolor": "#E5ECF6",
            "gridcolor": "white",
            "gridwidth": 2,
            "linecolor": "white",
            "showbackground": true,
            "ticks": "",
            "zerolinecolor": "white"
           }
          },
          "shapedefaults": {
           "line": {
            "color": "#2a3f5f"
           }
          },
          "ternary": {
           "aaxis": {
            "gridcolor": "white",
            "linecolor": "white",
            "ticks": ""
           },
           "baxis": {
            "gridcolor": "white",
            "linecolor": "white",
            "ticks": ""
           },
           "bgcolor": "#E5ECF6",
           "caxis": {
            "gridcolor": "white",
            "linecolor": "white",
            "ticks": ""
           }
          },
          "title": {
           "x": 0.05
          },
          "xaxis": {
           "automargin": true,
           "gridcolor": "white",
           "linecolor": "white",
           "ticks": "",
           "title": {
            "standoff": 15
           },
           "zerolinecolor": "white",
           "zerolinewidth": 2
          },
          "yaxis": {
           "automargin": true,
           "gridcolor": "white",
           "linecolor": "white",
           "ticks": "",
           "title": {
            "standoff": 15
           },
           "zerolinecolor": "white",
           "zerolinewidth": 2
          }
         }
        },
        "title": {
         "text": "Satisfaction Levels vs Attrition"
        },
        "xaxis": {
         "anchor": "y",
         "domain": [
          0,
          1
         ]
        },
        "yaxis": {
         "anchor": "x",
         "domain": [
          0,
          1
         ]
        }
       }
      }
     },
     "metadata": {},
     "output_type": "display_data"
    }
   ],
   "source": [
    "# Job Satisfaction levels\n",
    "satisfaction_cols = ['JobSatisfaction']\n",
    "\n",
    "fig = make_subplots(rows=1, cols=1,\n",
    "                    subplot_titles=satisfaction_cols)\n",
    "\n",
    "for idx, col in enumerate(satisfaction_cols):\n",
    "    row = idx // 2 + 1\n",
    "    col_pos = idx % 2 + 1\n",
    "    \n",
    "    sat_data = df.groupby([col, 'Attrition']).size().unstack(fill_value=0)\n",
    "    \n",
    "    for attrition_status in sat_data.columns:\n",
    "        fig.add_trace(\n",
    "            go.Bar(name=attrition_status, \n",
    "                   x=sat_data.index, \n",
    "                   y=sat_data[attrition_status],\n",
    "                   marker_color='#e74c3c' if attrition_status == 'Yes' else '#2ecc71',\n",
    "                   showlegend=(idx == 0)),\n",
    "            row=row, col=col_pos\n",
    "        )\n",
    "\n",
    "fig.update_layout(height=800, title_text='Satisfaction Levels vs Attrition', barmode='group')\n",
    "fig.show()"
   ]
  },
  {
   "cell_type": "markdown",
   "id": "46b0e596",
   "metadata": {},
   "source": [
    "## 4. COMPENSATION ANALYSIS"
   ]
  },
  {
   "cell_type": "code",
   "execution_count": 16,
   "id": "cf47eac6",
   "metadata": {},
   "outputs": [
    {
     "data": {
      "application/vnd.plotly.v1+json": {
       "config": {
        "plotlyServerURL": "https://plot.ly"
       },
       "data": [
        {
         "alignmentgroup": "True",
         "hovertemplate": "Attrition=%{x}<br>MonthlyIncome=%{y}<extra></extra>",
         "legendgroup": "Yes",
         "marker": {
          "color": "#e74c3c"
         },
         "name": "Yes",
         "notched": false,
         "offsetgroup": "Yes",
         "orientation": "v",
         "showlegend": true,
         "type": "box",
         "x": [
          "Yes",
          "Yes",
          "Yes",
          "Yes",
          "Yes",
          "Yes",
          "Yes",
          "Yes",
          "Yes",
          "Yes",
          "Yes",
          "Yes",
          "Yes",
          "Yes",
          "Yes",
          "Yes",
          "Yes",
          "Yes",
          "Yes",
          "Yes",
          "Yes",
          "Yes",
          "Yes",
          "Yes",
          "Yes",
          "Yes",
          "Yes",
          "Yes",
          "Yes",
          "Yes",
          "Yes",
          "Yes",
          "Yes",
          "Yes",
          "Yes",
          "Yes",
          "Yes",
          "Yes",
          "Yes",
          "Yes",
          "Yes",
          "Yes",
          "Yes",
          "Yes",
          "Yes",
          "Yes",
          "Yes",
          "Yes",
          "Yes",
          "Yes",
          "Yes",
          "Yes",
          "Yes",
          "Yes",
          "Yes",
          "Yes",
          "Yes",
          "Yes",
          "Yes",
          "Yes",
          "Yes",
          "Yes",
          "Yes",
          "Yes",
          "Yes",
          "Yes",
          "Yes",
          "Yes",
          "Yes",
          "Yes",
          "Yes",
          "Yes",
          "Yes",
          "Yes",
          "Yes",
          "Yes",
          "Yes",
          "Yes",
          "Yes",
          "Yes",
          "Yes",
          "Yes",
          "Yes",
          "Yes",
          "Yes",
          "Yes",
          "Yes",
          "Yes",
          "Yes",
          "Yes",
          "Yes",
          "Yes",
          "Yes",
          "Yes",
          "Yes",
          "Yes",
          "Yes",
          "Yes",
          "Yes",
          "Yes",
          "Yes",
          "Yes",
          "Yes",
          "Yes",
          "Yes",
          "Yes",
          "Yes",
          "Yes",
          "Yes",
          "Yes",
          "Yes",
          "Yes",
          "Yes",
          "Yes",
          "Yes",
          "Yes",
          "Yes",
          "Yes",
          "Yes",
          "Yes",
          "Yes",
          "Yes",
          "Yes",
          "Yes",
          "Yes",
          "Yes",
          "Yes",
          "Yes",
          "Yes",
          "Yes",
          "Yes",
          "Yes",
          "Yes",
          "Yes",
          "Yes",
          "Yes",
          "Yes",
          "Yes",
          "Yes",
          "Yes",
          "Yes",
          "Yes",
          "Yes",
          "Yes",
          "Yes",
          "Yes",
          "Yes",
          "Yes",
          "Yes",
          "Yes",
          "Yes",
          "Yes",
          "Yes",
          "Yes",
          "Yes",
          "Yes",
          "Yes",
          "Yes",
          "Yes",
          "Yes",
          "Yes",
          "Yes",
          "Yes",
          "Yes",
          "Yes",
          "Yes",
          "Yes",
          "Yes",
          "Yes",
          "Yes",
          "Yes",
          "Yes",
          "Yes",
          "Yes",
          "Yes",
          "Yes",
          "Yes",
          "Yes",
          "Yes",
          "Yes",
          "Yes",
          "Yes",
          "Yes",
          "Yes",
          "Yes",
          "Yes",
          "Yes",
          "Yes",
          "Yes",
          "Yes",
          "Yes",
          "Yes",
          "Yes",
          "Yes",
          "Yes",
          "Yes",
          "Yes",
          "Yes",
          "Yes",
          "Yes",
          "Yes",
          "Yes",
          "Yes",
          "Yes",
          "Yes",
          "Yes",
          "Yes",
          "Yes",
          "Yes",
          "Yes",
          "Yes",
          "Yes",
          "Yes",
          "Yes",
          "Yes",
          "Yes",
          "Yes",
          "Yes",
          "Yes",
          "Yes",
          "Yes",
          "Yes",
          "Yes",
          "Yes",
          "Yes",
          "Yes",
          "Yes",
          "Yes",
          "Yes",
          "Yes",
          "Yes",
          "Yes",
          "Yes",
          "Yes",
          "Yes",
          "Yes",
          "Yes"
         ],
         "x0": " ",
         "xaxis": "x",
         "y": [
          5993,
          2090,
          2028,
          3407,
          2960,
          3919,
          2086,
          2293,
          2683,
          2293,
          19545,
          5381,
          3441,
          3388,
          9619,
          2073,
          2926,
          5744,
          6074,
          4963,
          6172,
          10312,
          1675,
          4559,
          10650,
          4200,
          2325,
          1102,
          3140,
          5916,
          6673,
          7639,
          10400,
          2657,
          6696,
          2058,
          2389,
          2436,
          2707,
          3730,
          10048,
          3479,
          3485,
          11849,
          3161,
          2373,
          5828,
          1420,
          4941,
          3464,
          5238,
          2119,
          2174,
          2851,
          9355,
          6380,
          2716,
          5304,
          3102,
          2285,
          4031,
          3202,
          2351,
          2546,
          2564,
          13610,
          3408,
          9824,
          9950,
          3894,
          2741,
          1878,
          2340,
          4707,
          2886,
          2033,
          4233,
          3041,
          4286,
          1009,
          3348,
          4577,
          6796,
          2216,
          2759,
          2686,
          6397,
          19859,
          5326,
          1601,
          2319,
          5324,
          19246,
          4382,
          7654,
          5160,
          2366,
          2022,
          2800,
          2795,
          2380,
          2044,
          2693,
          4171,
          2778,
          2404,
          2413,
          2121,
          2973,
          10325,
          10609,
          2479,
          13194,
          2321,
          2404,
          2132,
          3743,
          2600,
          2422,
          4777,
          4969,
          19845,
          2743,
          4834,
          2042,
          2323,
          1416,
          2461,
          8722,
          10482,
          9582,
          4508,
          3691,
          2377,
          2313,
          2596,
          4728,
          12169,
          1904,
          8224,
          2610,
          7336,
          13758,
          2515,
          5346,
          2936,
          2853,
          2107,
          2210,
          1859,
          1118,
          18824,
          2625,
          7978,
          3339,
          4883,
          3904,
          9094,
          8446,
          2302,
          2362,
          10008,
          13695,
          2785,
          4614,
          6179,
          2394,
          4284,
          7553,
          1359,
          1261,
          4400,
          10096,
          3646,
          7446,
          3722,
          2742,
          2909,
          5765,
          4599,
          3172,
          2561,
          2362,
          2018,
          4084,
          9714,
          2074,
          10169,
          4855,
          2408,
          1569,
          10306,
          5440,
          2166,
          4581,
          3989,
          2655,
          1393,
          2275,
          1555,
          12936,
          6134,
          6735,
          2180,
          2760,
          8564,
          8161,
          2437,
          2679,
          2398,
          2342,
          5813,
          5346,
          4213,
          2148,
          8926,
          2956,
          2335,
          9907,
          2439,
          7314,
          1081,
          2472,
          2307,
          2587,
          1091,
          9854,
          2432,
          2863,
          2367,
          5617,
          10448,
          1790,
          4787,
          2339,
          6728,
          10854
         ],
         "y0": " ",
         "yaxis": "y"
        },
        {
         "alignmentgroup": "True",
         "hovertemplate": "Attrition=%{x}<br>MonthlyIncome=%{y}<extra></extra>",
         "legendgroup": "No",
         "marker": {
          "color": "#2ecc71"
         },
         "name": "No",
         "notched": false,
         "offsetgroup": "No",
         "orientation": "v",
         "showlegend": true,
         "type": "box",
         "x": [
          "No",
          "No",
          "No",
          "No",
          "No",
          "No",
          "No",
          "No",
          "No",
          "No",
          "No",
          "No",
          "No",
          "No",
          "No",
          "No",
          "No",
          "No",
          "No",
          "No",
          "No",
          "No",
          "No",
          "No",
          "No",
          "No",
          "No",
          "No",
          "No",
          "No",
          "No",
          "No",
          "No",
          "No",
          "No",
          "No",
          "No",
          "No",
          "No",
          "No",
          "No",
          "No",
          "No",
          "No",
          "No",
          "No",
          "No",
          "No",
          "No",
          "No",
          "No",
          "No",
          "No",
          "No",
          "No",
          "No",
          "No",
          "No",
          "No",
          "No",
          "No",
          "No",
          "No",
          "No",
          "No",
          "No",
          "No",
          "No",
          "No",
          "No",
          "No",
          "No",
          "No",
          "No",
          "No",
          "No",
          "No",
          "No",
          "No",
          "No",
          "No",
          "No",
          "No",
          "No",
          "No",
          "No",
          "No",
          "No",
          "No",
          "No",
          "No",
          "No",
          "No",
          "No",
          "No",
          "No",
          "No",
          "No",
          "No",
          "No",
          "No",
          "No",
          "No",
          "No",
          "No",
          "No",
          "No",
          "No",
          "No",
          "No",
          "No",
          "No",
          "No",
          "No",
          "No",
          "No",
          "No",
          "No",
          "No",
          "No",
          "No",
          "No",
          "No",
          "No",
          "No",
          "No",
          "No",
          "No",
          "No",
          "No",
          "No",
          "No",
          "No",
          "No",
          "No",
          "No",
          "No",
          "No",
          "No",
          "No",
          "No",
          "No",
          "No",
          "No",
          "No",
          "No",
          "No",
          "No",
          "No",
          "No",
          "No",
          "No",
          "No",
          "No",
          "No",
          "No",
          "No",
          "No",
          "No",
          "No",
          "No",
          "No",
          "No",
          "No",
          "No",
          "No",
          "No",
          "No",
          "No",
          "No",
          "No",
          "No",
          "No",
          "No",
          "No",
          "No",
          "No",
          "No",
          "No",
          "No",
          "No",
          "No",
          "No",
          "No",
          "No",
          "No",
          "No",
          "No",
          "No",
          "No",
          "No",
          "No",
          "No",
          "No",
          "No",
          "No",
          "No",
          "No",
          "No",
          "No",
          "No",
          "No",
          "No",
          "No",
          "No",
          "No",
          "No",
          "No",
          "No",
          "No",
          "No",
          "No",
          "No",
          "No",
          "No",
          "No",
          "No",
          "No",
          "No",
          "No",
          "No",
          "No",
          "No",
          "No",
          "No",
          "No",
          "No",
          "No",
          "No",
          "No",
          "No",
          "No",
          "No",
          "No",
          "No",
          "No",
          "No",
          "No",
          "No",
          "No",
          "No",
          "No",
          "No",
          "No",
          "No",
          "No",
          "No",
          "No",
          "No",
          "No",
          "No",
          "No",
          "No",
          "No",
          "No",
          "No",
          "No",
          "No",
          "No",
          "No",
          "No",
          "No",
          "No",
          "No",
          "No",
          "No",
          "No",
          "No",
          "No",
          "No",
          "No",
          "No",
          "No",
          "No",
          "No",
          "No",
          "No",
          "No",
          "No",
          "No",
          "No",
          "No",
          "No",
          "No",
          "No",
          "No",
          "No",
          "No",
          "No",
          "No",
          "No",
          "No",
          "No",
          "No",
          "No",
          "No",
          "No",
          "No",
          "No",
          "No",
          "No",
          "No",
          "No",
          "No",
          "No",
          "No",
          "No",
          "No",
          "No",
          "No",
          "No",
          "No",
          "No",
          "No",
          "No",
          "No",
          "No",
          "No",
          "No",
          "No",
          "No",
          "No",
          "No",
          "No",
          "No",
          "No",
          "No",
          "No",
          "No",
          "No",
          "No",
          "No",
          "No",
          "No",
          "No",
          "No",
          "No",
          "No",
          "No",
          "No",
          "No",
          "No",
          "No",
          "No",
          "No",
          "No",
          "No",
          "No",
          "No",
          "No",
          "No",
          "No",
          "No",
          "No",
          "No",
          "No",
          "No",
          "No",
          "No",
          "No",
          "No",
          "No",
          "No",
          "No",
          "No",
          "No",
          "No",
          "No",
          "No",
          "No",
          "No",
          "No",
          "No",
          "No",
          "No",
          "No",
          "No",
          "No",
          "No",
          "No",
          "No",
          "No",
          "No",
          "No",
          "No",
          "No",
          "No",
          "No",
          "No",
          "No",
          "No",
          "No",
          "No",
          "No",
          "No",
          "No",
          "No",
          "No",
          "No",
          "No",
          "No",
          "No",
          "No",
          "No",
          "No",
          "No",
          "No",
          "No",
          "No",
          "No",
          "No",
          "No",
          "No",
          "No",
          "No",
          "No",
          "No",
          "No",
          "No",
          "No",
          "No",
          "No",
          "No",
          "No",
          "No",
          "No",
          "No",
          "No",
          "No",
          "No",
          "No",
          "No",
          "No",
          "No",
          "No",
          "No",
          "No",
          "No",
          "No",
          "No",
          "No",
          "No",
          "No",
          "No",
          "No",
          "No",
          "No",
          "No",
          "No",
          "No",
          "No",
          "No",
          "No",
          "No",
          "No",
          "No",
          "No",
          "No",
          "No",
          "No",
          "No",
          "No",
          "No",
          "No",
          "No",
          "No",
          "No",
          "No",
          "No",
          "No",
          "No",
          "No",
          "No",
          "No",
          "No",
          "No",
          "No",
          "No",
          "No",
          "No",
          "No",
          "No",
          "No",
          "No",
          "No",
          "No",
          "No",
          "No",
          "No",
          "No",
          "No",
          "No",
          "No",
          "No",
          "No",
          "No",
          "No",
          "No",
          "No",
          "No",
          "No",
          "No",
          "No",
          "No",
          "No",
          "No",
          "No",
          "No",
          "No",
          "No",
          "No",
          "No",
          "No",
          "No",
          "No",
          "No",
          "No",
          "No",
          "No",
          "No",
          "No",
          "No",
          "No",
          "No",
          "No",
          "No",
          "No",
          "No",
          "No",
          "No",
          "No",
          "No",
          "No",
          "No",
          "No",
          "No",
          "No",
          "No",
          "No",
          "No",
          "No",
          "No",
          "No",
          "No",
          "No",
          "No",
          "No",
          "No",
          "No",
          "No",
          "No",
          "No",
          "No",
          "No",
          "No",
          "No",
          "No",
          "No",
          "No",
          "No",
          "No",
          "No",
          "No",
          "No",
          "No",
          "No",
          "No",
          "No",
          "No",
          "No",
          "No",
          "No",
          "No",
          "No",
          "No",
          "No",
          "No",
          "No",
          "No",
          "No",
          "No",
          "No",
          "No",
          "No",
          "No",
          "No",
          "No",
          "No",
          "No",
          "No",
          "No",
          "No",
          "No",
          "No",
          "No",
          "No",
          "No",
          "No",
          "No",
          "No",
          "No",
          "No",
          "No",
          "No",
          "No",
          "No",
          "No",
          "No",
          "No",
          "No",
          "No",
          "No",
          "No",
          "No",
          "No",
          "No",
          "No",
          "No",
          "No",
          "No",
          "No",
          "No",
          "No",
          "No",
          "No",
          "No",
          "No",
          "No",
          "No",
          "No",
          "No",
          "No",
          "No",
          "No",
          "No",
          "No",
          "No",
          "No",
          "No",
          "No",
          "No",
          "No",
          "No",
          "No",
          "No",
          "No",
          "No",
          "No",
          "No",
          "No",
          "No",
          "No",
          "No",
          "No",
          "No",
          "No",
          "No",
          "No",
          "No",
          "No",
          "No",
          "No",
          "No",
          "No",
          "No",
          "No",
          "No",
          "No",
          "No",
          "No",
          "No",
          "No",
          "No",
          "No",
          "No",
          "No",
          "No",
          "No",
          "No",
          "No",
          "No",
          "No",
          "No",
          "No",
          "No",
          "No",
          "No",
          "No",
          "No",
          "No",
          "No",
          "No",
          "No",
          "No",
          "No",
          "No",
          "No",
          "No",
          "No",
          "No",
          "No",
          "No",
          "No",
          "No",
          "No",
          "No",
          "No",
          "No",
          "No",
          "No",
          "No",
          "No",
          "No",
          "No",
          "No",
          "No",
          "No",
          "No",
          "No",
          "No",
          "No",
          "No",
          "No",
          "No",
          "No",
          "No",
          "No",
          "No",
          "No",
          "No",
          "No",
          "No",
          "No",
          "No",
          "No",
          "No",
          "No",
          "No",
          "No",
          "No",
          "No",
          "No",
          "No",
          "No",
          "No",
          "No",
          "No",
          "No",
          "No",
          "No",
          "No",
          "No",
          "No",
          "No",
          "No",
          "No",
          "No",
          "No",
          "No",
          "No",
          "No",
          "No",
          "No",
          "No",
          "No",
          "No",
          "No",
          "No",
          "No",
          "No",
          "No",
          "No",
          "No",
          "No",
          "No",
          "No",
          "No",
          "No",
          "No",
          "No",
          "No",
          "No",
          "No",
          "No",
          "No",
          "No",
          "No",
          "No",
          "No",
          "No",
          "No",
          "No",
          "No",
          "No",
          "No",
          "No",
          "No",
          "No",
          "No",
          "No",
          "No",
          "No",
          "No",
          "No",
          "No",
          "No",
          "No",
          "No",
          "No",
          "No",
          "No",
          "No",
          "No",
          "No",
          "No",
          "No",
          "No",
          "No",
          "No",
          "No",
          "No",
          "No",
          "No",
          "No",
          "No",
          "No",
          "No",
          "No",
          "No",
          "No",
          "No",
          "No",
          "No",
          "No",
          "No",
          "No",
          "No",
          "No",
          "No",
          "No",
          "No",
          "No",
          "No",
          "No",
          "No",
          "No",
          "No",
          "No",
          "No",
          "No",
          "No",
          "No",
          "No",
          "No",
          "No",
          "No",
          "No",
          "No",
          "No",
          "No",
          "No",
          "No",
          "No",
          "No",
          "No",
          "No",
          "No",
          "No",
          "No",
          "No",
          "No",
          "No",
          "No",
          "No",
          "No",
          "No",
          "No",
          "No",
          "No",
          "No",
          "No",
          "No",
          "No",
          "No",
          "No",
          "No",
          "No",
          "No",
          "No",
          "No",
          "No",
          "No",
          "No",
          "No",
          "No",
          "No",
          "No",
          "No",
          "No",
          "No",
          "No",
          "No",
          "No",
          "No",
          "No",
          "No",
          "No",
          "No",
          "No",
          "No",
          "No",
          "No",
          "No",
          "No",
          "No",
          "No",
          "No",
          "No",
          "No",
          "No",
          "No",
          "No",
          "No",
          "No",
          "No",
          "No",
          "No",
          "No",
          "No",
          "No",
          "No",
          "No",
          "No",
          "No",
          "No",
          "No",
          "No",
          "No",
          "No",
          "No",
          "No",
          "No",
          "No",
          "No",
          "No",
          "No",
          "No",
          "No",
          "No",
          "No",
          "No",
          "No",
          "No",
          "No",
          "No",
          "No",
          "No",
          "No",
          "No",
          "No",
          "No",
          "No",
          "No",
          "No",
          "No",
          "No",
          "No",
          "No",
          "No",
          "No",
          "No",
          "No",
          "No",
          "No",
          "No",
          "No",
          "No",
          "No",
          "No",
          "No",
          "No",
          "No",
          "No",
          "No",
          "No",
          "No",
          "No",
          "No",
          "No",
          "No",
          "No",
          "No",
          "No",
          "No",
          "No",
          "No",
          "No",
          "No",
          "No",
          "No",
          "No",
          "No",
          "No",
          "No",
          "No",
          "No",
          "No",
          "No",
          "No",
          "No",
          "No",
          "No",
          "No",
          "No",
          "No",
          "No",
          "No",
          "No",
          "No",
          "No",
          "No",
          "No",
          "No",
          "No",
          "No",
          "No",
          "No",
          "No",
          "No",
          "No",
          "No",
          "No",
          "No",
          "No",
          "No",
          "No",
          "No",
          "No",
          "No",
          "No",
          "No",
          "No",
          "No",
          "No",
          "No",
          "No",
          "No",
          "No",
          "No",
          "No",
          "No",
          "No",
          "No",
          "No",
          "No",
          "No",
          "No",
          "No",
          "No",
          "No",
          "No",
          "No",
          "No",
          "No",
          "No",
          "No",
          "No",
          "No",
          "No",
          "No",
          "No",
          "No",
          "No",
          "No",
          "No",
          "No",
          "No",
          "No",
          "No",
          "No",
          "No",
          "No",
          "No",
          "No",
          "No",
          "No",
          "No",
          "No",
          "No",
          "No",
          "No",
          "No",
          "No",
          "No",
          "No",
          "No",
          "No",
          "No",
          "No",
          "No",
          "No",
          "No",
          "No",
          "No",
          "No",
          "No",
          "No",
          "No",
          "No",
          "No",
          "No",
          "No",
          "No",
          "No",
          "No",
          "No",
          "No",
          "No",
          "No",
          "No",
          "No",
          "No",
          "No",
          "No",
          "No",
          "No",
          "No",
          "No",
          "No",
          "No",
          "No",
          "No",
          "No",
          "No",
          "No",
          "No",
          "No",
          "No",
          "No",
          "No",
          "No",
          "No",
          "No",
          "No",
          "No",
          "No",
          "No",
          "No",
          "No",
          "No",
          "No",
          "No",
          "No",
          "No",
          "No",
          "No",
          "No",
          "No",
          "No",
          "No",
          "No",
          "No",
          "No",
          "No",
          "No",
          "No",
          "No",
          "No",
          "No",
          "No",
          "No",
          "No",
          "No",
          "No",
          "No",
          "No",
          "No",
          "No",
          "No",
          "No",
          "No",
          "No",
          "No",
          "No",
          "No",
          "No",
          "No",
          "No",
          "No",
          "No",
          "No",
          "No",
          "No",
          "No",
          "No",
          "No",
          "No",
          "No",
          "No",
          "No",
          "No",
          "No",
          "No",
          "No",
          "No",
          "No",
          "No",
          "No",
          "No",
          "No",
          "No",
          "No",
          "No",
          "No",
          "No",
          "No",
          "No",
          "No",
          "No",
          "No",
          "No",
          "No",
          "No",
          "No",
          "No",
          "No",
          "No",
          "No",
          "No",
          "No",
          "No",
          "No",
          "No"
         ],
         "x0": " ",
         "xaxis": "x",
         "y": [
          5130,
          2909,
          3468,
          3068,
          2670,
          2693,
          9526,
          5237,
          2426,
          4193,
          2911,
          2661,
          9980,
          3298,
          2935,
          15427,
          3944,
          4011,
          11994,
          1232,
          19094,
          6825,
          10248,
          18947,
          2496,
          6465,
          2206,
          2645,
          2014,
          3419,
          5376,
          1951,
          2341,
          8726,
          4011,
          4568,
          3022,
          5772,
          2269,
          5454,
          9884,
          4157,
          13458,
          9069,
          4014,
          5915,
          5993,
          6162,
          2406,
          18740,
          7637,
          10096,
          14756,
          6499,
          9724,
          2194,
          5473,
          2703,
          2501,
          6220,
          3038,
          4424,
          4312,
          13245,
          13664,
          5021,
          5126,
          2859,
          10239,
          5329,
          4325,
          7260,
          2322,
          2075,
          4152,
          13503,
          5441,
          5209,
          10673,
          5010,
          13549,
          4999,
          4221,
          13872,
          2042,
          2956,
          4809,
          5163,
          18844,
          18172,
          2889,
          2871,
          7484,
          17328,
          2774,
          4505,
          7428,
          11631,
          9738,
          2835,
          16959,
          2613,
          6146,
          19537,
          2368,
          2523,
          6567,
          4739,
          9208,
          8189,
          2942,
          4941,
          5902,
          8639,
          6347,
          3452,
          4317,
          2632,
          4668,
          3204,
          2720,
          17181,
          2238,
          1483,
          5605,
          7295,
          2306,
          2348,
          8998,
          4319,
          6132,
          3346,
          10855,
          2231,
          2323,
          2024,
          2713,
          9439,
          2566,
          19926,
          2451,
          9419,
          8686,
          3038,
          3058,
          2088,
          3072,
          5006,
          4257,
          2500,
          10453,
          2288,
          3929,
          2311,
          3690,
          4450,
          2756,
          19033,
          18722,
          9547,
          13734,
          19999,
          2279,
          2089,
          16792,
          3564,
          4425,
          5265,
          6553,
          6261,
          4298,
          6804,
          3815,
          2741,
          2328,
          2153,
          4876,
          9396,
          8474,
          9981,
          12490,
          13591,
          8865,
          5940,
          5914,
          2622,
          12185,
          10609,
          4345,
          2177,
          2793,
          7918,
          8789,
          3212,
          19232,
          2267,
          19517,
          16064,
          19068,
          3931,
          2232,
          4465,
          3072,
          3319,
          19202,
          13675,
          2911,
          5957,
          3920,
          6434,
          10938,
          2340,
          6545,
          6931,
          4898,
          2593,
          19436,
          2723,
          2794,
          5249,
          2176,
          16872,
          6644,
          5582,
          4000,
          13496,
          3210,
          19045,
          2070,
          6502,
          3230,
          13603,
          11996,
          5605,
          6397,
          19144,
          17584,
          4907,
          4554,
          5415,
          4741,
          2115,
          5745,
          3310,
          18665,
          4485,
          2789,
          2326,
          13525,
          8020,
          3688,
          5482,
          16015,
          1200,
          5661,
          6929,
          9613,
          5674,
          5484,
          12061,
          5660,
          4821,
          6410,
          5210,
          2695,
          11878,
          17068,
          2455,
          13964,
          2478,
          5228,
          4478,
          7547,
          5055,
          5775,
          8943,
          19272,
          4682,
          18300,
          5257,
          6349,
          4869,
          9985,
          3697,
          7457,
          3983,
          6118,
          6214,
          6347,
          11510,
          7143,
          8268,
          8095,
          2904,
          6032,
          2976,
          15992,
          4649,
          2696,
          2370,
          12504,
          5974,
          4736,
          5296,
          6781,
          6653,
          9699,
          6755,
          2213,
          2610,
          3452,
          5258,
          10496,
          2657,
          2201,
          6540,
          3816,
          5253,
          10965,
          4936,
          2543,
          16659,
          4260,
          2476,
          2244,
          7596,
          3034,
          5715,
          2576,
          4197,
          14336,
          3448,
          19406,
          6538,
          4306,
          2258,
          4522,
          4487,
          4449,
          2218,
          19197,
          13212,
          6577,
          8392,
          4558,
          7969,
          2654,
          16555,
          4556,
          6091,
          19566,
          4810,
          4523,
          1702,
          18041,
          2886,
          2097,
          11935,
          8412,
          14118,
          17046,
          2564,
          10266,
          5070,
          17861,
          4230,
          3780,
          2768,
          9071,
          10648,
          2983,
          7632,
          2093,
          9980,
          4051,
          16835,
          6230,
          4717,
          13237,
          3755,
          6582,
          7406,
          4805,
          4262,
          16184,
          11557,
          10932,
          6811,
          4306,
          4859,
          5337,
          7491,
          10527,
          16595,
          8834,
          5577,
          2400,
          9824,
          6447,
          19502,
          2725,
          6272,
          2127,
          18200,
          2096,
          3622,
          3681,
          5460,
          2187,
          9602,
          2836,
          4089,
          16627,
          2619,
          5679,
          15402,
          5985,
          2579,
          3447,
          19513,
          2773,
          7104,
          6322,
          2083,
          8381,
          2691,
          2659,
          9434,
          5561,
          6646,
          7725,
          10725,
          8847,
          2045,
          1281,
          2819,
          4851,
          4028,
          2720,
          8120,
          4647,
          4680,
          3221,
          8621,
          4553,
          5396,
          7625,
          7412,
          11159,
          4960,
          10475,
          14814,
          19141,
          5405,
          8793,
          19189,
          3875,
          11713,
          7861,
          3708,
          13770,
          5304,
          2642,
          6804,
          6142,
          2500,
          6389,
          11103,
          2342,
          6811,
          2297,
          2450,
          5093,
          5309,
          3057,
          5121,
          16856,
          6180,
          6632,
          3505,
          6274,
          7587,
          4258,
          4364,
          4335,
          3280,
          5485,
          4342,
          2782,
          5980,
          4381,
          2572,
          3833,
          4244,
          6500,
          18430,
          2694,
          3149,
          17639,
          11691,
          16752,
          5228,
          2700,
          2506,
          6062,
          2143,
          6162,
          5094,
          6877,
          2274,
          4434,
          6288,
          2553,
          17159,
          12808,
          10221,
          4779,
          3737,
          1706,
          16307,
          5933,
          3424,
          4037,
          2559,
          6201,
          4403,
          3761,
          10934,
          10761,
          5175,
          13826,
          6334,
          4936,
          4775,
          2818,
          2515,
          2342,
          4194,
          10685,
          2314,
          4256,
          3580,
          3162,
          6524,
          2899,
          5231,
          2356,
          11836,
          10903,
          2973,
          14275,
          5562,
          4537,
          7642,
          17924,
          5204,
          2277,
          2532,
          2559,
          4908,
          4765,
          6586,
          3294,
          2377,
          2318,
          2008,
          6244,
          2799,
          10552,
          2329,
          4014,
          7403,
          2259,
          6932,
          4678,
          13582,
          2332,
          9705,
          4294,
          4721,
          2519,
          5855,
          3617,
          6725,
          6949,
          4447,
          2157,
          4601,
          17099,
          14852,
          7264,
          5666,
          7823,
          7880,
          5067,
          5079,
          17444,
          3452,
          2270,
          17399,
          5488,
          19419,
          2811,
          3633,
          4163,
          13973,
          2684,
          10845,
          4377,
          4148,
          1051,
          10739,
          10388,
          11416,
          5472,
          2451,
          4240,
          10999,
          5003,
          12742,
          4227,
          3917,
          18303,
          2380,
          13726,
          6385,
          19973,
          6861,
          13320,
          6347,
          10880,
          2342,
          17650,
          4025,
          9725,
          11904,
          2177,
          7525,
          2220,
          1052,
          2821,
          19237,
          4107,
          8396,
          2007,
          19627,
          10686,
          2942,
          8858,
          16756,
          10798,
          4615,
          3955,
          9957,
          3376,
          8823,
          10322,
          4621,
          10976,
          3660,
          7119,
          2207,
          7756,
          6694,
          17665,
          4302,
          2979,
          16885,
          5593,
          10445,
          8740,
          2514,
          7655,
          17465,
          7351,
          10820,
          19626,
          2070,
          6782,
          7779,
          2791,
          3201,
          4968,
          13120,
          4033,
          3291,
          4272,
          5056,
          2844,
          2703,
          4766,
          5731,
          2539,
          5714,
          4323,
          13499,
          5155,
          2258,
          3597,
          4420,
          6578,
          4422,
          10274,
          5343,
          2376,
          2827,
          19943,
          3131,
          2552,
          4477,
          6474,
          3033,
          18606,
          2168,
          17048,
          2290,
          3600,
          4115,
          4327,
          17856,
          3196,
          19081,
          8966,
          4539,
          2741,
          3491,
          4541,
          2678,
          7379,
          6272,
          5220,
          2743,
          4998,
          10252,
          2781,
          6852,
          4950,
          3579,
          13191,
          10377,
          2235,
          10502,
          2011,
          3760,
          17779,
          6833,
          6812,
          5171,
          19740,
          18711,
          3692,
          2559,
          2517,
          6623,
          18265,
          16124,
          2585,
          18213,
          8380,
          2994,
          1223,
          2875,
          13577,
          18789,
          4538,
          19847,
          10512,
          4444,
          2154,
          19190,
          4490,
          3506,
          2372,
          10231,
          5410,
          3867,
          2838,
          4695,
          2080,
          2096,
          6209,
          18061,
          17123,
          2372,
          4627,
          7094,
          3423,
          6674,
          16880,
          11916,
          4534,
          9852,
          6151,
          17861,
          19187,
          19717,
          3544,
          8500,
          4661,
          4103,
          4249,
          14026,
          6893,
          6125,
          3669,
          2387,
          4639,
          7898,
          2534,
          13142,
          1611,
          5363,
          5071,
          13402,
          2029,
          6377,
          5429,
          2610,
          6687,
          4724,
          6120,
          10596,
          5467,
          2996,
          9998,
          4078,
          10920,
          6232,
          13247,
          4081,
          5769,
          3904,
          16799,
          2950,
          3629,
          9362,
          3229,
          3578,
          7988,
          17328,
          19701,
          14732,
          9278,
          4779,
          16422,
          2996,
          2099,
          5810,
          5647,
          3420,
          3500,
          2066,
          17169,
          4162,
          9204,
          3294,
          2127,
          3975,
          10793,
          10851,
          2109,
          9380,
          5486,
          13757,
          8463,
          3162,
          16598,
          6651,
          2345,
          3420,
          4373,
          4759,
          5301,
          3673,
          4768,
          1274,
          4900,
          10466,
          17007,
          2404,
          2033,
          10209,
          8620,
          2064,
          4035,
          3838,
          4591,
          1563,
          4898,
          4789,
          3180,
          6549,
          6388,
          11244,
          16032,
          16328,
          8376,
          16606,
          8606,
          2272,
          7083,
          14411,
          2308,
          4841,
          4285,
          9715,
          4320,
          2132,
          10124,
          5473,
          5207,
          16437,
          2296,
          4069,
          7441,
          2430,
          5878,
          2644,
          6439,
          2451,
          6392,
          6077,
          2450,
          9250,
          4087,
          2367,
          2972,
          19586,
          5484,
          2061,
          9924,
          4198,
          6815,
          4723,
          6142,
          8237,
          8853,
          19331,
          2073,
          5562,
          19613,
          3407,
          5063,
          4639,
          4876,
          2690,
          17567,
          2814,
          11245,
          3312,
          19049,
          2141,
          5769,
          4385,
          5332,
          4663,
          4724,
          3211,
          5377,
          4066,
          5208,
          4877,
          3117,
          19658,
          3069,
          10435,
          4148,
          5768,
          5042,
          5770,
          7756,
          3936,
          7945,
          5743,
          15202,
          3760,
          3517,
          2580,
          5869,
          8008,
          5206,
          5295,
          16413,
          13269,
          2783,
          5433,
          2013,
          13966,
          4374,
          6842,
          17426,
          17603,
          4735,
          4187,
          5505,
          5470,
          5476,
          2587,
          2440,
          15972,
          15379,
          7082,
          2728,
          5368,
          5347,
          3195,
          3306,
          7005,
          2570,
          3537,
          3986,
          10883,
          2028,
          9525,
          2929,
          7879,
          4930,
          7847,
          4401,
          9241,
          2974,
          4502,
          10748,
          2305,
          16704,
          3433,
          3477,
          6430,
          6516,
          3907,
          5562,
          6883,
          2862,
          4978,
          10368,
          3295,
          5238,
          6472,
          9610,
          19833,
          9756,
          4968,
          2145,
          8346,
          3445,
          6294,
          7140,
          2932,
          5147,
          4507,
          2468,
          2109,
          5294,
          2718,
          5811,
          2766,
          19038,
          3055,
          2289,
          4001,
          12965,
          3539,
          6029,
          3702,
          5468,
          13116,
          4189,
          19328,
          8321,
          4071,
          3143,
          2044,
          13464,
          7991,
          3377,
          5538,
          5762,
          2592,
          4127,
          2438,
          6870,
          10447,
          9667,
          6513,
          6799,
          16291,
          2705,
          10333,
          4448,
          6854,
          9637,
          3591,
          5405,
          4684,
          15787,
          1514,
          5154,
          6962,
          5675,
          2379,
          3812,
          4648,
          2936,
          2105,
          8578,
          2706,
          6384,
          3968,
          13225,
          3540,
          2804,
          19392,
          19665,
          4774,
          3902,
          2662,
          2856,
          5673,
          4197,
          9713,
          2062,
          4284,
          4788,
          5906,
          3886,
          16823,
          2933,
          6500,
          17174,
          5033,
          5507,
          4393,
          13348,
          6583,
          8103,
          3978,
          2544,
          5399,
          5487,
          6834,
          5736,
          2226,
          5747,
          5467,
          5380,
          5151,
          2133,
          17875,
          4771,
          19161,
          5087,
          5561,
          2144,
          3065,
          2810,
          9888,
          8628,
          2867,
          5373,
          6667,
          5003,
          2858,
          5204,
          4105,
          9679,
          2897,
          5968,
          7510,
          2991,
          19636,
          1129,
          13341,
          4332,
          11031,
          4440,
          4617,
          2647,
          6323,
          5677,
          2187,
          3748,
          3977,
          8633,
          2008,
          4440,
          3067,
          5321,
          5410,
          2782,
          11957,
          2660,
          3375,
          5098,
          4878,
          2837,
          2406,
          2269,
          4108,
          13206,
          10422,
          13744,
          4907,
          3482,
          2436,
          2380,
          19431,
          7644,
          5131,
          6306,
          18880,
          13570,
          6712,
          5406,
          8938,
          2439,
          8837,
          5343,
          6652,
          4850,
          2809,
          5689,
          2001,
          2977,
          4025,
          3785,
          12031,
          9936,
          2966,
          2571,
          9991,
          6142,
          5390,
          4404
         ],
         "y0": " ",
         "yaxis": "y"
        }
       ],
       "layout": {
        "boxmode": "overlay",
        "height": 500,
        "legend": {
         "title": {
          "text": "Attrition"
         },
         "tracegroupgap": 0
        },
        "template": {
         "data": {
          "bar": [
           {
            "error_x": {
             "color": "#2a3f5f"
            },
            "error_y": {
             "color": "#2a3f5f"
            },
            "marker": {
             "line": {
              "color": "#E5ECF6",
              "width": 0.5
             },
             "pattern": {
              "fillmode": "overlay",
              "size": 10,
              "solidity": 0.2
             }
            },
            "type": "bar"
           }
          ],
          "barpolar": [
           {
            "marker": {
             "line": {
              "color": "#E5ECF6",
              "width": 0.5
             },
             "pattern": {
              "fillmode": "overlay",
              "size": 10,
              "solidity": 0.2
             }
            },
            "type": "barpolar"
           }
          ],
          "carpet": [
           {
            "aaxis": {
             "endlinecolor": "#2a3f5f",
             "gridcolor": "white",
             "linecolor": "white",
             "minorgridcolor": "white",
             "startlinecolor": "#2a3f5f"
            },
            "baxis": {
             "endlinecolor": "#2a3f5f",
             "gridcolor": "white",
             "linecolor": "white",
             "minorgridcolor": "white",
             "startlinecolor": "#2a3f5f"
            },
            "type": "carpet"
           }
          ],
          "choropleth": [
           {
            "colorbar": {
             "outlinewidth": 0,
             "ticks": ""
            },
            "type": "choropleth"
           }
          ],
          "contour": [
           {
            "colorbar": {
             "outlinewidth": 0,
             "ticks": ""
            },
            "colorscale": [
             [
              0,
              "#0d0887"
             ],
             [
              0.1111111111111111,
              "#46039f"
             ],
             [
              0.2222222222222222,
              "#7201a8"
             ],
             [
              0.3333333333333333,
              "#9c179e"
             ],
             [
              0.4444444444444444,
              "#bd3786"
             ],
             [
              0.5555555555555556,
              "#d8576b"
             ],
             [
              0.6666666666666666,
              "#ed7953"
             ],
             [
              0.7777777777777778,
              "#fb9f3a"
             ],
             [
              0.8888888888888888,
              "#fdca26"
             ],
             [
              1,
              "#f0f921"
             ]
            ],
            "type": "contour"
           }
          ],
          "contourcarpet": [
           {
            "colorbar": {
             "outlinewidth": 0,
             "ticks": ""
            },
            "type": "contourcarpet"
           }
          ],
          "heatmap": [
           {
            "colorbar": {
             "outlinewidth": 0,
             "ticks": ""
            },
            "colorscale": [
             [
              0,
              "#0d0887"
             ],
             [
              0.1111111111111111,
              "#46039f"
             ],
             [
              0.2222222222222222,
              "#7201a8"
             ],
             [
              0.3333333333333333,
              "#9c179e"
             ],
             [
              0.4444444444444444,
              "#bd3786"
             ],
             [
              0.5555555555555556,
              "#d8576b"
             ],
             [
              0.6666666666666666,
              "#ed7953"
             ],
             [
              0.7777777777777778,
              "#fb9f3a"
             ],
             [
              0.8888888888888888,
              "#fdca26"
             ],
             [
              1,
              "#f0f921"
             ]
            ],
            "type": "heatmap"
           }
          ],
          "heatmapgl": [
           {
            "colorbar": {
             "outlinewidth": 0,
             "ticks": ""
            },
            "colorscale": [
             [
              0,
              "#0d0887"
             ],
             [
              0.1111111111111111,
              "#46039f"
             ],
             [
              0.2222222222222222,
              "#7201a8"
             ],
             [
              0.3333333333333333,
              "#9c179e"
             ],
             [
              0.4444444444444444,
              "#bd3786"
             ],
             [
              0.5555555555555556,
              "#d8576b"
             ],
             [
              0.6666666666666666,
              "#ed7953"
             ],
             [
              0.7777777777777778,
              "#fb9f3a"
             ],
             [
              0.8888888888888888,
              "#fdca26"
             ],
             [
              1,
              "#f0f921"
             ]
            ],
            "type": "heatmapgl"
           }
          ],
          "histogram": [
           {
            "marker": {
             "pattern": {
              "fillmode": "overlay",
              "size": 10,
              "solidity": 0.2
             }
            },
            "type": "histogram"
           }
          ],
          "histogram2d": [
           {
            "colorbar": {
             "outlinewidth": 0,
             "ticks": ""
            },
            "colorscale": [
             [
              0,
              "#0d0887"
             ],
             [
              0.1111111111111111,
              "#46039f"
             ],
             [
              0.2222222222222222,
              "#7201a8"
             ],
             [
              0.3333333333333333,
              "#9c179e"
             ],
             [
              0.4444444444444444,
              "#bd3786"
             ],
             [
              0.5555555555555556,
              "#d8576b"
             ],
             [
              0.6666666666666666,
              "#ed7953"
             ],
             [
              0.7777777777777778,
              "#fb9f3a"
             ],
             [
              0.8888888888888888,
              "#fdca26"
             ],
             [
              1,
              "#f0f921"
             ]
            ],
            "type": "histogram2d"
           }
          ],
          "histogram2dcontour": [
           {
            "colorbar": {
             "outlinewidth": 0,
             "ticks": ""
            },
            "colorscale": [
             [
              0,
              "#0d0887"
             ],
             [
              0.1111111111111111,
              "#46039f"
             ],
             [
              0.2222222222222222,
              "#7201a8"
             ],
             [
              0.3333333333333333,
              "#9c179e"
             ],
             [
              0.4444444444444444,
              "#bd3786"
             ],
             [
              0.5555555555555556,
              "#d8576b"
             ],
             [
              0.6666666666666666,
              "#ed7953"
             ],
             [
              0.7777777777777778,
              "#fb9f3a"
             ],
             [
              0.8888888888888888,
              "#fdca26"
             ],
             [
              1,
              "#f0f921"
             ]
            ],
            "type": "histogram2dcontour"
           }
          ],
          "mesh3d": [
           {
            "colorbar": {
             "outlinewidth": 0,
             "ticks": ""
            },
            "type": "mesh3d"
           }
          ],
          "parcoords": [
           {
            "line": {
             "colorbar": {
              "outlinewidth": 0,
              "ticks": ""
             }
            },
            "type": "parcoords"
           }
          ],
          "pie": [
           {
            "automargin": true,
            "type": "pie"
           }
          ],
          "scatter": [
           {
            "fillpattern": {
             "fillmode": "overlay",
             "size": 10,
             "solidity": 0.2
            },
            "type": "scatter"
           }
          ],
          "scatter3d": [
           {
            "line": {
             "colorbar": {
              "outlinewidth": 0,
              "ticks": ""
             }
            },
            "marker": {
             "colorbar": {
              "outlinewidth": 0,
              "ticks": ""
             }
            },
            "type": "scatter3d"
           }
          ],
          "scattercarpet": [
           {
            "marker": {
             "colorbar": {
              "outlinewidth": 0,
              "ticks": ""
             }
            },
            "type": "scattercarpet"
           }
          ],
          "scattergeo": [
           {
            "marker": {
             "colorbar": {
              "outlinewidth": 0,
              "ticks": ""
             }
            },
            "type": "scattergeo"
           }
          ],
          "scattergl": [
           {
            "marker": {
             "colorbar": {
              "outlinewidth": 0,
              "ticks": ""
             }
            },
            "type": "scattergl"
           }
          ],
          "scattermapbox": [
           {
            "marker": {
             "colorbar": {
              "outlinewidth": 0,
              "ticks": ""
             }
            },
            "type": "scattermapbox"
           }
          ],
          "scatterpolar": [
           {
            "marker": {
             "colorbar": {
              "outlinewidth": 0,
              "ticks": ""
             }
            },
            "type": "scatterpolar"
           }
          ],
          "scatterpolargl": [
           {
            "marker": {
             "colorbar": {
              "outlinewidth": 0,
              "ticks": ""
             }
            },
            "type": "scatterpolargl"
           }
          ],
          "scatterternary": [
           {
            "marker": {
             "colorbar": {
              "outlinewidth": 0,
              "ticks": ""
             }
            },
            "type": "scatterternary"
           }
          ],
          "surface": [
           {
            "colorbar": {
             "outlinewidth": 0,
             "ticks": ""
            },
            "colorscale": [
             [
              0,
              "#0d0887"
             ],
             [
              0.1111111111111111,
              "#46039f"
             ],
             [
              0.2222222222222222,
              "#7201a8"
             ],
             [
              0.3333333333333333,
              "#9c179e"
             ],
             [
              0.4444444444444444,
              "#bd3786"
             ],
             [
              0.5555555555555556,
              "#d8576b"
             ],
             [
              0.6666666666666666,
              "#ed7953"
             ],
             [
              0.7777777777777778,
              "#fb9f3a"
             ],
             [
              0.8888888888888888,
              "#fdca26"
             ],
             [
              1,
              "#f0f921"
             ]
            ],
            "type": "surface"
           }
          ],
          "table": [
           {
            "cells": {
             "fill": {
              "color": "#EBF0F8"
             },
             "line": {
              "color": "white"
             }
            },
            "header": {
             "fill": {
              "color": "#C8D4E3"
             },
             "line": {
              "color": "white"
             }
            },
            "type": "table"
           }
          ]
         },
         "layout": {
          "annotationdefaults": {
           "arrowcolor": "#2a3f5f",
           "arrowhead": 0,
           "arrowwidth": 1
          },
          "autotypenumbers": "strict",
          "coloraxis": {
           "colorbar": {
            "outlinewidth": 0,
            "ticks": ""
           }
          },
          "colorscale": {
           "diverging": [
            [
             0,
             "#8e0152"
            ],
            [
             0.1,
             "#c51b7d"
            ],
            [
             0.2,
             "#de77ae"
            ],
            [
             0.3,
             "#f1b6da"
            ],
            [
             0.4,
             "#fde0ef"
            ],
            [
             0.5,
             "#f7f7f7"
            ],
            [
             0.6,
             "#e6f5d0"
            ],
            [
             0.7,
             "#b8e186"
            ],
            [
             0.8,
             "#7fbc41"
            ],
            [
             0.9,
             "#4d9221"
            ],
            [
             1,
             "#276419"
            ]
           ],
           "sequential": [
            [
             0,
             "#0d0887"
            ],
            [
             0.1111111111111111,
             "#46039f"
            ],
            [
             0.2222222222222222,
             "#7201a8"
            ],
            [
             0.3333333333333333,
             "#9c179e"
            ],
            [
             0.4444444444444444,
             "#bd3786"
            ],
            [
             0.5555555555555556,
             "#d8576b"
            ],
            [
             0.6666666666666666,
             "#ed7953"
            ],
            [
             0.7777777777777778,
             "#fb9f3a"
            ],
            [
             0.8888888888888888,
             "#fdca26"
            ],
            [
             1,
             "#f0f921"
            ]
           ],
           "sequentialminus": [
            [
             0,
             "#0d0887"
            ],
            [
             0.1111111111111111,
             "#46039f"
            ],
            [
             0.2222222222222222,
             "#7201a8"
            ],
            [
             0.3333333333333333,
             "#9c179e"
            ],
            [
             0.4444444444444444,
             "#bd3786"
            ],
            [
             0.5555555555555556,
             "#d8576b"
            ],
            [
             0.6666666666666666,
             "#ed7953"
            ],
            [
             0.7777777777777778,
             "#fb9f3a"
            ],
            [
             0.8888888888888888,
             "#fdca26"
            ],
            [
             1,
             "#f0f921"
            ]
           ]
          },
          "colorway": [
           "#636efa",
           "#EF553B",
           "#00cc96",
           "#ab63fa",
           "#FFA15A",
           "#19d3f3",
           "#FF6692",
           "#B6E880",
           "#FF97FF",
           "#FECB52"
          ],
          "font": {
           "color": "#2a3f5f"
          },
          "geo": {
           "bgcolor": "white",
           "lakecolor": "white",
           "landcolor": "#E5ECF6",
           "showlakes": true,
           "showland": true,
           "subunitcolor": "white"
          },
          "hoverlabel": {
           "align": "left"
          },
          "hovermode": "closest",
          "mapbox": {
           "style": "light"
          },
          "paper_bgcolor": "white",
          "plot_bgcolor": "#E5ECF6",
          "polar": {
           "angularaxis": {
            "gridcolor": "white",
            "linecolor": "white",
            "ticks": ""
           },
           "bgcolor": "#E5ECF6",
           "radialaxis": {
            "gridcolor": "white",
            "linecolor": "white",
            "ticks": ""
           }
          },
          "scene": {
           "xaxis": {
            "backgroundcolor": "#E5ECF6",
            "gridcolor": "white",
            "gridwidth": 2,
            "linecolor": "white",
            "showbackground": true,
            "ticks": "",
            "zerolinecolor": "white"
           },
           "yaxis": {
            "backgroundcolor": "#E5ECF6",
            "gridcolor": "white",
            "gridwidth": 2,
            "linecolor": "white",
            "showbackground": true,
            "ticks": "",
            "zerolinecolor": "white"
           },
           "zaxis": {
            "backgroundcolor": "#E5ECF6",
            "gridcolor": "white",
            "gridwidth": 2,
            "linecolor": "white",
            "showbackground": true,
            "ticks": "",
            "zerolinecolor": "white"
           }
          },
          "shapedefaults": {
           "line": {
            "color": "#2a3f5f"
           }
          },
          "ternary": {
           "aaxis": {
            "gridcolor": "white",
            "linecolor": "white",
            "ticks": ""
           },
           "baxis": {
            "gridcolor": "white",
            "linecolor": "white",
            "ticks": ""
           },
           "bgcolor": "#E5ECF6",
           "caxis": {
            "gridcolor": "white",
            "linecolor": "white",
            "ticks": ""
           }
          },
          "title": {
           "x": 0.05
          },
          "xaxis": {
           "automargin": true,
           "gridcolor": "white",
           "linecolor": "white",
           "ticks": "",
           "title": {
            "standoff": 15
           },
           "zerolinecolor": "white",
           "zerolinewidth": 2
          },
          "yaxis": {
           "automargin": true,
           "gridcolor": "white",
           "linecolor": "white",
           "ticks": "",
           "title": {
            "standoff": 15
           },
           "zerolinecolor": "white",
           "zerolinewidth": 2
          }
         }
        },
        "title": {
         "text": "Monthly Income Distribution by Attrition"
        },
        "xaxis": {
         "anchor": "y",
         "categoryarray": [
          "Yes",
          "No"
         ],
         "categoryorder": "array",
         "domain": [
          0,
          1
         ],
         "title": {
          "text": "Attrition"
         }
        },
        "yaxis": {
         "anchor": "x",
         "domain": [
          0,
          1
         ],
         "title": {
          "text": "MonthlyIncome"
         }
        }
       }
      }
     },
     "metadata": {},
     "output_type": "display_data"
    },
    {
     "name": "stdout",
     "output_type": "stream",
     "text": [
      "\n",
      "Income Statistics by Attrition:\n",
      "            count         mean          std     min     25%     50%     75%  \\\n",
      "Attrition                                                                     \n",
      "No         1233.0  6832.739659  4818.208001  1051.0  3211.0  5204.0  8834.0   \n",
      "Yes         237.0  4787.092827  3640.210367  1009.0  2373.0  3202.0  5916.0   \n",
      "\n",
      "               max  \n",
      "Attrition           \n",
      "No         19999.0  \n",
      "Yes        19859.0  \n"
     ]
    }
   ],
   "source": [
    "# Monthly Income distribution\n",
    "fig = px.box(df, x='Attrition', y='MonthlyIncome',\n",
    "             title='Monthly Income Distribution by Attrition',\n",
    "             color='Attrition',\n",
    "             color_discrete_map={'Yes': '#e74c3c', 'No': '#2ecc71'})\n",
    "\n",
    "fig.update_layout(height=500)\n",
    "fig.show()\n",
    "\n",
    "print(\"\\nIncome Statistics by Attrition:\")\n",
    "print(df.groupby('Attrition')['MonthlyIncome'].describe())"
   ]
  },
  {
   "cell_type": "code",
   "execution_count": 17,
   "id": "aa41be6c",
   "metadata": {},
   "outputs": [
    {
     "data": {
      "application/vnd.plotly.v1+json": {
       "config": {
        "plotlyServerURL": "https://plot.ly"
       },
       "data": [
        {
         "alignmentgroup": "True",
         "hovertemplate": "Attrition=Yes<br>JobLevel=%{x}<br>MonthlyIncome=%{y}<extra></extra>",
         "legendgroup": "Yes",
         "marker": {
          "color": "#e74c3c"
         },
         "name": "Yes",
         "notched": false,
         "offsetgroup": "Yes",
         "orientation": "v",
         "showlegend": true,
         "type": "box",
         "x": [
          2,
          1,
          1,
          1,
          1,
          1,
          2,
          1,
          1,
          1,
          5,
          3,
          1,
          1,
          3,
          1,
          1,
          2,
          2,
          1,
          2,
          3,
          1,
          2,
          3,
          1,
          1,
          1,
          1,
          2,
          2,
          3,
          3,
          1,
          2,
          1,
          1,
          1,
          1,
          1,
          3,
          1,
          1,
          3,
          1,
          1,
          2,
          1,
          2,
          1,
          2,
          1,
          1,
          1,
          2,
          2,
          1,
          2,
          1,
          1,
          1,
          1,
          1,
          1,
          1,
          3,
          1,
          3,
          3,
          1,
          1,
          1,
          1,
          2,
          1,
          1,
          2,
          1,
          2,
          1,
          1,
          2,
          2,
          1,
          1,
          1,
          2,
          5,
          2,
          1,
          1,
          2,
          5,
          1,
          3,
          2,
          1,
          1,
          1,
          1,
          1,
          1,
          1,
          2,
          1,
          1,
          1,
          1,
          1,
          3,
          3,
          1,
          4,
          1,
          1,
          1,
          1,
          1,
          1,
          2,
          2,
          5,
          1,
          2,
          1,
          1,
          1,
          1,
          3,
          3,
          3,
          2,
          1,
          1,
          1,
          1,
          2,
          4,
          1,
          2,
          1,
          3,
          4,
          1,
          2,
          1,
          1,
          1,
          1,
          1,
          1,
          5,
          1,
          3,
          1,
          2,
          1,
          3,
          3,
          1,
          1,
          3,
          4,
          1,
          2,
          2,
          1,
          2,
          3,
          1,
          1,
          1,
          3,
          1,
          3,
          1,
          1,
          1,
          2,
          2,
          1,
          1,
          1,
          1,
          1,
          2,
          1,
          3,
          2,
          1,
          1,
          3,
          2,
          1,
          2,
          1,
          1,
          1,
          1,
          1,
          4,
          2,
          2,
          1,
          1,
          3,
          3,
          1,
          1,
          1,
          1,
          2,
          2,
          2,
          1,
          2,
          1,
          1,
          2,
          1,
          3,
          1,
          1,
          1,
          1,
          1,
          2,
          1,
          1,
          1,
          2,
          3,
          1,
          1,
          1,
          2,
          3
         ],
         "x0": " ",
         "xaxis": "x",
         "y": [
          5993,
          2090,
          2028,
          3407,
          2960,
          3919,
          2086,
          2293,
          2683,
          2293,
          19545,
          5381,
          3441,
          3388,
          9619,
          2073,
          2926,
          5744,
          6074,
          4963,
          6172,
          10312,
          1675,
          4559,
          10650,
          4200,
          2325,
          1102,
          3140,
          5916,
          6673,
          7639,
          10400,
          2657,
          6696,
          2058,
          2389,
          2436,
          2707,
          3730,
          10048,
          3479,
          3485,
          11849,
          3161,
          2373,
          5828,
          1420,
          4941,
          3464,
          5238,
          2119,
          2174,
          2851,
          9355,
          6380,
          2716,
          5304,
          3102,
          2285,
          4031,
          3202,
          2351,
          2546,
          2564,
          13610,
          3408,
          9824,
          9950,
          3894,
          2741,
          1878,
          2340,
          4707,
          2886,
          2033,
          4233,
          3041,
          4286,
          1009,
          3348,
          4577,
          6796,
          2216,
          2759,
          2686,
          6397,
          19859,
          5326,
          1601,
          2319,
          5324,
          19246,
          4382,
          7654,
          5160,
          2366,
          2022,
          2800,
          2795,
          2380,
          2044,
          2693,
          4171,
          2778,
          2404,
          2413,
          2121,
          2973,
          10325,
          10609,
          2479,
          13194,
          2321,
          2404,
          2132,
          3743,
          2600,
          2422,
          4777,
          4969,
          19845,
          2743,
          4834,
          2042,
          2323,
          1416,
          2461,
          8722,
          10482,
          9582,
          4508,
          3691,
          2377,
          2313,
          2596,
          4728,
          12169,
          1904,
          8224,
          2610,
          7336,
          13758,
          2515,
          5346,
          2936,
          2853,
          2107,
          2210,
          1859,
          1118,
          18824,
          2625,
          7978,
          3339,
          4883,
          3904,
          9094,
          8446,
          2302,
          2362,
          10008,
          13695,
          2785,
          4614,
          6179,
          2394,
          4284,
          7553,
          1359,
          1261,
          4400,
          10096,
          3646,
          7446,
          3722,
          2742,
          2909,
          5765,
          4599,
          3172,
          2561,
          2362,
          2018,
          4084,
          9714,
          2074,
          10169,
          4855,
          2408,
          1569,
          10306,
          5440,
          2166,
          4581,
          3989,
          2655,
          1393,
          2275,
          1555,
          12936,
          6134,
          6735,
          2180,
          2760,
          8564,
          8161,
          2437,
          2679,
          2398,
          2342,
          5813,
          5346,
          4213,
          2148,
          8926,
          2956,
          2335,
          9907,
          2439,
          7314,
          1081,
          2472,
          2307,
          2587,
          1091,
          9854,
          2432,
          2863,
          2367,
          5617,
          10448,
          1790,
          4787,
          2339,
          6728,
          10854
         ],
         "y0": " ",
         "yaxis": "y"
        },
        {
         "alignmentgroup": "True",
         "hovertemplate": "Attrition=No<br>JobLevel=%{x}<br>MonthlyIncome=%{y}<extra></extra>",
         "legendgroup": "No",
         "marker": {
          "color": "#2ecc71"
         },
         "name": "No",
         "notched": false,
         "offsetgroup": "No",
         "orientation": "v",
         "showlegend": true,
         "type": "box",
         "x": [
          2,
          1,
          1,
          1,
          1,
          1,
          3,
          2,
          1,
          2,
          1,
          1,
          3,
          1,
          1,
          4,
          1,
          2,
          3,
          1,
          5,
          2,
          3,
          5,
          1,
          2,
          1,
          1,
          1,
          1,
          2,
          1,
          1,
          3,
          2,
          2,
          1,
          2,
          1,
          2,
          3,
          2,
          3,
          3,
          1,
          2,
          2,
          2,
          2,
          5,
          3,
          3,
          4,
          2,
          3,
          1,
          2,
          1,
          1,
          2,
          1,
          2,
          2,
          3,
          3,
          2,
          2,
          1,
          3,
          2,
          2,
          3,
          1,
          1,
          2,
          4,
          2,
          2,
          3,
          2,
          3,
          2,
          2,
          4,
          2,
          1,
          2,
          2,
          5,
          5,
          1,
          1,
          3,
          4,
          1,
          2,
          3,
          3,
          3,
          1,
          4,
          1,
          2,
          5,
          1,
          1,
          2,
          1,
          3,
          3,
          1,
          2,
          2,
          2,
          2,
          1,
          2,
          1,
          2,
          1,
          1,
          4,
          1,
          1,
          2,
          3,
          2,
          2,
          3,
          2,
          2,
          1,
          3,
          1,
          1,
          1,
          1,
          3,
          1,
          5,
          1,
          3,
          2,
          1,
          1,
          1,
          2,
          2,
          1,
          1,
          3,
          1,
          1,
          1,
          1,
          2,
          1,
          5,
          5,
          2,
          4,
          5,
          1,
          1,
          4,
          1,
          2,
          2,
          2,
          2,
          2,
          2,
          1,
          2,
          1,
          1,
          2,
          3,
          3,
          2,
          3,
          3,
          3,
          2,
          2,
          1,
          3,
          3,
          2,
          1,
          1,
          3,
          3,
          1,
          5,
          1,
          5,
          4,
          5,
          1,
          1,
          2,
          2,
          2,
          5,
          3,
          1,
          2,
          1,
          2,
          3,
          1,
          2,
          2,
          2,
          1,
          5,
          1,
          1,
          2,
          2,
          4,
          2,
          2,
          2,
          4,
          1,
          5,
          1,
          2,
          1,
          3,
          3,
          2,
          2,
          5,
          4,
          2,
          2,
          2,
          2,
          1,
          2,
          1,
          5,
          2,
          1,
          1,
          4,
          3,
          1,
          2,
          4,
          1,
          2,
          2,
          3,
          2,
          2,
          3,
          2,
          1,
          2,
          3,
          1,
          3,
          4,
          1,
          4,
          1,
          2,
          2,
          2,
          2,
          2,
          3,
          5,
          2,
          5,
          2,
          2,
          2,
          3,
          2,
          2,
          1,
          2,
          2,
          2,
          3,
          3,
          2,
          3,
          1,
          2,
          2,
          4,
          2,
          1,
          1,
          3,
          2,
          2,
          2,
          2,
          2,
          3,
          2,
          1,
          1,
          1,
          2,
          3,
          1,
          1,
          2,
          1,
          2,
          3,
          2,
          1,
          4,
          2,
          1,
          1,
          3,
          1,
          2,
          1,
          2,
          4,
          2,
          5,
          2,
          2,
          1,
          2,
          2,
          2,
          1,
          5,
          4,
          2,
          3,
          2,
          3,
          1,
          4,
          2,
          2,
          5,
          2,
          2,
          1,
          5,
          1,
          1,
          3,
          3,
          4,
          4,
          1,
          3,
          2,
          4,
          1,
          2,
          1,
          3,
          3,
          1,
          3,
          1,
          3,
          2,
          4,
          2,
          2,
          4,
          1,
          2,
          3,
          2,
          2,
          4,
          3,
          3,
          2,
          2,
          2,
          2,
          3,
          3,
          4,
          3,
          2,
          1,
          2,
          2,
          5,
          1,
          2,
          1,
          5,
          1,
          1,
          2,
          2,
          1,
          2,
          1,
          2,
          4,
          1,
          2,
          4,
          2,
          1,
          1,
          5,
          1,
          2,
          2,
          1,
          2,
          1,
          1,
          3,
          2,
          2,
          2,
          3,
          2,
          1,
          1,
          1,
          2,
          2,
          1,
          2,
          2,
          1,
          1,
          3,
          2,
          2,
          2,
          3,
          3,
          2,
          3,
          4,
          5,
          2,
          3,
          5,
          1,
          3,
          3,
          1,
          4,
          2,
          1,
          2,
          2,
          1,
          2,
          4,
          1,
          2,
          1,
          2,
          2,
          2,
          1,
          2,
          4,
          2,
          2,
          1,
          2,
          3,
          1,
          1,
          2,
          1,
          2,
          2,
          1,
          2,
          1,
          1,
          1,
          2,
          2,
          5,
          1,
          2,
          4,
          3,
          4,
          2,
          1,
          1,
          2,
          1,
          2,
          2,
          2,
          1,
          2,
          2,
          1,
          4,
          3,
          3,
          2,
          1,
          1,
          4,
          2,
          1,
          2,
          1,
          2,
          2,
          1,
          3,
          3,
          2,
          4,
          2,
          1,
          2,
          1,
          1,
          1,
          2,
          3,
          1,
          2,
          1,
          1,
          2,
          1,
          2,
          1,
          4,
          3,
          1,
          4,
          2,
          2,
          3,
          4,
          2,
          1,
          1,
          1,
          2,
          2,
          2,
          1,
          1,
          1,
          1,
          2,
          1,
          3,
          1,
          2,
          3,
          1,
          2,
          1,
          3,
          1,
          3,
          2,
          1,
          1,
          2,
          1,
          2,
          2,
          2,
          1,
          2,
          4,
          4,
          3,
          2,
          3,
          3,
          2,
          2,
          4,
          1,
          1,
          4,
          2,
          5,
          1,
          2,
          2,
          4,
          1,
          3,
          2,
          2,
          1,
          3,
          3,
          3,
          2,
          1,
          2,
          3,
          2,
          4,
          2,
          1,
          5,
          1,
          4,
          2,
          5,
          2,
          4,
          2,
          3,
          1,
          4,
          1,
          2,
          3,
          1,
          3,
          1,
          1,
          1,
          5,
          2,
          2,
          1,
          5,
          3,
          1,
          3,
          4,
          3,
          2,
          1,
          2,
          1,
          3,
          3,
          1,
          3,
          2,
          3,
          1,
          2,
          2,
          4,
          2,
          1,
          4,
          2,
          3,
          3,
          1,
          3,
          4,
          3,
          3,
          5,
          1,
          2,
          2,
          1,
          1,
          2,
          4,
          2,
          1,
          2,
          2,
          1,
          1,
          1,
          2,
          1,
          2,
          1,
          3,
          2,
          1,
          1,
          1,
          2,
          2,
          3,
          2,
          1,
          1,
          5,
          1,
          1,
          1,
          2,
          1,
          5,
          1,
          4,
          1,
          1,
          2,
          2,
          4,
          1,
          5,
          2,
          2,
          1,
          2,
          2,
          1,
          2,
          2,
          2,
          1,
          2,
          3,
          1,
          2,
          2,
          1,
          3,
          3,
          1,
          3,
          1,
          1,
          4,
          2,
          2,
          2,
          5,
          5,
          1,
          1,
          1,
          2,
          5,
          4,
          1,
          5,
          3,
          1,
          1,
          1,
          4,
          5,
          2,
          5,
          3,
          2,
          1,
          5,
          2,
          1,
          2,
          3,
          2,
          1,
          1,
          2,
          1,
          1,
          2,
          5,
          4,
          1,
          2,
          3,
          1,
          2,
          4,
          3,
          2,
          3,
          2,
          4,
          5,
          5,
          1,
          3,
          2,
          2,
          2,
          4,
          2,
          2,
          1,
          1,
          2,
          3,
          1,
          4,
          1,
          2,
          2,
          4,
          1,
          2,
          2,
          1,
          2,
          2,
          2,
          3,
          2,
          1,
          2,
          2,
          3,
          2,
          4,
          2,
          2,
          1,
          4,
          1,
          1,
          3,
          1,
          1,
          3,
          4,
          5,
          4,
          2,
          2,
          4,
          1,
          1,
          2,
          2,
          1,
          1,
          1,
          4,
          2,
          2,
          1,
          1,
          2,
          3,
          3,
          1,
          3,
          2,
          3,
          2,
          1,
          4,
          2,
          1,
          1,
          2,
          2,
          2,
          1,
          2,
          1,
          2,
          3,
          4,
          1,
          1,
          3,
          2,
          1,
          2,
          1,
          2,
          1,
          2,
          2,
          1,
          2,
          2,
          3,
          4,
          4,
          3,
          4,
          3,
          2,
          3,
          4,
          1,
          1,
          2,
          2,
          2,
          1,
          3,
          2,
          2,
          4,
          1,
          2,
          3,
          1,
          2,
          1,
          2,
          1,
          2,
          2,
          1,
          3,
          2,
          1,
          1,
          5,
          2,
          1,
          2,
          2,
          2,
          1,
          2,
          3,
          2,
          5,
          1,
          2,
          5,
          2,
          2,
          2,
          1,
          1,
          4,
          1,
          4,
          1,
          5,
          1,
          2,
          2,
          2,
          2,
          2,
          1,
          2,
          1,
          2,
          2,
          1,
          5,
          2,
          3,
          2,
          2,
          2,
          2,
          3,
          1,
          3,
          2,
          4,
          1,
          1,
          1,
          2,
          3,
          2,
          2,
          4,
          3,
          1,
          2,
          1,
          4,
          2,
          2,
          4,
          4,
          2,
          2,
          2,
          2,
          2,
          1,
          1,
          4,
          4,
          3,
          1,
          2,
          2,
          1,
          1,
          3,
          1,
          1,
          2,
          3,
          1,
          2,
          1,
          3,
          1,
          2,
          1,
          3,
          1,
          2,
          3,
          1,
          4,
          1,
          1,
          2,
          2,
          1,
          2,
          2,
          1,
          2,
          3,
          1,
          2,
          2,
          3,
          5,
          3,
          1,
          1,
          2,
          1,
          2,
          3,
          1,
          2,
          2,
          1,
          1,
          2,
          1,
          2,
          1,
          5,
          2,
          1,
          2,
          4,
          1,
          2,
          1,
          2,
          3,
          2,
          5,
          3,
          2,
          1,
          1,
          3,
          2,
          1,
          2,
          2,
          1,
          2,
          1,
          2,
          3,
          3,
          2,
          2,
          4,
          1,
          3,
          2,
          2,
          3,
          1,
          2,
          2,
          4,
          1,
          2,
          2,
          2,
          1,
          1,
          2,
          1,
          1,
          3,
          1,
          2,
          1,
          4,
          2,
          1,
          5,
          5,
          1,
          2,
          1,
          1,
          2,
          2,
          3,
          1,
          2,
          2,
          2,
          2,
          4,
          1,
          2,
          4,
          2,
          2,
          2,
          3,
          2,
          2,
          1,
          1,
          2,
          2,
          2,
          2,
          1,
          2,
          2,
          2,
          2,
          2,
          4,
          1,
          5,
          2,
          2,
          1,
          1,
          1,
          3,
          3,
          1,
          2,
          2,
          2,
          1,
          2,
          2,
          2,
          2,
          2,
          3,
          1,
          5,
          1,
          4,
          2,
          3,
          2,
          2,
          1,
          2,
          2,
          1,
          1,
          1,
          3,
          1,
          2,
          1,
          2,
          2,
          1,
          3,
          1,
          1,
          2,
          2,
          1,
          1,
          1,
          2,
          3,
          3,
          3,
          2,
          1,
          1,
          1,
          5,
          3,
          2,
          2,
          5,
          4,
          2,
          2,
          2,
          1,
          3,
          2,
          2,
          2,
          1,
          2,
          1,
          1,
          2,
          1,
          4,
          2,
          1,
          2,
          3,
          2,
          2,
          2
         ],
         "x0": " ",
         "xaxis": "x",
         "y": [
          5130,
          2909,
          3468,
          3068,
          2670,
          2693,
          9526,
          5237,
          2426,
          4193,
          2911,
          2661,
          9980,
          3298,
          2935,
          15427,
          3944,
          4011,
          11994,
          1232,
          19094,
          6825,
          10248,
          18947,
          2496,
          6465,
          2206,
          2645,
          2014,
          3419,
          5376,
          1951,
          2341,
          8726,
          4011,
          4568,
          3022,
          5772,
          2269,
          5454,
          9884,
          4157,
          13458,
          9069,
          4014,
          5915,
          5993,
          6162,
          2406,
          18740,
          7637,
          10096,
          14756,
          6499,
          9724,
          2194,
          5473,
          2703,
          2501,
          6220,
          3038,
          4424,
          4312,
          13245,
          13664,
          5021,
          5126,
          2859,
          10239,
          5329,
          4325,
          7260,
          2322,
          2075,
          4152,
          13503,
          5441,
          5209,
          10673,
          5010,
          13549,
          4999,
          4221,
          13872,
          2042,
          2956,
          4809,
          5163,
          18844,
          18172,
          2889,
          2871,
          7484,
          17328,
          2774,
          4505,
          7428,
          11631,
          9738,
          2835,
          16959,
          2613,
          6146,
          19537,
          2368,
          2523,
          6567,
          4739,
          9208,
          8189,
          2942,
          4941,
          5902,
          8639,
          6347,
          3452,
          4317,
          2632,
          4668,
          3204,
          2720,
          17181,
          2238,
          1483,
          5605,
          7295,
          2306,
          2348,
          8998,
          4319,
          6132,
          3346,
          10855,
          2231,
          2323,
          2024,
          2713,
          9439,
          2566,
          19926,
          2451,
          9419,
          8686,
          3038,
          3058,
          2088,
          3072,
          5006,
          4257,
          2500,
          10453,
          2288,
          3929,
          2311,
          3690,
          4450,
          2756,
          19033,
          18722,
          9547,
          13734,
          19999,
          2279,
          2089,
          16792,
          3564,
          4425,
          5265,
          6553,
          6261,
          4298,
          6804,
          3815,
          2741,
          2328,
          2153,
          4876,
          9396,
          8474,
          9981,
          12490,
          13591,
          8865,
          5940,
          5914,
          2622,
          12185,
          10609,
          4345,
          2177,
          2793,
          7918,
          8789,
          3212,
          19232,
          2267,
          19517,
          16064,
          19068,
          3931,
          2232,
          4465,
          3072,
          3319,
          19202,
          13675,
          2911,
          5957,
          3920,
          6434,
          10938,
          2340,
          6545,
          6931,
          4898,
          2593,
          19436,
          2723,
          2794,
          5249,
          2176,
          16872,
          6644,
          5582,
          4000,
          13496,
          3210,
          19045,
          2070,
          6502,
          3230,
          13603,
          11996,
          5605,
          6397,
          19144,
          17584,
          4907,
          4554,
          5415,
          4741,
          2115,
          5745,
          3310,
          18665,
          4485,
          2789,
          2326,
          13525,
          8020,
          3688,
          5482,
          16015,
          1200,
          5661,
          6929,
          9613,
          5674,
          5484,
          12061,
          5660,
          4821,
          6410,
          5210,
          2695,
          11878,
          17068,
          2455,
          13964,
          2478,
          5228,
          4478,
          7547,
          5055,
          5775,
          8943,
          19272,
          4682,
          18300,
          5257,
          6349,
          4869,
          9985,
          3697,
          7457,
          3983,
          6118,
          6214,
          6347,
          11510,
          7143,
          8268,
          8095,
          2904,
          6032,
          2976,
          15992,
          4649,
          2696,
          2370,
          12504,
          5974,
          4736,
          5296,
          6781,
          6653,
          9699,
          6755,
          2213,
          2610,
          3452,
          5258,
          10496,
          2657,
          2201,
          6540,
          3816,
          5253,
          10965,
          4936,
          2543,
          16659,
          4260,
          2476,
          2244,
          7596,
          3034,
          5715,
          2576,
          4197,
          14336,
          3448,
          19406,
          6538,
          4306,
          2258,
          4522,
          4487,
          4449,
          2218,
          19197,
          13212,
          6577,
          8392,
          4558,
          7969,
          2654,
          16555,
          4556,
          6091,
          19566,
          4810,
          4523,
          1702,
          18041,
          2886,
          2097,
          11935,
          8412,
          14118,
          17046,
          2564,
          10266,
          5070,
          17861,
          4230,
          3780,
          2768,
          9071,
          10648,
          2983,
          7632,
          2093,
          9980,
          4051,
          16835,
          6230,
          4717,
          13237,
          3755,
          6582,
          7406,
          4805,
          4262,
          16184,
          11557,
          10932,
          6811,
          4306,
          4859,
          5337,
          7491,
          10527,
          16595,
          8834,
          5577,
          2400,
          9824,
          6447,
          19502,
          2725,
          6272,
          2127,
          18200,
          2096,
          3622,
          3681,
          5460,
          2187,
          9602,
          2836,
          4089,
          16627,
          2619,
          5679,
          15402,
          5985,
          2579,
          3447,
          19513,
          2773,
          7104,
          6322,
          2083,
          8381,
          2691,
          2659,
          9434,
          5561,
          6646,
          7725,
          10725,
          8847,
          2045,
          1281,
          2819,
          4851,
          4028,
          2720,
          8120,
          4647,
          4680,
          3221,
          8621,
          4553,
          5396,
          7625,
          7412,
          11159,
          4960,
          10475,
          14814,
          19141,
          5405,
          8793,
          19189,
          3875,
          11713,
          7861,
          3708,
          13770,
          5304,
          2642,
          6804,
          6142,
          2500,
          6389,
          11103,
          2342,
          6811,
          2297,
          2450,
          5093,
          5309,
          3057,
          5121,
          16856,
          6180,
          6632,
          3505,
          6274,
          7587,
          4258,
          4364,
          4335,
          3280,
          5485,
          4342,
          2782,
          5980,
          4381,
          2572,
          3833,
          4244,
          6500,
          18430,
          2694,
          3149,
          17639,
          11691,
          16752,
          5228,
          2700,
          2506,
          6062,
          2143,
          6162,
          5094,
          6877,
          2274,
          4434,
          6288,
          2553,
          17159,
          12808,
          10221,
          4779,
          3737,
          1706,
          16307,
          5933,
          3424,
          4037,
          2559,
          6201,
          4403,
          3761,
          10934,
          10761,
          5175,
          13826,
          6334,
          4936,
          4775,
          2818,
          2515,
          2342,
          4194,
          10685,
          2314,
          4256,
          3580,
          3162,
          6524,
          2899,
          5231,
          2356,
          11836,
          10903,
          2973,
          14275,
          5562,
          4537,
          7642,
          17924,
          5204,
          2277,
          2532,
          2559,
          4908,
          4765,
          6586,
          3294,
          2377,
          2318,
          2008,
          6244,
          2799,
          10552,
          2329,
          4014,
          7403,
          2259,
          6932,
          4678,
          13582,
          2332,
          9705,
          4294,
          4721,
          2519,
          5855,
          3617,
          6725,
          6949,
          4447,
          2157,
          4601,
          17099,
          14852,
          7264,
          5666,
          7823,
          7880,
          5067,
          5079,
          17444,
          3452,
          2270,
          17399,
          5488,
          19419,
          2811,
          3633,
          4163,
          13973,
          2684,
          10845,
          4377,
          4148,
          1051,
          10739,
          10388,
          11416,
          5472,
          2451,
          4240,
          10999,
          5003,
          12742,
          4227,
          3917,
          18303,
          2380,
          13726,
          6385,
          19973,
          6861,
          13320,
          6347,
          10880,
          2342,
          17650,
          4025,
          9725,
          11904,
          2177,
          7525,
          2220,
          1052,
          2821,
          19237,
          4107,
          8396,
          2007,
          19627,
          10686,
          2942,
          8858,
          16756,
          10798,
          4615,
          3955,
          9957,
          3376,
          8823,
          10322,
          4621,
          10976,
          3660,
          7119,
          2207,
          7756,
          6694,
          17665,
          4302,
          2979,
          16885,
          5593,
          10445,
          8740,
          2514,
          7655,
          17465,
          7351,
          10820,
          19626,
          2070,
          6782,
          7779,
          2791,
          3201,
          4968,
          13120,
          4033,
          3291,
          4272,
          5056,
          2844,
          2703,
          4766,
          5731,
          2539,
          5714,
          4323,
          13499,
          5155,
          2258,
          3597,
          4420,
          6578,
          4422,
          10274,
          5343,
          2376,
          2827,
          19943,
          3131,
          2552,
          4477,
          6474,
          3033,
          18606,
          2168,
          17048,
          2290,
          3600,
          4115,
          4327,
          17856,
          3196,
          19081,
          8966,
          4539,
          2741,
          3491,
          4541,
          2678,
          7379,
          6272,
          5220,
          2743,
          4998,
          10252,
          2781,
          6852,
          4950,
          3579,
          13191,
          10377,
          2235,
          10502,
          2011,
          3760,
          17779,
          6833,
          6812,
          5171,
          19740,
          18711,
          3692,
          2559,
          2517,
          6623,
          18265,
          16124,
          2585,
          18213,
          8380,
          2994,
          1223,
          2875,
          13577,
          18789,
          4538,
          19847,
          10512,
          4444,
          2154,
          19190,
          4490,
          3506,
          2372,
          10231,
          5410,
          3867,
          2838,
          4695,
          2080,
          2096,
          6209,
          18061,
          17123,
          2372,
          4627,
          7094,
          3423,
          6674,
          16880,
          11916,
          4534,
          9852,
          6151,
          17861,
          19187,
          19717,
          3544,
          8500,
          4661,
          4103,
          4249,
          14026,
          6893,
          6125,
          3669,
          2387,
          4639,
          7898,
          2534,
          13142,
          1611,
          5363,
          5071,
          13402,
          2029,
          6377,
          5429,
          2610,
          6687,
          4724,
          6120,
          10596,
          5467,
          2996,
          9998,
          4078,
          10920,
          6232,
          13247,
          4081,
          5769,
          3904,
          16799,
          2950,
          3629,
          9362,
          3229,
          3578,
          7988,
          17328,
          19701,
          14732,
          9278,
          4779,
          16422,
          2996,
          2099,
          5810,
          5647,
          3420,
          3500,
          2066,
          17169,
          4162,
          9204,
          3294,
          2127,
          3975,
          10793,
          10851,
          2109,
          9380,
          5486,
          13757,
          8463,
          3162,
          16598,
          6651,
          2345,
          3420,
          4373,
          4759,
          5301,
          3673,
          4768,
          1274,
          4900,
          10466,
          17007,
          2404,
          2033,
          10209,
          8620,
          2064,
          4035,
          3838,
          4591,
          1563,
          4898,
          4789,
          3180,
          6549,
          6388,
          11244,
          16032,
          16328,
          8376,
          16606,
          8606,
          2272,
          7083,
          14411,
          2308,
          4841,
          4285,
          9715,
          4320,
          2132,
          10124,
          5473,
          5207,
          16437,
          2296,
          4069,
          7441,
          2430,
          5878,
          2644,
          6439,
          2451,
          6392,
          6077,
          2450,
          9250,
          4087,
          2367,
          2972,
          19586,
          5484,
          2061,
          9924,
          4198,
          6815,
          4723,
          6142,
          8237,
          8853,
          19331,
          2073,
          5562,
          19613,
          3407,
          5063,
          4639,
          4876,
          2690,
          17567,
          2814,
          11245,
          3312,
          19049,
          2141,
          5769,
          4385,
          5332,
          4663,
          4724,
          3211,
          5377,
          4066,
          5208,
          4877,
          3117,
          19658,
          3069,
          10435,
          4148,
          5768,
          5042,
          5770,
          7756,
          3936,
          7945,
          5743,
          15202,
          3760,
          3517,
          2580,
          5869,
          8008,
          5206,
          5295,
          16413,
          13269,
          2783,
          5433,
          2013,
          13966,
          4374,
          6842,
          17426,
          17603,
          4735,
          4187,
          5505,
          5470,
          5476,
          2587,
          2440,
          15972,
          15379,
          7082,
          2728,
          5368,
          5347,
          3195,
          3306,
          7005,
          2570,
          3537,
          3986,
          10883,
          2028,
          9525,
          2929,
          7879,
          4930,
          7847,
          4401,
          9241,
          2974,
          4502,
          10748,
          2305,
          16704,
          3433,
          3477,
          6430,
          6516,
          3907,
          5562,
          6883,
          2862,
          4978,
          10368,
          3295,
          5238,
          6472,
          9610,
          19833,
          9756,
          4968,
          2145,
          8346,
          3445,
          6294,
          7140,
          2932,
          5147,
          4507,
          2468,
          2109,
          5294,
          2718,
          5811,
          2766,
          19038,
          3055,
          2289,
          4001,
          12965,
          3539,
          6029,
          3702,
          5468,
          13116,
          4189,
          19328,
          8321,
          4071,
          3143,
          2044,
          13464,
          7991,
          3377,
          5538,
          5762,
          2592,
          4127,
          2438,
          6870,
          10447,
          9667,
          6513,
          6799,
          16291,
          2705,
          10333,
          4448,
          6854,
          9637,
          3591,
          5405,
          4684,
          15787,
          1514,
          5154,
          6962,
          5675,
          2379,
          3812,
          4648,
          2936,
          2105,
          8578,
          2706,
          6384,
          3968,
          13225,
          3540,
          2804,
          19392,
          19665,
          4774,
          3902,
          2662,
          2856,
          5673,
          4197,
          9713,
          2062,
          4284,
          4788,
          5906,
          3886,
          16823,
          2933,
          6500,
          17174,
          5033,
          5507,
          4393,
          13348,
          6583,
          8103,
          3978,
          2544,
          5399,
          5487,
          6834,
          5736,
          2226,
          5747,
          5467,
          5380,
          5151,
          2133,
          17875,
          4771,
          19161,
          5087,
          5561,
          2144,
          3065,
          2810,
          9888,
          8628,
          2867,
          5373,
          6667,
          5003,
          2858,
          5204,
          4105,
          9679,
          2897,
          5968,
          7510,
          2991,
          19636,
          1129,
          13341,
          4332,
          11031,
          4440,
          4617,
          2647,
          6323,
          5677,
          2187,
          3748,
          3977,
          8633,
          2008,
          4440,
          3067,
          5321,
          5410,
          2782,
          11957,
          2660,
          3375,
          5098,
          4878,
          2837,
          2406,
          2269,
          4108,
          13206,
          10422,
          13744,
          4907,
          3482,
          2436,
          2380,
          19431,
          7644,
          5131,
          6306,
          18880,
          13570,
          6712,
          5406,
          8938,
          2439,
          8837,
          5343,
          6652,
          4850,
          2809,
          5689,
          2001,
          2977,
          4025,
          3785,
          12031,
          9936,
          2966,
          2571,
          9991,
          6142,
          5390,
          4404
         ],
         "y0": " ",
         "yaxis": "y"
        }
       ],
       "layout": {
        "boxmode": "group",
        "height": 500,
        "legend": {
         "title": {
          "text": "Attrition"
         },
         "tracegroupgap": 0
        },
        "template": {
         "data": {
          "bar": [
           {
            "error_x": {
             "color": "#2a3f5f"
            },
            "error_y": {
             "color": "#2a3f5f"
            },
            "marker": {
             "line": {
              "color": "#E5ECF6",
              "width": 0.5
             },
             "pattern": {
              "fillmode": "overlay",
              "size": 10,
              "solidity": 0.2
             }
            },
            "type": "bar"
           }
          ],
          "barpolar": [
           {
            "marker": {
             "line": {
              "color": "#E5ECF6",
              "width": 0.5
             },
             "pattern": {
              "fillmode": "overlay",
              "size": 10,
              "solidity": 0.2
             }
            },
            "type": "barpolar"
           }
          ],
          "carpet": [
           {
            "aaxis": {
             "endlinecolor": "#2a3f5f",
             "gridcolor": "white",
             "linecolor": "white",
             "minorgridcolor": "white",
             "startlinecolor": "#2a3f5f"
            },
            "baxis": {
             "endlinecolor": "#2a3f5f",
             "gridcolor": "white",
             "linecolor": "white",
             "minorgridcolor": "white",
             "startlinecolor": "#2a3f5f"
            },
            "type": "carpet"
           }
          ],
          "choropleth": [
           {
            "colorbar": {
             "outlinewidth": 0,
             "ticks": ""
            },
            "type": "choropleth"
           }
          ],
          "contour": [
           {
            "colorbar": {
             "outlinewidth": 0,
             "ticks": ""
            },
            "colorscale": [
             [
              0,
              "#0d0887"
             ],
             [
              0.1111111111111111,
              "#46039f"
             ],
             [
              0.2222222222222222,
              "#7201a8"
             ],
             [
              0.3333333333333333,
              "#9c179e"
             ],
             [
              0.4444444444444444,
              "#bd3786"
             ],
             [
              0.5555555555555556,
              "#d8576b"
             ],
             [
              0.6666666666666666,
              "#ed7953"
             ],
             [
              0.7777777777777778,
              "#fb9f3a"
             ],
             [
              0.8888888888888888,
              "#fdca26"
             ],
             [
              1,
              "#f0f921"
             ]
            ],
            "type": "contour"
           }
          ],
          "contourcarpet": [
           {
            "colorbar": {
             "outlinewidth": 0,
             "ticks": ""
            },
            "type": "contourcarpet"
           }
          ],
          "heatmap": [
           {
            "colorbar": {
             "outlinewidth": 0,
             "ticks": ""
            },
            "colorscale": [
             [
              0,
              "#0d0887"
             ],
             [
              0.1111111111111111,
              "#46039f"
             ],
             [
              0.2222222222222222,
              "#7201a8"
             ],
             [
              0.3333333333333333,
              "#9c179e"
             ],
             [
              0.4444444444444444,
              "#bd3786"
             ],
             [
              0.5555555555555556,
              "#d8576b"
             ],
             [
              0.6666666666666666,
              "#ed7953"
             ],
             [
              0.7777777777777778,
              "#fb9f3a"
             ],
             [
              0.8888888888888888,
              "#fdca26"
             ],
             [
              1,
              "#f0f921"
             ]
            ],
            "type": "heatmap"
           }
          ],
          "heatmapgl": [
           {
            "colorbar": {
             "outlinewidth": 0,
             "ticks": ""
            },
            "colorscale": [
             [
              0,
              "#0d0887"
             ],
             [
              0.1111111111111111,
              "#46039f"
             ],
             [
              0.2222222222222222,
              "#7201a8"
             ],
             [
              0.3333333333333333,
              "#9c179e"
             ],
             [
              0.4444444444444444,
              "#bd3786"
             ],
             [
              0.5555555555555556,
              "#d8576b"
             ],
             [
              0.6666666666666666,
              "#ed7953"
             ],
             [
              0.7777777777777778,
              "#fb9f3a"
             ],
             [
              0.8888888888888888,
              "#fdca26"
             ],
             [
              1,
              "#f0f921"
             ]
            ],
            "type": "heatmapgl"
           }
          ],
          "histogram": [
           {
            "marker": {
             "pattern": {
              "fillmode": "overlay",
              "size": 10,
              "solidity": 0.2
             }
            },
            "type": "histogram"
           }
          ],
          "histogram2d": [
           {
            "colorbar": {
             "outlinewidth": 0,
             "ticks": ""
            },
            "colorscale": [
             [
              0,
              "#0d0887"
             ],
             [
              0.1111111111111111,
              "#46039f"
             ],
             [
              0.2222222222222222,
              "#7201a8"
             ],
             [
              0.3333333333333333,
              "#9c179e"
             ],
             [
              0.4444444444444444,
              "#bd3786"
             ],
             [
              0.5555555555555556,
              "#d8576b"
             ],
             [
              0.6666666666666666,
              "#ed7953"
             ],
             [
              0.7777777777777778,
              "#fb9f3a"
             ],
             [
              0.8888888888888888,
              "#fdca26"
             ],
             [
              1,
              "#f0f921"
             ]
            ],
            "type": "histogram2d"
           }
          ],
          "histogram2dcontour": [
           {
            "colorbar": {
             "outlinewidth": 0,
             "ticks": ""
            },
            "colorscale": [
             [
              0,
              "#0d0887"
             ],
             [
              0.1111111111111111,
              "#46039f"
             ],
             [
              0.2222222222222222,
              "#7201a8"
             ],
             [
              0.3333333333333333,
              "#9c179e"
             ],
             [
              0.4444444444444444,
              "#bd3786"
             ],
             [
              0.5555555555555556,
              "#d8576b"
             ],
             [
              0.6666666666666666,
              "#ed7953"
             ],
             [
              0.7777777777777778,
              "#fb9f3a"
             ],
             [
              0.8888888888888888,
              "#fdca26"
             ],
             [
              1,
              "#f0f921"
             ]
            ],
            "type": "histogram2dcontour"
           }
          ],
          "mesh3d": [
           {
            "colorbar": {
             "outlinewidth": 0,
             "ticks": ""
            },
            "type": "mesh3d"
           }
          ],
          "parcoords": [
           {
            "line": {
             "colorbar": {
              "outlinewidth": 0,
              "ticks": ""
             }
            },
            "type": "parcoords"
           }
          ],
          "pie": [
           {
            "automargin": true,
            "type": "pie"
           }
          ],
          "scatter": [
           {
            "fillpattern": {
             "fillmode": "overlay",
             "size": 10,
             "solidity": 0.2
            },
            "type": "scatter"
           }
          ],
          "scatter3d": [
           {
            "line": {
             "colorbar": {
              "outlinewidth": 0,
              "ticks": ""
             }
            },
            "marker": {
             "colorbar": {
              "outlinewidth": 0,
              "ticks": ""
             }
            },
            "type": "scatter3d"
           }
          ],
          "scattercarpet": [
           {
            "marker": {
             "colorbar": {
              "outlinewidth": 0,
              "ticks": ""
             }
            },
            "type": "scattercarpet"
           }
          ],
          "scattergeo": [
           {
            "marker": {
             "colorbar": {
              "outlinewidth": 0,
              "ticks": ""
             }
            },
            "type": "scattergeo"
           }
          ],
          "scattergl": [
           {
            "marker": {
             "colorbar": {
              "outlinewidth": 0,
              "ticks": ""
             }
            },
            "type": "scattergl"
           }
          ],
          "scattermapbox": [
           {
            "marker": {
             "colorbar": {
              "outlinewidth": 0,
              "ticks": ""
             }
            },
            "type": "scattermapbox"
           }
          ],
          "scatterpolar": [
           {
            "marker": {
             "colorbar": {
              "outlinewidth": 0,
              "ticks": ""
             }
            },
            "type": "scatterpolar"
           }
          ],
          "scatterpolargl": [
           {
            "marker": {
             "colorbar": {
              "outlinewidth": 0,
              "ticks": ""
             }
            },
            "type": "scatterpolargl"
           }
          ],
          "scatterternary": [
           {
            "marker": {
             "colorbar": {
              "outlinewidth": 0,
              "ticks": ""
             }
            },
            "type": "scatterternary"
           }
          ],
          "surface": [
           {
            "colorbar": {
             "outlinewidth": 0,
             "ticks": ""
            },
            "colorscale": [
             [
              0,
              "#0d0887"
             ],
             [
              0.1111111111111111,
              "#46039f"
             ],
             [
              0.2222222222222222,
              "#7201a8"
             ],
             [
              0.3333333333333333,
              "#9c179e"
             ],
             [
              0.4444444444444444,
              "#bd3786"
             ],
             [
              0.5555555555555556,
              "#d8576b"
             ],
             [
              0.6666666666666666,
              "#ed7953"
             ],
             [
              0.7777777777777778,
              "#fb9f3a"
             ],
             [
              0.8888888888888888,
              "#fdca26"
             ],
             [
              1,
              "#f0f921"
             ]
            ],
            "type": "surface"
           }
          ],
          "table": [
           {
            "cells": {
             "fill": {
              "color": "#EBF0F8"
             },
             "line": {
              "color": "white"
             }
            },
            "header": {
             "fill": {
              "color": "#C8D4E3"
             },
             "line": {
              "color": "white"
             }
            },
            "type": "table"
           }
          ]
         },
         "layout": {
          "annotationdefaults": {
           "arrowcolor": "#2a3f5f",
           "arrowhead": 0,
           "arrowwidth": 1
          },
          "autotypenumbers": "strict",
          "coloraxis": {
           "colorbar": {
            "outlinewidth": 0,
            "ticks": ""
           }
          },
          "colorscale": {
           "diverging": [
            [
             0,
             "#8e0152"
            ],
            [
             0.1,
             "#c51b7d"
            ],
            [
             0.2,
             "#de77ae"
            ],
            [
             0.3,
             "#f1b6da"
            ],
            [
             0.4,
             "#fde0ef"
            ],
            [
             0.5,
             "#f7f7f7"
            ],
            [
             0.6,
             "#e6f5d0"
            ],
            [
             0.7,
             "#b8e186"
            ],
            [
             0.8,
             "#7fbc41"
            ],
            [
             0.9,
             "#4d9221"
            ],
            [
             1,
             "#276419"
            ]
           ],
           "sequential": [
            [
             0,
             "#0d0887"
            ],
            [
             0.1111111111111111,
             "#46039f"
            ],
            [
             0.2222222222222222,
             "#7201a8"
            ],
            [
             0.3333333333333333,
             "#9c179e"
            ],
            [
             0.4444444444444444,
             "#bd3786"
            ],
            [
             0.5555555555555556,
             "#d8576b"
            ],
            [
             0.6666666666666666,
             "#ed7953"
            ],
            [
             0.7777777777777778,
             "#fb9f3a"
            ],
            [
             0.8888888888888888,
             "#fdca26"
            ],
            [
             1,
             "#f0f921"
            ]
           ],
           "sequentialminus": [
            [
             0,
             "#0d0887"
            ],
            [
             0.1111111111111111,
             "#46039f"
            ],
            [
             0.2222222222222222,
             "#7201a8"
            ],
            [
             0.3333333333333333,
             "#9c179e"
            ],
            [
             0.4444444444444444,
             "#bd3786"
            ],
            [
             0.5555555555555556,
             "#d8576b"
            ],
            [
             0.6666666666666666,
             "#ed7953"
            ],
            [
             0.7777777777777778,
             "#fb9f3a"
            ],
            [
             0.8888888888888888,
             "#fdca26"
            ],
            [
             1,
             "#f0f921"
            ]
           ]
          },
          "colorway": [
           "#636efa",
           "#EF553B",
           "#00cc96",
           "#ab63fa",
           "#FFA15A",
           "#19d3f3",
           "#FF6692",
           "#B6E880",
           "#FF97FF",
           "#FECB52"
          ],
          "font": {
           "color": "#2a3f5f"
          },
          "geo": {
           "bgcolor": "white",
           "lakecolor": "white",
           "landcolor": "#E5ECF6",
           "showlakes": true,
           "showland": true,
           "subunitcolor": "white"
          },
          "hoverlabel": {
           "align": "left"
          },
          "hovermode": "closest",
          "mapbox": {
           "style": "light"
          },
          "paper_bgcolor": "white",
          "plot_bgcolor": "#E5ECF6",
          "polar": {
           "angularaxis": {
            "gridcolor": "white",
            "linecolor": "white",
            "ticks": ""
           },
           "bgcolor": "#E5ECF6",
           "radialaxis": {
            "gridcolor": "white",
            "linecolor": "white",
            "ticks": ""
           }
          },
          "scene": {
           "xaxis": {
            "backgroundcolor": "#E5ECF6",
            "gridcolor": "white",
            "gridwidth": 2,
            "linecolor": "white",
            "showbackground": true,
            "ticks": "",
            "zerolinecolor": "white"
           },
           "yaxis": {
            "backgroundcolor": "#E5ECF6",
            "gridcolor": "white",
            "gridwidth": 2,
            "linecolor": "white",
            "showbackground": true,
            "ticks": "",
            "zerolinecolor": "white"
           },
           "zaxis": {
            "backgroundcolor": "#E5ECF6",
            "gridcolor": "white",
            "gridwidth": 2,
            "linecolor": "white",
            "showbackground": true,
            "ticks": "",
            "zerolinecolor": "white"
           }
          },
          "shapedefaults": {
           "line": {
            "color": "#2a3f5f"
           }
          },
          "ternary": {
           "aaxis": {
            "gridcolor": "white",
            "linecolor": "white",
            "ticks": ""
           },
           "baxis": {
            "gridcolor": "white",
            "linecolor": "white",
            "ticks": ""
           },
           "bgcolor": "#E5ECF6",
           "caxis": {
            "gridcolor": "white",
            "linecolor": "white",
            "ticks": ""
           }
          },
          "title": {
           "x": 0.05
          },
          "xaxis": {
           "automargin": true,
           "gridcolor": "white",
           "linecolor": "white",
           "ticks": "",
           "title": {
            "standoff": 15
           },
           "zerolinecolor": "white",
           "zerolinewidth": 2
          },
          "yaxis": {
           "automargin": true,
           "gridcolor": "white",
           "linecolor": "white",
           "ticks": "",
           "title": {
            "standoff": 15
           },
           "zerolinecolor": "white",
           "zerolinewidth": 2
          }
         }
        },
        "title": {
         "text": "Monthly Income by Job Level and Attrition"
        },
        "xaxis": {
         "anchor": "y",
         "domain": [
          0,
          1
         ],
         "title": {
          "text": "JobLevel"
         }
        },
        "yaxis": {
         "anchor": "x",
         "domain": [
          0,
          1
         ],
         "title": {
          "text": "MonthlyIncome"
         }
        }
       }
      }
     },
     "metadata": {},
     "output_type": "display_data"
    }
   ],
   "source": [
    "# Income by Job Level and Attrition\n",
    "fig = px.box(df, x='JobLevel', y='MonthlyIncome', color='Attrition',\n",
    "             title='Monthly Income by Job Level and Attrition',\n",
    "             color_discrete_map={'Yes': '#e74c3c', 'No': '#2ecc71'})\n",
    "\n",
    "fig.update_layout(height=500)\n",
    "fig.show()"
   ]
  },
  {
   "cell_type": "markdown",
   "id": "3f1d7ecc",
   "metadata": {},
   "source": [
    "## 5. WORK-LIFE BALANCE ANALYSIS"
   ]
  },
  {
   "cell_type": "code",
   "execution_count": 20,
   "id": "a95f25c4",
   "metadata": {},
   "outputs": [
    {
     "data": {
      "application/vnd.plotly.v1+json": {
       "config": {
        "plotlyServerURL": "https://plot.ly"
       },
       "data": [
        {
         "alignmentgroup": "True",
         "bingroup": "x",
         "hovertemplate": "Attrition=Yes<br>DistanceFromHome=%{x}<br>count=%{y}<extra></extra>",
         "legendgroup": "Yes",
         "marker": {
          "color": "#e74c3c",
          "opacity": 0.7,
          "pattern": {
           "shape": ""
          }
         },
         "name": "Yes",
         "nbinsx": 20,
         "offsetgroup": "Yes",
         "orientation": "v",
         "showlegend": true,
         "type": "histogram",
         "x": [
          1,
          2,
          24,
          9,
          6,
          16,
          5,
          1,
          3,
          25,
          12,
          1,
          5,
          9,
          9,
          6,
          6,
          5,
          7,
          14,
          6,
          23,
          22,
          20,
          8,
          9,
          1,
          2,
          20,
          23,
          29,
          27,
          4,
          3,
          26,
          1,
          18,
          14,
          2,
          1,
          10,
          29,
          2,
          29,
          24,
          16,
          4,
          3,
          8,
          2,
          3,
          8,
          1,
          5,
          4,
          22,
          12,
          19,
          3,
          4,
          3,
          1,
          6,
          25,
          2,
          15,
          10,
          20,
          23,
          4,
          17,
          5,
          24,
          11,
          7,
          12,
          13,
          2,
          26,
          10,
          3,
          3,
          8,
          1,
          19,
          1,
          27,
          2,
          8,
          6,
          1,
          16,
          2,
          2,
          11,
          2,
          5,
          25,
          1,
          25,
          2,
          2,
          18,
          3,
          2,
          6,
          19,
          21,
          4,
          3,
          1,
          2,
          24,
          9,
          10,
          22,
          14,
          11,
          5,
          11,
          29,
          2,
          16,
          15,
          2,
          9,
          10,
          4,
          24,
          1,
          4,
          29,
          4,
          21,
          25,
          1,
          1,
          2,
          8,
          9,
          15,
          23,
          12,
          12,
          9,
          10,
          3,
          5,
          17,
          10,
          24,
          2,
          10,
          15,
          7,
          7,
          23,
          25,
          5,
          1,
          3,
          7,
          13,
          2,
          18,
          22,
          17,
          28,
          14,
          1,
          8,
          9,
          9,
          2,
          1,
          2,
          9,
          1,
          13,
          24,
          9,
          2,
          1,
          9,
          3,
          1,
          2,
          2,
          2,
          24,
          3,
          10,
          15,
          7,
          12,
          8,
          7,
          2,
          7,
          22,
          9,
          13,
          1,
          8,
          9,
          16,
          16,
          17,
          7,
          8,
          1,
          27,
          9,
          10,
          20,
          21,
          18,
          13,
          2,
          24,
          10,
          9,
          7,
          16,
          24,
          24,
          13,
          5,
          22,
          17,
          26,
          24,
          9,
          1,
          7,
          1,
          28
         ],
         "xaxis": "x",
         "yaxis": "y"
        },
        {
         "alignmentgroup": "True",
         "bingroup": "x",
         "hovertemplate": "Attrition=No<br>DistanceFromHome=%{x}<br>count=%{y}<extra></extra>",
         "legendgroup": "No",
         "marker": {
          "color": "#2ecc71",
          "opacity": 0.7,
          "pattern": {
           "shape": ""
          }
         },
         "name": "No",
         "nbinsx": 20,
         "offsetgroup": "No",
         "orientation": "v",
         "showlegend": true,
         "type": "histogram",
         "x": [
          8,
          3,
          2,
          2,
          3,
          24,
          23,
          27,
          16,
          15,
          26,
          19,
          21,
          5,
          16,
          2,
          2,
          11,
          7,
          15,
          5,
          8,
          7,
          2,
          2,
          10,
          9,
          2,
          2,
          5,
          1,
          4,
          2,
          8,
          1,
          23,
          19,
          5,
          8,
          1,
          11,
          23,
          1,
          18,
          23,
          7,
          1,
          1,
          29,
          7,
          25,
          8,
          8,
          11,
          7,
          1,
          1,
          2,
          1,
          1,
          6,
          8,
          1,
          6,
          7,
          5,
          1,
          1,
          1,
          6,
          1,
          7,
          2,
          9,
          2,
          1,
          21,
          4,
          1,
          6,
          2,
          3,
          4,
          10,
          23,
          1,
          6,
          2,
          2,
          1,
          7,
          15,
          1,
          26,
          18,
          6,
          3,
          5,
          11,
          3,
          26,
          23,
          22,
          6,
          6,
          2,
          20,
          28,
          12,
          9,
          25,
          6,
          4,
          28,
          9,
          29,
          3,
          18,
          9,
          5,
          2,
          10,
          9,
          3,
          26,
          1,
          6,
          9,
          8,
          1,
          7,
          9,
          4,
          2,
          19,
          9,
          21,
          24,
          3,
          11,
          14,
          5,
          1,
          6,
          17,
          3,
          9,
          4,
          8,
          2,
          1,
          9,
          12,
          27,
          1,
          13,
          14,
          4,
          14,
          2,
          3,
          1,
          9,
          7,
          2,
          21,
          2,
          21,
          2,
          29,
          1,
          18,
          10,
          19,
          5,
          18,
          9,
          1,
          1,
          20,
          8,
          6,
          6,
          3,
          5,
          4,
          11,
          3,
          1,
          3,
          4,
          1,
          1,
          2,
          4,
          6,
          1,
          16,
          2,
          4,
          1,
          26,
          19,
          24,
          1,
          3,
          5,
          2,
          1,
          7,
          2,
          15,
          17,
          20,
          1,
          2,
          2,
          1,
          7,
          2,
          2,
          2,
          2,
          23,
          5,
          20,
          6,
          1,
          9,
          6,
          3,
          1,
          22,
          7,
          1,
          4,
          3,
          1,
          2,
          20,
          11,
          1,
          23,
          8,
          10,
          3,
          5,
          9,
          26,
          16,
          18,
          2,
          2,
          10,
          16,
          7,
          1,
          24,
          7,
          25,
          1,
          5,
          2,
          7,
          2,
          5,
          10,
          10,
          1,
          5,
          8,
          2,
          7,
          2,
          28,
          7,
          7,
          10,
          5,
          10,
          1,
          20,
          7,
          8,
          1,
          9,
          5,
          8,
          5,
          15,
          7,
          10,
          5,
          26,
          6,
          4,
          23,
          2,
          2,
          2,
          29,
          6,
          25,
          1,
          2,
          1,
          3,
          1,
          10,
          9,
          10,
          7,
          10,
          9,
          23,
          9,
          1,
          9,
          7,
          14,
          2,
          2,
          10,
          2,
          11,
          2,
          14,
          2,
          1,
          10,
          12,
          2,
          5,
          4,
          7,
          21,
          8,
          4,
          25,
          1,
          1,
          6,
          12,
          1,
          17,
          3,
          10,
          4,
          29,
          2,
          7,
          18,
          28,
          2,
          2,
          23,
          3,
          3,
          22,
          29,
          29,
          2,
          28,
          2,
          2,
          22,
          8,
          2,
          10,
          9,
          7,
          16,
          5,
          10,
          2,
          18,
          10,
          1,
          6,
          8,
          2,
          24,
          2,
          19,
          1,
          7,
          28,
          2,
          29,
          1,
          21,
          1,
          18,
          2,
          9,
          6,
          24,
          10,
          1,
          18,
          23,
          28,
          17,
          3,
          13,
          1,
          25,
          6,
          6,
          2,
          1,
          2,
          6,
          1,
          9,
          1,
          1,
          14,
          22,
          3,
          6,
          8,
          9,
          3,
          1,
          1,
          6,
          3,
          3,
          6,
          6,
          19,
          9,
          3,
          3,
          4,
          8,
          7,
          1,
          2,
          3,
          10,
          28,
          9,
          2,
          10,
          1,
          1,
          3,
          14,
          5,
          7,
          10,
          16,
          10,
          1,
          8,
          8,
          1,
          24,
          3,
          27,
          10,
          15,
          8,
          9,
          3,
          9,
          2,
          7,
          10,
          6,
          2,
          24,
          2,
          8,
          3,
          26,
          2,
          10,
          2,
          8,
          19,
          1,
          27,
          1,
          19,
          8,
          10,
          2,
          2,
          8,
          1,
          2,
          8,
          8,
          9,
          11,
          2,
          7,
          2,
          1,
          23,
          1,
          1,
          13,
          4,
          16,
          2,
          2,
          29,
          12,
          16,
          14,
          5,
          7,
          2,
          3,
          3,
          26,
          4,
          2,
          1,
          27,
          1,
          13,
          5,
          7,
          9,
          8,
          25,
          16,
          8,
          1,
          8,
          2,
          8,
          3,
          9,
          1,
          4,
          1,
          4,
          5,
          9,
          3,
          11,
          8,
          25,
          21,
          23,
          1,
          2,
          19,
          2,
          2,
          3,
          7,
          9,
          5,
          8,
          14,
          2,
          9,
          4,
          10,
          14,
          1,
          5,
          7,
          21,
          8,
          20,
          20,
          7,
          1,
          1,
          10,
          1,
          6,
          2,
          12,
          9,
          3,
          1,
          4,
          20,
          18,
          1,
          2,
          8,
          10,
          3,
          2,
          16,
          8,
          17,
          13,
          1,
          1,
          1,
          9,
          16,
          23,
          4,
          24,
          10,
          7,
          17,
          1,
          5,
          17,
          25,
          8,
          2,
          8,
          6,
          4,
          7,
          1,
          2,
          10,
          5,
          9,
          2,
          18,
          7,
          3,
          28,
          1,
          22,
          8,
          11,
          29,
          1,
          1,
          24,
          2,
          10,
          10,
          3,
          2,
          3,
          26,
          1,
          1,
          2,
          9,
          12,
          2,
          25,
          8,
          1,
          20,
          7,
          17,
          20,
          8,
          2,
          10,
          5,
          15,
          3,
          10,
          2,
          7,
          3,
          1,
          9,
          7,
          10,
          28,
          3,
          3,
          2,
          27,
          14,
          1,
          9,
          18,
          20,
          2,
          11,
          8,
          2,
          10,
          29,
          8,
          1,
          6,
          12,
          25,
          6,
          9,
          8,
          9,
          4,
          1,
          24,
          3,
          10,
          26,
          2,
          1,
          4,
          2,
          4,
          6,
          9,
          7,
          1,
          3,
          7,
          15,
          2,
          17,
          2,
          29,
          2,
          2,
          19,
          15,
          17,
          25,
          6,
          7,
          29,
          21,
          2,
          2,
          7,
          13,
          2,
          1,
          9,
          10,
          10,
          1,
          26,
          8,
          14,
          1,
          2,
          1,
          3,
          11,
          24,
          3,
          3,
          4,
          3,
          2,
          4,
          7,
          1,
          1,
          20,
          5,
          10,
          25,
          1,
          4,
          8,
          4,
          2,
          9,
          18,
          19,
          1,
          4,
          11,
          6,
          7,
          4,
          2,
          2,
          6,
          9,
          1,
          1,
          8,
          25,
          13,
          23,
          6,
          10,
          1,
          1,
          28,
          17,
          18,
          2,
          10,
          2,
          2,
          8,
          16,
          9,
          2,
          1,
          4,
          5,
          2,
          15,
          19,
          1,
          7,
          4,
          11,
          11,
          1,
          1,
          2,
          23,
          26,
          2,
          29,
          7,
          2,
          26,
          21,
          2,
          22,
          4,
          5,
          2,
          25,
          18,
          28,
          6,
          10,
          2,
          10,
          8,
          11,
          18,
          1,
          7,
          17,
          1,
          1,
          1,
          3,
          7,
          8,
          1,
          11,
          4,
          16,
          1,
          5,
          1,
          2,
          4,
          7,
          1,
          5,
          9,
          8,
          20,
          8,
          29,
          7,
          8,
          5,
          5,
          2,
          5,
          2,
          20,
          7,
          3,
          16,
          9,
          1,
          7,
          1,
          7,
          15,
          7,
          13,
          2,
          19,
          1,
          4,
          4,
          14,
          1,
          7,
          3,
          2,
          29,
          8,
          10,
          11,
          28,
          6,
          3,
          16,
          20,
          1,
          22,
          7,
          2,
          13,
          8,
          25,
          28,
          2,
          9,
          28,
          6,
          21,
          8,
          1,
          28,
          5,
          2,
          16,
          9,
          8,
          10,
          1,
          29,
          1,
          15,
          7,
          26,
          1,
          3,
          14,
          16,
          1,
          3,
          10,
          6,
          2,
          9,
          10,
          6,
          9,
          28,
          10,
          14,
          27,
          7,
          1,
          26,
          20,
          5,
          7,
          7,
          5,
          26,
          2,
          12,
          10,
          25,
          10,
          19,
          18,
          27,
          5,
          26,
          3,
          15,
          8,
          19,
          4,
          2,
          2,
          10,
          16,
          1,
          4,
          2,
          8,
          2,
          10,
          5,
          2,
          12,
          22,
          17,
          2,
          3,
          7,
          6,
          1,
          3,
          22,
          15,
          1,
          5,
          2,
          2,
          5,
          16,
          2,
          2,
          1,
          23,
          9,
          16,
          26,
          1,
          4,
          24,
          7,
          22,
          5,
          1,
          21,
          1,
          19,
          2,
          2,
          2,
          9,
          6,
          9,
          2,
          1,
          17,
          28,
          10,
          2,
          4,
          8,
          29,
          13,
          27,
          16,
          2,
          2,
          4,
          24,
          1,
          19,
          7,
          4,
          2,
          10,
          5,
          8,
          1,
          15,
          2,
          2,
          11,
          2,
          4,
          16,
          5,
          18,
          12,
          2,
          4,
          9,
          10,
          1,
          2,
          3,
          6,
          29,
          3,
          9,
          2,
          10,
          8,
          8,
          1,
          10,
          26,
          2,
          13,
          2,
          2,
          20,
          9,
          5,
          4,
          10,
          1,
          8,
          2,
          23,
          4,
          12,
          7,
          7,
          1,
          2,
          10,
          15,
          14,
          2,
          2,
          2,
          5,
          20,
          10,
          10,
          9,
          2,
          1,
          29,
          8,
          3,
          23,
          6,
          6,
          10,
          15,
          19,
          2,
          3,
          10,
          20,
          4,
          7,
          7,
          16,
          25,
          2,
          1,
          1,
          2,
          22,
          1,
          17,
          8,
          6,
          10,
          3,
          4,
          6,
          1,
          10,
          1,
          21,
          2,
          22,
          14,
          11,
          9,
          8,
          21,
          9,
          2,
          12,
          18,
          16,
          3,
          9,
          1,
          13,
          1,
          1,
          15,
          1,
          1,
          7,
          9,
          5,
          9,
          7,
          11,
          1,
          26,
          2,
          15,
          23,
          10,
          10,
          1,
          12,
          11,
          2,
          2,
          1,
          2,
          25,
          1,
          1,
          2,
          6,
          18,
          1,
          1,
          11,
          1,
          9,
          15,
          29,
          1,
          1,
          24,
          10,
          1,
          10,
          8,
          29,
          1,
          5,
          9,
          3,
          4,
          1,
          2,
          28,
          28,
          15,
          3,
          2,
          26,
          10,
          11,
          20,
          2,
          18,
          2,
          1,
          13,
          28,
          24,
          5,
          5,
          23,
          6,
          4,
          2,
          8
         ],
         "xaxis": "x",
         "yaxis": "y"
        }
       ],
       "layout": {
        "barmode": "overlay",
        "height": 500,
        "legend": {
         "title": {
          "text": "Attrition"
         },
         "tracegroupgap": 0
        },
        "template": {
         "data": {
          "bar": [
           {
            "error_x": {
             "color": "#2a3f5f"
            },
            "error_y": {
             "color": "#2a3f5f"
            },
            "marker": {
             "line": {
              "color": "#E5ECF6",
              "width": 0.5
             },
             "pattern": {
              "fillmode": "overlay",
              "size": 10,
              "solidity": 0.2
             }
            },
            "type": "bar"
           }
          ],
          "barpolar": [
           {
            "marker": {
             "line": {
              "color": "#E5ECF6",
              "width": 0.5
             },
             "pattern": {
              "fillmode": "overlay",
              "size": 10,
              "solidity": 0.2
             }
            },
            "type": "barpolar"
           }
          ],
          "carpet": [
           {
            "aaxis": {
             "endlinecolor": "#2a3f5f",
             "gridcolor": "white",
             "linecolor": "white",
             "minorgridcolor": "white",
             "startlinecolor": "#2a3f5f"
            },
            "baxis": {
             "endlinecolor": "#2a3f5f",
             "gridcolor": "white",
             "linecolor": "white",
             "minorgridcolor": "white",
             "startlinecolor": "#2a3f5f"
            },
            "type": "carpet"
           }
          ],
          "choropleth": [
           {
            "colorbar": {
             "outlinewidth": 0,
             "ticks": ""
            },
            "type": "choropleth"
           }
          ],
          "contour": [
           {
            "colorbar": {
             "outlinewidth": 0,
             "ticks": ""
            },
            "colorscale": [
             [
              0,
              "#0d0887"
             ],
             [
              0.1111111111111111,
              "#46039f"
             ],
             [
              0.2222222222222222,
              "#7201a8"
             ],
             [
              0.3333333333333333,
              "#9c179e"
             ],
             [
              0.4444444444444444,
              "#bd3786"
             ],
             [
              0.5555555555555556,
              "#d8576b"
             ],
             [
              0.6666666666666666,
              "#ed7953"
             ],
             [
              0.7777777777777778,
              "#fb9f3a"
             ],
             [
              0.8888888888888888,
              "#fdca26"
             ],
             [
              1,
              "#f0f921"
             ]
            ],
            "type": "contour"
           }
          ],
          "contourcarpet": [
           {
            "colorbar": {
             "outlinewidth": 0,
             "ticks": ""
            },
            "type": "contourcarpet"
           }
          ],
          "heatmap": [
           {
            "colorbar": {
             "outlinewidth": 0,
             "ticks": ""
            },
            "colorscale": [
             [
              0,
              "#0d0887"
             ],
             [
              0.1111111111111111,
              "#46039f"
             ],
             [
              0.2222222222222222,
              "#7201a8"
             ],
             [
              0.3333333333333333,
              "#9c179e"
             ],
             [
              0.4444444444444444,
              "#bd3786"
             ],
             [
              0.5555555555555556,
              "#d8576b"
             ],
             [
              0.6666666666666666,
              "#ed7953"
             ],
             [
              0.7777777777777778,
              "#fb9f3a"
             ],
             [
              0.8888888888888888,
              "#fdca26"
             ],
             [
              1,
              "#f0f921"
             ]
            ],
            "type": "heatmap"
           }
          ],
          "heatmapgl": [
           {
            "colorbar": {
             "outlinewidth": 0,
             "ticks": ""
            },
            "colorscale": [
             [
              0,
              "#0d0887"
             ],
             [
              0.1111111111111111,
              "#46039f"
             ],
             [
              0.2222222222222222,
              "#7201a8"
             ],
             [
              0.3333333333333333,
              "#9c179e"
             ],
             [
              0.4444444444444444,
              "#bd3786"
             ],
             [
              0.5555555555555556,
              "#d8576b"
             ],
             [
              0.6666666666666666,
              "#ed7953"
             ],
             [
              0.7777777777777778,
              "#fb9f3a"
             ],
             [
              0.8888888888888888,
              "#fdca26"
             ],
             [
              1,
              "#f0f921"
             ]
            ],
            "type": "heatmapgl"
           }
          ],
          "histogram": [
           {
            "marker": {
             "pattern": {
              "fillmode": "overlay",
              "size": 10,
              "solidity": 0.2
             }
            },
            "type": "histogram"
           }
          ],
          "histogram2d": [
           {
            "colorbar": {
             "outlinewidth": 0,
             "ticks": ""
            },
            "colorscale": [
             [
              0,
              "#0d0887"
             ],
             [
              0.1111111111111111,
              "#46039f"
             ],
             [
              0.2222222222222222,
              "#7201a8"
             ],
             [
              0.3333333333333333,
              "#9c179e"
             ],
             [
              0.4444444444444444,
              "#bd3786"
             ],
             [
              0.5555555555555556,
              "#d8576b"
             ],
             [
              0.6666666666666666,
              "#ed7953"
             ],
             [
              0.7777777777777778,
              "#fb9f3a"
             ],
             [
              0.8888888888888888,
              "#fdca26"
             ],
             [
              1,
              "#f0f921"
             ]
            ],
            "type": "histogram2d"
           }
          ],
          "histogram2dcontour": [
           {
            "colorbar": {
             "outlinewidth": 0,
             "ticks": ""
            },
            "colorscale": [
             [
              0,
              "#0d0887"
             ],
             [
              0.1111111111111111,
              "#46039f"
             ],
             [
              0.2222222222222222,
              "#7201a8"
             ],
             [
              0.3333333333333333,
              "#9c179e"
             ],
             [
              0.4444444444444444,
              "#bd3786"
             ],
             [
              0.5555555555555556,
              "#d8576b"
             ],
             [
              0.6666666666666666,
              "#ed7953"
             ],
             [
              0.7777777777777778,
              "#fb9f3a"
             ],
             [
              0.8888888888888888,
              "#fdca26"
             ],
             [
              1,
              "#f0f921"
             ]
            ],
            "type": "histogram2dcontour"
           }
          ],
          "mesh3d": [
           {
            "colorbar": {
             "outlinewidth": 0,
             "ticks": ""
            },
            "type": "mesh3d"
           }
          ],
          "parcoords": [
           {
            "line": {
             "colorbar": {
              "outlinewidth": 0,
              "ticks": ""
             }
            },
            "type": "parcoords"
           }
          ],
          "pie": [
           {
            "automargin": true,
            "type": "pie"
           }
          ],
          "scatter": [
           {
            "fillpattern": {
             "fillmode": "overlay",
             "size": 10,
             "solidity": 0.2
            },
            "type": "scatter"
           }
          ],
          "scatter3d": [
           {
            "line": {
             "colorbar": {
              "outlinewidth": 0,
              "ticks": ""
             }
            },
            "marker": {
             "colorbar": {
              "outlinewidth": 0,
              "ticks": ""
             }
            },
            "type": "scatter3d"
           }
          ],
          "scattercarpet": [
           {
            "marker": {
             "colorbar": {
              "outlinewidth": 0,
              "ticks": ""
             }
            },
            "type": "scattercarpet"
           }
          ],
          "scattergeo": [
           {
            "marker": {
             "colorbar": {
              "outlinewidth": 0,
              "ticks": ""
             }
            },
            "type": "scattergeo"
           }
          ],
          "scattergl": [
           {
            "marker": {
             "colorbar": {
              "outlinewidth": 0,
              "ticks": ""
             }
            },
            "type": "scattergl"
           }
          ],
          "scattermapbox": [
           {
            "marker": {
             "colorbar": {
              "outlinewidth": 0,
              "ticks": ""
             }
            },
            "type": "scattermapbox"
           }
          ],
          "scatterpolar": [
           {
            "marker": {
             "colorbar": {
              "outlinewidth": 0,
              "ticks": ""
             }
            },
            "type": "scatterpolar"
           }
          ],
          "scatterpolargl": [
           {
            "marker": {
             "colorbar": {
              "outlinewidth": 0,
              "ticks": ""
             }
            },
            "type": "scatterpolargl"
           }
          ],
          "scatterternary": [
           {
            "marker": {
             "colorbar": {
              "outlinewidth": 0,
              "ticks": ""
             }
            },
            "type": "scatterternary"
           }
          ],
          "surface": [
           {
            "colorbar": {
             "outlinewidth": 0,
             "ticks": ""
            },
            "colorscale": [
             [
              0,
              "#0d0887"
             ],
             [
              0.1111111111111111,
              "#46039f"
             ],
             [
              0.2222222222222222,
              "#7201a8"
             ],
             [
              0.3333333333333333,
              "#9c179e"
             ],
             [
              0.4444444444444444,
              "#bd3786"
             ],
             [
              0.5555555555555556,
              "#d8576b"
             ],
             [
              0.6666666666666666,
              "#ed7953"
             ],
             [
              0.7777777777777778,
              "#fb9f3a"
             ],
             [
              0.8888888888888888,
              "#fdca26"
             ],
             [
              1,
              "#f0f921"
             ]
            ],
            "type": "surface"
           }
          ],
          "table": [
           {
            "cells": {
             "fill": {
              "color": "#EBF0F8"
             },
             "line": {
              "color": "white"
             }
            },
            "header": {
             "fill": {
              "color": "#C8D4E3"
             },
             "line": {
              "color": "white"
             }
            },
            "type": "table"
           }
          ]
         },
         "layout": {
          "annotationdefaults": {
           "arrowcolor": "#2a3f5f",
           "arrowhead": 0,
           "arrowwidth": 1
          },
          "autotypenumbers": "strict",
          "coloraxis": {
           "colorbar": {
            "outlinewidth": 0,
            "ticks": ""
           }
          },
          "colorscale": {
           "diverging": [
            [
             0,
             "#8e0152"
            ],
            [
             0.1,
             "#c51b7d"
            ],
            [
             0.2,
             "#de77ae"
            ],
            [
             0.3,
             "#f1b6da"
            ],
            [
             0.4,
             "#fde0ef"
            ],
            [
             0.5,
             "#f7f7f7"
            ],
            [
             0.6,
             "#e6f5d0"
            ],
            [
             0.7,
             "#b8e186"
            ],
            [
             0.8,
             "#7fbc41"
            ],
            [
             0.9,
             "#4d9221"
            ],
            [
             1,
             "#276419"
            ]
           ],
           "sequential": [
            [
             0,
             "#0d0887"
            ],
            [
             0.1111111111111111,
             "#46039f"
            ],
            [
             0.2222222222222222,
             "#7201a8"
            ],
            [
             0.3333333333333333,
             "#9c179e"
            ],
            [
             0.4444444444444444,
             "#bd3786"
            ],
            [
             0.5555555555555556,
             "#d8576b"
            ],
            [
             0.6666666666666666,
             "#ed7953"
            ],
            [
             0.7777777777777778,
             "#fb9f3a"
            ],
            [
             0.8888888888888888,
             "#fdca26"
            ],
            [
             1,
             "#f0f921"
            ]
           ],
           "sequentialminus": [
            [
             0,
             "#0d0887"
            ],
            [
             0.1111111111111111,
             "#46039f"
            ],
            [
             0.2222222222222222,
             "#7201a8"
            ],
            [
             0.3333333333333333,
             "#9c179e"
            ],
            [
             0.4444444444444444,
             "#bd3786"
            ],
            [
             0.5555555555555556,
             "#d8576b"
            ],
            [
             0.6666666666666666,
             "#ed7953"
            ],
            [
             0.7777777777777778,
             "#fb9f3a"
            ],
            [
             0.8888888888888888,
             "#fdca26"
            ],
            [
             1,
             "#f0f921"
            ]
           ]
          },
          "colorway": [
           "#636efa",
           "#EF553B",
           "#00cc96",
           "#ab63fa",
           "#FFA15A",
           "#19d3f3",
           "#FF6692",
           "#B6E880",
           "#FF97FF",
           "#FECB52"
          ],
          "font": {
           "color": "#2a3f5f"
          },
          "geo": {
           "bgcolor": "white",
           "lakecolor": "white",
           "landcolor": "#E5ECF6",
           "showlakes": true,
           "showland": true,
           "subunitcolor": "white"
          },
          "hoverlabel": {
           "align": "left"
          },
          "hovermode": "closest",
          "mapbox": {
           "style": "light"
          },
          "paper_bgcolor": "white",
          "plot_bgcolor": "#E5ECF6",
          "polar": {
           "angularaxis": {
            "gridcolor": "white",
            "linecolor": "white",
            "ticks": ""
           },
           "bgcolor": "#E5ECF6",
           "radialaxis": {
            "gridcolor": "white",
            "linecolor": "white",
            "ticks": ""
           }
          },
          "scene": {
           "xaxis": {
            "backgroundcolor": "#E5ECF6",
            "gridcolor": "white",
            "gridwidth": 2,
            "linecolor": "white",
            "showbackground": true,
            "ticks": "",
            "zerolinecolor": "white"
           },
           "yaxis": {
            "backgroundcolor": "#E5ECF6",
            "gridcolor": "white",
            "gridwidth": 2,
            "linecolor": "white",
            "showbackground": true,
            "ticks": "",
            "zerolinecolor": "white"
           },
           "zaxis": {
            "backgroundcolor": "#E5ECF6",
            "gridcolor": "white",
            "gridwidth": 2,
            "linecolor": "white",
            "showbackground": true,
            "ticks": "",
            "zerolinecolor": "white"
           }
          },
          "shapedefaults": {
           "line": {
            "color": "#2a3f5f"
           }
          },
          "ternary": {
           "aaxis": {
            "gridcolor": "white",
            "linecolor": "white",
            "ticks": ""
           },
           "baxis": {
            "gridcolor": "white",
            "linecolor": "white",
            "ticks": ""
           },
           "bgcolor": "#E5ECF6",
           "caxis": {
            "gridcolor": "white",
            "linecolor": "white",
            "ticks": ""
           }
          },
          "title": {
           "x": 0.05
          },
          "xaxis": {
           "automargin": true,
           "gridcolor": "white",
           "linecolor": "white",
           "ticks": "",
           "title": {
            "standoff": 15
           },
           "zerolinecolor": "white",
           "zerolinewidth": 2
          },
          "yaxis": {
           "automargin": true,
           "gridcolor": "white",
           "linecolor": "white",
           "ticks": "",
           "title": {
            "standoff": 15
           },
           "zerolinecolor": "white",
           "zerolinewidth": 2
          }
         }
        },
        "title": {
         "text": "Distance from Home vs Attrition"
        },
        "xaxis": {
         "anchor": "y",
         "domain": [
          0,
          1
         ],
         "title": {
          "text": "DistanceFromHome"
         }
        },
        "yaxis": {
         "anchor": "x",
         "domain": [
          0,
          1
         ],
         "title": {
          "text": "count"
         }
        }
       }
      }
     },
     "metadata": {},
     "output_type": "display_data"
    }
   ],
   "source": [
    "# Distance from home\n",
    "fig = px.histogram(df, x='DistanceFromHome', color='Attrition',\n",
    "                   nbins=20, barmode='overlay',\n",
    "                   title='Distance from Home vs Attrition',\n",
    "                   color_discrete_map={'Yes': '#e74c3c', 'No': '#2ecc71'},\n",
    "                   opacity=0.7)\n",
    "\n",
    "fig.update_layout(height=500)\n",
    "fig.show()"
   ]
  },
  {
   "cell_type": "markdown",
   "id": "2996fc9d",
   "metadata": {},
   "source": [
    "## 6. CAREER PROGRESSION ANALYSIS"
   ]
  },
  {
   "cell_type": "code",
   "execution_count": 23,
   "id": "c635eb4b",
   "metadata": {},
   "outputs": [
    {
     "data": {
      "application/vnd.plotly.v1+json": {
       "config": {
        "plotlyServerURL": "https://plot.ly"
       },
       "data": [
        {
         "alignmentgroup": "True",
         "hovertemplate": "Attrition=%{x}<br>YearsSinceLastPromotion=%{y}<extra></extra>",
         "legendgroup": "Yes",
         "marker": {
          "color": "#e74c3c"
         },
         "name": "Yes",
         "notched": false,
         "offsetgroup": "Yes",
         "orientation": "v",
         "showlegend": true,
         "type": "box",
         "x": [
          "Yes",
          "Yes",
          "Yes",
          "Yes",
          "Yes",
          "Yes",
          "Yes",
          "Yes",
          "Yes",
          "Yes",
          "Yes",
          "Yes",
          "Yes",
          "Yes",
          "Yes",
          "Yes",
          "Yes",
          "Yes",
          "Yes",
          "Yes",
          "Yes",
          "Yes",
          "Yes",
          "Yes",
          "Yes",
          "Yes",
          "Yes",
          "Yes",
          "Yes",
          "Yes",
          "Yes",
          "Yes",
          "Yes",
          "Yes",
          "Yes",
          "Yes",
          "Yes",
          "Yes",
          "Yes",
          "Yes",
          "Yes",
          "Yes",
          "Yes",
          "Yes",
          "Yes",
          "Yes",
          "Yes",
          "Yes",
          "Yes",
          "Yes",
          "Yes",
          "Yes",
          "Yes",
          "Yes",
          "Yes",
          "Yes",
          "Yes",
          "Yes",
          "Yes",
          "Yes",
          "Yes",
          "Yes",
          "Yes",
          "Yes",
          "Yes",
          "Yes",
          "Yes",
          "Yes",
          "Yes",
          "Yes",
          "Yes",
          "Yes",
          "Yes",
          "Yes",
          "Yes",
          "Yes",
          "Yes",
          "Yes",
          "Yes",
          "Yes",
          "Yes",
          "Yes",
          "Yes",
          "Yes",
          "Yes",
          "Yes",
          "Yes",
          "Yes",
          "Yes",
          "Yes",
          "Yes",
          "Yes",
          "Yes",
          "Yes",
          "Yes",
          "Yes",
          "Yes",
          "Yes",
          "Yes",
          "Yes",
          "Yes",
          "Yes",
          "Yes",
          "Yes",
          "Yes",
          "Yes",
          "Yes",
          "Yes",
          "Yes",
          "Yes",
          "Yes",
          "Yes",
          "Yes",
          "Yes",
          "Yes",
          "Yes",
          "Yes",
          "Yes",
          "Yes",
          "Yes",
          "Yes",
          "Yes",
          "Yes",
          "Yes",
          "Yes",
          "Yes",
          "Yes",
          "Yes",
          "Yes",
          "Yes",
          "Yes",
          "Yes",
          "Yes",
          "Yes",
          "Yes",
          "Yes",
          "Yes",
          "Yes",
          "Yes",
          "Yes",
          "Yes",
          "Yes",
          "Yes",
          "Yes",
          "Yes",
          "Yes",
          "Yes",
          "Yes",
          "Yes",
          "Yes",
          "Yes",
          "Yes",
          "Yes",
          "Yes",
          "Yes",
          "Yes",
          "Yes",
          "Yes",
          "Yes",
          "Yes",
          "Yes",
          "Yes",
          "Yes",
          "Yes",
          "Yes",
          "Yes",
          "Yes",
          "Yes",
          "Yes",
          "Yes",
          "Yes",
          "Yes",
          "Yes",
          "Yes",
          "Yes",
          "Yes",
          "Yes",
          "Yes",
          "Yes",
          "Yes",
          "Yes",
          "Yes",
          "Yes",
          "Yes",
          "Yes",
          "Yes",
          "Yes",
          "Yes",
          "Yes",
          "Yes",
          "Yes",
          "Yes",
          "Yes",
          "Yes",
          "Yes",
          "Yes",
          "Yes",
          "Yes",
          "Yes",
          "Yes",
          "Yes",
          "Yes",
          "Yes",
          "Yes",
          "Yes",
          "Yes",
          "Yes",
          "Yes",
          "Yes",
          "Yes",
          "Yes",
          "Yes",
          "Yes",
          "Yes",
          "Yes",
          "Yes",
          "Yes",
          "Yes",
          "Yes",
          "Yes",
          "Yes",
          "Yes",
          "Yes",
          "Yes",
          "Yes",
          "Yes",
          "Yes",
          "Yes",
          "Yes",
          "Yes",
          "Yes",
          "Yes",
          "Yes",
          "Yes",
          "Yes",
          "Yes",
          "Yes"
         ],
         "x0": " ",
         "xaxis": "x",
         "y": [
          0,
          0,
          0,
          0,
          1,
          6,
          0,
          2,
          0,
          0,
          15,
          0,
          2,
          0,
          4,
          0,
          1,
          0,
          0,
          4,
          7,
          15,
          0,
          2,
          0,
          0,
          0,
          1,
          0,
          0,
          0,
          1,
          9,
          0,
          0,
          1,
          0,
          0,
          1,
          1,
          0,
          1,
          0,
          9,
          0,
          0,
          7,
          0,
          7,
          2,
          0,
          0,
          1,
          0,
          7,
          1,
          0,
          0,
          0,
          0,
          0,
          1,
          1,
          1,
          0,
          7,
          1,
          0,
          0,
          1,
          1,
          0,
          0,
          1,
          1,
          0,
          1,
          0,
          0,
          1,
          9,
          2,
          1,
          3,
          2,
          7,
          1,
          1,
          1,
          0,
          0,
          0,
          13,
          2,
          7,
          7,
          1,
          7,
          0,
          0,
          0,
          0,
          0,
          0,
          1,
          2,
          0,
          0,
          0,
          3,
          11,
          0,
          0,
          1,
          0,
          0,
          0,
          0,
          1,
          0,
          2,
          6,
          15,
          0,
          1,
          0,
          1,
          2,
          1,
          3,
          4,
          3,
          5,
          0,
          2,
          0,
          0,
          11,
          0,
          0,
          2,
          3,
          13,
          0,
          1,
          0,
          0,
          0,
          0,
          0,
          1,
          1,
          2,
          0,
          7,
          1,
          0,
          1,
          7,
          2,
          1,
          5,
          3,
          0,
          3,
          6,
          7,
          1,
          7,
          0,
          0,
          2,
          4,
          0,
          4,
          2,
          2,
          1,
          0,
          10,
          0,
          0,
          0,
          1,
          7,
          6,
          0,
          1,
          1,
          0,
          0,
          6,
          2,
          0,
          6,
          1,
          7,
          0,
          0,
          0,
          14,
          2,
          0,
          1,
          2,
          0,
          0,
          0,
          1,
          0,
          2,
          7,
          0,
          0,
          1,
          3,
          0,
          2,
          2,
          1,
          0,
          0,
          0,
          3,
          1,
          0,
          2,
          0,
          0,
          0,
          0,
          2,
          1,
          2,
          9,
          0,
          2
         ],
         "y0": " ",
         "yaxis": "y"
        },
        {
         "alignmentgroup": "True",
         "hovertemplate": "Attrition=%{x}<br>YearsSinceLastPromotion=%{y}<extra></extra>",
         "legendgroup": "No",
         "marker": {
          "color": "#2ecc71"
         },
         "name": "No",
         "notched": false,
         "offsetgroup": "No",
         "orientation": "v",
         "showlegend": true,
         "type": "box",
         "x": [
          "No",
          "No",
          "No",
          "No",
          "No",
          "No",
          "No",
          "No",
          "No",
          "No",
          "No",
          "No",
          "No",
          "No",
          "No",
          "No",
          "No",
          "No",
          "No",
          "No",
          "No",
          "No",
          "No",
          "No",
          "No",
          "No",
          "No",
          "No",
          "No",
          "No",
          "No",
          "No",
          "No",
          "No",
          "No",
          "No",
          "No",
          "No",
          "No",
          "No",
          "No",
          "No",
          "No",
          "No",
          "No",
          "No",
          "No",
          "No",
          "No",
          "No",
          "No",
          "No",
          "No",
          "No",
          "No",
          "No",
          "No",
          "No",
          "No",
          "No",
          "No",
          "No",
          "No",
          "No",
          "No",
          "No",
          "No",
          "No",
          "No",
          "No",
          "No",
          "No",
          "No",
          "No",
          "No",
          "No",
          "No",
          "No",
          "No",
          "No",
          "No",
          "No",
          "No",
          "No",
          "No",
          "No",
          "No",
          "No",
          "No",
          "No",
          "No",
          "No",
          "No",
          "No",
          "No",
          "No",
          "No",
          "No",
          "No",
          "No",
          "No",
          "No",
          "No",
          "No",
          "No",
          "No",
          "No",
          "No",
          "No",
          "No",
          "No",
          "No",
          "No",
          "No",
          "No",
          "No",
          "No",
          "No",
          "No",
          "No",
          "No",
          "No",
          "No",
          "No",
          "No",
          "No",
          "No",
          "No",
          "No",
          "No",
          "No",
          "No",
          "No",
          "No",
          "No",
          "No",
          "No",
          "No",
          "No",
          "No",
          "No",
          "No",
          "No",
          "No",
          "No",
          "No",
          "No",
          "No",
          "No",
          "No",
          "No",
          "No",
          "No",
          "No",
          "No",
          "No",
          "No",
          "No",
          "No",
          "No",
          "No",
          "No",
          "No",
          "No",
          "No",
          "No",
          "No",
          "No",
          "No",
          "No",
          "No",
          "No",
          "No",
          "No",
          "No",
          "No",
          "No",
          "No",
          "No",
          "No",
          "No",
          "No",
          "No",
          "No",
          "No",
          "No",
          "No",
          "No",
          "No",
          "No",
          "No",
          "No",
          "No",
          "No",
          "No",
          "No",
          "No",
          "No",
          "No",
          "No",
          "No",
          "No",
          "No",
          "No",
          "No",
          "No",
          "No",
          "No",
          "No",
          "No",
          "No",
          "No",
          "No",
          "No",
          "No",
          "No",
          "No",
          "No",
          "No",
          "No",
          "No",
          "No",
          "No",
          "No",
          "No",
          "No",
          "No",
          "No",
          "No",
          "No",
          "No",
          "No",
          "No",
          "No",
          "No",
          "No",
          "No",
          "No",
          "No",
          "No",
          "No",
          "No",
          "No",
          "No",
          "No",
          "No",
          "No",
          "No",
          "No",
          "No",
          "No",
          "No",
          "No",
          "No",
          "No",
          "No",
          "No",
          "No",
          "No",
          "No",
          "No",
          "No",
          "No",
          "No",
          "No",
          "No",
          "No",
          "No",
          "No",
          "No",
          "No",
          "No",
          "No",
          "No",
          "No",
          "No",
          "No",
          "No",
          "No",
          "No",
          "No",
          "No",
          "No",
          "No",
          "No",
          "No",
          "No",
          "No",
          "No",
          "No",
          "No",
          "No",
          "No",
          "No",
          "No",
          "No",
          "No",
          "No",
          "No",
          "No",
          "No",
          "No",
          "No",
          "No",
          "No",
          "No",
          "No",
          "No",
          "No",
          "No",
          "No",
          "No",
          "No",
          "No",
          "No",
          "No",
          "No",
          "No",
          "No",
          "No",
          "No",
          "No",
          "No",
          "No",
          "No",
          "No",
          "No",
          "No",
          "No",
          "No",
          "No",
          "No",
          "No",
          "No",
          "No",
          "No",
          "No",
          "No",
          "No",
          "No",
          "No",
          "No",
          "No",
          "No",
          "No",
          "No",
          "No",
          "No",
          "No",
          "No",
          "No",
          "No",
          "No",
          "No",
          "No",
          "No",
          "No",
          "No",
          "No",
          "No",
          "No",
          "No",
          "No",
          "No",
          "No",
          "No",
          "No",
          "No",
          "No",
          "No",
          "No",
          "No",
          "No",
          "No",
          "No",
          "No",
          "No",
          "No",
          "No",
          "No",
          "No",
          "No",
          "No",
          "No",
          "No",
          "No",
          "No",
          "No",
          "No",
          "No",
          "No",
          "No",
          "No",
          "No",
          "No",
          "No",
          "No",
          "No",
          "No",
          "No",
          "No",
          "No",
          "No",
          "No",
          "No",
          "No",
          "No",
          "No",
          "No",
          "No",
          "No",
          "No",
          "No",
          "No",
          "No",
          "No",
          "No",
          "No",
          "No",
          "No",
          "No",
          "No",
          "No",
          "No",
          "No",
          "No",
          "No",
          "No",
          "No",
          "No",
          "No",
          "No",
          "No",
          "No",
          "No",
          "No",
          "No",
          "No",
          "No",
          "No",
          "No",
          "No",
          "No",
          "No",
          "No",
          "No",
          "No",
          "No",
          "No",
          "No",
          "No",
          "No",
          "No",
          "No",
          "No",
          "No",
          "No",
          "No",
          "No",
          "No",
          "No",
          "No",
          "No",
          "No",
          "No",
          "No",
          "No",
          "No",
          "No",
          "No",
          "No",
          "No",
          "No",
          "No",
          "No",
          "No",
          "No",
          "No",
          "No",
          "No",
          "No",
          "No",
          "No",
          "No",
          "No",
          "No",
          "No",
          "No",
          "No",
          "No",
          "No",
          "No",
          "No",
          "No",
          "No",
          "No",
          "No",
          "No",
          "No",
          "No",
          "No",
          "No",
          "No",
          "No",
          "No",
          "No",
          "No",
          "No",
          "No",
          "No",
          "No",
          "No",
          "No",
          "No",
          "No",
          "No",
          "No",
          "No",
          "No",
          "No",
          "No",
          "No",
          "No",
          "No",
          "No",
          "No",
          "No",
          "No",
          "No",
          "No",
          "No",
          "No",
          "No",
          "No",
          "No",
          "No",
          "No",
          "No",
          "No",
          "No",
          "No",
          "No",
          "No",
          "No",
          "No",
          "No",
          "No",
          "No",
          "No",
          "No",
          "No",
          "No",
          "No",
          "No",
          "No",
          "No",
          "No",
          "No",
          "No",
          "No",
          "No",
          "No",
          "No",
          "No",
          "No",
          "No",
          "No",
          "No",
          "No",
          "No",
          "No",
          "No",
          "No",
          "No",
          "No",
          "No",
          "No",
          "No",
          "No",
          "No",
          "No",
          "No",
          "No",
          "No",
          "No",
          "No",
          "No",
          "No",
          "No",
          "No",
          "No",
          "No",
          "No",
          "No",
          "No",
          "No",
          "No",
          "No",
          "No",
          "No",
          "No",
          "No",
          "No",
          "No",
          "No",
          "No",
          "No",
          "No",
          "No",
          "No",
          "No",
          "No",
          "No",
          "No",
          "No",
          "No",
          "No",
          "No",
          "No",
          "No",
          "No",
          "No",
          "No",
          "No",
          "No",
          "No",
          "No",
          "No",
          "No",
          "No",
          "No",
          "No",
          "No",
          "No",
          "No",
          "No",
          "No",
          "No",
          "No",
          "No",
          "No",
          "No",
          "No",
          "No",
          "No",
          "No",
          "No",
          "No",
          "No",
          "No",
          "No",
          "No",
          "No",
          "No",
          "No",
          "No",
          "No",
          "No",
          "No",
          "No",
          "No",
          "No",
          "No",
          "No",
          "No",
          "No",
          "No",
          "No",
          "No",
          "No",
          "No",
          "No",
          "No",
          "No",
          "No",
          "No",
          "No",
          "No",
          "No",
          "No",
          "No",
          "No",
          "No",
          "No",
          "No",
          "No",
          "No",
          "No",
          "No",
          "No",
          "No",
          "No",
          "No",
          "No",
          "No",
          "No",
          "No",
          "No",
          "No",
          "No",
          "No",
          "No",
          "No",
          "No",
          "No",
          "No",
          "No",
          "No",
          "No",
          "No",
          "No",
          "No",
          "No",
          "No",
          "No",
          "No",
          "No",
          "No",
          "No",
          "No",
          "No",
          "No",
          "No",
          "No",
          "No",
          "No",
          "No",
          "No",
          "No",
          "No",
          "No",
          "No",
          "No",
          "No",
          "No",
          "No",
          "No",
          "No",
          "No",
          "No",
          "No",
          "No",
          "No",
          "No",
          "No",
          "No",
          "No",
          "No",
          "No",
          "No",
          "No",
          "No",
          "No",
          "No",
          "No",
          "No",
          "No",
          "No",
          "No",
          "No",
          "No",
          "No",
          "No",
          "No",
          "No",
          "No",
          "No",
          "No",
          "No",
          "No",
          "No",
          "No",
          "No",
          "No",
          "No",
          "No",
          "No",
          "No",
          "No",
          "No",
          "No",
          "No",
          "No",
          "No",
          "No",
          "No",
          "No",
          "No",
          "No",
          "No",
          "No",
          "No",
          "No",
          "No",
          "No",
          "No",
          "No",
          "No",
          "No",
          "No",
          "No",
          "No",
          "No",
          "No",
          "No",
          "No",
          "No",
          "No",
          "No",
          "No",
          "No",
          "No",
          "No",
          "No",
          "No",
          "No",
          "No",
          "No",
          "No",
          "No",
          "No",
          "No",
          "No",
          "No",
          "No",
          "No",
          "No",
          "No",
          "No",
          "No",
          "No",
          "No",
          "No",
          "No",
          "No",
          "No",
          "No",
          "No",
          "No",
          "No",
          "No",
          "No",
          "No",
          "No",
          "No",
          "No",
          "No",
          "No",
          "No",
          "No",
          "No",
          "No",
          "No",
          "No",
          "No",
          "No",
          "No",
          "No",
          "No",
          "No",
          "No",
          "No",
          "No",
          "No",
          "No",
          "No",
          "No",
          "No",
          "No",
          "No",
          "No",
          "No",
          "No",
          "No",
          "No",
          "No",
          "No",
          "No",
          "No",
          "No",
          "No",
          "No",
          "No",
          "No",
          "No",
          "No",
          "No",
          "No",
          "No",
          "No",
          "No",
          "No",
          "No",
          "No",
          "No",
          "No",
          "No",
          "No",
          "No",
          "No",
          "No",
          "No",
          "No",
          "No",
          "No",
          "No",
          "No",
          "No",
          "No",
          "No",
          "No",
          "No",
          "No",
          "No",
          "No",
          "No",
          "No",
          "No",
          "No",
          "No",
          "No",
          "No",
          "No",
          "No",
          "No",
          "No",
          "No",
          "No",
          "No",
          "No",
          "No",
          "No",
          "No",
          "No",
          "No",
          "No",
          "No",
          "No",
          "No",
          "No",
          "No",
          "No",
          "No",
          "No",
          "No",
          "No",
          "No",
          "No",
          "No",
          "No",
          "No",
          "No",
          "No",
          "No",
          "No",
          "No",
          "No",
          "No",
          "No",
          "No",
          "No",
          "No",
          "No",
          "No",
          "No",
          "No",
          "No",
          "No",
          "No",
          "No",
          "No",
          "No",
          "No",
          "No",
          "No",
          "No",
          "No",
          "No",
          "No",
          "No",
          "No",
          "No",
          "No",
          "No",
          "No",
          "No",
          "No",
          "No",
          "No",
          "No",
          "No",
          "No",
          "No",
          "No",
          "No",
          "No",
          "No",
          "No",
          "No",
          "No",
          "No",
          "No",
          "No",
          "No",
          "No",
          "No",
          "No",
          "No",
          "No",
          "No",
          "No",
          "No",
          "No",
          "No",
          "No",
          "No",
          "No",
          "No",
          "No",
          "No",
          "No",
          "No",
          "No",
          "No",
          "No",
          "No",
          "No",
          "No",
          "No",
          "No",
          "No",
          "No",
          "No",
          "No",
          "No",
          "No",
          "No",
          "No",
          "No",
          "No",
          "No",
          "No",
          "No",
          "No",
          "No",
          "No",
          "No",
          "No",
          "No",
          "No",
          "No",
          "No",
          "No",
          "No",
          "No",
          "No",
          "No",
          "No",
          "No",
          "No",
          "No",
          "No",
          "No",
          "No",
          "No",
          "No",
          "No",
          "No",
          "No",
          "No",
          "No",
          "No",
          "No",
          "No",
          "No",
          "No",
          "No",
          "No",
          "No",
          "No",
          "No",
          "No",
          "No",
          "No",
          "No",
          "No",
          "No",
          "No",
          "No",
          "No",
          "No",
          "No",
          "No",
          "No",
          "No",
          "No",
          "No",
          "No",
          "No",
          "No",
          "No",
          "No",
          "No",
          "No",
          "No",
          "No",
          "No",
          "No",
          "No",
          "No",
          "No",
          "No",
          "No",
          "No",
          "No",
          "No",
          "No",
          "No",
          "No",
          "No",
          "No",
          "No",
          "No",
          "No",
          "No",
          "No",
          "No",
          "No",
          "No",
          "No",
          "No",
          "No",
          "No",
          "No",
          "No",
          "No",
          "No",
          "No",
          "No",
          "No",
          "No",
          "No",
          "No",
          "No",
          "No",
          "No",
          "No",
          "No",
          "No",
          "No",
          "No",
          "No",
          "No",
          "No",
          "No",
          "No",
          "No",
          "No",
          "No",
          "No",
          "No",
          "No",
          "No",
          "No",
          "No",
          "No",
          "No",
          "No",
          "No",
          "No",
          "No",
          "No",
          "No",
          "No",
          "No",
          "No",
          "No",
          "No",
          "No",
          "No",
          "No",
          "No",
          "No",
          "No",
          "No",
          "No",
          "No",
          "No",
          "No",
          "No",
          "No",
          "No",
          "No",
          "No",
          "No",
          "No",
          "No",
          "No",
          "No",
          "No",
          "No",
          "No",
          "No",
          "No",
          "No",
          "No",
          "No",
          "No",
          "No",
          "No",
          "No",
          "No",
          "No",
          "No",
          "No",
          "No",
          "No",
          "No",
          "No",
          "No",
          "No",
          "No",
          "No",
          "No",
          "No",
          "No",
          "No",
          "No",
          "No",
          "No",
          "No",
          "No",
          "No"
         ],
         "x0": " ",
         "xaxis": "x",
         "y": [
          1,
          3,
          2,
          3,
          0,
          0,
          1,
          7,
          0,
          0,
          4,
          1,
          8,
          0,
          0,
          3,
          1,
          1,
          2,
          0,
          4,
          4,
          5,
          2,
          0,
          1,
          1,
          1,
          2,
          0,
          1,
          0,
          0,
          1,
          3,
          8,
          0,
          0,
          0,
          1,
          2,
          0,
          8,
          1,
          2,
          1,
          0,
          7,
          9,
          13,
          7,
          12,
          0,
          0,
          0,
          1,
          1,
          0,
          1,
          0,
          0,
          1,
          2,
          0,
          0,
          0,
          3,
          0,
          1,
          1,
          1,
          0,
          0,
          0,
          10,
          11,
          1,
          2,
          9,
          5,
          0,
          0,
          0,
          1,
          1,
          0,
          2,
          0,
          2,
          0,
          2,
          0,
          12,
          4,
          1,
          0,
          1,
          5,
          2,
          0,
          4,
          0,
          0,
          15,
          4,
          2,
          5,
          1,
          2,
          0,
          5,
          0,
          5,
          2,
          4,
          0,
          2,
          0,
          0,
          2,
          1,
          7,
          1,
          0,
          2,
          0,
          4,
          0,
          3,
          0,
          0,
          0,
          2,
          1,
          2,
          2,
          0,
          1,
          0,
          4,
          1,
          7,
          0,
          1,
          1,
          7,
          6,
          0,
          2,
          0,
          15,
          2,
          0,
          1,
          0,
          1,
          1,
          9,
          2,
          1,
          1,
          11,
          0,
          2,
          11,
          1,
          1,
          0,
          0,
          1,
          2,
          1,
          2,
          3,
          2,
          1,
          0,
          0,
          5,
          0,
          4,
          0,
          12,
          0,
          3,
          1,
          0,
          5,
          1,
          0,
          5,
          4,
          0,
          2,
          11,
          2,
          0,
          1,
          15,
          1,
          1,
          2,
          0,
          4,
          1,
          2,
          0,
          5,
          0,
          0,
          11,
          1,
          0,
          0,
          1,
          7,
          3,
          0,
          0,
          7,
          0,
          7,
          0,
          7,
          1,
          4,
          10,
          4,
          0,
          0,
          1,
          0,
          6,
          7,
          1,
          1,
          1,
          11,
          0,
          0,
          3,
          5,
          1,
          0,
          1,
          7,
          2,
          1,
          4,
          6,
          0,
          1,
          0,
          0,
          0,
          7,
          3,
          0,
          4,
          0,
          1,
          0,
          1,
          9,
          2,
          8,
          11,
          1,
          0,
          1,
          11,
          0,
          1,
          0,
          1,
          8,
          13,
          0,
          1,
          0,
          1,
          0,
          0,
          9,
          0,
          2,
          1,
          0,
          0,
          2,
          4,
          1,
          0,
          0,
          1,
          0,
          0,
          0,
          1,
          0,
          0,
          6,
          2,
          7,
          0,
          0,
          1,
          1,
          1,
          2,
          0,
          0,
          1,
          2,
          1,
          0,
          0,
          0,
          0,
          0,
          2,
          1,
          0,
          0,
          1,
          9,
          12,
          1,
          1,
          0,
          3,
          0,
          1,
          1,
          3,
          1,
          0,
          1,
          10,
          3,
          1,
          7,
          4,
          0,
          1,
          0,
          0,
          1,
          0,
          0,
          11,
          0,
          0,
          0,
          1,
          0,
          1,
          0,
          7,
          0,
          15,
          6,
          13,
          0,
          0,
          4,
          0,
          5,
          1,
          0,
          1,
          0,
          2,
          9,
          6,
          7,
          1,
          6,
          5,
          0,
          0,
          5,
          3,
          1,
          0,
          0,
          0,
          0,
          0,
          0,
          5,
          1,
          1,
          11,
          7,
          6,
          2,
          0,
          4,
          0,
          1,
          1,
          0,
          10,
          0,
          1,
          0,
          5,
          0,
          1,
          0,
          2,
          0,
          0,
          4,
          0,
          0,
          0,
          1,
          0,
          2,
          1,
          0,
          0,
          8,
          8,
          0,
          7,
          1,
          11,
          4,
          7,
          0,
          1,
          0,
          0,
          1,
          0,
          2,
          2,
          0,
          0,
          3,
          7,
          11,
          0,
          1,
          0,
          7,
          1,
          1,
          1,
          12,
          2,
          1,
          2,
          2,
          0,
          0,
          1,
          11,
          7,
          0,
          2,
          4,
          0,
          3,
          1,
          2,
          0,
          2,
          2,
          0,
          4,
          0,
          0,
          1,
          1,
          3,
          0,
          1,
          0,
          1,
          2,
          1,
          1,
          1,
          1,
          4,
          4,
          1,
          0,
          0,
          3,
          1,
          14,
          0,
          1,
          0,
          3,
          3,
          0,
          0,
          2,
          0,
          0,
          6,
          0,
          0,
          0,
          7,
          1,
          1,
          1,
          0,
          1,
          7,
          0,
          0,
          4,
          2,
          0,
          0,
          1,
          4,
          0,
          0,
          0,
          0,
          1,
          0,
          0,
          0,
          2,
          0,
          2,
          0,
          0,
          5,
          0,
          0,
          0,
          3,
          5,
          1,
          1,
          0,
          2,
          4,
          0,
          3,
          2,
          7,
          0,
          14,
          0,
          0,
          0,
          7,
          0,
          0,
          4,
          1,
          2,
          0,
          1,
          0,
          0,
          0,
          5,
          0,
          1,
          0,
          0,
          0,
          5,
          0,
          0,
          0,
          2,
          3,
          8,
          0,
          6,
          1,
          0,
          0,
          1,
          7,
          15,
          7,
          1,
          0,
          0,
          2,
          0,
          6,
          0,
          0,
          1,
          1,
          0,
          2,
          0,
          0,
          1,
          0,
          0,
          3,
          0,
          0,
          0,
          10,
          1,
          1,
          1,
          2,
          4,
          2,
          11,
          2,
          1,
          0,
          0,
          4,
          6,
          5,
          0,
          11,
          0,
          2,
          2,
          1,
          7,
          0,
          0,
          0,
          6,
          0,
          0,
          2,
          7,
          0,
          7,
          1,
          2,
          7,
          0,
          7,
          6,
          0,
          1,
          1,
          0,
          0,
          1,
          11,
          1,
          1,
          1,
          1,
          2,
          0,
          0,
          13,
          0,
          0,
          2,
          4,
          4,
          2,
          1,
          1,
          4,
          0,
          0,
          4,
          2,
          0,
          0,
          2,
          0,
          0,
          2,
          0,
          1,
          0,
          1,
          5,
          0,
          0,
          1,
          2,
          1,
          1,
          2,
          1,
          1,
          1,
          0,
          1,
          0,
          6,
          4,
          2,
          0,
          4,
          0,
          0,
          0,
          3,
          1,
          4,
          1,
          15,
          0,
          1,
          0,
          0,
          2,
          3,
          0,
          1,
          0,
          1,
          8,
          13,
          2,
          1,
          0,
          1,
          2,
          0,
          7,
          4,
          1,
          1,
          5,
          0,
          4,
          6,
          1,
          7,
          1,
          0,
          0,
          1,
          0,
          0,
          0,
          0,
          0,
          0,
          1,
          0,
          1,
          0,
          3,
          0,
          0,
          0,
          2,
          15,
          0,
          0,
          11,
          5,
          5,
          0,
          14,
          1,
          2,
          0,
          15,
          5,
          2,
          7,
          1,
          1,
          2,
          0,
          0,
          15,
          2,
          6,
          1,
          5,
          7,
          1,
          0,
          1,
          9,
          11,
          2,
          9,
          7,
          0,
          1,
          8,
          1,
          1,
          0,
          1,
          9,
          1,
          0,
          6,
          0,
          0,
          0,
          0,
          0,
          0,
          15,
          0,
          11,
          7,
          0,
          4,
          0,
          1,
          3,
          3,
          1,
          1,
          1,
          0,
          1,
          0,
          1,
          4,
          1,
          0,
          0,
          0,
          2,
          0,
          0,
          0,
          12,
          1,
          0,
          0,
          0,
          1,
          1,
          1,
          1,
          0,
          1,
          1,
          1,
          5,
          0,
          0,
          0,
          0,
          0,
          9,
          0,
          0,
          1,
          2,
          4,
          1,
          0,
          8,
          1,
          1,
          1,
          0,
          3,
          2,
          5,
          0,
          0,
          2,
          0,
          6,
          0,
          0,
          2,
          0,
          1,
          1,
          0,
          1,
          0,
          1,
          1,
          0,
          1,
          0,
          0,
          1,
          14,
          2,
          5,
          3,
          1,
          8,
          13,
          5,
          0,
          3,
          0,
          0,
          0,
          13,
          7,
          5,
          7,
          0,
          2,
          7,
          4,
          2,
          1,
          7,
          0,
          2,
          1,
          1,
          1,
          1,
          7,
          0,
          2,
          2,
          0,
          7,
          1,
          0,
          1,
          0,
          7,
          1,
          0,
          2,
          0,
          0,
          6,
          7,
          1,
          0,
          0,
          0,
          1,
          12,
          0,
          1,
          1,
          1,
          4,
          0,
          1,
          7,
          1,
          7,
          0,
          1,
          0,
          2,
          1,
          0,
          14,
          2,
          0,
          3,
          3,
          0,
          7,
          3,
          0,
          2,
          1,
          0,
          1,
          1,
          0,
          0,
          1,
          1,
          1,
          2,
          7,
          1,
          2,
          1,
          0,
          4,
          6,
          2,
          0,
          0,
          1,
          0,
          2,
          3,
          1,
          0,
          0,
          0,
          1,
          0,
          2,
          0,
          1,
          5,
          1,
          4,
          0,
          2,
          1,
          8,
          6,
          1,
          8,
          0,
          8,
          1,
          6,
          14,
          0,
          8,
          1,
          0,
          1,
          0,
          1,
          0,
          0,
          0,
          0,
          0,
          1,
          1,
          5,
          0,
          12,
          0,
          0,
          2,
          0,
          1,
          0,
          1,
          1,
          1,
          0,
          0,
          0,
          1,
          0,
          1,
          0,
          0,
          1,
          0,
          0,
          0,
          1,
          2,
          0,
          5,
          2,
          0,
          2,
          5,
          4,
          7,
          0,
          2,
          2,
          0,
          0,
          1,
          3,
          2,
          1,
          1,
          13,
          0,
          0,
          4,
          14,
          0,
          14,
          7,
          1,
          2,
          1,
          0,
          1,
          2,
          0,
          5,
          0,
          7,
          0,
          3,
          0,
          3,
          2,
          4,
          2,
          1,
          0,
          2,
          5,
          0,
          6,
          12,
          7,
          2,
          0,
          0,
          1,
          0,
          1,
          1,
          0,
          0,
          3,
          0,
          11,
          1,
          0,
          4,
          2,
          1,
          1,
          5,
          1,
          0,
          2,
          7,
          0,
          0,
          0,
          1,
          1,
          6,
          1,
          0,
          7,
          0,
          0,
          0,
          4,
          0,
          0,
          1,
          2,
          0,
          2,
          1,
          7,
          0,
          1,
          8,
          0,
          0,
          0,
          0,
          2,
          2,
          0,
          1,
          1,
          0,
          11,
          3,
          4,
          1,
          1,
          1,
          9,
          5,
          1,
          1,
          0,
          12,
          0,
          5,
          1,
          7,
          1,
          1,
          5,
          2,
          1,
          0,
          8,
          4,
          0,
          2,
          1,
          1,
          5,
          6,
          0,
          0,
          1,
          1,
          1,
          3,
          0,
          1,
          4,
          0,
          1,
          11,
          0,
          1,
          1,
          1,
          0,
          0,
          2,
          0,
          0,
          1,
          0,
          0,
          9,
          1,
          0,
          0,
          1,
          0,
          0,
          1
         ],
         "y0": " ",
         "yaxis": "y"
        }
       ],
       "layout": {
        "boxmode": "overlay",
        "height": 500,
        "legend": {
         "title": {
          "text": "Attrition"
         },
         "tracegroupgap": 0
        },
        "template": {
         "data": {
          "bar": [
           {
            "error_x": {
             "color": "#2a3f5f"
            },
            "error_y": {
             "color": "#2a3f5f"
            },
            "marker": {
             "line": {
              "color": "#E5ECF6",
              "width": 0.5
             },
             "pattern": {
              "fillmode": "overlay",
              "size": 10,
              "solidity": 0.2
             }
            },
            "type": "bar"
           }
          ],
          "barpolar": [
           {
            "marker": {
             "line": {
              "color": "#E5ECF6",
              "width": 0.5
             },
             "pattern": {
              "fillmode": "overlay",
              "size": 10,
              "solidity": 0.2
             }
            },
            "type": "barpolar"
           }
          ],
          "carpet": [
           {
            "aaxis": {
             "endlinecolor": "#2a3f5f",
             "gridcolor": "white",
             "linecolor": "white",
             "minorgridcolor": "white",
             "startlinecolor": "#2a3f5f"
            },
            "baxis": {
             "endlinecolor": "#2a3f5f",
             "gridcolor": "white",
             "linecolor": "white",
             "minorgridcolor": "white",
             "startlinecolor": "#2a3f5f"
            },
            "type": "carpet"
           }
          ],
          "choropleth": [
           {
            "colorbar": {
             "outlinewidth": 0,
             "ticks": ""
            },
            "type": "choropleth"
           }
          ],
          "contour": [
           {
            "colorbar": {
             "outlinewidth": 0,
             "ticks": ""
            },
            "colorscale": [
             [
              0,
              "#0d0887"
             ],
             [
              0.1111111111111111,
              "#46039f"
             ],
             [
              0.2222222222222222,
              "#7201a8"
             ],
             [
              0.3333333333333333,
              "#9c179e"
             ],
             [
              0.4444444444444444,
              "#bd3786"
             ],
             [
              0.5555555555555556,
              "#d8576b"
             ],
             [
              0.6666666666666666,
              "#ed7953"
             ],
             [
              0.7777777777777778,
              "#fb9f3a"
             ],
             [
              0.8888888888888888,
              "#fdca26"
             ],
             [
              1,
              "#f0f921"
             ]
            ],
            "type": "contour"
           }
          ],
          "contourcarpet": [
           {
            "colorbar": {
             "outlinewidth": 0,
             "ticks": ""
            },
            "type": "contourcarpet"
           }
          ],
          "heatmap": [
           {
            "colorbar": {
             "outlinewidth": 0,
             "ticks": ""
            },
            "colorscale": [
             [
              0,
              "#0d0887"
             ],
             [
              0.1111111111111111,
              "#46039f"
             ],
             [
              0.2222222222222222,
              "#7201a8"
             ],
             [
              0.3333333333333333,
              "#9c179e"
             ],
             [
              0.4444444444444444,
              "#bd3786"
             ],
             [
              0.5555555555555556,
              "#d8576b"
             ],
             [
              0.6666666666666666,
              "#ed7953"
             ],
             [
              0.7777777777777778,
              "#fb9f3a"
             ],
             [
              0.8888888888888888,
              "#fdca26"
             ],
             [
              1,
              "#f0f921"
             ]
            ],
            "type": "heatmap"
           }
          ],
          "heatmapgl": [
           {
            "colorbar": {
             "outlinewidth": 0,
             "ticks": ""
            },
            "colorscale": [
             [
              0,
              "#0d0887"
             ],
             [
              0.1111111111111111,
              "#46039f"
             ],
             [
              0.2222222222222222,
              "#7201a8"
             ],
             [
              0.3333333333333333,
              "#9c179e"
             ],
             [
              0.4444444444444444,
              "#bd3786"
             ],
             [
              0.5555555555555556,
              "#d8576b"
             ],
             [
              0.6666666666666666,
              "#ed7953"
             ],
             [
              0.7777777777777778,
              "#fb9f3a"
             ],
             [
              0.8888888888888888,
              "#fdca26"
             ],
             [
              1,
              "#f0f921"
             ]
            ],
            "type": "heatmapgl"
           }
          ],
          "histogram": [
           {
            "marker": {
             "pattern": {
              "fillmode": "overlay",
              "size": 10,
              "solidity": 0.2
             }
            },
            "type": "histogram"
           }
          ],
          "histogram2d": [
           {
            "colorbar": {
             "outlinewidth": 0,
             "ticks": ""
            },
            "colorscale": [
             [
              0,
              "#0d0887"
             ],
             [
              0.1111111111111111,
              "#46039f"
             ],
             [
              0.2222222222222222,
              "#7201a8"
             ],
             [
              0.3333333333333333,
              "#9c179e"
             ],
             [
              0.4444444444444444,
              "#bd3786"
             ],
             [
              0.5555555555555556,
              "#d8576b"
             ],
             [
              0.6666666666666666,
              "#ed7953"
             ],
             [
              0.7777777777777778,
              "#fb9f3a"
             ],
             [
              0.8888888888888888,
              "#fdca26"
             ],
             [
              1,
              "#f0f921"
             ]
            ],
            "type": "histogram2d"
           }
          ],
          "histogram2dcontour": [
           {
            "colorbar": {
             "outlinewidth": 0,
             "ticks": ""
            },
            "colorscale": [
             [
              0,
              "#0d0887"
             ],
             [
              0.1111111111111111,
              "#46039f"
             ],
             [
              0.2222222222222222,
              "#7201a8"
             ],
             [
              0.3333333333333333,
              "#9c179e"
             ],
             [
              0.4444444444444444,
              "#bd3786"
             ],
             [
              0.5555555555555556,
              "#d8576b"
             ],
             [
              0.6666666666666666,
              "#ed7953"
             ],
             [
              0.7777777777777778,
              "#fb9f3a"
             ],
             [
              0.8888888888888888,
              "#fdca26"
             ],
             [
              1,
              "#f0f921"
             ]
            ],
            "type": "histogram2dcontour"
           }
          ],
          "mesh3d": [
           {
            "colorbar": {
             "outlinewidth": 0,
             "ticks": ""
            },
            "type": "mesh3d"
           }
          ],
          "parcoords": [
           {
            "line": {
             "colorbar": {
              "outlinewidth": 0,
              "ticks": ""
             }
            },
            "type": "parcoords"
           }
          ],
          "pie": [
           {
            "automargin": true,
            "type": "pie"
           }
          ],
          "scatter": [
           {
            "fillpattern": {
             "fillmode": "overlay",
             "size": 10,
             "solidity": 0.2
            },
            "type": "scatter"
           }
          ],
          "scatter3d": [
           {
            "line": {
             "colorbar": {
              "outlinewidth": 0,
              "ticks": ""
             }
            },
            "marker": {
             "colorbar": {
              "outlinewidth": 0,
              "ticks": ""
             }
            },
            "type": "scatter3d"
           }
          ],
          "scattercarpet": [
           {
            "marker": {
             "colorbar": {
              "outlinewidth": 0,
              "ticks": ""
             }
            },
            "type": "scattercarpet"
           }
          ],
          "scattergeo": [
           {
            "marker": {
             "colorbar": {
              "outlinewidth": 0,
              "ticks": ""
             }
            },
            "type": "scattergeo"
           }
          ],
          "scattergl": [
           {
            "marker": {
             "colorbar": {
              "outlinewidth": 0,
              "ticks": ""
             }
            },
            "type": "scattergl"
           }
          ],
          "scattermapbox": [
           {
            "marker": {
             "colorbar": {
              "outlinewidth": 0,
              "ticks": ""
             }
            },
            "type": "scattermapbox"
           }
          ],
          "scatterpolar": [
           {
            "marker": {
             "colorbar": {
              "outlinewidth": 0,
              "ticks": ""
             }
            },
            "type": "scatterpolar"
           }
          ],
          "scatterpolargl": [
           {
            "marker": {
             "colorbar": {
              "outlinewidth": 0,
              "ticks": ""
             }
            },
            "type": "scatterpolargl"
           }
          ],
          "scatterternary": [
           {
            "marker": {
             "colorbar": {
              "outlinewidth": 0,
              "ticks": ""
             }
            },
            "type": "scatterternary"
           }
          ],
          "surface": [
           {
            "colorbar": {
             "outlinewidth": 0,
             "ticks": ""
            },
            "colorscale": [
             [
              0,
              "#0d0887"
             ],
             [
              0.1111111111111111,
              "#46039f"
             ],
             [
              0.2222222222222222,
              "#7201a8"
             ],
             [
              0.3333333333333333,
              "#9c179e"
             ],
             [
              0.4444444444444444,
              "#bd3786"
             ],
             [
              0.5555555555555556,
              "#d8576b"
             ],
             [
              0.6666666666666666,
              "#ed7953"
             ],
             [
              0.7777777777777778,
              "#fb9f3a"
             ],
             [
              0.8888888888888888,
              "#fdca26"
             ],
             [
              1,
              "#f0f921"
             ]
            ],
            "type": "surface"
           }
          ],
          "table": [
           {
            "cells": {
             "fill": {
              "color": "#EBF0F8"
             },
             "line": {
              "color": "white"
             }
            },
            "header": {
             "fill": {
              "color": "#C8D4E3"
             },
             "line": {
              "color": "white"
             }
            },
            "type": "table"
           }
          ]
         },
         "layout": {
          "annotationdefaults": {
           "arrowcolor": "#2a3f5f",
           "arrowhead": 0,
           "arrowwidth": 1
          },
          "autotypenumbers": "strict",
          "coloraxis": {
           "colorbar": {
            "outlinewidth": 0,
            "ticks": ""
           }
          },
          "colorscale": {
           "diverging": [
            [
             0,
             "#8e0152"
            ],
            [
             0.1,
             "#c51b7d"
            ],
            [
             0.2,
             "#de77ae"
            ],
            [
             0.3,
             "#f1b6da"
            ],
            [
             0.4,
             "#fde0ef"
            ],
            [
             0.5,
             "#f7f7f7"
            ],
            [
             0.6,
             "#e6f5d0"
            ],
            [
             0.7,
             "#b8e186"
            ],
            [
             0.8,
             "#7fbc41"
            ],
            [
             0.9,
             "#4d9221"
            ],
            [
             1,
             "#276419"
            ]
           ],
           "sequential": [
            [
             0,
             "#0d0887"
            ],
            [
             0.1111111111111111,
             "#46039f"
            ],
            [
             0.2222222222222222,
             "#7201a8"
            ],
            [
             0.3333333333333333,
             "#9c179e"
            ],
            [
             0.4444444444444444,
             "#bd3786"
            ],
            [
             0.5555555555555556,
             "#d8576b"
            ],
            [
             0.6666666666666666,
             "#ed7953"
            ],
            [
             0.7777777777777778,
             "#fb9f3a"
            ],
            [
             0.8888888888888888,
             "#fdca26"
            ],
            [
             1,
             "#f0f921"
            ]
           ],
           "sequentialminus": [
            [
             0,
             "#0d0887"
            ],
            [
             0.1111111111111111,
             "#46039f"
            ],
            [
             0.2222222222222222,
             "#7201a8"
            ],
            [
             0.3333333333333333,
             "#9c179e"
            ],
            [
             0.4444444444444444,
             "#bd3786"
            ],
            [
             0.5555555555555556,
             "#d8576b"
            ],
            [
             0.6666666666666666,
             "#ed7953"
            ],
            [
             0.7777777777777778,
             "#fb9f3a"
            ],
            [
             0.8888888888888888,
             "#fdca26"
            ],
            [
             1,
             "#f0f921"
            ]
           ]
          },
          "colorway": [
           "#636efa",
           "#EF553B",
           "#00cc96",
           "#ab63fa",
           "#FFA15A",
           "#19d3f3",
           "#FF6692",
           "#B6E880",
           "#FF97FF",
           "#FECB52"
          ],
          "font": {
           "color": "#2a3f5f"
          },
          "geo": {
           "bgcolor": "white",
           "lakecolor": "white",
           "landcolor": "#E5ECF6",
           "showlakes": true,
           "showland": true,
           "subunitcolor": "white"
          },
          "hoverlabel": {
           "align": "left"
          },
          "hovermode": "closest",
          "mapbox": {
           "style": "light"
          },
          "paper_bgcolor": "white",
          "plot_bgcolor": "#E5ECF6",
          "polar": {
           "angularaxis": {
            "gridcolor": "white",
            "linecolor": "white",
            "ticks": ""
           },
           "bgcolor": "#E5ECF6",
           "radialaxis": {
            "gridcolor": "white",
            "linecolor": "white",
            "ticks": ""
           }
          },
          "scene": {
           "xaxis": {
            "backgroundcolor": "#E5ECF6",
            "gridcolor": "white",
            "gridwidth": 2,
            "linecolor": "white",
            "showbackground": true,
            "ticks": "",
            "zerolinecolor": "white"
           },
           "yaxis": {
            "backgroundcolor": "#E5ECF6",
            "gridcolor": "white",
            "gridwidth": 2,
            "linecolor": "white",
            "showbackground": true,
            "ticks": "",
            "zerolinecolor": "white"
           },
           "zaxis": {
            "backgroundcolor": "#E5ECF6",
            "gridcolor": "white",
            "gridwidth": 2,
            "linecolor": "white",
            "showbackground": true,
            "ticks": "",
            "zerolinecolor": "white"
           }
          },
          "shapedefaults": {
           "line": {
            "color": "#2a3f5f"
           }
          },
          "ternary": {
           "aaxis": {
            "gridcolor": "white",
            "linecolor": "white",
            "ticks": ""
           },
           "baxis": {
            "gridcolor": "white",
            "linecolor": "white",
            "ticks": ""
           },
           "bgcolor": "#E5ECF6",
           "caxis": {
            "gridcolor": "white",
            "linecolor": "white",
            "ticks": ""
           }
          },
          "title": {
           "x": 0.05
          },
          "xaxis": {
           "automargin": true,
           "gridcolor": "white",
           "linecolor": "white",
           "ticks": "",
           "title": {
            "standoff": 15
           },
           "zerolinecolor": "white",
           "zerolinewidth": 2
          },
          "yaxis": {
           "automargin": true,
           "gridcolor": "white",
           "linecolor": "white",
           "ticks": "",
           "title": {
            "standoff": 15
           },
           "zerolinecolor": "white",
           "zerolinewidth": 2
          }
         }
        },
        "title": {
         "text": "Years Since Last Promotion by Attrition"
        },
        "xaxis": {
         "anchor": "y",
         "categoryarray": [
          "Yes",
          "No"
         ],
         "categoryorder": "array",
         "domain": [
          0,
          1
         ],
         "title": {
          "text": "Attrition"
         }
        },
        "yaxis": {
         "anchor": "x",
         "domain": [
          0,
          1
         ],
         "title": {
          "text": "YearsSinceLastPromotion"
         }
        }
       }
      }
     },
     "metadata": {},
     "output_type": "display_data"
    },
    {
     "name": "stdout",
     "output_type": "stream",
     "text": [
      "\n",
      "Promotion Statistics by Attrition:\n",
      "            count      mean       std  min  25%  50%  75%   max\n",
      "Attrition                                                      \n",
      "No         1233.0  2.234388  3.234762  0.0  0.0  1.0  3.0  15.0\n",
      "Yes         237.0  1.945148  3.153077  0.0  0.0  1.0  2.0  15.0\n"
     ]
    }
   ],
   "source": [
    "# Years since last promotion\n",
    "fig = px.box(df, x='Attrition', y='YearsSinceLastPromotion',\n",
    "             title='Years Since Last Promotion by Attrition',\n",
    "             color='Attrition',\n",
    "             color_discrete_map={'Yes': '#e74c3c', 'No': '#2ecc71'})\n",
    "\n",
    "fig.update_layout(height=500)\n",
    "fig.show()\n",
    "\n",
    "print(\"\\nPromotion Statistics by Attrition:\")\n",
    "print(df.groupby('Attrition')['YearsSinceLastPromotion'].describe())"
   ]
  },
  {
   "cell_type": "markdown",
   "id": "7a28d589",
   "metadata": {},
   "source": [
    "## 6. CORRELATION ANALYSIS"
   ]
  },
  {
   "cell_type": "code",
   "execution_count": 26,
   "id": "433c5d4f",
   "metadata": {},
   "outputs": [
    {
     "data": {
      "application/vnd.plotly.v1+json": {
       "config": {
        "plotlyServerURL": "https://plot.ly"
       },
       "data": [
        {
         "coloraxis": "coloraxis",
         "hovertemplate": "x: %{x}<br>y: %{y}<br>Correlation: %{z}<extra></extra>",
         "name": "0",
         "type": "heatmap",
         "x": [
          "Age",
          "MonthlyIncome",
          "YearsSinceLastPromotion",
          "JobSatisfaction",
          "DistanceFromHome"
         ],
         "xaxis": "x",
         "y": [
          "Age",
          "MonthlyIncome",
          "YearsSinceLastPromotion",
          "JobSatisfaction",
          "DistanceFromHome"
         ],
         "yaxis": "y",
         "z": [
          [
           1,
           0.4978545669265801,
           0.2165133678516537,
           -0.00489187714868713,
           -0.00168612014808715
          ],
          [
           0.4978545669265801,
           1,
           0.3449776381654271,
           -0.007156742355912745,
           -0.017014444745275848
          ],
          [
           0.2165133678516537,
           0.3449776381654271,
           1,
           -0.018213567810190817,
           0.010028835943115388
          ],
          [
           -0.00489187714868713,
           -0.007156742355912745,
           -0.018213567810190817,
           1,
           -0.003668839167720592
          ],
          [
           -0.00168612014808715,
           -0.017014444745275848,
           0.010028835943115388,
           -0.003668839167720592,
           1
          ]
         ]
        }
       ],
       "layout": {
        "coloraxis": {
         "colorbar": {
          "title": {
           "text": "Correlation"
          }
         },
         "colorscale": [
          [
           0,
           "rgb(5,48,97)"
          ],
          [
           0.1,
           "rgb(33,102,172)"
          ],
          [
           0.2,
           "rgb(67,147,195)"
          ],
          [
           0.3,
           "rgb(146,197,222)"
          ],
          [
           0.4,
           "rgb(209,229,240)"
          ],
          [
           0.5,
           "rgb(247,247,247)"
          ],
          [
           0.6,
           "rgb(253,219,199)"
          ],
          [
           0.7,
           "rgb(244,165,130)"
          ],
          [
           0.8,
           "rgb(214,96,77)"
          ],
          [
           0.9,
           "rgb(178,24,43)"
          ],
          [
           1,
           "rgb(103,0,31)"
          ]
         ]
        },
        "height": 700,
        "template": {
         "data": {
          "bar": [
           {
            "error_x": {
             "color": "#2a3f5f"
            },
            "error_y": {
             "color": "#2a3f5f"
            },
            "marker": {
             "line": {
              "color": "#E5ECF6",
              "width": 0.5
             },
             "pattern": {
              "fillmode": "overlay",
              "size": 10,
              "solidity": 0.2
             }
            },
            "type": "bar"
           }
          ],
          "barpolar": [
           {
            "marker": {
             "line": {
              "color": "#E5ECF6",
              "width": 0.5
             },
             "pattern": {
              "fillmode": "overlay",
              "size": 10,
              "solidity": 0.2
             }
            },
            "type": "barpolar"
           }
          ],
          "carpet": [
           {
            "aaxis": {
             "endlinecolor": "#2a3f5f",
             "gridcolor": "white",
             "linecolor": "white",
             "minorgridcolor": "white",
             "startlinecolor": "#2a3f5f"
            },
            "baxis": {
             "endlinecolor": "#2a3f5f",
             "gridcolor": "white",
             "linecolor": "white",
             "minorgridcolor": "white",
             "startlinecolor": "#2a3f5f"
            },
            "type": "carpet"
           }
          ],
          "choropleth": [
           {
            "colorbar": {
             "outlinewidth": 0,
             "ticks": ""
            },
            "type": "choropleth"
           }
          ],
          "contour": [
           {
            "colorbar": {
             "outlinewidth": 0,
             "ticks": ""
            },
            "colorscale": [
             [
              0,
              "#0d0887"
             ],
             [
              0.1111111111111111,
              "#46039f"
             ],
             [
              0.2222222222222222,
              "#7201a8"
             ],
             [
              0.3333333333333333,
              "#9c179e"
             ],
             [
              0.4444444444444444,
              "#bd3786"
             ],
             [
              0.5555555555555556,
              "#d8576b"
             ],
             [
              0.6666666666666666,
              "#ed7953"
             ],
             [
              0.7777777777777778,
              "#fb9f3a"
             ],
             [
              0.8888888888888888,
              "#fdca26"
             ],
             [
              1,
              "#f0f921"
             ]
            ],
            "type": "contour"
           }
          ],
          "contourcarpet": [
           {
            "colorbar": {
             "outlinewidth": 0,
             "ticks": ""
            },
            "type": "contourcarpet"
           }
          ],
          "heatmap": [
           {
            "colorbar": {
             "outlinewidth": 0,
             "ticks": ""
            },
            "colorscale": [
             [
              0,
              "#0d0887"
             ],
             [
              0.1111111111111111,
              "#46039f"
             ],
             [
              0.2222222222222222,
              "#7201a8"
             ],
             [
              0.3333333333333333,
              "#9c179e"
             ],
             [
              0.4444444444444444,
              "#bd3786"
             ],
             [
              0.5555555555555556,
              "#d8576b"
             ],
             [
              0.6666666666666666,
              "#ed7953"
             ],
             [
              0.7777777777777778,
              "#fb9f3a"
             ],
             [
              0.8888888888888888,
              "#fdca26"
             ],
             [
              1,
              "#f0f921"
             ]
            ],
            "type": "heatmap"
           }
          ],
          "heatmapgl": [
           {
            "colorbar": {
             "outlinewidth": 0,
             "ticks": ""
            },
            "colorscale": [
             [
              0,
              "#0d0887"
             ],
             [
              0.1111111111111111,
              "#46039f"
             ],
             [
              0.2222222222222222,
              "#7201a8"
             ],
             [
              0.3333333333333333,
              "#9c179e"
             ],
             [
              0.4444444444444444,
              "#bd3786"
             ],
             [
              0.5555555555555556,
              "#d8576b"
             ],
             [
              0.6666666666666666,
              "#ed7953"
             ],
             [
              0.7777777777777778,
              "#fb9f3a"
             ],
             [
              0.8888888888888888,
              "#fdca26"
             ],
             [
              1,
              "#f0f921"
             ]
            ],
            "type": "heatmapgl"
           }
          ],
          "histogram": [
           {
            "marker": {
             "pattern": {
              "fillmode": "overlay",
              "size": 10,
              "solidity": 0.2
             }
            },
            "type": "histogram"
           }
          ],
          "histogram2d": [
           {
            "colorbar": {
             "outlinewidth": 0,
             "ticks": ""
            },
            "colorscale": [
             [
              0,
              "#0d0887"
             ],
             [
              0.1111111111111111,
              "#46039f"
             ],
             [
              0.2222222222222222,
              "#7201a8"
             ],
             [
              0.3333333333333333,
              "#9c179e"
             ],
             [
              0.4444444444444444,
              "#bd3786"
             ],
             [
              0.5555555555555556,
              "#d8576b"
             ],
             [
              0.6666666666666666,
              "#ed7953"
             ],
             [
              0.7777777777777778,
              "#fb9f3a"
             ],
             [
              0.8888888888888888,
              "#fdca26"
             ],
             [
              1,
              "#f0f921"
             ]
            ],
            "type": "histogram2d"
           }
          ],
          "histogram2dcontour": [
           {
            "colorbar": {
             "outlinewidth": 0,
             "ticks": ""
            },
            "colorscale": [
             [
              0,
              "#0d0887"
             ],
             [
              0.1111111111111111,
              "#46039f"
             ],
             [
              0.2222222222222222,
              "#7201a8"
             ],
             [
              0.3333333333333333,
              "#9c179e"
             ],
             [
              0.4444444444444444,
              "#bd3786"
             ],
             [
              0.5555555555555556,
              "#d8576b"
             ],
             [
              0.6666666666666666,
              "#ed7953"
             ],
             [
              0.7777777777777778,
              "#fb9f3a"
             ],
             [
              0.8888888888888888,
              "#fdca26"
             ],
             [
              1,
              "#f0f921"
             ]
            ],
            "type": "histogram2dcontour"
           }
          ],
          "mesh3d": [
           {
            "colorbar": {
             "outlinewidth": 0,
             "ticks": ""
            },
            "type": "mesh3d"
           }
          ],
          "parcoords": [
           {
            "line": {
             "colorbar": {
              "outlinewidth": 0,
              "ticks": ""
             }
            },
            "type": "parcoords"
           }
          ],
          "pie": [
           {
            "automargin": true,
            "type": "pie"
           }
          ],
          "scatter": [
           {
            "fillpattern": {
             "fillmode": "overlay",
             "size": 10,
             "solidity": 0.2
            },
            "type": "scatter"
           }
          ],
          "scatter3d": [
           {
            "line": {
             "colorbar": {
              "outlinewidth": 0,
              "ticks": ""
             }
            },
            "marker": {
             "colorbar": {
              "outlinewidth": 0,
              "ticks": ""
             }
            },
            "type": "scatter3d"
           }
          ],
          "scattercarpet": [
           {
            "marker": {
             "colorbar": {
              "outlinewidth": 0,
              "ticks": ""
             }
            },
            "type": "scattercarpet"
           }
          ],
          "scattergeo": [
           {
            "marker": {
             "colorbar": {
              "outlinewidth": 0,
              "ticks": ""
             }
            },
            "type": "scattergeo"
           }
          ],
          "scattergl": [
           {
            "marker": {
             "colorbar": {
              "outlinewidth": 0,
              "ticks": ""
             }
            },
            "type": "scattergl"
           }
          ],
          "scattermapbox": [
           {
            "marker": {
             "colorbar": {
              "outlinewidth": 0,
              "ticks": ""
             }
            },
            "type": "scattermapbox"
           }
          ],
          "scatterpolar": [
           {
            "marker": {
             "colorbar": {
              "outlinewidth": 0,
              "ticks": ""
             }
            },
            "type": "scatterpolar"
           }
          ],
          "scatterpolargl": [
           {
            "marker": {
             "colorbar": {
              "outlinewidth": 0,
              "ticks": ""
             }
            },
            "type": "scatterpolargl"
           }
          ],
          "scatterternary": [
           {
            "marker": {
             "colorbar": {
              "outlinewidth": 0,
              "ticks": ""
             }
            },
            "type": "scatterternary"
           }
          ],
          "surface": [
           {
            "colorbar": {
             "outlinewidth": 0,
             "ticks": ""
            },
            "colorscale": [
             [
              0,
              "#0d0887"
             ],
             [
              0.1111111111111111,
              "#46039f"
             ],
             [
              0.2222222222222222,
              "#7201a8"
             ],
             [
              0.3333333333333333,
              "#9c179e"
             ],
             [
              0.4444444444444444,
              "#bd3786"
             ],
             [
              0.5555555555555556,
              "#d8576b"
             ],
             [
              0.6666666666666666,
              "#ed7953"
             ],
             [
              0.7777777777777778,
              "#fb9f3a"
             ],
             [
              0.8888888888888888,
              "#fdca26"
             ],
             [
              1,
              "#f0f921"
             ]
            ],
            "type": "surface"
           }
          ],
          "table": [
           {
            "cells": {
             "fill": {
              "color": "#EBF0F8"
             },
             "line": {
              "color": "white"
             }
            },
            "header": {
             "fill": {
              "color": "#C8D4E3"
             },
             "line": {
              "color": "white"
             }
            },
            "type": "table"
           }
          ]
         },
         "layout": {
          "annotationdefaults": {
           "arrowcolor": "#2a3f5f",
           "arrowhead": 0,
           "arrowwidth": 1
          },
          "autotypenumbers": "strict",
          "coloraxis": {
           "colorbar": {
            "outlinewidth": 0,
            "ticks": ""
           }
          },
          "colorscale": {
           "diverging": [
            [
             0,
             "#8e0152"
            ],
            [
             0.1,
             "#c51b7d"
            ],
            [
             0.2,
             "#de77ae"
            ],
            [
             0.3,
             "#f1b6da"
            ],
            [
             0.4,
             "#fde0ef"
            ],
            [
             0.5,
             "#f7f7f7"
            ],
            [
             0.6,
             "#e6f5d0"
            ],
            [
             0.7,
             "#b8e186"
            ],
            [
             0.8,
             "#7fbc41"
            ],
            [
             0.9,
             "#4d9221"
            ],
            [
             1,
             "#276419"
            ]
           ],
           "sequential": [
            [
             0,
             "#0d0887"
            ],
            [
             0.1111111111111111,
             "#46039f"
            ],
            [
             0.2222222222222222,
             "#7201a8"
            ],
            [
             0.3333333333333333,
             "#9c179e"
            ],
            [
             0.4444444444444444,
             "#bd3786"
            ],
            [
             0.5555555555555556,
             "#d8576b"
            ],
            [
             0.6666666666666666,
             "#ed7953"
            ],
            [
             0.7777777777777778,
             "#fb9f3a"
            ],
            [
             0.8888888888888888,
             "#fdca26"
            ],
            [
             1,
             "#f0f921"
            ]
           ],
           "sequentialminus": [
            [
             0,
             "#0d0887"
            ],
            [
             0.1111111111111111,
             "#46039f"
            ],
            [
             0.2222222222222222,
             "#7201a8"
            ],
            [
             0.3333333333333333,
             "#9c179e"
            ],
            [
             0.4444444444444444,
             "#bd3786"
            ],
            [
             0.5555555555555556,
             "#d8576b"
            ],
            [
             0.6666666666666666,
             "#ed7953"
            ],
            [
             0.7777777777777778,
             "#fb9f3a"
            ],
            [
             0.8888888888888888,
             "#fdca26"
            ],
            [
             1,
             "#f0f921"
            ]
           ]
          },
          "colorway": [
           "#636efa",
           "#EF553B",
           "#00cc96",
           "#ab63fa",
           "#FFA15A",
           "#19d3f3",
           "#FF6692",
           "#B6E880",
           "#FF97FF",
           "#FECB52"
          ],
          "font": {
           "color": "#2a3f5f"
          },
          "geo": {
           "bgcolor": "white",
           "lakecolor": "white",
           "landcolor": "#E5ECF6",
           "showlakes": true,
           "showland": true,
           "subunitcolor": "white"
          },
          "hoverlabel": {
           "align": "left"
          },
          "hovermode": "closest",
          "mapbox": {
           "style": "light"
          },
          "paper_bgcolor": "white",
          "plot_bgcolor": "#E5ECF6",
          "polar": {
           "angularaxis": {
            "gridcolor": "white",
            "linecolor": "white",
            "ticks": ""
           },
           "bgcolor": "#E5ECF6",
           "radialaxis": {
            "gridcolor": "white",
            "linecolor": "white",
            "ticks": ""
           }
          },
          "scene": {
           "xaxis": {
            "backgroundcolor": "#E5ECF6",
            "gridcolor": "white",
            "gridwidth": 2,
            "linecolor": "white",
            "showbackground": true,
            "ticks": "",
            "zerolinecolor": "white"
           },
           "yaxis": {
            "backgroundcolor": "#E5ECF6",
            "gridcolor": "white",
            "gridwidth": 2,
            "linecolor": "white",
            "showbackground": true,
            "ticks": "",
            "zerolinecolor": "white"
           },
           "zaxis": {
            "backgroundcolor": "#E5ECF6",
            "gridcolor": "white",
            "gridwidth": 2,
            "linecolor": "white",
            "showbackground": true,
            "ticks": "",
            "zerolinecolor": "white"
           }
          },
          "shapedefaults": {
           "line": {
            "color": "#2a3f5f"
           }
          },
          "ternary": {
           "aaxis": {
            "gridcolor": "white",
            "linecolor": "white",
            "ticks": ""
           },
           "baxis": {
            "gridcolor": "white",
            "linecolor": "white",
            "ticks": ""
           },
           "bgcolor": "#E5ECF6",
           "caxis": {
            "gridcolor": "white",
            "linecolor": "white",
            "ticks": ""
           }
          },
          "title": {
           "x": 0.05
          },
          "xaxis": {
           "automargin": true,
           "gridcolor": "white",
           "linecolor": "white",
           "ticks": "",
           "title": {
            "standoff": 15
           },
           "zerolinecolor": "white",
           "zerolinewidth": 2
          },
          "yaxis": {
           "automargin": true,
           "gridcolor": "white",
           "linecolor": "white",
           "ticks": "",
           "title": {
            "standoff": 15
           },
           "zerolinecolor": "white",
           "zerolinewidth": 2
          }
         }
        },
        "title": {
         "text": "Feature Correlation Heatmap"
        },
        "xaxis": {
         "anchor": "y",
         "domain": [
          0,
          1
         ]
        },
        "yaxis": {
         "anchor": "x",
         "autorange": "reversed",
         "domain": [
          0,
          1
         ]
        }
       }
      }
     },
     "metadata": {},
     "output_type": "display_data"
    }
   ],
   "source": [
    "# Correlation heatmap for numeric features\n",
    "numeric_cols = ['Age', 'MonthlyIncome', 'YearsSinceLastPromotion',\n",
    "                'JobSatisfaction', 'DistanceFromHome']\n",
    "                \n",
    "corr_matrix = df[numeric_cols].corr()\n",
    "\n",
    "fig = px.imshow(corr_matrix,\n",
    "                labels=dict(color=\"Correlation\"),\n",
    "                x=corr_matrix.columns,\n",
    "                y=corr_matrix.columns,\n",
    "                color_continuous_scale='RdBu_r',\n",
    "                aspect='auto',\n",
    "                title='Feature Correlation Heatmap')\n",
    "\n",
    "fig.update_layout(height=700)\n",
    "fig.show()"
   ]
  }
 ],
 "metadata": {
  "kernelspec": {
   "display_name": ".venv",
   "language": "python",
   "name": "python3"
  },
  "language_info": {
   "codemirror_mode": {
    "name": "ipython",
    "version": 3
   },
   "file_extension": ".py",
   "mimetype": "text/x-python",
   "name": "python",
   "nbconvert_exporter": "python",
   "pygments_lexer": "ipython3",
   "version": "3.12.8"
  }
 },
 "nbformat": 4,
 "nbformat_minor": 5
}
