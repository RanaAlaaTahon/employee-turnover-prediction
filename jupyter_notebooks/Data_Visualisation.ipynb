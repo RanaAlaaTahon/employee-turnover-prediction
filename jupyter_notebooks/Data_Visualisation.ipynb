{
 "cells": [
  {
   "cell_type": "markdown",
   "id": "583b450f",
   "metadata": {},
   "source": [
    "# **Data Visualization**"
   ]
  },
  {
   "cell_type": "markdown",
   "id": "8b0220af",
   "metadata": {},
   "source": [
    "# Objectives\n"
   ]
  },
  {
   "cell_type": "markdown",
   "id": "2c26c718",
   "metadata": {},
   "source": [
    "The objective of this notebook is to explore and understand the [IBM HR Analytics Employee Attrition & Performance dataset](https://www.kaggle.com/datasets/pavansubhasht/ibm-hr-analytics-attrition-dataset)  through descriptive statistics and visual analysis. The focus is on uncovering key patterns and relationships among employee attributes that influence attrition and performance."
   ]
  },
  {
   "cell_type": "markdown",
   "id": "5bef08ea",
   "metadata": {},
   "source": [
    "# Input\n",
    "* The input can be found [here]()\n",
    "* This is a csv file contained the cleaned data outputted by the ETL process."
   ]
  },
  {
   "cell_type": "markdown",
   "id": "ee163152",
   "metadata": {},
   "source": [
    "# Outputs\n",
    "\n",
    "- All the visualizations have been saved as PNG files and are stored in a designated folder for easy access and reference, which can be found [here](../Images)."
   ]
  },
  {
   "cell_type": "markdown",
   "id": "a1493f5c",
   "metadata": {},
   "source": [
    "---"
   ]
  },
  {
   "cell_type": "markdown",
   "id": "3589f929",
   "metadata": {},
   "source": [
    "# Change working directory\n",
    "Change the working directory from its current folder to its parent folder as the notebooks will be stored in a subfolder\n",
    "* We access the current directory with os.getcwd()"
   ]
  },
  {
   "cell_type": "code",
   "execution_count": 1,
   "id": "b87f7593",
   "metadata": {},
   "outputs": [
    {
     "data": {
      "text/plain": [
       "'c:\\\\Users\\\\amron\\\\Desktop\\\\employee-turnover-prediction\\\\jupyter_notebooks'"
      ]
     },
     "execution_count": 1,
     "metadata": {},
     "output_type": "execute_result"
    }
   ],
   "source": [
    "import os\n",
    "current_dir = os.getcwd()\n",
    "current_dir"
   ]
  },
  {
   "cell_type": "markdown",
   "id": "d39427e0",
   "metadata": {},
   "source": [
    "Make the parent of the current directory the new current directory\n",
    "* os.path.dirname() gets the parent directory\n",
    "* os.chir() defines the new current directory"
   ]
  },
  {
   "cell_type": "code",
   "execution_count": 2,
   "id": "762db310",
   "metadata": {},
   "outputs": [
    {
     "name": "stdout",
     "output_type": "stream",
     "text": [
      "You set a new current directory\n"
     ]
    }
   ],
   "source": [
    "os.chdir(os.path.dirname(current_dir))\n",
    "print(\"You set a new current directory\")"
   ]
  },
  {
   "cell_type": "markdown",
   "id": "9f60dfeb",
   "metadata": {},
   "source": [
    "Confirm the new current directory"
   ]
  },
  {
   "cell_type": "code",
   "execution_count": 3,
   "id": "6a3d708a",
   "metadata": {},
   "outputs": [
    {
     "data": {
      "text/plain": [
       "'c:\\\\Users\\\\amron\\\\Desktop\\\\employee-turnover-prediction'"
      ]
     },
     "execution_count": 3,
     "metadata": {},
     "output_type": "execute_result"
    }
   ],
   "source": [
    "current_dir = os.getcwd()\n",
    "current_dir"
   ]
  },
  {
   "cell_type": "markdown",
   "id": "965f4fc9",
   "metadata": {},
   "source": [
    "Changing path directory to the dataset"
   ]
  },
  {
   "cell_type": "code",
   "execution_count": 4,
   "id": "6cd304a7",
   "metadata": {},
   "outputs": [],
   "source": [
    "#path directory\n",
    "raw_data_dir = os.path.join(current_dir, 'data_set/raw') \n",
    "\n",
    "#path directory\n",
    "processed_data_dir = os.path.join(current_dir, 'data_set/processed') \n"
   ]
  },
  {
   "cell_type": "markdown",
   "id": "787b2aae",
   "metadata": {},
   "source": [
    "---"
   ]
  },
  {
   "cell_type": "markdown",
   "id": "c6833d33",
   "metadata": {},
   "source": [
    "# Import packages"
   ]
  },
  {
   "cell_type": "code",
   "execution_count": 5,
   "id": "ea83c9bf",
   "metadata": {},
   "outputs": [],
   "source": [
    "import pandas as pd # Import pandas\n",
    "import matplotlib.pyplot as plt # Import matplotlib\n",
    "import seaborn as sns # Import seaborn\n",
    "import plotly.express as px # Import plotly\n",
    "sns.set_style('whitegrid') # Set style for visuals\n",
    "from scipy import stats # Import scipy for statistical tests"
   ]
  },
  {
   "cell_type": "markdown",
   "id": "5fda4579",
   "metadata": {},
   "source": [
    "---"
   ]
  },
  {
   "cell_type": "markdown",
   "id": "014824d8",
   "metadata": {},
   "source": [
    "# Load the cleaned dataset"
   ]
  },
  {
   "cell_type": "code",
   "execution_count": 6,
   "id": "36f51844",
   "metadata": {},
   "outputs": [],
   "source": [
    "# Coding"
   ]
  },
  {
   "cell_type": "markdown",
   "id": "46728b60",
   "metadata": {},
   "source": [
    "---"
   ]
  },
  {
   "cell_type": "markdown",
   "id": "73d5ba0d",
   "metadata": {},
   "source": [
    "# Hypothesis 1"
   ]
  },
  {
   "cell_type": "code",
   "execution_count": 7,
   "id": "bf1c4f2d",
   "metadata": {},
   "outputs": [],
   "source": [
    "# Coding"
   ]
  },
  {
   "cell_type": "markdown",
   "id": "7bd2fd4d",
   "metadata": {},
   "source": [
    "### Key Observations:\n",
    "- \n",
    "- \n",
    "- \n",
    "### Conclusion:\n",
    "- "
   ]
  },
  {
   "cell_type": "markdown",
   "id": "1c2d5d7a",
   "metadata": {},
   "source": [
    "---"
   ]
  },
  {
   "cell_type": "markdown",
   "id": "b8cab2ef",
   "metadata": {},
   "source": [
    "# Hypothesis 2"
   ]
  },
  {
   "cell_type": "code",
   "execution_count": 8,
   "id": "93e5683e",
   "metadata": {},
   "outputs": [],
   "source": [
    "# Coding"
   ]
  },
  {
   "cell_type": "markdown",
   "id": "e57e9c4d",
   "metadata": {},
   "source": [
    "### Key Observations:\n",
    "- \n",
    "- \n",
    "- \n",
    "### Conclusion:\n",
    "- "
   ]
  },
  {
   "cell_type": "markdown",
   "id": "836d8412",
   "metadata": {},
   "source": [
    "---"
   ]
  },
  {
   "cell_type": "markdown",
   "id": "23c7d2d6",
   "metadata": {},
   "source": [
    "# Hypothesis 3"
   ]
  },
  {
   "cell_type": "code",
   "execution_count": 9,
   "id": "b22baee1",
   "metadata": {},
   "outputs": [],
   "source": [
    "# Coding"
   ]
  },
  {
   "cell_type": "markdown",
   "id": "a769742d",
   "metadata": {},
   "source": [
    "### Key Observations:\n",
    "- \n",
    "- \n",
    "- \n",
    "### Conclusion:\n",
    "- "
   ]
  },
  {
   "cell_type": "markdown",
   "id": "034e1e68",
   "metadata": {},
   "source": [
    "---"
   ]
  },
  {
   "cell_type": "markdown",
   "id": "afd2d6b1",
   "metadata": {},
   "source": [
    "# Hypothesis 4"
   ]
  },
  {
   "cell_type": "code",
   "execution_count": 10,
   "id": "b2e5919a",
   "metadata": {},
   "outputs": [],
   "source": [
    "# Coding"
   ]
  },
  {
   "cell_type": "markdown",
   "id": "72517715",
   "metadata": {},
   "source": [
    "### Key Observations:\n",
    "- \n",
    "- \n",
    "- \n",
    "### Conclusion:\n",
    "- "
   ]
  },
  {
   "cell_type": "markdown",
   "id": "a78ba26c",
   "metadata": {},
   "source": [
    "---"
   ]
  },
  {
   "cell_type": "markdown",
   "id": "7c85f828",
   "metadata": {},
   "source": [
    "# Key Insights:\n",
    "- \n",
    "- \n",
    "- \n"
   ]
  },
  {
   "cell_type": "markdown",
   "id": "639e39d5",
   "metadata": {},
   "source": [
    "# Conclusion\n",
    "- "
   ]
  }
 ],
 "metadata": {
  "kernelspec": {
   "display_name": ".venv",
   "language": "python",
   "name": "python3"
  },
  "language_info": {
   "codemirror_mode": {
    "name": "ipython",
    "version": 3
   },
   "file_extension": ".py",
   "mimetype": "text/x-python",
   "name": "python",
   "nbconvert_exporter": "python",
   "pygments_lexer": "ipython3",
   "version": "3.9.13"
  }
 },
 "nbformat": 4,
 "nbformat_minor": 5
}
